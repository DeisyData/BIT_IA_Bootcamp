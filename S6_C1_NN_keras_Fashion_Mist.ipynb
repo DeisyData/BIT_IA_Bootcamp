{
  "nbformat": 4,
  "nbformat_minor": 0,
  "metadata": {
    "colab": {
      "provenance": [],
      "include_colab_link": true
    },
    "kernelspec": {
      "name": "python3",
      "display_name": "Python 3"
    },
    "language_info": {
      "name": "python"
    }
  },
  "cells": [
    {
      "cell_type": "markdown",
      "metadata": {
        "id": "view-in-github",
        "colab_type": "text"
      },
      "source": [
        "<a href=\"https://colab.research.google.com/github/DeisyData/BIT_IA_Bootcamp/blob/main/S6_C1_NN_keras_Fashion_Mist.ipynb\" target=\"_parent\"><img src=\"https://colab.research.google.com/assets/colab-badge.svg\" alt=\"Open In Colab\"/></a>"
      ]
    },
    {
      "cell_type": "code",
      "source": [
        "# Instalamos TensorFlow en nuestro entorno de ejecución\n",
        "import tensorflow as tf\n",
        "\n",
        "# Keras es una serie de APIs de TensorFlow que permiten simplificar el desarrollo de modelos\n",
        "from tensorflow import keras\n",
        "\n",
        "# NumPy nos permite realizar operaciones de álgebra lineal, matrices y es muy flexible para ser utilizada con TensorFlow\n",
        "import numpy as np\n",
        "\n",
        "# Matplotlib simplifica la creación de gráficos y será muy importante para presentar los resultados obtenidos\n",
        "import matplotlib.pyplot as plt"
      ],
      "metadata": {
        "id": "EHm5PiKt5n-A"
      },
      "execution_count": null,
      "outputs": []
    },
    {
      "cell_type": "code",
      "source": [
        "datos = keras.datasets.fashion_mnist"
      ],
      "metadata": {
        "id": "cZx9WcHv5pl5"
      },
      "execution_count": null,
      "outputs": []
    },
    {
      "cell_type": "code",
      "execution_count": null,
      "metadata": {
        "id": "GKyF42Eh5CwA"
      },
      "outputs": [],
      "source": [
        "# Almacenamos la información de la base de datos y la dividimos en conjuntos de prueba y entrenamiento.\n",
        "(imagenes_entrenamiento, labels_entrenamiento), (imagenes_prueba, labels_prueba) = datos.load_data()\n",
        "# Dado que las imágenes tienen una descripción numérica, es mucho más sencillo revisarlas por su nombre\n",
        "clase_imagenes = ['Playera', 'Pantalón', 'Suéter', 'Vestido', 'Abrigo', 'Sandalia', 'Camisa', 'Tenis', 'Bolso', 'Botas']\n",
        "# Lo anterior significa que las imágenes cuya clase esté identificada como ‘0’ serán de playeras; las identificadas con ‘1’, pantalones; y así sucesivamente."
      ]
    },
    {
      "cell_type": "markdown",
      "source": [
        "**¿Cómo está almacenada la información de cada una de las imágenes de la base de datos?**\n",
        "\n",
        "Por cada pixel, se guarda un valor numérico del 0 al 255 que corresponde al color de dicho pixel. Por lo tanto, será mucho más sencillo normalizar dichos valores a que estén dentro del rango [0–1]. A continuación, se muestra el vector de una de las imágenes."
      ],
      "metadata": {
        "id": "tNPITggz65mp"
      }
    },
    {
      "cell_type": "code",
      "source": [
        "imagenes_entrenamiento[4]"
      ],
      "metadata": {
        "id": "9BGP2m1q7BLw",
        "colab": {
          "base_uri": "https://localhost:8080/",
          "height": 69
        },
        "outputId": "d6e54fc3-d00e-4de1-e694-fc1fd86a3ba6"
      },
      "execution_count": null,
      "outputs": [
        {
          "output_type": "execute_result",
          "data": {
            "text/plain": [
              "array([[  0,   0,   0,   0,   0,   0,   0,   0,   0,   0,   0,   0,   0,\n",
              "          0,   0,   0,   0,  26,   0,   0,   0,   0,   0,   0,   0,   0,\n",
              "          0,   0],\n",
              "       [  0,   0,   0,   0,   0,   0,   0,   0, 189, 206, 187,  32,   0,\n",
              "          0,   0,  26, 217, 226, 196,  11,   0,   0,   0,   0,   0,   0,\n",
              "          0,   0],\n",
              "       [  0,   0,   0,   0,   0,   0,   0,   0, 192, 227, 234, 243, 230,\n",
              "        147, 239, 242, 234, 218, 209,   0,   0,   0,   0,   0,   0,   0,\n",
              "          0,   0],\n",
              "       [  0,   0,   0,   0,   0,   0,   0,   0, 173, 225, 215, 233, 254,\n",
              "          0, 194, 240, 217, 221, 190,   0,   0,   0,   0,   0,   0,   0,\n",
              "          0,   0],\n",
              "       [  0,   0,   0,   0,   0,   0,   0,   0, 139, 229, 212, 226, 255,\n",
              "          0, 162, 255, 213, 226, 200,   0,   0,   0,   0,   0,   0,   0,\n",
              "          0,   0],\n",
              "       [  0,   0,   0,   0,   0,   0,   0,   0,  98, 232, 211, 215, 249,\n",
              "         46, 162, 246, 214, 230, 186,   0,   0,   0,   0,   0,   0,   0,\n",
              "          0,   0],\n",
              "       [  0,   0,   0,   0,   0,   0,   0,   0,  70, 228, 213, 220, 224,\n",
              "        252, 239, 219, 217, 231, 171,   0,   0,   0,   0,   0,   0,   0,\n",
              "          0,   0],\n",
              "       [  0,   0,   0,   0,   0,   0,   0,   0,  45, 222, 214, 218, 216,\n",
              "        210, 215, 217, 202, 224, 172,   0,   0,   0,   0,   0,   0,   0,\n",
              "          0,   0],\n",
              "       [  0,   0,   0,   0,   0,   0,   0,   0,  24, 254, 214, 210, 211,\n",
              "        214, 215, 212, 203, 221, 167,   0,   0,   0,   0,   0,   0,   0,\n",
              "          0,   0],\n",
              "       [  0,   0,   0,   0,   0,   0,   0,   0,   0, 254, 216, 215, 217,\n",
              "        217, 216, 216, 206, 225, 150,   0,   0,   0,   0,   0,   0,   0,\n",
              "          0,   0],\n",
              "       [  0,   0,   0,   0,   0,   0,   0,   0,   0, 247, 216, 214, 217,\n",
              "        216, 214, 212, 203, 226, 136,   0,   0,   0,   0,   0,   0,   0,\n",
              "          0,   0],\n",
              "       [  0,   0,   0,   0,   0,   0,   0,   0,   0, 245, 216, 214, 216,\n",
              "        217, 215, 211, 204, 225, 125,   0,   0,   0,   0,   0,   0,   0,\n",
              "          0,   0],\n",
              "       [  0,   0,   0,   0,   0,   0,   0,   0,   0, 247, 216, 214, 217,\n",
              "        220, 217, 213, 203, 222, 147,   0,   0,   0,   0,   0,   0,   0,\n",
              "          0,   0],\n",
              "       [  0,   0,   0,   0,   0,   0,   0,   0,   0, 248, 216, 215, 218,\n",
              "        222, 216, 214, 207, 218, 179,   0,   0,   0,   0,   0,   0,   0,\n",
              "          0,   0],\n",
              "       [  0,   0,   0,   0,   0,   0,   0,   0,   0, 249, 216, 217, 219,\n",
              "        222, 217, 214, 210, 215, 211,   0,   0,   0,   0,   0,   0,   0,\n",
              "          0,   0],\n",
              "       [  0,   0,   0,   0,   0,   0,   0,   0,  38, 255, 214, 218, 219,\n",
              "        224, 218, 215, 211, 211, 231,   0,   0,   0,   0,   0,   0,   0,\n",
              "          0,   0],\n",
              "       [  0,   0,   0,   0,   0,   0,   0,   0,  79, 227, 209, 219, 219,\n",
              "        227, 219, 215, 213, 206, 254,  58,   0,   0,   0,   0,   0,   0,\n",
              "          0,   0],\n",
              "       [  0,   0,   0,   0,   0,   0,   0,   0, 146, 226, 211, 220, 219,\n",
              "        228, 218, 215, 216, 205, 219, 163,   0,   0,   0,   0,   0,   0,\n",
              "          0,   0],\n",
              "       [  0,   0,   0,   0,   0,   0,   0,   0, 202, 221, 214, 221, 219,\n",
              "        231, 218, 215, 218, 213, 212, 220,   0,   0,   0,   0,   0,   0,\n",
              "          0,   0],\n",
              "       [  0,   0,   0,   0,   0,   0,   0,   0, 234, 217, 216, 220, 219,\n",
              "        234, 217, 215, 218, 216, 223, 247,   7,   0,   0,   0,   0,   0,\n",
              "          0,   0],\n",
              "       [  0,   0,   0,   0,   0,   0,   0,  17, 254, 212, 219, 219, 220,\n",
              "        233, 214, 216, 219, 222, 153, 238,  58,   0,   0,   0,   0,   0,\n",
              "          0,   0],\n",
              "       [  0,   0,   0,   0,   0,   0,   0,  66, 255, 208, 220, 219, 222,\n",
              "        241, 220, 218, 218, 218, 192, 242,  99,   0,   0,   0,   0,   0,\n",
              "          0,   0],\n",
              "       [  0,   0,   0,   0,   0,   0,   0, 142, 235, 203, 218, 216, 231,\n",
              "        242, 225, 233, 219, 214, 216, 238, 144,   0,   0,   0,   0,   0,\n",
              "          0,   0],\n",
              "       [  0,   0,   0,   0,   0,   0,   0, 177, 248, 227, 229, 211, 255,\n",
              "         76,   0, 247, 243, 230, 230, 249, 187,   0,   0,   0,   0,   0,\n",
              "          0,   0],\n",
              "       [  0,   0,   0,   0,   0,   0,   0, 101, 241, 228, 228, 220, 255,\n",
              "         64,   0, 243, 237, 230, 227, 241, 142,   0,   0,   0,   0,   0,\n",
              "          0,   0],\n",
              "       [  0,   0,   0,   0,   0,   0,   0,   0, 255, 242, 222, 218, 255,\n",
              "         62,   0, 223, 238, 225, 238, 255,  31,   0,   0,   0,   0,   0,\n",
              "          0,   0],\n",
              "       [  0,   0,   0,   0,   0,   0,   0,   0,  45, 255, 242, 235, 255,\n",
              "         84,   0, 246, 255, 242, 255,  70,   0,   0,   0,   0,   0,   0,\n",
              "          0,   0],\n",
              "       [  0,   0,   0,   0,   0,   0,   0,   0,   0,   0,  61, 102, 168,\n",
              "         25,   0, 139, 161,  74,   0,   0,   0,   0,   0,   0,   0,   0,\n",
              "          0,   0]], dtype=uint8)"
            ],
            "text/html": [
              "<style>\n",
              "      .ndarray_repr .ndarray_raw_data {\n",
              "        display: none;\n",
              "      }\n",
              "      .ndarray_repr.show_array .ndarray_raw_data {\n",
              "        display: block;\n",
              "      }\n",
              "      .ndarray_repr.show_array .ndarray_image_preview {\n",
              "        display: none;\n",
              "      }\n",
              "      </style>\n",
              "      <div id=\"id-b1160f5f-79e1-40e8-b65d-fd804162e708\" class=\"ndarray_repr\"><pre>ndarray (28, 28) <button style=\"padding: 0 2px;\">show data</button></pre><img src=\"data:image/png;base64,iVBORw0KGgoAAAANSUhEUgAAABwAAAAcCAAAAABXZoBIAAABY0lEQVR4nG3OO0sDQRQF4HNmduMjGBWirg8wICgiCmKjgjaChVhaibVg4S/xV9jZ2FkpdtZpAoqCTyIKGh/RaJKZ3WuVCDO51eV8nDsDuDPkJcBp/iQHYOjy4SzdyILGovtGCl+HW7r60VVpZKqxlJLST7RbSN51CR7eBHGNuOu2YaePF1oq9Rn8Mig3sflm0arwKf/1qPnp41OdSfU8VJ9t9M++5FA1AQxj4zefoUIFCXTw7iNqEEiSxPz/UPMsEkBIoVRaNBVADSVxf4smQSphYHMtURGEjlvgeCohFEmb9XGyaAhNKDOw6OGKKIICLdc7Hs4bTWhAtdcWPMxZJdAC6PRwm4O9WaOFEpOp4985B2dpCdWeUmIngkkH119NEncw7KaN7LSDY11R2kSbo5moJ5OecvCoRunAN2wdcbUAZ6R8cyXLuH27f5NRF6el/CIb+JGyrLoGYGn7YBB7+2v/yR+rVoQPczXmPgAAAABJRU5ErkJggg==\" class=\"ndarray_image_preview\" /><pre class=\"ndarray_raw_data\">array([[  0,   0,   0,   0,   0,   0,   0,   0,   0,   0,   0,   0,   0,\n",
              "          0,   0,   0,   0,  26,   0,   0,   0,   0,   0,   0,   0,   0,\n",
              "          0,   0],\n",
              "       [  0,   0,   0,   0,   0,   0,   0,   0, 189, 206, 187,  32,   0,\n",
              "          0,   0,  26, 217, 226, 196,  11,   0,   0,   0,   0,   0,   0,\n",
              "          0,   0],\n",
              "       [  0,   0,   0,   0,   0,   0,   0,   0, 192, 227, 234, 243, 230,\n",
              "        147, 239, 242, 234, 218, 209,   0,   0,   0,   0,   0,   0,   0,\n",
              "          0,   0],\n",
              "       [  0,   0,   0,   0,   0,   0,   0,   0, 173, 225, 215, 233, 254,\n",
              "          0, 194, 240, 217, 221, 190,   0,   0,   0,   0,   0,   0,   0,\n",
              "          0,   0],\n",
              "       [  0,   0,   0,   0,   0,   0,   0,   0, 139, 229, 212, 226, 255,\n",
              "          0, 162, 255, 213, 226, 200,   0,   0,   0,   0,   0,   0,   0,\n",
              "          0,   0],\n",
              "       [  0,   0,   0,   0,   0,   0,   0,   0,  98, 232, 211, 215, 249,\n",
              "         46, 162, 246, 214, 230, 186,   0,   0,   0,   0,   0,   0,   0,\n",
              "          0,   0],\n",
              "       [  0,   0,   0,   0,   0,   0,   0,   0,  70, 228, 213, 220, 224,\n",
              "        252, 239, 219, 217, 231, 171,   0,   0,   0,   0,   0,   0,   0,\n",
              "          0,   0],\n",
              "       [  0,   0,   0,   0,   0,   0,   0,   0,  45, 222, 214, 218, 216,\n",
              "        210, 215, 217, 202, 224, 172,   0,   0,   0,   0,   0,   0,   0,\n",
              "          0,   0],\n",
              "       [  0,   0,   0,   0,   0,   0,   0,   0,  24, 254, 214, 210, 211,\n",
              "        214, 215, 212, 203, 221, 167,   0,   0,   0,   0,   0,   0,   0,\n",
              "          0,   0],\n",
              "       [  0,   0,   0,   0,   0,   0,   0,   0,   0, 254, 216, 215, 217,\n",
              "        217, 216, 216, 206, 225, 150,   0,   0,   0,   0,   0,   0,   0,\n",
              "          0,   0],\n",
              "       [  0,   0,   0,   0,   0,   0,   0,   0,   0, 247, 216, 214, 217,\n",
              "        216, 214, 212, 203, 226, 136,   0,   0,   0,   0,   0,   0,   0,\n",
              "          0,   0],\n",
              "       [  0,   0,   0,   0,   0,   0,   0,   0,   0, 245, 216, 214, 216,\n",
              "        217, 215, 211, 204, 225, 125,   0,   0,   0,   0,   0,   0,   0,\n",
              "          0,   0],\n",
              "       [  0,   0,   0,   0,   0,   0,   0,   0,   0, 247, 216, 214, 217,\n",
              "        220, 217, 213, 203, 222, 147,   0,   0,   0,   0,   0,   0,   0,\n",
              "          0,   0],\n",
              "       [  0,   0,   0,   0,   0,   0,   0,   0,   0, 248, 216, 215, 218,\n",
              "        222, 216, 214, 207, 218, 179,   0,   0,   0,   0,   0,   0,   0,\n",
              "          0,   0],\n",
              "       [  0,   0,   0,   0,   0,   0,   0,   0,   0, 249, 216, 217, 219,\n",
              "        222, 217, 214, 210, 215, 211,   0,   0,   0,   0,   0,   0,   0,\n",
              "          0,   0],\n",
              "       [  0,   0,   0,   0,   0,   0,   0,   0,  38, 255, 214, 218, 219,\n",
              "        224, 218, 215, 211, 211, 231,   0,   0,   0,   0,   0,   0,   0,\n",
              "          0,   0],\n",
              "       [  0,   0,   0,   0,   0,   0,   0,   0,  79, 227, 209, 219, 219,\n",
              "        227, 219, 215, 213, 206, 254,  58,   0,   0,   0,   0,   0,   0,\n",
              "          0,   0],\n",
              "       [  0,   0,   0,   0,   0,   0,   0,   0, 146, 226, 211, 220, 219,\n",
              "        228, 218, 215, 216, 205, 219, 163,   0,   0,   0,   0,   0,   0,\n",
              "          0,   0],\n",
              "       [  0,   0,   0,   0,   0,   0,   0,   0, 202, 221, 214, 221, 219,\n",
              "        231, 218, 215, 218, 213, 212, 220,   0,   0,   0,   0,   0,   0,\n",
              "          0,   0],\n",
              "       [  0,   0,   0,   0,   0,   0,   0,   0, 234, 217, 216, 220, 219,\n",
              "        234, 217, 215, 218, 216, 223, 247,   7,   0,   0,   0,   0,   0,\n",
              "          0,   0],\n",
              "       [  0,   0,   0,   0,   0,   0,   0,  17, 254, 212, 219, 219, 220,\n",
              "        233, 214, 216, 219, 222, 153, 238,  58,   0,   0,   0,   0,   0,\n",
              "          0,   0],\n",
              "       [  0,   0,   0,   0,   0,   0,   0,  66, 255, 208, 220, 219, 222,\n",
              "        241, 220, 218, 218, 218, 192, 242,  99,   0,   0,   0,   0,   0,\n",
              "          0,   0],\n",
              "       [  0,   0,   0,   0,   0,   0,   0, 142, 235, 203, 218, 216, 231,\n",
              "        242, 225, 233, 219, 214, 216, 238, 144,   0,   0,   0,   0,   0,\n",
              "          0,   0],\n",
              "       [  0,   0,   0,   0,   0,   0,   0, 177, 248, 227, 229, 211, 255,\n",
              "         76,   0, 247, 243, 230, 230, 249, 187,   0,   0,   0,   0,   0,\n",
              "          0,   0],\n",
              "       [  0,   0,   0,   0,   0,   0,   0, 101, 241, 228, 228, 220, 255,\n",
              "         64,   0, 243, 237, 230, 227, 241, 142,   0,   0,   0,   0,   0,\n",
              "          0,   0],\n",
              "       [  0,   0,   0,   0,   0,   0,   0,   0, 255, 242, 222, 218, 255,\n",
              "         62,   0, 223, 238, 225, 238, 255,  31,   0,   0,   0,   0,   0,\n",
              "          0,   0],\n",
              "       [  0,   0,   0,   0,   0,   0,   0,   0,  45, 255, 242, 235, 255,\n",
              "         84,   0, 246, 255, 242, 255,  70,   0,   0,   0,   0,   0,   0,\n",
              "          0,   0],\n",
              "       [  0,   0,   0,   0,   0,   0,   0,   0,   0,   0,  61, 102, 168,\n",
              "         25,   0, 139, 161,  74,   0,   0,   0,   0,   0,   0,   0,   0,\n",
              "          0,   0]], dtype=uint8)</pre></div><script>\n",
              "      (() => {\n",
              "      const titles = ['show data', 'hide data'];\n",
              "      let index = 0\n",
              "      document.querySelector('#id-b1160f5f-79e1-40e8-b65d-fd804162e708 button').onclick = (e) => {\n",
              "        document.querySelector('#id-b1160f5f-79e1-40e8-b65d-fd804162e708').classList.toggle('show_array');\n",
              "        index = (++index) % 2;\n",
              "        document.querySelector('#id-b1160f5f-79e1-40e8-b65d-fd804162e708 button').textContent = titles[index];\n",
              "        e.preventDefault();\n",
              "        e.stopPropagation();\n",
              "      }\n",
              "      })();\n",
              "    </script>"
            ]
          },
          "metadata": {},
          "execution_count": 12
        }
      ]
    },
    {
      "cell_type": "code",
      "source": [
        "print(imagenes_entrenamiento.shape)\n",
        "print(labels_entrenamiento.shape)"
      ],
      "metadata": {
        "id": "W37S-1ix7J6I",
        "colab": {
          "base_uri": "https://localhost:8080/"
        },
        "outputId": "4fcf79e0-e39c-44ca-af42-1e6e99e55e2b"
      },
      "execution_count": null,
      "outputs": [
        {
          "output_type": "stream",
          "name": "stdout",
          "text": [
            "(60000, 28, 28)\n",
            "(60000,)\n"
          ]
        }
      ]
    },
    {
      "cell_type": "code",
      "source": [
        "print(imagenes_prueba.shape)\n",
        "print(labels_prueba.shape)"
      ],
      "metadata": {
        "colab": {
          "base_uri": "https://localhost:8080/"
        },
        "id": "dISLmMfygJyj",
        "outputId": "aff4ff45-8188-4ef7-ad6d-f9f459fcc8dd"
      },
      "execution_count": null,
      "outputs": [
        {
          "output_type": "stream",
          "name": "stdout",
          "text": [
            "(10000, 28, 28)\n",
            "(10000,)\n"
          ]
        }
      ]
    },
    {
      "cell_type": "code",
      "source": [
        "labels_entrenamiento[2]"
      ],
      "metadata": {
        "colab": {
          "base_uri": "https://localhost:8080/"
        },
        "id": "kRJeSPKBjRe8",
        "outputId": "505420eb-0676-45a3-f333-253e03a35e31"
      },
      "execution_count": null,
      "outputs": [
        {
          "output_type": "execute_result",
          "data": {
            "text/plain": [
              "0"
            ]
          },
          "metadata": {},
          "execution_count": 18
        }
      ]
    },
    {
      "cell_type": "markdown",
      "source": [
        "**Modelo**"
      ],
      "metadata": {
        "id": "BnW7hMAo7VVw"
      }
    },
    {
      "cell_type": "code",
      "source": [
        "from keras.models import Sequential\n",
        "from keras import layers\n",
        "\n",
        "modelo = Sequential([\n",
        "    layers.Flatten(input_shape=(28, 28)),\n",
        "    layers.Dense(128, activation='relu'),\n",
        "    layers.Dense(10, activation='softmax')\n",
        "])\n",
        "modelo.compile(optimizer='adam', loss='sparse_categorical_crossentropy', metrics=['accuracy'])\n",
        "\n",
        "modelo.fit(imagenes_entrenamiento, labels_entrenamiento, epochs=10)"
      ],
      "metadata": {
        "id": "pUNsAmLg7VDw",
        "colab": {
          "base_uri": "https://localhost:8080/"
        },
        "outputId": "95a23cd4-2058-4a6c-8816-ea1e4819a4cc"
      },
      "execution_count": null,
      "outputs": [
        {
          "output_type": "stream",
          "name": "stdout",
          "text": [
            "Epoch 1/10\n",
            "1875/1875 [==============================] - 12s 6ms/step - loss: 4.3407 - accuracy: 0.7033\n",
            "Epoch 2/10\n",
            "1875/1875 [==============================] - 9s 5ms/step - loss: 0.6974 - accuracy: 0.7553\n",
            "Epoch 3/10\n",
            "1875/1875 [==============================] - 9s 5ms/step - loss: 0.5969 - accuracy: 0.7813\n",
            "Epoch 4/10\n",
            "1875/1875 [==============================] - 8s 4ms/step - loss: 0.5675 - accuracy: 0.7942\n",
            "Epoch 5/10\n",
            "1875/1875 [==============================] - 9s 5ms/step - loss: 0.5314 - accuracy: 0.8066\n",
            "Epoch 6/10\n",
            "1875/1875 [==============================] - 8s 4ms/step - loss: 0.5035 - accuracy: 0.8205\n",
            "Epoch 7/10\n",
            "1875/1875 [==============================] - 8s 4ms/step - loss: 0.4837 - accuracy: 0.8296\n",
            "Epoch 8/10\n",
            "1875/1875 [==============================] - 9s 5ms/step - loss: 0.4818 - accuracy: 0.8337\n",
            "Epoch 9/10\n",
            "1875/1875 [==============================] - 8s 4ms/step - loss: 0.4774 - accuracy: 0.8331\n",
            "Epoch 10/10\n",
            "1875/1875 [==============================] - 8s 4ms/step - loss: 0.4739 - accuracy: 0.8371\n"
          ]
        },
        {
          "output_type": "execute_result",
          "data": {
            "text/plain": [
              "<keras.src.callbacks.History at 0x7bc5044ad810>"
            ]
          },
          "metadata": {},
          "execution_count": 19
        }
      ]
    },
    {
      "cell_type": "markdown",
      "source": [
        "**Pruebas del modelo **\n",
        "Este comando nos permite conocer si nuestro modelo propuesto es adecuado. Por los resultados que arroja, podemos decir que lo es. Sin embargo, puede haber ocasiones en que necesitemos resultados con mayor precisión o mayor rapidez al momento de realizar el entrenamiento. Todo depende de las circunstancias."
      ],
      "metadata": {
        "id": "dtZ3pRwM79qJ"
      }
    },
    {
      "cell_type": "code",
      "source": [
        "errores_prueba, precision_prueba = modelo.evaluate(imagenes_prueba, labels_prueba)"
      ],
      "metadata": {
        "id": "lIhFuWSz8Ccj",
        "colab": {
          "base_uri": "https://localhost:8080/"
        },
        "outputId": "71077f3d-ceac-4115-f98a-a656ec7f91dc"
      },
      "execution_count": null,
      "outputs": [
        {
          "output_type": "stream",
          "name": "stdout",
          "text": [
            "313/313 [==============================] - 1s 2ms/step - loss: 0.5337 - accuracy: 0.8295\n"
          ]
        }
      ]
    },
    {
      "cell_type": "code",
      "source": [
        "# La siguiente línea, nos imprime la probabilidad obtenida de que la imagen ‘0’ del set de imágenes de prueba corresponda con una de las categorías de imágenes\n",
        "prediccion = modelo.predict(imagenes_prueba)\n"
      ],
      "metadata": {
        "id": "XkFKAt6f8Hk4",
        "colab": {
          "base_uri": "https://localhost:8080/"
        },
        "outputId": "f46b72c6-c2e9-445a-9657-b95fd84db3a9"
      },
      "execution_count": null,
      "outputs": [
        {
          "output_type": "stream",
          "name": "stdout",
          "text": [
            "313/313 [==============================] - 1s 2ms/step\n",
            "[2.2295830e-03 8.0099700e-05 1.7659350e-01 8.9923298e-04 7.6174510e-01\n",
            " 1.6809611e-20 5.8445778e-02 0.0000000e+00 6.6808175e-06 3.2233898e-31]\n"
          ]
        }
      ]
    },
    {
      "cell_type": "code",
      "source": [
        "print(prediccion[8000])\n",
        "print(np.round(prediccion[8000]))"
      ],
      "metadata": {
        "colab": {
          "base_uri": "https://localhost:8080/"
        },
        "id": "mOwJuyYjkcJe",
        "outputId": "f3431535-a4a6-4a0b-b0a7-623ccdf85431"
      },
      "execution_count": null,
      "outputs": [
        {
          "output_type": "stream",
          "name": "stdout",
          "text": [
            "[3.5532006e-35 3.4778437e-38 0.0000000e+00 0.0000000e+00 0.0000000e+00\n",
            " 1.2407472e-04 0.0000000e+00 9.9944556e-01 8.4911335e-07 4.2958179e-04]\n",
            "[0. 0. 0. 0. 0. 0. 0. 1. 0. 0.]\n"
          ]
        }
      ]
    },
    {
      "cell_type": "code",
      "source": [
        "# Podemos obtener el valor máximo del vector anterior para mostrar la clase a la que pertenece la imagen\n",
        "print(clase_imagenes[np.argmax(prediccion[8000])])\n",
        "# Verificamos revisando la imagen\n",
        "plt.imshow(imagenes_prueba[8000], cmap=plt.cm.binary)"
      ],
      "metadata": {
        "id": "Xk2lj4li8g_z",
        "colab": {
          "base_uri": "https://localhost:8080/",
          "height": 465
        },
        "outputId": "358aa49d-b060-485c-a72b-2981cb500c3e"
      },
      "execution_count": null,
      "outputs": [
        {
          "output_type": "stream",
          "name": "stdout",
          "text": [
            "Tenis\n"
          ]
        },
        {
          "output_type": "execute_result",
          "data": {
            "text/plain": [
              "<matplotlib.image.AxesImage at 0x7bc4f042ad70>"
            ]
          },
          "metadata": {},
          "execution_count": 30
        },
        {
          "output_type": "display_data",
          "data": {
            "text/plain": [
              "<Figure size 640x480 with 1 Axes>"
            ],
            "image/png": "[encoded data removed]"
          },
          "metadata": {}
        }
      ]
    },
    {
      "cell_type": "code",
      "source": [
        "# Para visualizar todas las imágenes de prueba\n",
        "for i in range(5):\n",
        "    plt.imshow(imagenes_prueba[i], cmap=plt.cm.binary)\n",
        "    plt.xlabel('Predicción: ' + clase_imagenes[np.argmax(prediccion[i])])\n",
        "    plt.title(clase_imagenes[labels_prueba[i]])\n",
        "    plt.show()"
      ],
      "metadata": {
        "id": "3s7Wzbfs8m4i",
        "colab": {
          "base_uri": "https://localhost:8080/",
          "height": 1000
        },
        "outputId": "ae85f6c3-d005-48d9-fc3f-d6771aac7e83"
      },
      "execution_count": null,
      "outputs": [
        {
          "output_type": "display_data",
          "data": {
            "text/plain": [
              "<Figure size 640x480 with 1 Axes>"
            ],
            "image/png": "[encoded data removed]"
          },
          "metadata": {}
        },
        {
          "output_type": "display_data",
          "data": {
            "text/plain": [
              "<Figure size 640x480 with 1 Axes>"
            ],
            "image/png": "[encoded data removed]"
          },
          "metadata": {}
        },
        {
          "output_type": "display_data",
          "data": {
            "text/plain": [
              "<Figure size 640x480 with 1 Axes>"
            ],
            "image/png": "[encoded data removed]"
          },
          "metadata": {}
        },
        {
          "output_type": "display_data",
          "data": {
            "text/plain": [
              "<Figure size 640x480 with 1 Axes>"
            ],
            "image/png": "[encoded data removed]"
          },
          "metadata": {}
        },
        {
          "output_type": "display_data",
          "data": {
            "text/plain": [
              "<Figure size 640x480 with 1 Axes>"
            ],
            "image/png": "[encoded data removed]"
          },
          "metadata": {}
        }
      ]
    }
  ]
}