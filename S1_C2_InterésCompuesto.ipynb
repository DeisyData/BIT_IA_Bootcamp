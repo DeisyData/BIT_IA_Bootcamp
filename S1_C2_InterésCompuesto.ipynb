{
  "nbformat": 4,
  "nbformat_minor": 0,
  "metadata": {
    "colab": {
      "provenance": [],
      "authorship_tag": "ABX9TyOSjKHvXp0bkfUVnhsVSmef",
      "include_colab_link": true
    },
    "kernelspec": {
      "name": "python3",
      "display_name": "Python 3"
    },
    "language_info": {
      "name": "python"
    }
  },
  "cells": [
    {
      "cell_type": "markdown",
      "metadata": {
        "id": "view-in-github",
        "colab_type": "text"
      },
      "source": [
        "<a href=\"https://colab.research.google.com/github/DeisyData/BIT_IA_Bootcamp/blob/main/S1_C2_Inter%C3%A9sCompuesto.ipynb\" target=\"_parent\"><img src=\"https://colab.research.google.com/assets/colab-badge.svg\" alt=\"Open In Colab\"/></a>"
      ]
    },
    {
      "cell_type": "markdown",
      "source": [
        "# **Semana 1. Clase 1**\n",
        "Caso: Indicadores financieros\n",
        "\n",
        "\n",
        "Reto : Tengo (P) $1.000.000  quiero duplicarlos (2P)\n",
        "¿Cuánto tiempo tardaré en duplicar mi dinero si la tasa de interés anual es del 8.5% (0.085), con una capitalización anual?\n",
        "\n",
        "\n"
      ],
      "metadata": {
        "id": "7wCdkYO-akQX"
      }
    },
    {
      "cell_type": "code",
      "execution_count": null,
      "metadata": {
        "id": "WOYAwJLgZ5UW"
      },
      "outputs": [],
      "source": [
        "import math"
      ]
    },
    {
      "cell_type": "markdown",
      "source": [
        "Actividad 1. Programar la ecuación del cálculo del número de periodos"
      ],
      "metadata": {
        "id": "33KSqXfq3dxV"
      }
    },
    {
      "cell_type": "code",
      "source": [
        "P = 1000000 # Valor Presente\n",
        "A = 2*P # Valor futuro\n",
        "i = 0.085\n",
        "n = math.log(A/P)/(math.log(1+i))\n",
        "n = round(n,3)\n",
        "print(\"El tiempo para duplicar el capital es: \" + str(n) + \" años\")"
      ],
      "metadata": {
        "id": "9NXKetEjalUS",
        "colab": {
          "base_uri": "https://localhost:8080/"
        },
        "outputId": "c1009f12-77d5-4479-809d-f06bf7452ab4"
      },
      "execution_count": null,
      "outputs": [
        {
          "output_type": "stream",
          "name": "stdout",
          "text": [
            "El tiempo para duplicar el capital es: 8.497 años\n"
          ]
        }
      ]
    },
    {
      "cell_type": "markdown",
      "source": [
        ":"
      ],
      "metadata": {
        "id": "NUa9-2eHu7AE"
      }
    },
    {
      "cell_type": "markdown",
      "source": [
        "Actividad 2. Construir una función cálculo del número de periodos\n"
      ],
      "metadata": {
        "id": "RCp8TtbTtTnz"
      }
    },
    {
      "cell_type": "code",
      "source": [
        "def tiempo_incrementarCapital(P,A,i):\n",
        "  n = math.log(A/P)/(math.log(1+i))\n",
        "  n = round(n,3)\n",
        "  return  print(\"El tiempo para duplicar el capital es: \" + str(n) + \" años\")"
      ],
      "metadata": {
        "id": "gRQ2GIW5tRSe"
      },
      "execution_count": null,
      "outputs": []
    },
    {
      "cell_type": "markdown",
      "source": [],
      "metadata": {
        "id": "F0ItOJI8sgBK"
      }
    },
    {
      "cell_type": "code",
      "source": [
        "tiempo_incrementarCapital(1,3,0.085)"
      ],
      "metadata": {
        "id": "aSqzaw0iax9b",
        "colab": {
          "base_uri": "https://localhost:8080/"
        },
        "outputId": "f59a711a-0efa-436d-d9bd-321164dd1c20"
      },
      "execution_count": null,
      "outputs": [
        {
          "output_type": "stream",
          "name": "stdout",
          "text": [
            "El tiempo para duplicar el capital es: -155.883 años\n"
          ]
        }
      ]
    },
    {
      "cell_type": "markdown",
      "source": [
        "Actividad 3. Programar la función para calcular el valor futuro"
      ],
      "metadata": {
        "id": "uRbpRMd135kN"
      }
    },
    {
      "cell_type": "code",
      "source": [
        "def valor_futuro(P,i,n):\n",
        "  A = P*(1+i)**n\n",
        "  A = round(A,2)\n",
        "  print(\"El valor futuro para el interes \" + str(i)+ \"es de \" + str(A))\n",
        "  return A"
      ],
      "metadata": {
        "id": "1YEDpS2S4KwJ"
      },
      "execution_count": null,
      "outputs": []
    },
    {
      "cell_type": "code",
      "source": [
        "valorFuturo = valor_futuro(1000000,0.085,10)"
      ],
      "metadata": {
        "colab": {
          "base_uri": "https://localhost:8080/"
        },
        "id": "RCPQBslmBa70",
        "outputId": "521bce9c-ac6f-466b-b9a5-7e878b992453"
      },
      "execution_count": null,
      "outputs": [
        {
          "output_type": "stream",
          "name": "stdout",
          "text": [
            "El valor futuro para el interes 0.085es de 2260983.44\n"
          ]
        }
      ]
    },
    {
      "cell_type": "code",
      "source": [
        "valorFuturo*3"
      ],
      "metadata": {
        "colab": {
          "base_uri": "https://localhost:8080/"
        },
        "id": "IfwxwFZGBl9h",
        "outputId": "078b869e-b4a1-4273-f2b8-2b8871eb86cd"
      },
      "execution_count": null,
      "outputs": [
        {
          "output_type": "execute_result",
          "data": {
            "text/plain": [
              "6782950.32"
            ]
          },
          "metadata": {},
          "execution_count": 13
        }
      ]
    },
    {
      "cell_type": "markdown",
      "source": [
        "Actividad 4. Programar la función para calcular el capital inicial"
      ],
      "metadata": {
        "id": "iS4YbA_A4DzF"
      }
    },
    {
      "cell_type": "code",
      "source": [
        "def capital_Inicial(A,i,n):\n",
        "  P = A/((1+i)**n)\n",
        "  P = round(P,2)\n",
        "  print(\"El capital_Inicial para el interes \" + str(i) + \" es de \" + str(A))\n",
        "  return P"
      ],
      "metadata": {
        "id": "L6Aw-53m4MWj"
      },
      "execution_count": null,
      "outputs": []
    },
    {
      "cell_type": "code",
      "source": [
        "capital_Inicial(200,0.1,12)"
      ],
      "metadata": {
        "colab": {
          "base_uri": "https://localhost:8080/"
        },
        "id": "b0oiDIBFi50M",
        "outputId": "3980dc97-7622-42f4-f230-cdc350a00c66"
      },
      "execution_count": null,
      "outputs": [
        {
          "output_type": "stream",
          "name": "stdout",
          "text": [
            "El capital_Inicial para el interes 0.1 es de 200\n"
          ]
        },
        {
          "output_type": "execute_result",
          "data": {
            "text/plain": [
              "63.73"
            ]
          },
          "metadata": {},
          "execution_count": 15
        }
      ]
    },
    {
      "cell_type": "markdown",
      "source": [
        "# **Semana 1. Clase 2**\n",
        "\n",
        "\n",
        "*   Actividad 5.1. Main\n",
        "*   Actividad 5.2. Gráfica de valor futuro\n",
        "\n",
        "\n"
      ],
      "metadata": {
        "id": "-8Q77xY0mON7"
      }
    },
    {
      "cell_type": "markdown",
      "source": [
        "Actividad 5 v1.0. Hacer un condicional que según la opción imprima el nombre de la función a usar:\n",
        "\n",
        "* 1: tiempo para duplicar la inversion\n",
        "* 2: calculo del valor futuro\n",
        "* 3: caclculo del valor inicial\n",
        "* ccualquier otor numero: opcion invalida"
      ],
      "metadata": {
        "id": "ewOVk3QQr6AU"
      }
    },
    {
      "cell_type": "code",
      "source": [
        "### Mensaje de inicio para seleccionar opción\n",
        "print(\"Elige qué valor quieres calcular:\")\n",
        "print(\"1. Tiempo para duplicar la inversión\")\n",
        "print(\"2. Calcular el valor futuro\")\n",
        "print(\"3. Calcular el valor inicial\")\n",
        "opcion = int(input(\"Escriba la opción\"))\n",
        "\n",
        "## Estructura de selección de la operacion\n",
        "if opcion == 1:\n",
        "  print(\"Calculo los periodos de capitalización\")\n",
        "  tiempo_incrementarCapital(1,3,0.085)\n",
        "elif opcion == 2:\n",
        "  print(\"Calculo el valor futuro\")\n",
        "  valor_futuro(1000000,0.085,10)\n",
        "elif opcion == 3:\n",
        "  print(\"Calculo el valor inicial\")\n",
        "  capital_Inicial(200,0.1,12)\n",
        "else:\n",
        "  print(\"Opción inválida\")"
      ],
      "metadata": {
        "colab": {
          "base_uri": "https://localhost:8080/"
        },
        "id": "LjHSqkY4vi84",
        "outputId": "fd5fdccb-8539-4ef7-b213-73c1ad1e1ca1"
      },
      "execution_count": null,
      "outputs": [
        {
          "output_type": "stream",
          "name": "stdout",
          "text": [
            "Elige qué valor quieres calcular:\n",
            "1. Tiempo para duplicar la inversión\n",
            "2. Calcular el valor futuro\n",
            "3. Calcular el valor inicial\n",
            "Escriba la opción2\n",
            "Calculo el valor futuro\n",
            "El valor futuro para el interes 0.085es de 2260983.44\n"
          ]
        }
      ]
    },
    {
      "cell_type": "markdown",
      "source": [
        "Actividad 5 V2.0\n",
        "\n",
        "Con todos los parametros de las funciones con entradas desde el escrito"
      ],
      "metadata": {
        "id": "AIw_OZYvvit8"
      }
    },
    {
      "cell_type": "code",
      "source": [
        "### Mensaje de inicio para seleccionar opción\n",
        "print(\"Elige qué valor quieres calcular:\")\n",
        "print(\"1. Tiempo para duplicar la inversión\")\n",
        "print(\"2. Calcular el valor futuro\")\n",
        "print(\"3. Calcular el valor inicial\")\n",
        "opcion = int(input(\"Escriba la opción\"))\n",
        "\n",
        "## Estructura de selección de la operacion\n",
        "if opcion == 1:\n",
        "  print(\"Calculo los periodos de capitalización\")\n",
        "  Px = float(input(\"Escriba el valor Presente\"))\n",
        "  Ax = float(input(\"Escriba el valor Futuro\"))\n",
        "  ix = float(input(\"Escriba la tasa de interes\"))\n",
        "  tiempo_incrementarCapital(Px,Ax,ix)\n",
        "elif opcion == 2:\n",
        "  print(\"Calculo el valor futuro\")\n",
        "  valor_futuro(P,i,n)\n",
        "elif opcion == 3:\n",
        "  print(\"Calculo el valor inicial\")\n",
        "  capital_Inicial(A,i,n)\n",
        "else:\n",
        "  print(\"Opción inválida\")"
      ],
      "metadata": {
        "colab": {
          "base_uri": "https://localhost:8080/"
        },
        "id": "rcSiJ1B73KYl",
        "outputId": "dfacb9bf-4d5f-43fa-cbe9-360ca495a138"
      },
      "execution_count": null,
      "outputs": [
        {
          "output_type": "stream",
          "name": "stdout",
          "text": [
            "Elige qué valor quieres calcular:\n",
            "1. Tiempo para duplicar la inversión\n",
            "2. Calcular el valor futuro\n",
            "3. Calcular el valor inicial\n",
            "Escriba la opción1\n",
            "Calculo los periodos de capitalización\n",
            "Escriba el valor Presente100\n",
            "Escriba el valor Futuro500\n",
            "Escriba la tasa de interes0.1\n",
            "El tiempo para duplicar el capital es: 16.886 años\n"
          ]
        }
      ]
    },
    {
      "cell_type": "markdown",
      "source": [
        "**Actividad Bonus.**\n",
        "\n",
        "Graficar el valor de capital año a año en rango de años definidos por el usuario usando la ecuación de interés compúesto"
      ],
      "metadata": {
        "id": "TeXSWgrb8Sgc"
      }
    },
    {
      "cell_type": "code",
      "source": [
        "# generar un vector de 20 años\n",
        "import numpy as np\n",
        "\n",
        "x = np.linspace(0,20,21)\n",
        "P =500000\n",
        "i = 0.085\n",
        "A = P*(1+i)**x\n",
        "# linspace(punto inicio, punto fin, numero de elementos)"
      ],
      "metadata": {
        "id": "J59JmLHw8P_n"
      },
      "execution_count": null,
      "outputs": []
    },
    {
      "cell_type": "code",
      "source": [
        "x"
      ],
      "metadata": {
        "colab": {
          "base_uri": "https://localhost:8080/"
        },
        "id": "sXyzKEDaCYVU",
        "outputId": "436a8a3b-76e6-4d3a-c9aa-7c0c34b8c7fa"
      },
      "execution_count": null,
      "outputs": [
        {
          "output_type": "execute_result",
          "data": {
            "text/plain": [
              "array([ 0.,  1.,  2.,  3.,  4.,  5.,  6.,  7.,  8.,  9., 10., 11., 12.,\n",
              "       13., 14., 15., 16., 17., 18., 19., 20.])"
            ]
          },
          "metadata": {},
          "execution_count": 48
        }
      ]
    },
    {
      "cell_type": "code",
      "source": [
        "A"
      ],
      "metadata": {
        "colab": {
          "base_uri": "https://localhost:8080/"
        },
        "id": "InEvRoKmCVD9",
        "outputId": "91bcc0e7-79a6-42c5-e214-b73dbfe3929f"
      },
      "execution_count": null,
      "outputs": [
        {
          "output_type": "execute_result",
          "data": {
            "text/plain": [
              "array([ 500000.        ,  542500.        ,  588612.5       ,\n",
              "        638644.5625    ,  692929.3503125 ,  751828.34508906,\n",
              "        815733.75442163,  885071.12354747,  960302.16904901,\n",
              "       1041927.85341817, 1130491.72095872, 1226583.51724021,\n",
              "       1330843.11620563, 1443964.7810831 , 1566701.78747517,\n",
              "       1699871.43941056, 1844360.51176045, 2001131.15526009,\n",
              "       2171227.3034572 , 2355781.62425106, 2556023.0623124 ])"
            ]
          },
          "metadata": {},
          "execution_count": 49
        }
      ]
    },
    {
      "cell_type": "code",
      "source": [
        "import matplotlib.pyplot as plt\n",
        "#plot(x,y)\n",
        "plt.figure(figsize=(5,3))\n",
        "plt.plot(x,A)"
      ],
      "metadata": {
        "colab": {
          "base_uri": "https://localhost:8080/",
          "height": 323
        },
        "id": "NrVbefRDCiaN",
        "outputId": "62c6c122-7ea9-4fda-d1d3-7d6f97ca1ee8"
      },
      "execution_count": null,
      "outputs": [
        {
          "output_type": "execute_result",
          "data": {
            "text/plain": [
              "[<matplotlib.lines.Line2D at 0x7beb9a400fd0>]"
            ]
          },
          "metadata": {},
          "execution_count": 50
        },
        {
          "output_type": "display_data",
          "data": {
            "text/plain": [
              "<Figure size 500x300 with 1 Axes>"
            ],
            "image/png": "[encoded data removed]"
          },
          "metadata": {}
        }
      ]
    },
    {
      "cell_type": "markdown",
      "source": [],
      "metadata": {
        "id": "x0_nYqQMBy85"
      }
    }
  ]
}