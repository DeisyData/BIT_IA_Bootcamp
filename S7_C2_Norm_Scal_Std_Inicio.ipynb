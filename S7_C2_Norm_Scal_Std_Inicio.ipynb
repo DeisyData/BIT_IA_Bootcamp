{
  "nbformat": 4,
  "nbformat_minor": 0,
  "metadata": {
    "colab": {
      "provenance": [],
      "authorship_tag": "ABX9TyOPsEawmdv34WgHOUcRFPUz",
      "include_colab_link": true
    },
    "kernelspec": {
      "name": "python3",
      "display_name": "Python 3"
    },
    "language_info": {
      "name": "python"
    }
  },
  "cells": [
    {
      "cell_type": "markdown",
      "metadata": {
        "id": "view-in-github",
        "colab_type": "text"
      },
      "source": [
        "<a href=\"https://colab.research.google.com/github/DeisyData/BIT_IA_Bootcamp/blob/main/S7_C2_Norm_Scal_Std_Inicio.ipynb\" target=\"_parent\"><img src=\"https://colab.research.google.com/assets/colab-badge.svg\" alt=\"Open In Colab\"/></a>"
      ]
    },
    {
      "cell_type": "code",
      "execution_count": null,
      "metadata": {
        "id": "N8UQqkLl5xzU"
      },
      "outputs": [],
      "source": [
        "# Importar librerías necesarias\n",
        "import numpy as np\n",
        "import pandas as pd\n",
        "import matplotlib.pyplot as plt\n",
        "\n",
        "from sklearn.preprocessing import MinMaxScaler, MaxAbsScaler, StandardScaler, RobustScaler, Normalizer\n"
      ]
    },
    {
      "cell_type": "code",
      "source": [
        "# Generar datos de ejemplo\n",
        "np.random.seed(42)\n",
        "data = {\n",
        "    \"Feature_1\": np.random.randint(1, 100, 20),\n",
        "    \"Feature_2\": np.random.randint(200, 1000, 20),\n",
        "    \"Feature_3\": np.random.randn(20) * 50 + 200  # datos con media alta y varianza\n",
        "}\n",
        "df = pd.DataFrame(data)\n",
        "print(\"Datos originales:\\n\", df)\n",
        "\n",
        "# Graficar los datos originales para visualizar la escala\n",
        "plt.figure(figsize=(10, 5))\n",
        "plt.title(\"Datos originales\")\n",
        "plt.plot(df, marker='o')\n",
        "plt.legend(df.columns)\n",
        "plt.show()"
      ],
      "metadata": {
        "id": "bWrSdyw752OA"
      },
      "execution_count": null,
      "outputs": []
    }
  ]
}