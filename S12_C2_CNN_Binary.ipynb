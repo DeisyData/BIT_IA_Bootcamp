{
  "nbformat": 4,
  "nbformat_minor": 0,
  "metadata": {
    "colab": {
      "provenance": [],
      "authorship_tag": "ABX9TyMtWqazT95Akvu2OvhDx/kQ",
      "include_colab_link": true
    },
    "kernelspec": {
      "name": "python3",
      "display_name": "Python 3"
    },
    "language_info": {
      "name": "python"
    }
  },
  "cells": [
    {
      "cell_type": "markdown",
      "metadata": {
        "id": "view-in-github",
        "colab_type": "text"
      },
      "source": [
        "<a href=\"https://colab.research.google.com/github/DeisyData/BIT_IA_Bootcamp/blob/main/S12_C2_CNN_Binary.ipynb\" target=\"_parent\"><img src=\"https://colab.research.google.com/assets/colab-badge.svg\" alt=\"Open In Colab\"/></a>"
      ]
    },
    {
      "cell_type": "markdown",
      "source": [
        "CNN\n",
        "\n",
        "[CNN](https://poloclub.github.io/cnn-explainer/)"
      ],
      "metadata": {
        "id": "Bi0CZx915thy"
      }
    },
    {
      "cell_type": "code",
      "source": [
        "import os\n",
        "import zipfile\n",
        "import seaborn as sns\n",
        "import matplotlib.pyplot as plt\n",
        "import pandas as pd"
      ],
      "metadata": {
        "id": "eCSsTeFa5meq"
      },
      "execution_count": null,
      "outputs": []
    },
    {
      "cell_type": "code",
      "source": [
        "if(os.path.exists(\"pizza_steak\")):\n",
        "  print(\"Files already exist\")\n",
        "else:\n",
        "  !wget https://storage.googleapis.com/ztm_tf_course/food_vision/pizza_steak.zip\n",
        "\n",
        "  zip_ref = zipfile.ZipFile(\"pizza_steak.zip\",\"r\")\n",
        "  zip_ref.extractall()\n",
        "  zip_ref.close()\n",
        "  !rm pizza_steak.zip"
      ],
      "metadata": {
        "id": "CUW8ZRB-5pDZ"
      },
      "execution_count": null,
      "outputs": []
    },
    {
      "cell_type": "code",
      "source": [
        "!ls pizza_steak/"
      ],
      "metadata": {
        "id": "qNNbBl4H6D36"
      },
      "execution_count": null,
      "outputs": []
    },
    {
      "cell_type": "code",
      "source": [
        "for dirpath, dirnames, filenames in os.walk(\"pizza_steak\"):\n",
        "  print(f\"There are {len(dirnames)} directories and {len(filenames)} images in '{dirpath}'.\")"
      ],
      "metadata": {
        "id": "iDINxI-B6GNK"
      },
      "execution_count": null,
      "outputs": []
    },
    {
      "cell_type": "code",
      "execution_count": null,
      "metadata": {
        "id": "U_i4pzbi5ghg"
      },
      "outputs": [],
      "source": [
        "# Results Dictionary\n",
        "all_results = {\n",
        "    \"models\" : [\"model_1\", \"model_2\", \"model_3\", \"model_4\"],\n",
        "    \"acc\" : [],\n",
        "    \"loss\" : [],\n",
        "}"
      ]
    }
  ]
}