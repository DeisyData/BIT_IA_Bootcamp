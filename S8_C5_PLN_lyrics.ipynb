{
  "nbformat": 4,
  "nbformat_minor": 0,
  "metadata": {
    "colab": {
      "provenance": [],
      "authorship_tag": "ABX9TyP3Y747slBn7oV45uHOckhi",
      "include_colab_link": true
    },
    "kernelspec": {
      "name": "python3",
      "display_name": "Python 3"
    },
    "language_info": {
      "name": "python"
    }
  },
  "cells": [
    {
      "cell_type": "markdown",
      "metadata": {
        "id": "view-in-github",
        "colab_type": "text"
      },
      "source": [
        "<a href=\"https://colab.research.google.com/github/DeisyData/BIT_IA_Bootcamp/blob/main/S8_C5_PLN_lyrics.ipynb\" target=\"_parent\"><img src=\"https://colab.research.google.com/assets/colab-badge.svg\" alt=\"Open In Colab\"/></a>"
      ]
    },
    {
      "cell_type": "markdown",
      "source": [
        "\n",
        "# Iván Andrés Trujillo Abella\n",
        "\n",
        "\n",
        "# ivantrujillo1229@gmail.com"
      ],
      "metadata": {
        "id": "QxQlC6LonRkY"
      }
    },
    {
      "cell_type": "code",
      "source": [
        "import pandas as pd"
      ],
      "metadata": {
        "id": "LN5uMSP3meBJ"
      },
      "execution_count": 1,
      "outputs": []
    },
    {
      "cell_type": "markdown",
      "source": [
        "# MiniReto: Agrupar las letras de las canciones por género"
      ],
      "metadata": {
        "id": "AMXbiQg7m4TV"
      }
    },
    {
      "cell_type": "code",
      "execution_count": 4,
      "metadata": {
        "colab": {
          "base_uri": "https://localhost:8080/"
        },
        "id": "In-13cw2ilkE",
        "outputId": "cbdaa7e6-4c01-4fb6-8d05-f859dbc5d4d1"
      },
      "outputs": [
        {
          "output_type": "stream",
          "name": "stdout",
          "text": [
            "<class 'pandas.core.frame.DataFrame'>\n",
            "RangeIndex: 208 entries, 0 to 207\n",
            "Data columns (total 2 columns):\n",
            " #   Column  Non-Null Count  Dtype \n",
            "---  ------  --------------  ----- \n",
            " 0   lyrics  208 non-null    object\n",
            " 1   label   208 non-null    object\n",
            "dtypes: object(2)\n",
            "memory usage: 3.4+ KB\n"
          ]
        }
      ],
      "source": [
        "url  = \"https://raw.githubusercontent.com/it-ces/Datasets/main/lyrics-label.txt\"\n",
        "df = pd.read_csv(url)\n",
        "df.info()"
      ]
    },
    {
      "cell_type": "code",
      "source": [
        "df['label'].unique()"
      ],
      "metadata": {
        "colab": {
          "base_uri": "https://localhost:8080/"
        },
        "id": "rr1hzfW9mwNA",
        "outputId": "5ca5993b-4416-47f1-b48e-e257baaa96a0"
      },
      "execution_count": 5,
      "outputs": [
        {
          "output_type": "execute_result",
          "data": {
            "text/plain": [
              "array(['Vallenato', 'Ranchera'], dtype=object)"
            ]
          },
          "metadata": {},
          "execution_count": 5
        }
      ]
    },
    {
      "cell_type": "markdown",
      "source": [
        "# Pruebas individuales\n",
        "\n",
        "* Bajar texto a  minúscula\n",
        "* Eliminar saltos de líneas (\\n)\n",
        "* Eliminar conectores\n",
        "* Eliminar palabras específicas (bis)"
      ],
      "metadata": {
        "id": "wyZuv8rkn1ev"
      }
    },
    {
      "cell_type": "code",
      "source": [
        "df['lyrics'][0]"
      ],
      "metadata": {
        "colab": {
          "base_uri": "https://localhost:8080/",
          "height": 156
        },
        "id": "leoHEHxnn05f",
        "outputId": "62763003-5815-421b-bb98-3715dfbf9ccb"
      },
      "execution_count": 8,
      "outputs": [
        {
          "output_type": "execute_result",
          "data": {
            "text/plain": [
              "'Oye morenita te vas a quedar muy sola\\nporque anoche dijo el radio\\nque abrieron el Liceo\\nComo es estudiante\\nya se va Escalona\\npero de recuerdo te dejó un paseo (bis)\\n\\nQue te habla...\"de aquel inmenso amor\"\\nQue llevo... \"dentro del corazón\"\\ny dice...\"todo lo que yo siento\"\\nque es pura...\"pasión y sentimiento\"\\ncantando con el lenguaje grato\\nque tiene la tierra ´e Pedro Castro (bis)\\n\\nAdiós morenita me voy por la madrugada\\nno quiero que me llores\\nporque me da dolor,\\npaso por valencia\\ncojo la sabana,\\nCaracolicito y llegó a Fundación (bis)\\n\\nY entonces...\"me tengo que meter\"\\nen un diablo...\"al que le llaman tren\"\\nay, que sale...\"por toá la zona pasa\"\\ny de tarde... \"se mete a Santa Marta\",\\nque sale por to´a la zona pasa\\ny de tarde se mete a Santa Marta (bis).\\n\\nEse orgullo que tú tienes no es muy bueno\\nte juro que que más tarde te vas a arrepentir,\\nyo sólo he querido dejarte un recuerdo\\nporque en Santa Marta me puedo morir.\\n\\nY entonces... \"me tienes que llorar\"\\ny de ñapa...\"te tienes que poner\"\\ntraje negro... \"aunque no gustes de él\"\\ny entonces te vas a arrepentir\\nde lo mucho que me hiciste sufrir (bis).\\n'"
            ],
            "application/vnd.google.colaboratory.intrinsic+json": {
              "type": "string"
            }
          },
          "metadata": {},
          "execution_count": 8
        }
      ]
    }
  ]
}