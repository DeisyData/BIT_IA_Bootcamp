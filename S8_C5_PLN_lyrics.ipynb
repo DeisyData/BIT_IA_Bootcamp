{
  "nbformat": 4,
  "nbformat_minor": 0,
  "metadata": {
    "colab": {
      "provenance": [],
      "authorship_tag": "ABX9TyORf08YjjztvrcPOvYwZuXw",
      "include_colab_link": true
    },
    "kernelspec": {
      "name": "python3",
      "display_name": "Python 3"
    },
    "language_info": {
      "name": "python"
    }
  },
  "cells": [
    {
      "cell_type": "markdown",
      "metadata": {
        "id": "view-in-github",
        "colab_type": "text"
      },
      "source": [
        "<a href=\"https://colab.research.google.com/github/DeisyData/BIT_IA_Bootcamp/blob/main/S8_C5_PLN_lyrics.ipynb\" target=\"_parent\"><img src=\"https://colab.research.google.com/assets/colab-badge.svg\" alt=\"Open In Colab\"/></a>"
      ]
    },
    {
      "cell_type": "markdown",
      "source": [
        "\n",
        "# Iván Andrés Trujillo Abella\n",
        "\n",
        "\n",
        "# ivantrujillo1229@gmail.com"
      ],
      "metadata": {
        "id": "QxQlC6LonRkY"
      }
    },
    {
      "cell_type": "code",
      "source": [
        "import pandas as pd"
      ],
      "metadata": {
        "id": "LN5uMSP3meBJ"
      },
      "execution_count": 1,
      "outputs": []
    },
    {
      "cell_type": "code",
      "source": [
        "# Sirve para trabajar con texto en español\n",
        "!python -m spacy download es_core_news_sm"
      ],
      "metadata": {
        "colab": {
          "base_uri": "https://localhost:8080/"
        },
        "id": "sNuxPostuGAy",
        "outputId": "3ec1fa29-4351-437d-9145-20f2e8becdc0"
      },
      "execution_count": 2,
      "outputs": [
        {
          "output_type": "stream",
          "name": "stdout",
          "text": [
            "Collecting es-core-news-sm==3.7.0\n",
            "  Downloading https://github.com/explosion/spacy-models/releases/download/es_core_news_sm-3.7.0/es_core_news_sm-3.7.0-py3-none-any.whl (12.9 MB)\n",
            "\u001b[2K     \u001b[90m━━━━━━━━━━━━━━━━━━━━━━━━━━━━━━━━━━━━━━━━\u001b[0m \u001b[32m12.9/12.9 MB\u001b[0m \u001b[31m69.1 MB/s\u001b[0m eta \u001b[36m0:00:00\u001b[0m\n",
            "\u001b[?25hRequirement already satisfied: spacy<3.8.0,>=3.7.0 in /usr/local/lib/python3.10/dist-packages (from es-core-news-sm==3.7.0) (3.7.5)\n",
            "Requirement already satisfied: spacy-legacy<3.1.0,>=3.0.11 in /usr/local/lib/python3.10/dist-packages (from spacy<3.8.0,>=3.7.0->es-core-news-sm==3.7.0) (3.0.12)\n",
            "Requirement already satisfied: spacy-loggers<2.0.0,>=1.0.0 in /usr/local/lib/python3.10/dist-packages (from spacy<3.8.0,>=3.7.0->es-core-news-sm==3.7.0) (1.0.5)\n",
            "Requirement already satisfied: murmurhash<1.1.0,>=0.28.0 in /usr/local/lib/python3.10/dist-packages (from spacy<3.8.0,>=3.7.0->es-core-news-sm==3.7.0) (1.0.10)\n",
            "Requirement already satisfied: cymem<2.1.0,>=2.0.2 in /usr/local/lib/python3.10/dist-packages (from spacy<3.8.0,>=3.7.0->es-core-news-sm==3.7.0) (2.0.8)\n",
            "Requirement already satisfied: preshed<3.1.0,>=3.0.2 in /usr/local/lib/python3.10/dist-packages (from spacy<3.8.0,>=3.7.0->es-core-news-sm==3.7.0) (3.0.9)\n",
            "Requirement already satisfied: thinc<8.3.0,>=8.2.2 in /usr/local/lib/python3.10/dist-packages (from spacy<3.8.0,>=3.7.0->es-core-news-sm==3.7.0) (8.2.5)\n",
            "Requirement already satisfied: wasabi<1.2.0,>=0.9.1 in /usr/local/lib/python3.10/dist-packages (from spacy<3.8.0,>=3.7.0->es-core-news-sm==3.7.0) (1.1.3)\n",
            "Requirement already satisfied: srsly<3.0.0,>=2.4.3 in /usr/local/lib/python3.10/dist-packages (from spacy<3.8.0,>=3.7.0->es-core-news-sm==3.7.0) (2.4.8)\n",
            "Requirement already satisfied: catalogue<2.1.0,>=2.0.6 in /usr/local/lib/python3.10/dist-packages (from spacy<3.8.0,>=3.7.0->es-core-news-sm==3.7.0) (2.0.10)\n",
            "Requirement already satisfied: weasel<0.5.0,>=0.1.0 in /usr/local/lib/python3.10/dist-packages (from spacy<3.8.0,>=3.7.0->es-core-news-sm==3.7.0) (0.4.1)\n",
            "Requirement already satisfied: typer<1.0.0,>=0.3.0 in /usr/local/lib/python3.10/dist-packages (from spacy<3.8.0,>=3.7.0->es-core-news-sm==3.7.0) (0.13.0)\n",
            "Requirement already satisfied: tqdm<5.0.0,>=4.38.0 in /usr/local/lib/python3.10/dist-packages (from spacy<3.8.0,>=3.7.0->es-core-news-sm==3.7.0) (4.66.6)\n",
            "Requirement already satisfied: requests<3.0.0,>=2.13.0 in /usr/local/lib/python3.10/dist-packages (from spacy<3.8.0,>=3.7.0->es-core-news-sm==3.7.0) (2.32.3)\n",
            "Requirement already satisfied: pydantic!=1.8,!=1.8.1,<3.0.0,>=1.7.4 in /usr/local/lib/python3.10/dist-packages (from spacy<3.8.0,>=3.7.0->es-core-news-sm==3.7.0) (2.9.2)\n",
            "Requirement already satisfied: jinja2 in /usr/local/lib/python3.10/dist-packages (from spacy<3.8.0,>=3.7.0->es-core-news-sm==3.7.0) (3.1.4)\n",
            "Requirement already satisfied: setuptools in /usr/local/lib/python3.10/dist-packages (from spacy<3.8.0,>=3.7.0->es-core-news-sm==3.7.0) (75.1.0)\n",
            "Requirement already satisfied: packaging>=20.0 in /usr/local/lib/python3.10/dist-packages (from spacy<3.8.0,>=3.7.0->es-core-news-sm==3.7.0) (24.2)\n",
            "Requirement already satisfied: langcodes<4.0.0,>=3.2.0 in /usr/local/lib/python3.10/dist-packages (from spacy<3.8.0,>=3.7.0->es-core-news-sm==3.7.0) (3.4.1)\n",
            "Requirement already satisfied: numpy>=1.19.0 in /usr/local/lib/python3.10/dist-packages (from spacy<3.8.0,>=3.7.0->es-core-news-sm==3.7.0) (1.26.4)\n",
            "Requirement already satisfied: language-data>=1.2 in /usr/local/lib/python3.10/dist-packages (from langcodes<4.0.0,>=3.2.0->spacy<3.8.0,>=3.7.0->es-core-news-sm==3.7.0) (1.2.0)\n",
            "Requirement already satisfied: annotated-types>=0.6.0 in /usr/local/lib/python3.10/dist-packages (from pydantic!=1.8,!=1.8.1,<3.0.0,>=1.7.4->spacy<3.8.0,>=3.7.0->es-core-news-sm==3.7.0) (0.7.0)\n",
            "Requirement already satisfied: pydantic-core==2.23.4 in /usr/local/lib/python3.10/dist-packages (from pydantic!=1.8,!=1.8.1,<3.0.0,>=1.7.4->spacy<3.8.0,>=3.7.0->es-core-news-sm==3.7.0) (2.23.4)\n",
            "Requirement already satisfied: typing-extensions>=4.6.1 in /usr/local/lib/python3.10/dist-packages (from pydantic!=1.8,!=1.8.1,<3.0.0,>=1.7.4->spacy<3.8.0,>=3.7.0->es-core-news-sm==3.7.0) (4.12.2)\n",
            "Requirement already satisfied: charset-normalizer<4,>=2 in /usr/local/lib/python3.10/dist-packages (from requests<3.0.0,>=2.13.0->spacy<3.8.0,>=3.7.0->es-core-news-sm==3.7.0) (3.4.0)\n",
            "Requirement already satisfied: idna<4,>=2.5 in /usr/local/lib/python3.10/dist-packages (from requests<3.0.0,>=2.13.0->spacy<3.8.0,>=3.7.0->es-core-news-sm==3.7.0) (3.10)\n",
            "Requirement already satisfied: urllib3<3,>=1.21.1 in /usr/local/lib/python3.10/dist-packages (from requests<3.0.0,>=2.13.0->spacy<3.8.0,>=3.7.0->es-core-news-sm==3.7.0) (2.2.3)\n",
            "Requirement already satisfied: certifi>=2017.4.17 in /usr/local/lib/python3.10/dist-packages (from requests<3.0.0,>=2.13.0->spacy<3.8.0,>=3.7.0->es-core-news-sm==3.7.0) (2024.8.30)\n",
            "Requirement already satisfied: blis<0.8.0,>=0.7.8 in /usr/local/lib/python3.10/dist-packages (from thinc<8.3.0,>=8.2.2->spacy<3.8.0,>=3.7.0->es-core-news-sm==3.7.0) (0.7.11)\n",
            "Requirement already satisfied: confection<1.0.0,>=0.0.1 in /usr/local/lib/python3.10/dist-packages (from thinc<8.3.0,>=8.2.2->spacy<3.8.0,>=3.7.0->es-core-news-sm==3.7.0) (0.1.5)\n",
            "Requirement already satisfied: click>=8.0.0 in /usr/local/lib/python3.10/dist-packages (from typer<1.0.0,>=0.3.0->spacy<3.8.0,>=3.7.0->es-core-news-sm==3.7.0) (8.1.7)\n",
            "Requirement already satisfied: shellingham>=1.3.0 in /usr/local/lib/python3.10/dist-packages (from typer<1.0.0,>=0.3.0->spacy<3.8.0,>=3.7.0->es-core-news-sm==3.7.0) (1.5.4)\n",
            "Requirement already satisfied: rich>=10.11.0 in /usr/local/lib/python3.10/dist-packages (from typer<1.0.0,>=0.3.0->spacy<3.8.0,>=3.7.0->es-core-news-sm==3.7.0) (13.9.4)\n",
            "Requirement already satisfied: cloudpathlib<1.0.0,>=0.7.0 in /usr/local/lib/python3.10/dist-packages (from weasel<0.5.0,>=0.1.0->spacy<3.8.0,>=3.7.0->es-core-news-sm==3.7.0) (0.20.0)\n",
            "Requirement already satisfied: smart-open<8.0.0,>=5.2.1 in /usr/local/lib/python3.10/dist-packages (from weasel<0.5.0,>=0.1.0->spacy<3.8.0,>=3.7.0->es-core-news-sm==3.7.0) (7.0.5)\n",
            "Requirement already satisfied: MarkupSafe>=2.0 in /usr/local/lib/python3.10/dist-packages (from jinja2->spacy<3.8.0,>=3.7.0->es-core-news-sm==3.7.0) (3.0.2)\n",
            "Requirement already satisfied: marisa-trie>=0.7.7 in /usr/local/lib/python3.10/dist-packages (from language-data>=1.2->langcodes<4.0.0,>=3.2.0->spacy<3.8.0,>=3.7.0->es-core-news-sm==3.7.0) (1.2.1)\n",
            "Requirement already satisfied: markdown-it-py>=2.2.0 in /usr/local/lib/python3.10/dist-packages (from rich>=10.11.0->typer<1.0.0,>=0.3.0->spacy<3.8.0,>=3.7.0->es-core-news-sm==3.7.0) (3.0.0)\n",
            "Requirement already satisfied: pygments<3.0.0,>=2.13.0 in /usr/local/lib/python3.10/dist-packages (from rich>=10.11.0->typer<1.0.0,>=0.3.0->spacy<3.8.0,>=3.7.0->es-core-news-sm==3.7.0) (2.18.0)\n",
            "Requirement already satisfied: wrapt in /usr/local/lib/python3.10/dist-packages (from smart-open<8.0.0,>=5.2.1->weasel<0.5.0,>=0.1.0->spacy<3.8.0,>=3.7.0->es-core-news-sm==3.7.0) (1.16.0)\n",
            "Requirement already satisfied: mdurl~=0.1 in /usr/local/lib/python3.10/dist-packages (from markdown-it-py>=2.2.0->rich>=10.11.0->typer<1.0.0,>=0.3.0->spacy<3.8.0,>=3.7.0->es-core-news-sm==3.7.0) (0.1.2)\n",
            "\u001b[38;5;2m✔ Download and installation successful\u001b[0m\n",
            "You can now load the package via spacy.load('es_core_news_sm')\n",
            "\u001b[38;5;3m⚠ Restart to reload dependencies\u001b[0m\n",
            "If you are in a Jupyter or Colab notebook, you may need to restart Python in\n",
            "order to load all the package's dependencies. You can do this by selecting the\n",
            "'Restart kernel' or 'Restart runtime' option.\n"
          ]
        }
      ]
    },
    {
      "cell_type": "markdown",
      "source": [
        "# MiniReto: Agrupar las letras de las canciones por género"
      ],
      "metadata": {
        "id": "AMXbiQg7m4TV"
      }
    },
    {
      "cell_type": "code",
      "execution_count": 53,
      "metadata": {
        "colab": {
          "base_uri": "https://localhost:8080/"
        },
        "id": "In-13cw2ilkE",
        "outputId": "663212e6-319b-40ee-ca5c-ee7335779877"
      },
      "outputs": [
        {
          "output_type": "stream",
          "name": "stdout",
          "text": [
            "<class 'pandas.core.frame.DataFrame'>\n",
            "RangeIndex: 208 entries, 0 to 207\n",
            "Data columns (total 2 columns):\n",
            " #   Column  Non-Null Count  Dtype \n",
            "---  ------  --------------  ----- \n",
            " 0   lyrics  208 non-null    object\n",
            " 1   label   208 non-null    object\n",
            "dtypes: object(2)\n",
            "memory usage: 3.4+ KB\n"
          ]
        }
      ],
      "source": [
        "url  = \"https://raw.githubusercontent.com/it-ces/Datasets/main/lyrics-label.txt\"\n",
        "df = pd.read_csv(url)\n",
        "df.info()"
      ]
    },
    {
      "cell_type": "markdown",
      "source": [
        "# Pruebas individuales\n",
        "\n",
        "* Bajar texto a  minúscula\n",
        "* Eliminar saltos de líneas (\\n)\n",
        "* Eliminar conectores\n",
        "* Eliminar palabras específicas (bis)"
      ],
      "metadata": {
        "id": "wyZuv8rkn1ev"
      }
    },
    {
      "cell_type": "code",
      "source": [
        "df['lyrics'][85]"
      ],
      "metadata": {
        "colab": {
          "base_uri": "https://localhost:8080/",
          "height": 139
        },
        "id": "leoHEHxnn05f",
        "outputId": "854b257e-cd33-4887-f751-49bbbf3fe507"
      },
      "execution_count": 54,
      "outputs": [
        {
          "output_type": "execute_result",
          "data": {
            "text/plain": [
              "'\\nSiento tu amor frente a mi\\ncomo el marino que regresa al puerto\\ncomo estudiante en su desespero\\ncuando en vacaciones a su pueblo va\\n\\nllega en busca de su amor\\nallí lo espera su novia querida\\nese anhelo tengo yo\\ny así te siento amor de mi vida (bis)\\n\\nSi el caudaloso río, trata de salvar sus aguas\\nbuscando recorridos que sena menos dolorosos (bis)\\n\\nY así lo mas bonito seria la unión de nosotros\\nencontrar con tu amor, la salvación de mi alma (bis)\\n\\nSiento tu amor frente a mi\\ncomo las aves que cruzan los cielos\\nque ya cansadas de su largo vuelo\\nbuscan los árboles para dormir\\n\\nLlevan calor a sus hijos\\npa protegerlos del hambre y del frío\\ny yo buscare a tu lado\\nla protección del amor mío (bis)\\n\\nSi el caudaloso río, trata de salvar sus aguas\\nbuscando recorridos que sena menos dolorosos (bis)\\n\\ny así lo mas bonito seria la unión de nosotros\\nencontrar con tu amor, la salvación de mi alma (bis)\\n'"
            ],
            "application/vnd.google.colaboratory.intrinsic+json": {
              "type": "string"
            }
          },
          "metadata": {},
          "execution_count": 54
        }
      ]
    },
    {
      "cell_type": "markdown",
      "source": [
        "# Pruebas individuales\n",
        "\n",
        "<.lower()>\n",
        "* Bajar texto a  minúscula\n",
        "* Eliminar conectores\n",
        "\n",
        "<re.sub>\n",
        "* Eliminar palabras específicas (bis)\n",
        "* Eliminar saltos de líneas (\\n)"
      ],
      "metadata": {
        "id": "cOAEAOgMu1hb"
      }
    },
    {
      "cell_type": "code",
      "source": [
        "import re\n",
        "import spacy\n",
        "from nltk.stem import WordNetLemmatizer\n",
        "from nltk.corpus import stopwords\n",
        "import nltk"
      ],
      "metadata": {
        "id": "selh5-8IurMk"
      },
      "execution_count": 55,
      "outputs": []
    },
    {
      "cell_type": "code",
      "source": [
        "texto_prueba = \"Liceo\\nComo es estudiante\\nya se  Escalona\\npero de recuerdo te dejó un paseo (bis)\\n\\nQue te habla...\""
      ],
      "metadata": {
        "id": "gu2bX68nppK4"
      },
      "execution_count": 56,
      "outputs": []
    },
    {
      "cell_type": "code",
      "source": [
        "texto_minus = texto_prueba.lower()\n",
        "## Reemplaza un salto de línea\n",
        "# Eliminar los espacios dobles\n",
        "texto_procesado =  re.sub('  ', ' ', re.sub('\\n', ' ', texto_minus))\n",
        "texto_procesado =  re.sub(r\"\\s*\\(bis\\)\",'',texto_procesado) ###\n",
        "texto_procesado"
      ],
      "metadata": {
        "colab": {
          "base_uri": "https://localhost:8080/",
          "height": 35
        },
        "id": "6iLBTnkTuxkA",
        "outputId": "f48a2fb2-4f9d-4f2e-d5cf-f26c0fb16062"
      },
      "execution_count": 57,
      "outputs": [
        {
          "output_type": "execute_result",
          "data": {
            "text/plain": [
              "'liceo como es estudiante ya se escalona pero de recuerdo te dejó un paseo que te habla...'"
            ],
            "application/vnd.google.colaboratory.intrinsic+json": {
              "type": "string"
            }
          },
          "metadata": {},
          "execution_count": 57
        }
      ]
    },
    {
      "cell_type": "code",
      "source": [],
      "metadata": {
        "id": "nMF_5O_I0XjG"
      },
      "execution_count": 57,
      "outputs": []
    },
    {
      "cell_type": "code",
      "source": [
        "def pre_clean(texto_prueba):\n",
        "  texto_minus = texto_prueba.lower()\n",
        "  ## Reemplaza un salto de línea\n",
        "  # Eliminar los espacios dobles\n",
        "  texto_procesado =  re.sub('  ', ' ', re.sub('\\n', ' ', texto_minus))\n",
        "  texto_procesado =  re.sub(r\"\\s*\\(bis\\)\",'',texto_procesado)\n",
        "  return texto_procesado"
      ],
      "metadata": {
        "id": "oZNyRzfQzX-6"
      },
      "execution_count": 58,
      "outputs": []
    },
    {
      "cell_type": "code",
      "source": [
        "nlp = spacy.load('es_core_news_sm')"
      ],
      "metadata": {
        "id": "4gP7FND_1jtb"
      },
      "execution_count": 59,
      "outputs": []
    },
    {
      "cell_type": "code",
      "source": [
        "def clean_text(text):\n",
        "  text = nlp(text)\n",
        "  text = ' '.join([token.lemma_ for token in text if not token.is_stop and not token.is_punct])\n",
        "  return text"
      ],
      "metadata": {
        "id": "YikN_o091M3Z"
      },
      "execution_count": 60,
      "outputs": []
    },
    {
      "cell_type": "code",
      "source": [
        "texto_prueba = \"Liceo\\nComo es estudiante\\nya se  Escalona\\npero de recuerdo te dejó un paseo (bis)\\n\\nQue te habla...\""
      ],
      "metadata": {
        "id": "RcDIxSex17rj"
      },
      "execution_count": 61,
      "outputs": []
    },
    {
      "cell_type": "code",
      "source": [
        "clean_text(texto_prueba)"
      ],
      "metadata": {
        "id": "tw82xDus1xo0",
        "outputId": "84336f57-19dd-44e2-ea4d-b4eecd78bbf9",
        "colab": {
          "base_uri": "https://localhost:8080/",
          "height": 35
        }
      },
      "execution_count": 62,
      "outputs": [
        {
          "output_type": "execute_result",
          "data": {
            "text/plain": [
              "'Liceo \\n estudiante \\n   Escalona \\n recuerdo paseo bis \\n\\n'"
            ],
            "application/vnd.google.colaboratory.intrinsic+json": {
              "type": "string"
            }
          },
          "metadata": {},
          "execution_count": 62
        }
      ]
    },
    {
      "cell_type": "code",
      "source": [
        "clean_text(texto_procesado)"
      ],
      "metadata": {
        "id": "Pe526d262Goz",
        "outputId": "308af6c7-e0f9-4360-dc1a-dd996604f24e",
        "colab": {
          "base_uri": "https://localhost:8080/",
          "height": 35
        }
      },
      "execution_count": 63,
      "outputs": [
        {
          "output_type": "execute_result",
          "data": {
            "text/plain": [
              "'liceo estudiante escalonar recuerdo paseo'"
            ],
            "application/vnd.google.colaboratory.intrinsic+json": {
              "type": "string"
            }
          },
          "metadata": {},
          "execution_count": 63
        }
      ]
    },
    {
      "cell_type": "code",
      "source": [
        "texto2 = \"sus aguas\\nbuscando recorridos que sena menos dolorosos (bis)\\n\\nY así lo mas bonito seria la unión de nosotros\\nencontrar con tu amor, la salvación de mi alma (bis)\\n\"\n",
        "texto2"
      ],
      "metadata": {
        "id": "1rDy-ZgS2pGd",
        "outputId": "b21b541c-d4d0-485c-a299-f1fb5aa9402b",
        "colab": {
          "base_uri": "https://localhost:8080/",
          "height": 52
        }
      },
      "execution_count": 64,
      "outputs": [
        {
          "output_type": "execute_result",
          "data": {
            "text/plain": [
              "'sus aguas\\nbuscando recorridos que sena menos dolorosos (bis)\\n\\nY así lo mas bonito seria la unión de nosotros\\nencontrar con tu amor, la salvación de mi alma (bis)\\n'"
            ],
            "application/vnd.google.colaboratory.intrinsic+json": {
              "type": "string"
            }
          },
          "metadata": {},
          "execution_count": 64
        }
      ]
    },
    {
      "cell_type": "code",
      "source": [
        "texto_temp = pre_clean(texto2)\n",
        "texto_temp"
      ],
      "metadata": {
        "id": "adJxIN8b20RL",
        "outputId": "78385a61-0bca-4a5a-82f2-552d2f4225dc",
        "colab": {
          "base_uri": "https://localhost:8080/",
          "height": 52
        }
      },
      "execution_count": 65,
      "outputs": [
        {
          "output_type": "execute_result",
          "data": {
            "text/plain": [
              "'sus aguas buscando recorridos que sena menos dolorosos y así lo mas bonito seria la unión de nosotros encontrar con tu amor, la salvación de mi alma '"
            ],
            "application/vnd.google.colaboratory.intrinsic+json": {
              "type": "string"
            }
          },
          "metadata": {},
          "execution_count": 65
        }
      ]
    },
    {
      "cell_type": "code",
      "source": [
        "texto_fin = clean_text(texto_temp)\n",
        "texto_fin"
      ],
      "metadata": {
        "id": "5X_FbwO73Rx7",
        "outputId": "47c17bd0-b1ac-4b40-97e6-6174c17d7246",
        "colab": {
          "base_uri": "https://localhost:8080/",
          "height": 35
        }
      },
      "execution_count": 66,
      "outputs": [
        {
          "output_type": "execute_result",
          "data": {
            "text/plain": [
              "'agua buscar recorrido senar doloroso bonito serio unión encontrar amor salvación alma'"
            ],
            "application/vnd.google.colaboratory.intrinsic+json": {
              "type": "string"
            }
          },
          "metadata": {},
          "execution_count": 66
        }
      ]
    },
    {
      "cell_type": "markdown",
      "source": [
        "# Parte 1. Limpieza de la columna lyrics"
      ],
      "metadata": {
        "id": "AIekH3Tl4MgS"
      }
    },
    {
      "cell_type": "code",
      "source": [
        "df['lyrics_clean'] = df['lyrics'].apply(lambda x : clean_text(pre_clean(x)))\n"
      ],
      "metadata": {
        "id": "jiyWa9hu4MGv"
      },
      "execution_count": 67,
      "outputs": []
    },
    {
      "cell_type": "code",
      "source": [
        "df['lyrics'][53]"
      ],
      "metadata": {
        "id": "ZfSybki26eEI",
        "outputId": "3066908b-1fe7-4bdf-ab22-4da387d7b5ad",
        "colab": {
          "base_uri": "https://localhost:8080/",
          "height": 104
        }
      },
      "execution_count": 72,
      "outputs": [
        {
          "output_type": "execute_result",
          "data": {
            "text/plain": [
              "'Anhelos tengo de verte vida mía\\nAnhelos de sentirte cerca de mí\\nAnhelos de besarte noche y día\\n\\nY es que mi amor solo existe para ti\\nTú fuiste la ilusión de un hombre joven\\nSin experiencia en las reglas del amor\\nQue como un tonto cayó bajo tus redes\\nTendidas con engaño y con traición\\n\\nSi los anhelos se cumplen\\nSe curarán las heridas\\nDe un alma triste y sentida\\nQue es por tu causa que sufre\\n\\nSi los anhelos se cumplen\\nSe curarán las heridas\\nDe un alma triste y sentida\\nQue es por tu causa que sufre\\n\\nSi los anhelos se cumplen\\nSe curarán las heridas\\nDe un alma triste y sentida\\nQue es por tu causa que sufre\\n'"
            ],
            "application/vnd.google.colaboratory.intrinsic+json": {
              "type": "string"
            }
          },
          "metadata": {},
          "execution_count": 72
        }
      ]
    },
    {
      "cell_type": "code",
      "source": [
        "df['lyrics_clean'][53]"
      ],
      "metadata": {
        "id": "C604oR2_6q1J",
        "outputId": "32708478-f590-4a08-f7ed-f189c71bbdce",
        "colab": {
          "base_uri": "https://localhost:8080/",
          "height": 70
        }
      },
      "execution_count": 73,
      "outputs": [
        {
          "output_type": "execute_result",
          "data": {
            "text/plain": [
              "'anhelo verte vida anhelo sentirte cerca anhelo besarte noche amor fuistir ilusión hombre joven experiencia regla amor tonto caer red tendido engaño traición anhelo cumplir curar herida alma triste sentido causa sufrir anhelo cumplir curar herida alma triste sentido causa sufrir anhelo cumplir curar herida alma triste sentido causa sufrir'"
            ],
            "application/vnd.google.colaboratory.intrinsic+json": {
              "type": "string"
            }
          },
          "metadata": {},
          "execution_count": 73
        }
      ]
    },
    {
      "cell_type": "code",
      "source": [
        "from sklearn.feature_extraction.text import TfidfVectorizer\n",
        "vectorizer = TfidfVectorizer()\n",
        "X = vectorizer.fit_transform(df['lyrics_clean']).toarray()"
      ],
      "metadata": {
        "id": "sKFIpUxq4Iec"
      },
      "execution_count": 80,
      "outputs": []
    },
    {
      "cell_type": "markdown",
      "source": [
        "Hasta aquí la clase S8_C5\n",
        "\n",
        "Se continua en S9_C1"
      ],
      "metadata": {
        "id": "ZvRTRSmE9S_-"
      }
    },
    {
      "cell_type": "code",
      "source": [],
      "metadata": {
        "id": "maKp7A4C9SfD"
      },
      "execution_count": null,
      "outputs": []
    },
    {
      "cell_type": "code",
      "source": [
        "from sklearn.cluster import KMeans\n",
        "import matplotlib.pyplot as plt"
      ],
      "metadata": {
        "id": "wucwAnrI77Xu"
      },
      "execution_count": 78,
      "outputs": []
    },
    {
      "cell_type": "code",
      "source": [
        "from sklearn.decomposition import PCA\n",
        "# Reduce dimensionaity to three!\n",
        "features = X.copy()\n",
        "pca = PCA(n_components=2, random_state=42)\n",
        "X = pca.fit_transform(X)"
      ],
      "metadata": {
        "id": "GqmLrIYg80w3"
      },
      "execution_count": 83,
      "outputs": []
    },
    {
      "cell_type": "code",
      "source": [
        "km = KMeans(n_clusters = 3,\n",
        "             init='random',\n",
        "             n_init=12,\n",
        "             max_iter=300,\n",
        "             tol = 1e-04,\n",
        "            random_state=0)\n",
        "y_km = km.fit_predict(X)\n",
        "\n",
        "plt.scatter(X[y_km==0,0], X[y_km==0,1], s=40, c='lightgreen', marker='s', edgecolors='black', label = 'cluster1')\n",
        "plt.scatter(X[y_km==1,0], X[y_km==1,1], s=40, c='orange', marker='o', edgecolor='black', label='cluster2')\n",
        "plt.scatter(X[y_km==2,0], X[y_km==2,1], s=40, c='lightblue', marker='o', edgecolor='black', label='acluster3')\n",
        "plt.scatter(km.cluster_centers_[:,0], km.cluster_centers_[:,1], s=100, marker='*', c='red', edgecolor='black', label='centroids')\n",
        "plt.legend(scatterpoints=1)"
      ],
      "metadata": {
        "id": "aEZ3eY5J59VQ",
        "outputId": "1ed96c65-004c-49db-d505-e35390d6f426",
        "colab": {
          "base_uri": "https://localhost:8080/",
          "height": 447
        }
      },
      "execution_count": 88,
      "outputs": [
        {
          "output_type": "execute_result",
          "data": {
            "text/plain": [
              "<matplotlib.legend.Legend at 0x7c942894e8f0>"
            ]
          },
          "metadata": {},
          "execution_count": 88
        },
        {
          "output_type": "display_data",
          "data": {
            "text/plain": [
              "<Figure size 640x480 with 1 Axes>"
            ],
            "image/png": "[encoded data removed]"
          },
          "metadata": {}
        }
      ]
    }
  ]
}