{
  "nbformat": 4,
  "nbformat_minor": 0,
  "metadata": {
    "colab": {
      "provenance": [],
      "authorship_tag": "ABX9TyO+EWecda5bqhaqFfSvTnoq",
      "include_colab_link": true
    },
    "kernelspec": {
      "name": "python3",
      "display_name": "Python 3"
    },
    "language_info": {
      "name": "python"
    }
  },
  "cells": [
    {
      "cell_type": "markdown",
      "metadata": {
        "id": "view-in-github",
        "colab_type": "text"
      },
      "source": [
        "<a href=\"https://colab.research.google.com/github/DeisyData/BIT_IA_Bootcamp/blob/main/S1_C3_NumeroPrimo.ipynb\" target=\"_parent\"><img src=\"https://colab.research.google.com/assets/colab-badge.svg\" alt=\"Open In Colab\"/></a>"
      ]
    },
    {
      "cell_type": "markdown",
      "source": [
        "# Número Primo\n",
        "Diseñar una función **es_primo(numero)** toma un número como entrada y determina si es un número primo.\n",
        "\n",
        "Parámetros: numero (int): El número que queremos verificar si es primo.\n",
        "Return: bool: True si el número es primo, False si no lo es.\n",
        "\n",
        "DEFINICIÓN:\n",
        "* Un número primo es aquel que solo tiene dos divisores: 1 y él mismo.  \n",
        "* Si el número es divisible por cualquier otro número aparte de 1 y él mismo, no es primo.\n",
        "* Los números menores que 2 no son primos\n",
        "\n"
      ],
      "metadata": {
        "id": "5zxR5T_e75UQ"
      }
    },
    {
      "cell_type": "code",
      "source": [
        "def es_primo(numero):\n",
        "   if numero < 2:\n",
        "    return False\n",
        "    # range(inicio, fin, paso)\n",
        "\n",
        "   for i in range(2, numero):\n",
        "        # numero % i\n",
        "        # = 0  es entero entonces es divisible,\n",
        "        # = 1  es decimal no es divisible\n",
        "        if numero % i==0:\n",
        "          return False\n",
        "   return True\n"
      ],
      "metadata": {
        "id": "dnEZzKib8dWH"
      },
      "execution_count": 43,
      "outputs": []
    },
    {
      "cell_type": "code",
      "source": [
        "es_primo(31)"
      ],
      "metadata": {
        "colab": {
          "base_uri": "https://localhost:8080/"
        },
        "id": "Oasp-uzCC2lE",
        "outputId": "33f14353-cd33-4b5e-83a9-f3c50b59b8e0"
      },
      "execution_count": 32,
      "outputs": [
        {
          "output_type": "execute_result",
          "data": {
            "text/plain": [
              "True"
            ]
          },
          "metadata": {},
          "execution_count": 32
        }
      ]
    },
    {
      "cell_type": "code",
      "source": [
        "numero = 32\n",
        "j = 0\n",
        "for i in range(2, numero):\n",
        "        # numero % i\n",
        "        # = 0  es entero entonces es divisible,\n",
        "        # = 1  es decimal no es divisible\n",
        "        resultado = numero /i\n",
        "        if numero % i==0:\n",
        "          j = j+1\n",
        "          print(\"entre al i==0\" +str(j)+\"veces\")\n",
        "          print(\"en la iteración \"+ str(i)+ \"el resultado es \"+str(resultado)+\" es divisible\")\n",
        "        else:\n",
        "          print(\"en la iteración \"+ str(i)+ \"el resultado es \"+str(resultado)+\" no es divisible\")"
      ],
      "metadata": {
        "colab": {
          "base_uri": "https://localhost:8080/"
        },
        "id": "aTohySmcC_zH",
        "outputId": "adc6c577-001e-4ebe-a6e4-0fc6bf7dece0"
      },
      "execution_count": 42,
      "outputs": [
        {
          "output_type": "stream",
          "name": "stdout",
          "text": [
            "entre al i==01veces\n",
            "en la iteración 2el resultado es 16.0 es divisible\n",
            "en la iteración 3el resultado es 10.666666666666666 no es divisible\n",
            "entre al i==02veces\n",
            "en la iteración 4el resultado es 8.0 es divisible\n",
            "en la iteración 5el resultado es 6.4 no es divisible\n",
            "en la iteración 6el resultado es 5.333333333333333 no es divisible\n",
            "en la iteración 7el resultado es 4.571428571428571 no es divisible\n",
            "entre al i==03veces\n",
            "en la iteración 8el resultado es 4.0 es divisible\n",
            "en la iteración 9el resultado es 3.5555555555555554 no es divisible\n",
            "en la iteración 10el resultado es 3.2 no es divisible\n",
            "en la iteración 11el resultado es 2.909090909090909 no es divisible\n",
            "en la iteración 12el resultado es 2.6666666666666665 no es divisible\n",
            "en la iteración 13el resultado es 2.4615384615384617 no es divisible\n",
            "en la iteración 14el resultado es 2.2857142857142856 no es divisible\n",
            "en la iteración 15el resultado es 2.1333333333333333 no es divisible\n",
            "entre al i==04veces\n",
            "en la iteración 16el resultado es 2.0 es divisible\n",
            "en la iteración 17el resultado es 1.8823529411764706 no es divisible\n",
            "en la iteración 18el resultado es 1.7777777777777777 no es divisible\n",
            "en la iteración 19el resultado es 1.6842105263157894 no es divisible\n",
            "en la iteración 20el resultado es 1.6 no es divisible\n",
            "en la iteración 21el resultado es 1.5238095238095237 no es divisible\n",
            "en la iteración 22el resultado es 1.4545454545454546 no es divisible\n",
            "en la iteración 23el resultado es 1.391304347826087 no es divisible\n",
            "en la iteración 24el resultado es 1.3333333333333333 no es divisible\n",
            "en la iteración 25el resultado es 1.28 no es divisible\n",
            "en la iteración 26el resultado es 1.2307692307692308 no es divisible\n",
            "en la iteración 27el resultado es 1.1851851851851851 no es divisible\n",
            "en la iteración 28el resultado es 1.1428571428571428 no es divisible\n",
            "en la iteración 29el resultado es 1.103448275862069 no es divisible\n",
            "en la iteración 30el resultado es 1.0666666666666667 no es divisible\n",
            "en la iteración 31el resultado es 1.032258064516129 no es divisible\n"
          ]
        }
      ]
    },
    {
      "cell_type": "code",
      "source": [
        "10 % 2"
      ],
      "metadata": {
        "colab": {
          "base_uri": "https://localhost:8080/"
        },
        "id": "pw7XSRRZ8JiQ",
        "outputId": "42a81730-0d71-4564-965b-fe726b42f05c"
      },
      "execution_count": 21,
      "outputs": [
        {
          "output_type": "execute_result",
          "data": {
            "text/plain": [
              "0"
            ]
          },
          "metadata": {},
          "execution_count": 21
        }
      ]
    },
    {
      "cell_type": "code",
      "source": [
        "10/2"
      ],
      "metadata": {
        "colab": {
          "base_uri": "https://localhost:8080/"
        },
        "id": "OncTukeIAx8a",
        "outputId": "47465a28-726a-4c3b-c96c-2fbde7c97779"
      },
      "execution_count": 20,
      "outputs": [
        {
          "output_type": "execute_result",
          "data": {
            "text/plain": [
              "5.0"
            ]
          },
          "metadata": {},
          "execution_count": 20
        }
      ]
    }
  ]
}