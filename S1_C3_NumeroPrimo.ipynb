{
  "nbformat": 4,
  "nbformat_minor": 0,
  "metadata": {
    "colab": {
      "provenance": [],
      "authorship_tag": "ABX9TyNMarmbaUtSq58r/Puf7H3d",
      "include_colab_link": true
    },
    "kernelspec": {
      "name": "python3",
      "display_name": "Python 3"
    },
    "language_info": {
      "name": "python"
    }
  },
  "cells": [
    {
      "cell_type": "markdown",
      "metadata": {
        "id": "view-in-github",
        "colab_type": "text"
      },
      "source": [
        "<a href=\"https://colab.research.google.com/github/DeisyData/BIT_IA_Bootcamp/blob/main/S1_C3_NumeroPrimo.ipynb\" target=\"_parent\"><img src=\"https://colab.research.google.com/assets/colab-badge.svg\" alt=\"Open In Colab\"/></a>"
      ]
    },
    {
      "cell_type": "markdown",
      "source": [
        "# Número Primo\n",
        "Diseñar una función **es_primo(numero)** toma un número como entrada y determina si es un número primo.\n",
        "\n",
        "Parámetros: numero (int): El número que queremos verificar si es primo.\n",
        "Return: bool: True si el número es primo, False si no lo es.\n",
        "\n",
        "DEFINICIÓN:\n",
        "* Un número primo es aquel que solo tiene dos divisores: 1 y él mismo.  \n",
        "* Si el número es divisible por cualquier otro número aparte de 1 y él mismo, no es primo.\n",
        "* Los números menores que 2 no son primos\n",
        "\n"
      ],
      "metadata": {
        "id": "5zxR5T_e75UQ"
      }
    },
    {
      "cell_type": "code",
      "source": [
        "def es_primo(numero):\n",
        "   if numero < 2:\n",
        "    return False\n",
        "    # range(inicio, fin, paso)\n",
        "\n",
        "   for i in range(2, int(numero**0.5)+1):\n",
        "        # numero % i\n",
        "        # = 0  es entero entonces es divisible,\n",
        "        # = 1  es decimal no es divisible\n",
        "        if numero % i==0:\n",
        "          return False\n",
        "   return True"
      ],
      "metadata": {
        "id": "dnEZzKib8dWH"
      },
      "execution_count": 50,
      "outputs": []
    },
    {
      "cell_type": "code",
      "source": [
        "## no borrar es para mostrar el mensaje de error por defecto en python\n",
        "numero = int(input(\"Ingrese un número: \"))"
      ],
      "metadata": {
        "colab": {
          "base_uri": "https://localhost:8080/",
          "height": 176
        },
        "id": "hm0phyquK871",
        "outputId": "9d995cfa-5b45-466e-e4f5-bb65a84c9aaa"
      },
      "execution_count": 74,
      "outputs": [
        {
          "name": "stdout",
          "output_type": "stream",
          "text": [
            "Ingrese un número: Deisy\n"
          ]
        },
        {
          "output_type": "error",
          "ename": "ValueError",
          "evalue": "invalid literal for int() with base 10: 'Deisy'",
          "traceback": [
            "\u001b[0;31m---------------------------------------------------------------------------\u001b[0m",
            "\u001b[0;31mValueError\u001b[0m                                Traceback (most recent call last)",
            "\u001b[0;32m<ipython-input-74-3911178fa7d7>\u001b[0m in \u001b[0;36m<cell line: 2>\u001b[0;34m()\u001b[0m\n\u001b[1;32m      1\u001b[0m \u001b[0;31m## no borrar es para mostrar el mensaje de error por defecto en python\u001b[0m\u001b[0;34m\u001b[0m\u001b[0;34m\u001b[0m\u001b[0m\n\u001b[0;32m----> 2\u001b[0;31m \u001b[0mnumero\u001b[0m \u001b[0;34m=\u001b[0m \u001b[0mint\u001b[0m\u001b[0;34m(\u001b[0m\u001b[0minput\u001b[0m\u001b[0;34m(\u001b[0m\u001b[0;34m\"Ingrese un número: \"\u001b[0m\u001b[0;34m)\u001b[0m\u001b[0;34m)\u001b[0m\u001b[0;34m\u001b[0m\u001b[0;34m\u001b[0m\u001b[0m\n\u001b[0m",
            "\u001b[0;31mValueError\u001b[0m: invalid literal for int() with base 10: 'Deisy'"
          ]
        }
      ]
    },
    {
      "cell_type": "code",
      "source": [
        "try:\n",
        "  numero = int(input(\"Ingrese un número: \"))\n",
        "\n",
        "\n",
        "except ValueError:\n",
        "  # mensaje progaramado\n",
        "  print(\"El valor ingresado no es un número entero.\")"
      ],
      "metadata": {
        "colab": {
          "base_uri": "https://localhost:8080/"
        },
        "id": "5B8lFfd9M5m2",
        "outputId": "7328eaec-5519-4f7e-af1f-d6d510344f4c"
      },
      "execution_count": 73,
      "outputs": [
        {
          "output_type": "stream",
          "name": "stdout",
          "text": [
            "Ingrese un número: Deisy\n",
            "El valor ingresado no es un número entero.\n"
          ]
        }
      ]
    },
    {
      "cell_type": "markdown",
      "source": [
        "Main. Del número primo"
      ],
      "metadata": {
        "id": "LCR10dhpM6JE"
      }
    },
    {
      "cell_type": "code",
      "source": [
        "try:\n",
        "  numero = int(input(\"Ingrese un número: \"))\n",
        "  P = es_primo(numero)\n",
        "  if P == True:\n",
        "    print(f\"El número {numero} es primo\")\n",
        "  else:\n",
        "    print(f\"El número {numero} NO es primo\")\n",
        "except ValueError:\n",
        "  # mensaje progaramado\n",
        "  print(\"El valor ingresado no es un número entero.\")"
      ],
      "metadata": {
        "colab": {
          "base_uri": "https://localhost:8080/"
        },
        "id": "Oasp-uzCC2lE",
        "outputId": "a18c6144-92fb-400c-e90f-3a3699a01ca5"
      },
      "execution_count": 72,
      "outputs": [
        {
          "output_type": "stream",
          "name": "stdout",
          "text": [
            "Ingrese un número: 10\n",
            "El número 10 NO es primo\n"
          ]
        }
      ]
    }
  ]
}