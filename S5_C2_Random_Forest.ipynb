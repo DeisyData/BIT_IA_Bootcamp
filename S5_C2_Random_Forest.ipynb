{
  "cells": [
    {
      "cell_type": "markdown",
      "metadata": {
        "id": "view-in-github",
        "colab_type": "text"
      },
      "source": [
        "<a href=\"https://colab.research.google.com/github/DeisyData/BIT_IA_Bootcamp/blob/main/S5_C2_Random_Forest.ipynb\" target=\"_parent\"><img src=\"https://colab.research.google.com/assets/colab-badge.svg\" alt=\"Open In Colab\"/></a>"
      ]
    },
    {
      "cell_type": "markdown",
      "id": "a53c52b4",
      "metadata": {
        "id": "a53c52b4"
      },
      "source": [
        "# Laboratorio de Random Forest para Predicción de Riesgo de Ataque Cardíaco"
      ]
    },
    {
      "cell_type": "markdown",
      "id": "3d3a161d",
      "metadata": {
        "id": "3d3a161d"
      },
      "source": [
        "\n",
        "Este laboratorio guiará el uso del algoritmo de Random Forest para predecir el riesgo de ataque cardíaco\n",
        "usando características como la edad, el peso y el tabaquismo. Exploraremos los datos, entrenaremos un modelo\n",
        "y evaluaremos su rendimiento. También realizaremos ajustes de hiperparámetros para optimizar el modelo.\n"
      ]
    },
    {
      "cell_type": "code",
      "execution_count": null,
      "id": "bdafde1e",
      "metadata": {
        "id": "bdafde1e"
      },
      "outputs": [],
      "source": [
        "import pandas as pd\n",
        "import numpy as np\n",
        "from sklearn.model_selection import train_test_split\n",
        "from sklearn.ensemble import RandomForestClassifier\n",
        "from sklearn.metrics import accuracy_score, precision_score, recall_score, classification_report\n",
        "from sklearn.model_selection import GridSearchCV\n"
      ]
    },
    {
      "cell_type": "code",
      "execution_count": null,
      "id": "c879346d",
      "metadata": {
        "id": "c879346d"
      },
      "outputs": [],
      "source": [
        "# Cargar el dataset\n",
        "data_path = '/mnt/data/heart_attack_risk_dataset.csv'\n",
        "data = pd.read_csv(data_path)\n",
        "# Mostrar las primeras filas del dataset\n",
        "data.head()"
      ]
    },
    {
      "cell_type": "code",
      "execution_count": null,
      "id": "4dcc6474",
      "metadata": {
        "id": "4dcc6474"
      },
      "outputs": [],
      "source": [
        "\n",
        "# Información general del dataset\n",
        "data.info()\n",
        "\n",
        "# Distribución de la variable objetivo 'Risk'\n",
        "data['Risk'].value_counts()\n"
      ]
    },
    {
      "cell_type": "code",
      "execution_count": null,
      "id": "e15092ea",
      "metadata": {
        "id": "e15092ea"
      },
      "outputs": [],
      "source": [
        "\n",
        "# Dividir las características (X) y la variable objetivo (y)\n",
        "X = data[['Age', 'Weight', 'Smoker']]\n",
        "y = data['Risk']\n",
        "\n",
        "# Dividir en conjuntos de entrenamiento y prueba\n",
        "X_train, X_test, y_train, y_test = train_test_split(X, y, test_size=0.2, random_state=42)\n"
      ]
    },
    {
      "cell_type": "code",
      "execution_count": null,
      "id": "2c632e4b",
      "metadata": {
        "id": "2c632e4b"
      },
      "outputs": [],
      "source": [
        "\n",
        "# Inicializar y entrenar el modelo Random Forest\n",
        "rf = RandomForestClassifier(n_estimators=100, random_state=42)\n",
        "rf.fit(X_train, y_train)\n"
      ]
    },
    {
      "cell_type": "code",
      "execution_count": null,
      "id": "7384f2b1",
      "metadata": {
        "id": "7384f2b1"
      },
      "outputs": [],
      "source": [
        "\n",
        "# Realizar predicciones en el conjunto de prueba\n",
        "y_pred = rf.predict(X_test)\n",
        "\n",
        "# Evaluación del modelo\n",
        "print(\"Exactitud:\", accuracy_score(y_test, y_pred))\n",
        "print(\"Precisión:\", precision_score(y_test, y_pred))\n",
        "print(\"Sensibilidad:\", recall_score(y_test, y_pred))\n",
        "print(\"\\nReporte de Clasificación:\\n\", classification_report(y_test, y_pred))\n"
      ]
    },
    {
      "cell_type": "code",
      "execution_count": null,
      "id": "4b8e633b",
      "metadata": {
        "id": "4b8e633b"
      },
      "outputs": [],
      "source": [
        "\n",
        "# Importancia de las características\n",
        "importances = rf.feature_importances_\n",
        "feature_names = X.columns\n",
        "feature_importance_df = pd.DataFrame({'Característica': feature_names, 'Importancia': importances})\n",
        "feature_importance_df.sort_values(by='Importancia', ascending=False, inplace=True)\n",
        "feature_importance_df\n"
      ]
    },
    {
      "cell_type": "code",
      "execution_count": null,
      "id": "5c1f66b6",
      "metadata": {
        "id": "5c1f66b6"
      },
      "outputs": [],
      "source": [
        "\n",
        "# Ajuste de hiperparámetros usando GridSearchCV\n",
        "param_grid = {\n",
        "    'n_estimators': [50, 100, 200],\n",
        "    'max_depth': [None, 10, 20, 30],\n",
        "    'min_samples_split': [2, 5, 10]\n",
        "}\n",
        "grid_search = GridSearchCV(estimator=rf, param_grid=param_grid, cv=3, scoring='accuracy')\n",
        "grid_search.fit(X_train, y_train)\n",
        "\n",
        "# Mejor combinación de hiperparámetros\n",
        "print(\"Mejores hiperparámetros:\", grid_search.best_params_)\n",
        "\n",
        "# Evaluación del modelo ajustado\n",
        "best_rf = grid_search.best_estimator_\n",
        "y_pred_best = best_rf.predict(X_test)\n",
        "print(\"\\nExactitud del modelo ajustado:\", accuracy_score(y_test, y_pred_best))\n"
      ]
    },
    {
      "cell_type": "markdown",
      "id": "93ce12fe",
      "metadata": {
        "id": "93ce12fe"
      },
      "source": [
        "\n",
        "### Conclusión\n",
        "En este laboratorio, hemos entrenado un modelo de Random Forest para predecir el riesgo de ataque cardíaco.\n",
        "Hemos explorado la importancia de cada característica y ajustado el modelo para mejorar su rendimiento.\n",
        "Los resultados y el análisis de importancia de características ayudan a entender qué factores contribuyen más\n",
        "a las predicciones del modelo.\n"
      ]
    }
  ],
  "metadata": {
    "colab": {
      "provenance": [],
      "include_colab_link": true
    }
  },
  "nbformat": 4,
  "nbformat_minor": 5
}