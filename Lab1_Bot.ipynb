{
  "nbformat": 4,
  "nbformat_minor": 0,
  "metadata": {
    "colab": {
      "provenance": [],
      "authorship_tag": "ABX9TyNw65yiAKfGEZRptsoIQXPJ",
      "include_colab_link": true
    },
    "kernelspec": {
      "name": "python3",
      "display_name": "Python 3"
    },
    "language_info": {
      "name": "python"
    }
  },
  "cells": [
    {
      "cell_type": "markdown",
      "metadata": {
        "id": "view-in-github",
        "colab_type": "text"
      },
      "source": [
        "<a href=\"https://colab.research.google.com/github/DeisyData/BIT_IA_Bootcamp/blob/main/Lab1_Bot.ipynb\" target=\"_parent\"><img src=\"https://colab.research.google.com/assets/colab-badge.svg\" alt=\"Open In Colab\"/></a>"
      ]
    },
    {
      "cell_type": "code",
      "execution_count": 1,
      "metadata": {
        "colab": {
          "base_uri": "https://localhost:8080/"
        },
        "id": "5Zgp-NtCw45j",
        "outputId": "67c597da-b001-465d-9abc-b6fbeecf1dd9"
      },
      "outputs": [
        {
          "name": "stdout",
          "output_type": "stream",
          "text": [
            "👋 ¡Hola! Soy tu asesor financiero personal.\n",
            "Por favor, selecciona tu meta financiera principal:\n",
            "1. 🔐 Seguridad financiera\n",
            "2. 💳 Pago de deudas\n",
            "3. 💰 Ahorro acumulativo\n",
            "4. 🎓 Inversión en educación\n",
            "Ingresa el número de tu elección: 2\n",
            "\n",
            "💳 Has elegido: Pago de deudas\n",
            "¿Cuántas deudas activas tienes actualmente?: 4\n",
            "Ingrese el monto de la deuda #1 en COP: 200000\n",
            "Ingrese el monto de la deuda #2 en COP: 5300000\n",
            "Ingrese el monto de la deuda #3 en COP: 8000000\n",
            "Ingrese el monto de la deuda #4 en COP: 3500000\n",
            "📊 Tu deuda total actual es: COP 17,000,000\n",
            "¿Deseas que te sugiera una estrategia de pago (avalancha o bola de nieve)? (sí/no): si\n"
          ]
        }
      ],
      "source": [
        "def menu_principal():\n",
        "    print(\"👋 ¡Hola! Soy tu asesor financiero personal.\")\n",
        "    print(\"Por favor, selecciona tu meta financiera principal:\")\n",
        "    print(\"1. 🔐 Seguridad financiera\")\n",
        "    print(\"2. 💳 Pago de deudas\")\n",
        "    print(\"3. 💰 Ahorro acumulativo\")\n",
        "    print(\"4. 🎓 Inversión en educación\")\n",
        "\n",
        "    opcion = input(\"Ingresa el número de tu elección: \")\n",
        "\n",
        "    if opcion == \"1\":\n",
        "        seguridad_financiera()\n",
        "    elif opcion == \"2\":\n",
        "        pago_de_deudas()\n",
        "    elif opcion == \"3\":\n",
        "        ahorro_acumulativo()\n",
        "    elif opcion == \"4\":\n",
        "        inversion_educacion()\n",
        "    else:\n",
        "        print(\"❌ Opción no válida. Intenta nuevamente.\\n\")\n",
        "        menu_principal()\n",
        "\n",
        "def seguridad_financiera():\n",
        "    print(\"\\n🔐 Has elegido: Seguridad financiera\")\n",
        "    print(\"Esto implica crear un fondo de emergencia y proteger tus ingresos.\")\n",
        "    fondo = input(\"¿Te gustaría calcular cuánto deberías tener ahorrado para emergencias? (sí/no): \")\n",
        "    if fondo.lower() == \"sí\":\n",
        "        ingreso = float(input(\"Ingresa tu ingreso mensual promedio en COP: \"))\n",
        "        meses = int(input(\"¿Para cuántos meses quieres cubrir emergencias? (Ej: 3): \"))\n",
        "        total = ingreso * meses\n",
        "        print(f\"✅ Deberías tener al menos COP {total:,.0f} como fondo de emergencia.\\n\")\n",
        "\n",
        "def pago_de_deudas():\n",
        "    print(\"\\n💳 Has elegido: Pago de deudas\")\n",
        "    deudas = int(input(\"¿Cuántas deudas activas tienes actualmente?: \"))\n",
        "    total = 0\n",
        "    for i in range(deudas):\n",
        "        monto = float(input(f\"Ingrese el monto de la deuda #{i+1} en COP: \"))\n",
        "        total += monto\n",
        "    print(f\"📊 Tu deuda total actual es: COP {total:,.0f}\")\n",
        "    estrategia = input(\"¿Deseas que te sugiera una estrategia de pago (avalancha o bola de nieve)? (sí/no): \")\n",
        "    if estrategia.lower() == \"sí\":\n",
        "        print(\"👉 Estrategia sugerida: comienza pagando la deuda con mayor tasa de interés o menor monto.\\n\")\n",
        "\n",
        "def ahorro_acumulativo():\n",
        "    print(\"\\n💰 Has elegido: Ahorro acumulativo\")\n",
        "    objetivo = input(\"¿Cuál es tu objetivo de ahorro? (Ej: carro, viaje, casa): \")\n",
        "    meta = float(input(\"¿Cuánto necesitas ahorrar en total? (COP): \"))\n",
        "    plazo = int(input(\"¿En cuántos meses deseas lograrlo?: \"))\n",
        "    mensual = meta / plazo\n",
        "    print(f\"📆 Para alcanzar tu meta de {objetivo}, debes ahorrar COP {mensual:,.0f} al mes.\\n\")\n",
        "\n",
        "def inversion_educacion():\n",
        "    print(\"\\n🎓 Has elegido: Inversión en educación\")\n",
        "    destino = input(\"¿Estás pensando en estudiar tú o apoyar a alguien más?: \")\n",
        "    presupuesto = float(input(\"¿Cuál es tu presupuesto estimado para este objetivo? (COP): \"))\n",
        "    print(f\"🎯 Muy bien, invertir COP {presupuesto:,.0f} en educación es una excelente decisión.\\n\")\n",
        "\n",
        "# Ejecutar el bot\n",
        "menu_principal()\n"
      ]
    }
  ]
}