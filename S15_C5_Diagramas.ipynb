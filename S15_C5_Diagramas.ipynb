{
  "nbformat": 4,
  "nbformat_minor": 0,
  "metadata": {
    "colab": {
      "provenance": [],
      "authorship_tag": "ABX9TyOGuDsTQXAnAFzSd5ZR+i2J",
      "include_colab_link": true
    },
    "kernelspec": {
      "name": "python3",
      "display_name": "Python 3"
    },
    "language_info": {
      "name": "python"
    }
  },
  "cells": [
    {
      "cell_type": "markdown",
      "metadata": {
        "id": "view-in-github",
        "colab_type": "text"
      },
      "source": [
        "<a href=\"https://colab.research.google.com/github/DeisyData/BIT_IA_Bootcamp/blob/main/S15_C5_Diagramas.ipynb\" target=\"_parent\"><img src=\"https://colab.research.google.com/assets/colab-badge.svg\" alt=\"Open In Colab\"/></a>"
      ]
    },
    {
      "cell_type": "code",
      "execution_count": 1,
      "metadata": {
        "colab": {
          "base_uri": "https://localhost:8080/"
        },
        "id": "gF-4mME1lXl8",
        "outputId": "724b99cf-9336-493e-dde6-4e69b9b6dca8"
      },
      "outputs": [
        {
          "output_type": "stream",
          "name": "stdout",
          "text": [
            "Requirement already satisfied: diagrams in /usr/local/lib/python3.11/dist-packages (0.24.1)\n",
            "Requirement already satisfied: graphviz<0.21.0,>=0.13.2 in /usr/local/lib/python3.11/dist-packages (from diagrams) (0.20.3)\n",
            "Requirement already satisfied: jinja2<4.0,>=2.10 in /usr/local/lib/python3.11/dist-packages (from diagrams) (3.1.5)\n",
            "Requirement already satisfied: MarkupSafe>=2.0 in /usr/local/lib/python3.11/dist-packages (from jinja2<4.0,>=2.10->diagrams) (3.0.2)\n"
          ]
        }
      ],
      "source": [
        "!pip install diagrams"
      ]
    },
    {
      "cell_type": "code",
      "source": [
        "!pip install Sagemaker"
      ],
      "metadata": {
        "colab": {
          "base_uri": "https://localhost:8080/"
        },
        "id": "AyQAFUzvlmLk",
        "outputId": "b021bcc5-2ce3-47b4-f830-9ae6e547ce81"
      },
      "execution_count": 2,
      "outputs": [
        {
          "output_type": "stream",
          "name": "stdout",
          "text": [
            "Requirement already satisfied: Sagemaker in /usr/local/lib/python3.11/dist-packages (2.237.3)\n",
            "Requirement already satisfied: attrs<24,>=23.1.0 in /usr/local/lib/python3.11/dist-packages (from Sagemaker) (23.2.0)\n",
            "Requirement already satisfied: boto3<2.0,>=1.35.75 in /usr/local/lib/python3.11/dist-packages (from Sagemaker) (1.36.6)\n",
            "Requirement already satisfied: cloudpickle>=2.2.1 in /usr/local/lib/python3.11/dist-packages (from Sagemaker) (3.1.1)\n",
            "Requirement already satisfied: docker in /usr/local/lib/python3.11/dist-packages (from Sagemaker) (7.1.0)\n",
            "Requirement already satisfied: fastapi in /usr/local/lib/python3.11/dist-packages (from Sagemaker) (0.115.7)\n",
            "Requirement already satisfied: google-pasta in /usr/local/lib/python3.11/dist-packages (from Sagemaker) (0.2.0)\n",
            "Requirement already satisfied: importlib-metadata<7.0,>=1.4.0 in /usr/local/lib/python3.11/dist-packages (from Sagemaker) (6.11.0)\n",
            "Requirement already satisfied: jsonschema in /usr/local/lib/python3.11/dist-packages (from Sagemaker) (4.23.0)\n",
            "Requirement already satisfied: numpy<2.0,>=1.9.0 in /usr/local/lib/python3.11/dist-packages (from Sagemaker) (1.26.4)\n",
            "Requirement already satisfied: omegaconf<2.3,>=2.2 in /usr/local/lib/python3.11/dist-packages (from Sagemaker) (2.2.3)\n",
            "Requirement already satisfied: packaging>=20.0 in /usr/local/lib/python3.11/dist-packages (from Sagemaker) (24.2)\n",
            "Requirement already satisfied: pandas in /usr/local/lib/python3.11/dist-packages (from Sagemaker) (2.2.2)\n",
            "Requirement already satisfied: pathos in /usr/local/lib/python3.11/dist-packages (from Sagemaker) (0.3.3)\n",
            "Requirement already satisfied: platformdirs in /usr/local/lib/python3.11/dist-packages (from Sagemaker) (4.3.6)\n",
            "Requirement already satisfied: protobuf<6.0,>=3.12 in /usr/local/lib/python3.11/dist-packages (from Sagemaker) (4.25.5)\n",
            "Requirement already satisfied: psutil in /usr/local/lib/python3.11/dist-packages (from Sagemaker) (5.9.5)\n",
            "Requirement already satisfied: pyyaml~=6.0 in /usr/local/lib/python3.11/dist-packages (from Sagemaker) (6.0.2)\n",
            "Requirement already satisfied: requests in /usr/local/lib/python3.11/dist-packages (from Sagemaker) (2.32.3)\n",
            "Requirement already satisfied: sagemaker-core<2.0.0,>=1.0.17 in /usr/local/lib/python3.11/dist-packages (from Sagemaker) (1.0.19)\n",
            "Requirement already satisfied: schema in /usr/local/lib/python3.11/dist-packages (from Sagemaker) (0.7.7)\n",
            "Requirement already satisfied: smdebug-rulesconfig==1.0.1 in /usr/local/lib/python3.11/dist-packages (from Sagemaker) (1.0.1)\n",
            "Requirement already satisfied: tblib<4,>=1.7.0 in /usr/local/lib/python3.11/dist-packages (from Sagemaker) (3.0.0)\n",
            "Requirement already satisfied: tqdm in /usr/local/lib/python3.11/dist-packages (from Sagemaker) (4.67.1)\n",
            "Requirement already satisfied: urllib3<3.0.0,>=1.26.8 in /usr/local/lib/python3.11/dist-packages (from Sagemaker) (2.3.0)\n",
            "Requirement already satisfied: uvicorn in /usr/local/lib/python3.11/dist-packages (from Sagemaker) (0.34.0)\n",
            "Requirement already satisfied: botocore<1.37.0,>=1.36.6 in /usr/local/lib/python3.11/dist-packages (from boto3<2.0,>=1.35.75->Sagemaker) (1.36.6)\n",
            "Requirement already satisfied: jmespath<2.0.0,>=0.7.1 in /usr/local/lib/python3.11/dist-packages (from boto3<2.0,>=1.35.75->Sagemaker) (1.0.1)\n",
            "Requirement already satisfied: s3transfer<0.12.0,>=0.11.0 in /usr/local/lib/python3.11/dist-packages (from boto3<2.0,>=1.35.75->Sagemaker) (0.11.2)\n",
            "Requirement already satisfied: zipp>=0.5 in /usr/local/lib/python3.11/dist-packages (from importlib-metadata<7.0,>=1.4.0->Sagemaker) (3.21.0)\n",
            "Requirement already satisfied: antlr4-python3-runtime==4.9.* in /usr/local/lib/python3.11/dist-packages (from omegaconf<2.3,>=2.2->Sagemaker) (4.9.3)\n",
            "Requirement already satisfied: pydantic<3.0.0,>=2.0.0 in /usr/local/lib/python3.11/dist-packages (from sagemaker-core<2.0.0,>=1.0.17->Sagemaker) (2.10.5)\n",
            "Requirement already satisfied: rich<14.0.0,>=13.0.0 in /usr/local/lib/python3.11/dist-packages (from sagemaker-core<2.0.0,>=1.0.17->Sagemaker) (13.9.4)\n",
            "Requirement already satisfied: mock<5.0,>4.0 in /usr/local/lib/python3.11/dist-packages (from sagemaker-core<2.0.0,>=1.0.17->Sagemaker) (4.0.3)\n",
            "Requirement already satisfied: jsonschema-specifications>=2023.03.6 in /usr/local/lib/python3.11/dist-packages (from jsonschema->Sagemaker) (2024.10.1)\n",
            "Requirement already satisfied: referencing>=0.28.4 in /usr/local/lib/python3.11/dist-packages (from jsonschema->Sagemaker) (0.36.1)\n",
            "Requirement already satisfied: rpds-py>=0.7.1 in /usr/local/lib/python3.11/dist-packages (from jsonschema->Sagemaker) (0.22.3)\n",
            "Requirement already satisfied: charset-normalizer<4,>=2 in /usr/local/lib/python3.11/dist-packages (from requests->Sagemaker) (3.4.1)\n",
            "Requirement already satisfied: idna<4,>=2.5 in /usr/local/lib/python3.11/dist-packages (from requests->Sagemaker) (3.10)\n",
            "Requirement already satisfied: certifi>=2017.4.17 in /usr/local/lib/python3.11/dist-packages (from requests->Sagemaker) (2024.12.14)\n",
            "Requirement already satisfied: starlette<0.46.0,>=0.40.0 in /usr/local/lib/python3.11/dist-packages (from fastapi->Sagemaker) (0.45.3)\n",
            "Requirement already satisfied: typing-extensions>=4.8.0 in /usr/local/lib/python3.11/dist-packages (from fastapi->Sagemaker) (4.12.2)\n",
            "Requirement already satisfied: six in /usr/local/lib/python3.11/dist-packages (from google-pasta->Sagemaker) (1.17.0)\n",
            "Requirement already satisfied: python-dateutil>=2.8.2 in /usr/local/lib/python3.11/dist-packages (from pandas->Sagemaker) (2.8.2)\n",
            "Requirement already satisfied: pytz>=2020.1 in /usr/local/lib/python3.11/dist-packages (from pandas->Sagemaker) (2024.2)\n",
            "Requirement already satisfied: tzdata>=2022.7 in /usr/local/lib/python3.11/dist-packages (from pandas->Sagemaker) (2025.1)\n",
            "Requirement already satisfied: ppft>=1.7.6.9 in /usr/local/lib/python3.11/dist-packages (from pathos->Sagemaker) (1.7.6.9)\n",
            "Requirement already satisfied: dill>=0.3.9 in /usr/local/lib/python3.11/dist-packages (from pathos->Sagemaker) (0.3.9)\n",
            "Requirement already satisfied: pox>=0.3.5 in /usr/local/lib/python3.11/dist-packages (from pathos->Sagemaker) (0.3.5)\n",
            "Requirement already satisfied: multiprocess>=0.70.17 in /usr/local/lib/python3.11/dist-packages (from pathos->Sagemaker) (0.70.17)\n",
            "Requirement already satisfied: click>=7.0 in /usr/local/lib/python3.11/dist-packages (from uvicorn->Sagemaker) (8.1.8)\n",
            "Requirement already satisfied: h11>=0.8 in /usr/local/lib/python3.11/dist-packages (from uvicorn->Sagemaker) (0.14.0)\n",
            "Requirement already satisfied: annotated-types>=0.6.0 in /usr/local/lib/python3.11/dist-packages (from pydantic<3.0.0,>=2.0.0->sagemaker-core<2.0.0,>=1.0.17->Sagemaker) (0.7.0)\n",
            "Requirement already satisfied: pydantic-core==2.27.2 in /usr/local/lib/python3.11/dist-packages (from pydantic<3.0.0,>=2.0.0->sagemaker-core<2.0.0,>=1.0.17->Sagemaker) (2.27.2)\n",
            "Requirement already satisfied: markdown-it-py>=2.2.0 in /usr/local/lib/python3.11/dist-packages (from rich<14.0.0,>=13.0.0->sagemaker-core<2.0.0,>=1.0.17->Sagemaker) (3.0.0)\n",
            "Requirement already satisfied: pygments<3.0.0,>=2.13.0 in /usr/local/lib/python3.11/dist-packages (from rich<14.0.0,>=13.0.0->sagemaker-core<2.0.0,>=1.0.17->Sagemaker) (2.18.0)\n",
            "Requirement already satisfied: anyio<5,>=3.6.2 in /usr/local/lib/python3.11/dist-packages (from starlette<0.46.0,>=0.40.0->fastapi->Sagemaker) (3.7.1)\n",
            "Requirement already satisfied: sniffio>=1.1 in /usr/local/lib/python3.11/dist-packages (from anyio<5,>=3.6.2->starlette<0.46.0,>=0.40.0->fastapi->Sagemaker) (1.3.1)\n",
            "Requirement already satisfied: mdurl~=0.1 in /usr/local/lib/python3.11/dist-packages (from markdown-it-py>=2.2.0->rich<14.0.0,>=13.0.0->sagemaker-core<2.0.0,>=1.0.17->Sagemaker) (0.1.2)\n"
          ]
        }
      ]
    },
    {
      "cell_type": "code",
      "source": [
        "from diagrams import Diagram, Edge, Cluster\n",
        "from diagrams.custom import Custom\n",
        "from diagrams.programming.language import Python\n",
        "from diagrams.aws.storage import S3\n",
        "from diagrams.aws.ml import SagemakerTrainingJob, SagemakerModel"
      ],
      "metadata": {
        "id": "-Gw2XR0vlqQL"
      },
      "execution_count": 4,
      "outputs": []
    },
    {
      "cell_type": "markdown",
      "source": [
        "## Paso 1. Lista de los elementos\n",
        "\n",
        "\n",
        "1.    Archivos  ( files)\n",
        "*  Datos de entrenamiento: train_s3.csv\n",
        "*  Datos de prueba: test_s3.csv\n",
        "*  Lógica del entrenamiento: script3.py\n",
        "\n"
      ],
      "metadata": {
        "id": "SIyAJKK3potu"
      }
    },
    {
      "cell_type": "markdown",
      "source": [
        "![csvFile.png](data:image/png;base64,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)![jupyter.png](data:image/png;base64,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)![endPoint.jpeg](data:image/jpeg;base64,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)"
      ],
      "metadata": {
        "id": "bJna8tQLrnxt"
      }
    },
    {
      "cell_type": "code",
      "source": [
        "with Diagram(\"AWS: Training Workflow\", show=False):\n",
        "  #Archivos\n",
        "  script = Python(\"script3.py\")\n",
        "  icon_file_path = \"csvFile.png\"\n",
        "  train_data = Custom(\"train_s3.csv\", icon_file_path)\n",
        "  test_data = Custom(\"test_s3.csv\", icon_file_path)\n",
        "\n",
        "\n",
        "  #aplicaciones\n",
        "  icon_file_path_2 = \"jupyter.png\"\n",
        "  app = Custom(\"S15_C2_AWS.ipynb\", icon_file_path_2)\n",
        "\n",
        "  #Storage S3\n",
        "  s3_bucket = S3(\"bucket: s15c3deisy\")\n",
        "  s3_folder = S3(\"folder: radomForestModel\")\n",
        "\n",
        "  # SageMaker\n",
        "  trainig = SagemakerTrainingJob(\"sklearn_estimator\")\n",
        "  model  = SagemakerModel(\"rf_model.tar.gz\")\n",
        "\n",
        "  # Endpoint para el despliegue del modelo\n",
        "  icon_file_path_3 = \"endPoint.jpeg\"\n",
        "  endPoint = Custom(\"Custom-sklearn-model-2025-01-23\", icon_file_path_3)\n"
      ],
      "metadata": {
        "id": "MspWWzjDn1nQ"
      },
      "execution_count": 15,
      "outputs": []
    },
    {
      "cell_type": "code",
      "source": [],
      "metadata": {
        "id": "J80veiCW03iZ"
      },
      "execution_count": null,
      "outputs": []
    },
    {
      "cell_type": "code",
      "source": [],
      "metadata": {
        "id": "Y5qgatuf02Y0"
      },
      "execution_count": null,
      "outputs": []
    }
  ]
}