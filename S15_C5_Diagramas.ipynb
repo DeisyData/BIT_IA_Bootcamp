{
  "nbformat": 4,
  "nbformat_minor": 0,
  "metadata": {
    "colab": {
      "provenance": [],
      "authorship_tag": "ABX9TyNJk/EbzefoNWwxiesyLiCr",
      "include_colab_link": true
    },
    "kernelspec": {
      "name": "python3",
      "display_name": "Python 3"
    },
    "language_info": {
      "name": "python"
    }
  },
  "cells": [
    {
      "cell_type": "markdown",
      "metadata": {
        "id": "view-in-github",
        "colab_type": "text"
      },
      "source": [
        "<a href=\"https://colab.research.google.com/github/DeisyData/BIT_IA_Bootcamp/blob/main/S15_C5_Diagramas.ipynb\" target=\"_parent\"><img src=\"https://colab.research.google.com/assets/colab-badge.svg\" alt=\"Open In Colab\"/></a>"
      ]
    },
    {
      "cell_type": "code",
      "execution_count": null,
      "metadata": {
        "id": "gF-4mME1lXl8"
      },
      "outputs": [],
      "source": [
        "!pip install diagrams"
      ]
    },
    {
      "cell_type": "code",
      "source": [
        "!pip install Sagemaker"
      ],
      "metadata": {
        "id": "AyQAFUzvlmLk"
      },
      "execution_count": null,
      "outputs": []
    },
    {
      "cell_type": "code",
      "source": [
        "from diagrams import Diagram, Edge, Cluster\n",
        "from diagrams.custom import Custom\n",
        "from diagrams.programming.language import Python\n",
        "from diagrams.aws.storage import S3\n",
        "from diagrams.aws.ml import SagemakerTrainingJob, SagemakerModel, SagemakerEndpoint"
      ],
      "metadata": {
        "id": "-Gw2XR0vlqQL"
      },
      "execution_count": null,
      "outputs": []
    }
  ]
}