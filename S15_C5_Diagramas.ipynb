{
  "nbformat": 4,
  "nbformat_minor": 0,
  "metadata": {
    "colab": {
      "provenance": [],
      "authorship_tag": "ABX9TyOzdVjqxy/1O6bFsrrjRUg5",
      "include_colab_link": true
    },
    "kernelspec": {
      "name": "python3",
      "display_name": "Python 3"
    },
    "language_info": {
      "name": "python"
    }
  },
  "cells": [
    {
      "cell_type": "markdown",
      "metadata": {
        "id": "view-in-github",
        "colab_type": "text"
      },
      "source": [
        "<a href=\"https://colab.research.google.com/github/DeisyData/BIT_IA_Bootcamp/blob/main/S15_C5_Diagramas.ipynb\" target=\"_parent\"><img src=\"https://colab.research.google.com/assets/colab-badge.svg\" alt=\"Open In Colab\"/></a>"
      ]
    },
    {
      "cell_type": "code",
      "execution_count": 1,
      "metadata": {
        "colab": {
          "base_uri": "https://localhost:8080/"
        },
        "id": "gF-4mME1lXl8",
        "outputId": "724b99cf-9336-493e-dde6-4e69b9b6dca8"
      },
      "outputs": [
        {
          "output_type": "stream",
          "name": "stdout",
          "text": [
            "Requirement already satisfied: diagrams in /usr/local/lib/python3.11/dist-packages (0.24.1)\n",
            "Requirement already satisfied: graphviz<0.21.0,>=0.13.2 in /usr/local/lib/python3.11/dist-packages (from diagrams) (0.20.3)\n",
            "Requirement already satisfied: jinja2<4.0,>=2.10 in /usr/local/lib/python3.11/dist-packages (from diagrams) (3.1.5)\n",
            "Requirement already satisfied: MarkupSafe>=2.0 in /usr/local/lib/python3.11/dist-packages (from jinja2<4.0,>=2.10->diagrams) (3.0.2)\n"
          ]
        }
      ],
      "source": [
        "!pip install diagrams"
      ]
    },
    {
      "cell_type": "code",
      "source": [
        "!pip install Sagemaker"
      ],
      "metadata": {
        "colab": {
          "base_uri": "https://localhost:8080/"
        },
        "id": "AyQAFUzvlmLk",
        "outputId": "b021bcc5-2ce3-47b4-f830-9ae6e547ce81"
      },
      "execution_count": 2,
      "outputs": [
        {
          "output_type": "stream",
          "name": "stdout",
          "text": [
            "Requirement already satisfied: Sagemaker in /usr/local/lib/python3.11/dist-packages (2.237.3)\n",
            "Requirement already satisfied: attrs<24,>=23.1.0 in /usr/local/lib/python3.11/dist-packages (from Sagemaker) (23.2.0)\n",
            "Requirement already satisfied: boto3<2.0,>=1.35.75 in /usr/local/lib/python3.11/dist-packages (from Sagemaker) (1.36.6)\n",
            "Requirement already satisfied: cloudpickle>=2.2.1 in /usr/local/lib/python3.11/dist-packages (from Sagemaker) (3.1.1)\n",
            "Requirement already satisfied: docker in /usr/local/lib/python3.11/dist-packages (from Sagemaker) (7.1.0)\n",
            "Requirement already satisfied: fastapi in /usr/local/lib/python3.11/dist-packages (from Sagemaker) (0.115.7)\n",
            "Requirement already satisfied: google-pasta in /usr/local/lib/python3.11/dist-packages (from Sagemaker) (0.2.0)\n",
            "Requirement already satisfied: importlib-metadata<7.0,>=1.4.0 in /usr/local/lib/python3.11/dist-packages (from Sagemaker) (6.11.0)\n",
            "Requirement already satisfied: jsonschema in /usr/local/lib/python3.11/dist-packages (from Sagemaker) (4.23.0)\n",
            "Requirement already satisfied: numpy<2.0,>=1.9.0 in /usr/local/lib/python3.11/dist-packages (from Sagemaker) (1.26.4)\n",
            "Requirement already satisfied: omegaconf<2.3,>=2.2 in /usr/local/lib/python3.11/dist-packages (from Sagemaker) (2.2.3)\n",
            "Requirement already satisfied: packaging>=20.0 in /usr/local/lib/python3.11/dist-packages (from Sagemaker) (24.2)\n",
            "Requirement already satisfied: pandas in /usr/local/lib/python3.11/dist-packages (from Sagemaker) (2.2.2)\n",
            "Requirement already satisfied: pathos in /usr/local/lib/python3.11/dist-packages (from Sagemaker) (0.3.3)\n",
            "Requirement already satisfied: platformdirs in /usr/local/lib/python3.11/dist-packages (from Sagemaker) (4.3.6)\n",
            "Requirement already satisfied: protobuf<6.0,>=3.12 in /usr/local/lib/python3.11/dist-packages (from Sagemaker) (4.25.5)\n",
            "Requirement already satisfied: psutil in /usr/local/lib/python3.11/dist-packages (from Sagemaker) (5.9.5)\n",
            "Requirement already satisfied: pyyaml~=6.0 in /usr/local/lib/python3.11/dist-packages (from Sagemaker) (6.0.2)\n",
            "Requirement already satisfied: requests in /usr/local/lib/python3.11/dist-packages (from Sagemaker) (2.32.3)\n",
            "Requirement already satisfied: sagemaker-core<2.0.0,>=1.0.17 in /usr/local/lib/python3.11/dist-packages (from Sagemaker) (1.0.19)\n",
            "Requirement already satisfied: schema in /usr/local/lib/python3.11/dist-packages (from Sagemaker) (0.7.7)\n",
            "Requirement already satisfied: smdebug-rulesconfig==1.0.1 in /usr/local/lib/python3.11/dist-packages (from Sagemaker) (1.0.1)\n",
            "Requirement already satisfied: tblib<4,>=1.7.0 in /usr/local/lib/python3.11/dist-packages (from Sagemaker) (3.0.0)\n",
            "Requirement already satisfied: tqdm in /usr/local/lib/python3.11/dist-packages (from Sagemaker) (4.67.1)\n",
            "Requirement already satisfied: urllib3<3.0.0,>=1.26.8 in /usr/local/lib/python3.11/dist-packages (from Sagemaker) (2.3.0)\n",
            "Requirement already satisfied: uvicorn in /usr/local/lib/python3.11/dist-packages (from Sagemaker) (0.34.0)\n",
            "Requirement already satisfied: botocore<1.37.0,>=1.36.6 in /usr/local/lib/python3.11/dist-packages (from boto3<2.0,>=1.35.75->Sagemaker) (1.36.6)\n",
            "Requirement already satisfied: jmespath<2.0.0,>=0.7.1 in /usr/local/lib/python3.11/dist-packages (from boto3<2.0,>=1.35.75->Sagemaker) (1.0.1)\n",
            "Requirement already satisfied: s3transfer<0.12.0,>=0.11.0 in /usr/local/lib/python3.11/dist-packages (from boto3<2.0,>=1.35.75->Sagemaker) (0.11.2)\n",
            "Requirement already satisfied: zipp>=0.5 in /usr/local/lib/python3.11/dist-packages (from importlib-metadata<7.0,>=1.4.0->Sagemaker) (3.21.0)\n",
            "Requirement already satisfied: antlr4-python3-runtime==4.9.* in /usr/local/lib/python3.11/dist-packages (from omegaconf<2.3,>=2.2->Sagemaker) (4.9.3)\n",
            "Requirement already satisfied: pydantic<3.0.0,>=2.0.0 in /usr/local/lib/python3.11/dist-packages (from sagemaker-core<2.0.0,>=1.0.17->Sagemaker) (2.10.5)\n",
            "Requirement already satisfied: rich<14.0.0,>=13.0.0 in /usr/local/lib/python3.11/dist-packages (from sagemaker-core<2.0.0,>=1.0.17->Sagemaker) (13.9.4)\n",
            "Requirement already satisfied: mock<5.0,>4.0 in /usr/local/lib/python3.11/dist-packages (from sagemaker-core<2.0.0,>=1.0.17->Sagemaker) (4.0.3)\n",
            "Requirement already satisfied: jsonschema-specifications>=2023.03.6 in /usr/local/lib/python3.11/dist-packages (from jsonschema->Sagemaker) (2024.10.1)\n",
            "Requirement already satisfied: referencing>=0.28.4 in /usr/local/lib/python3.11/dist-packages (from jsonschema->Sagemaker) (0.36.1)\n",
            "Requirement already satisfied: rpds-py>=0.7.1 in /usr/local/lib/python3.11/dist-packages (from jsonschema->Sagemaker) (0.22.3)\n",
            "Requirement already satisfied: charset-normalizer<4,>=2 in /usr/local/lib/python3.11/dist-packages (from requests->Sagemaker) (3.4.1)\n",
            "Requirement already satisfied: idna<4,>=2.5 in /usr/local/lib/python3.11/dist-packages (from requests->Sagemaker) (3.10)\n",
            "Requirement already satisfied: certifi>=2017.4.17 in /usr/local/lib/python3.11/dist-packages (from requests->Sagemaker) (2024.12.14)\n",
            "Requirement already satisfied: starlette<0.46.0,>=0.40.0 in /usr/local/lib/python3.11/dist-packages (from fastapi->Sagemaker) (0.45.3)\n",
            "Requirement already satisfied: typing-extensions>=4.8.0 in /usr/local/lib/python3.11/dist-packages (from fastapi->Sagemaker) (4.12.2)\n",
            "Requirement already satisfied: six in /usr/local/lib/python3.11/dist-packages (from google-pasta->Sagemaker) (1.17.0)\n",
            "Requirement already satisfied: python-dateutil>=2.8.2 in /usr/local/lib/python3.11/dist-packages (from pandas->Sagemaker) (2.8.2)\n",
            "Requirement already satisfied: pytz>=2020.1 in /usr/local/lib/python3.11/dist-packages (from pandas->Sagemaker) (2024.2)\n",
            "Requirement already satisfied: tzdata>=2022.7 in /usr/local/lib/python3.11/dist-packages (from pandas->Sagemaker) (2025.1)\n",
            "Requirement already satisfied: ppft>=1.7.6.9 in /usr/local/lib/python3.11/dist-packages (from pathos->Sagemaker) (1.7.6.9)\n",
            "Requirement already satisfied: dill>=0.3.9 in /usr/local/lib/python3.11/dist-packages (from pathos->Sagemaker) (0.3.9)\n",
            "Requirement already satisfied: pox>=0.3.5 in /usr/local/lib/python3.11/dist-packages (from pathos->Sagemaker) (0.3.5)\n",
            "Requirement already satisfied: multiprocess>=0.70.17 in /usr/local/lib/python3.11/dist-packages (from pathos->Sagemaker) (0.70.17)\n",
            "Requirement already satisfied: click>=7.0 in /usr/local/lib/python3.11/dist-packages (from uvicorn->Sagemaker) (8.1.8)\n",
            "Requirement already satisfied: h11>=0.8 in /usr/local/lib/python3.11/dist-packages (from uvicorn->Sagemaker) (0.14.0)\n",
            "Requirement already satisfied: annotated-types>=0.6.0 in /usr/local/lib/python3.11/dist-packages (from pydantic<3.0.0,>=2.0.0->sagemaker-core<2.0.0,>=1.0.17->Sagemaker) (0.7.0)\n",
            "Requirement already satisfied: pydantic-core==2.27.2 in /usr/local/lib/python3.11/dist-packages (from pydantic<3.0.0,>=2.0.0->sagemaker-core<2.0.0,>=1.0.17->Sagemaker) (2.27.2)\n",
            "Requirement already satisfied: markdown-it-py>=2.2.0 in /usr/local/lib/python3.11/dist-packages (from rich<14.0.0,>=13.0.0->sagemaker-core<2.0.0,>=1.0.17->Sagemaker) (3.0.0)\n",
            "Requirement already satisfied: pygments<3.0.0,>=2.13.0 in /usr/local/lib/python3.11/dist-packages (from rich<14.0.0,>=13.0.0->sagemaker-core<2.0.0,>=1.0.17->Sagemaker) (2.18.0)\n",
            "Requirement already satisfied: anyio<5,>=3.6.2 in /usr/local/lib/python3.11/dist-packages (from starlette<0.46.0,>=0.40.0->fastapi->Sagemaker) (3.7.1)\n",
            "Requirement already satisfied: sniffio>=1.1 in /usr/local/lib/python3.11/dist-packages (from anyio<5,>=3.6.2->starlette<0.46.0,>=0.40.0->fastapi->Sagemaker) (1.3.1)\n",
            "Requirement already satisfied: mdurl~=0.1 in /usr/local/lib/python3.11/dist-packages (from markdown-it-py>=2.2.0->rich<14.0.0,>=13.0.0->sagemaker-core<2.0.0,>=1.0.17->Sagemaker) (0.1.2)\n"
          ]
        }
      ]
    },
    {
      "cell_type": "code",
      "source": [
        "from diagrams import Diagram, Edge, Cluster\n",
        "from diagrams.custom import Custom\n",
        "from diagrams.programming.language import Python\n",
        "from diagrams.aws.storage import S3\n",
        "from diagrams.aws.ml import SagemakerTrainingJob, SagemakerModel"
      ],
      "metadata": {
        "id": "-Gw2XR0vlqQL"
      },
      "execution_count": 4,
      "outputs": []
    },
    {
      "cell_type": "markdown",
      "source": [
        "# Lista de los elementos\n",
        "\n",
        "\n",
        "1.    Archivos  ( files)\n",
        "*  Datos de entrenamiento: train_s3.csv\n",
        "*  Datos de prueba: test_s3.csv\n",
        "*  Lógica del entrenamiento: script3.py\n",
        "\n"
      ],
      "metadata": {
        "id": "SIyAJKK3potu"
      }
    },
    {
      "cell_type": "markdown",
      "source": [
        "![csvFile.png](data:image/png;base64,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)"
      ],
      "metadata": {
        "id": "bJna8tQLrnxt"
      }
    },
    {
      "cell_type": "code",
      "source": [
        "with Diagram(\"Flujo de trabajo de entrenamiento (Train Workflow)\", show=False):\n",
        "  #Archivos\n",
        "  script = Python(\"script3.py\")\n",
        "\n",
        "  icon_file_path = \"csvFile.png\"\n",
        "  train_data = Custom(\"train_s3.csv\", icon_file_path)\n",
        "  test_data = Custom(\"test_s3.csv\", icon_file_path)\n",
        "\n"
      ],
      "metadata": {
        "id": "MspWWzjDn1nQ"
      },
      "execution_count": 7,
      "outputs": []
    }
  ]
}