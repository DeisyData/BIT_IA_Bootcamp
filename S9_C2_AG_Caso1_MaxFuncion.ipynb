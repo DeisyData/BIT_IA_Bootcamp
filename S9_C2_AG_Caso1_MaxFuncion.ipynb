{
  "nbformat": 4,
  "nbformat_minor": 0,
  "metadata": {
    "colab": {
      "provenance": [],
      "authorship_tag": "ABX9TyPL5rbVWjKrBLngS2NSh6wq",
      "include_colab_link": true
    },
    "kernelspec": {
      "name": "python3",
      "display_name": "Python 3"
    },
    "language_info": {
      "name": "python"
    }
  },
  "cells": [
    {
      "cell_type": "markdown",
      "metadata": {
        "id": "view-in-github",
        "colab_type": "text"
      },
      "source": [
        "<a href=\"https://colab.research.google.com/github/DeisyData/BIT_IA_Bootcamp/blob/main/S9_C2_AG_Caso1_MaxFuncion.ipynb\" target=\"_parent\"><img src=\"https://colab.research.google.com/assets/colab-badge.svg\" alt=\"Open In Colab\"/></a>"
      ]
    },
    {
      "cell_type": "markdown",
      "source": [
        "Importar librarias\n"
      ],
      "metadata": {
        "id": "NeCAcJ4-2oHE"
      }
    },
    {
      "cell_type": "code",
      "execution_count": null,
      "metadata": {
        "id": "MJi3HRpZuf4G"
      },
      "outputs": [],
      "source": [
        "import matplotlib.pyplot as plt\n",
        "import numpy as np\n",
        "import math"
      ]
    },
    {
      "cell_type": "markdown",
      "source": [
        "1. Problema\n",
        "\n",
        "Maximizar una función\n",
        "\n"
      ],
      "metadata": {
        "id": "LYy1J4LB2vyI"
      }
    },
    {
      "cell_type": "code",
      "source": [
        "# Función objetivo\n",
        "def fx(x):\n",
        "  return(2000+math.sin(x)*(x**2))"
      ],
      "metadata": {
        "id": "cCnhjfxR2tT-"
      },
      "execution_count": null,
      "outputs": []
    },
    {
      "cell_type": "code",
      "source": [
        "def fx_lineal(x):\n",
        "  return(3*x+2)"
      ],
      "metadata": {
        "id": "FdJ0zIJE6yXe"
      },
      "execution_count": null,
      "outputs": []
    },
    {
      "cell_type": "markdown",
      "source": [
        "Generar el vector de x"
      ],
      "metadata": {
        "id": "hdU4MpyO3nPZ"
      }
    },
    {
      "cell_type": "code",
      "source": [
        "x = np.arange(0,32,0.01)\n",
        "y = []\n",
        "yl = []\n",
        "for i in x:\n",
        "  y.append(fx(i))\n",
        "  yl.append(fx_lineal(i))"
      ],
      "metadata": {
        "id": "r9tJW8ci3WYC"
      },
      "execution_count": null,
      "outputs": []
    },
    {
      "cell_type": "code",
      "source": [
        "x"
      ],
      "metadata": {
        "colab": {
          "base_uri": "https://localhost:8080/"
        },
        "id": "S14v3YOk5Z9_",
        "outputId": "f32c4feb-9bf8-4843-fc35-00088e91cd20"
      },
      "execution_count": null,
      "outputs": [
        {
          "output_type": "execute_result",
          "data": {
            "text/plain": [
              "array([0.000e+00, 1.000e-02, 2.000e-02, ..., 3.197e+01, 3.198e+01,\n",
              "       3.199e+01])"
            ]
          },
          "metadata": {},
          "execution_count": 118
        }
      ]
    },
    {
      "cell_type": "code",
      "source": [
        "plt.figure(figsize=(3,2))\n",
        "plt.plot(x,y, \"g\")\n",
        "plt.title(\"Función Objetivo\")"
      ],
      "metadata": {
        "colab": {
          "base_uri": "https://localhost:8080/",
          "height": 254
        },
        "id": "yD71pHvg4LVT",
        "outputId": "648fe0de-a7e6-491b-cd85-b7a2d91ba411"
      },
      "execution_count": null,
      "outputs": [
        {
          "output_type": "execute_result",
          "data": {
            "text/plain": [
              "Text(0.5, 1.0, 'Función Objetivo')"
            ]
          },
          "metadata": {},
          "execution_count": 119
        },
        {
          "output_type": "display_data",
          "data": {
            "text/plain": [
              "<Figure size 300x200 with 1 Axes>"
            ],
            "image/png": "[encoded data removed]"
          },
          "metadata": {}
        }
      ]
    },
    {
      "cell_type": "code",
      "source": [
        "plt.figure(figsize=(3,2))\n",
        "x_p = 20.3456789\n",
        "y_p =fx(x_p)\n",
        "plt.plot(x_p,y_p, 'o')\n",
        "plt.plot(x,y, \"g\")"
      ],
      "metadata": {
        "colab": {
          "base_uri": "https://localhost:8080/",
          "height": 231
        },
        "id": "TX0GgQm_5Qol",
        "outputId": "0e59eaf5-a833-4842-969c-34a70970ebd2"
      },
      "execution_count": null,
      "outputs": [
        {
          "output_type": "execute_result",
          "data": {
            "text/plain": [
              "[<matplotlib.lines.Line2D at 0x7c3048641810>]"
            ]
          },
          "metadata": {},
          "execution_count": 120
        },
        {
          "output_type": "display_data",
          "data": {
            "text/plain": [
              "<Figure size 300x200 with 1 Axes>"
            ],
            "image/png": "[encoded data removed]"
          },
          "metadata": {}
        }
      ]
    },
    {
      "cell_type": "code",
      "source": [
        "plt.figure(figsize=(3,2))\n",
        "x_p = 20.2345\n",
        "y_p =fx_lineal(x_p)\n",
        "plt.plot(x_p,y_p, 'o')\n",
        "plt.plot(x,yl, \"g\")"
      ],
      "metadata": {
        "colab": {
          "base_uri": "https://localhost:8080/",
          "height": 233
        },
        "id": "L-l0_5dz74jW",
        "outputId": "260a32fa-db39-4a1d-ff05-da0b1fc55a49"
      },
      "execution_count": null,
      "outputs": [
        {
          "output_type": "execute_result",
          "data": {
            "text/plain": [
              "[<matplotlib.lines.Line2D at 0x7c304871be20>]"
            ]
          },
          "metadata": {},
          "execution_count": 121
        },
        {
          "output_type": "display_data",
          "data": {
            "text/plain": [
              "<Figure size 300x200 with 1 Axes>"
            ],
            "image/png": "[encoded data removed]"
          },
          "metadata": {}
        }
      ]
    },
    {
      "cell_type": "code",
      "source": [
        "np.max(y_p)"
      ],
      "metadata": {
        "colab": {
          "base_uri": "https://localhost:8080/"
        },
        "id": "xJCweM3rXlgN",
        "outputId": "e61128e8-b1be-490b-dd37-d5de51b92a73"
      },
      "execution_count": null,
      "outputs": [
        {
          "output_type": "execute_result",
          "data": {
            "text/plain": [
              "62.703500000000005"
            ]
          },
          "metadata": {},
          "execution_count": 122
        }
      ]
    },
    {
      "cell_type": "markdown",
      "source": [
        "**ALGORITMO GENÉTICO - CODIFICACIÓN**"
      ],
      "metadata": {
        "id": "u92Obfdt7BNG"
      }
    },
    {
      "cell_type": "code",
      "source": [
        "# DECODICAR: De lista a decimal\n",
        "def listToDecimal (num):\n",
        "  decimal = 0\n",
        "  for i in range(len(num)):\n",
        "    decimal+=num[i]*10**(-i)\n",
        "  return decimal"
      ],
      "metadata": {
        "id": "TDc2cDqm7Jcm"
      },
      "execution_count": null,
      "outputs": []
    },
    {
      "cell_type": "code",
      "source": [
        "# CODIFICAR: Generar el cromosoma de cada individuo\n",
        "size_cromo = 15\n",
        "cromosoma = [np.linspace(0,31,32),np.linspace(0,9,10)]\n",
        "individuo = []\n",
        "individuo += [np.random.choice(cromosoma[0])]\n",
        "individuo += list(np.random.choice(cromosoma[1],size_cromo-1))\n",
        "individuo"
      ],
      "metadata": {
        "colab": {
          "base_uri": "https://localhost:8080/"
        },
        "id": "dGSu0dPl788-",
        "outputId": "3c7a2ba0-4022-4184-dacb-3276f472fc45"
      },
      "execution_count": null,
      "outputs": [
        {
          "output_type": "execute_result",
          "data": {
            "text/plain": [
              "[21.0, 6.0, 7.0, 4.0, 4.0, 7.0, 2.0, 4.0, 8.0, 3.0, 1.0, 7.0, 5.0, 1.0, 9.0]"
            ]
          },
          "metadata": {},
          "execution_count": 124
        }
      ]
    },
    {
      "cell_type": "code",
      "source": [
        "listToDecimal(individuo)"
      ],
      "metadata": {
        "colab": {
          "base_uri": "https://localhost:8080/"
        },
        "id": "nz77A201_S37",
        "outputId": "fd943b82-ce26-4392-9137-a4b967eca199"
      },
      "execution_count": null,
      "outputs": [
        {
          "output_type": "execute_result",
          "data": {
            "text/plain": [
              "21.674472483175187"
            ]
          },
          "metadata": {},
          "execution_count": 125
        }
      ]
    },
    {
      "cell_type": "markdown",
      "source": [
        "**ALGORITMO GENÉTICO - POBLACIÓN**"
      ],
      "metadata": {
        "id": "0PVneuu6AIOI"
      }
    },
    {
      "cell_type": "code",
      "source": [
        "# Población\n",
        "size_poblacion = 20\n",
        "poblacion = []\n",
        "\n",
        "for i in range(size_poblacion):\n",
        "  individuo = []\n",
        "  individuo += [np.random.choice(cromosoma[0])]# Antes de la coma\n",
        "  individuo += list(np.random.choice(cromosoma[1],size_cromo-1)) # después de la coma\n",
        "  poblacion.append(individuo) # Concatenando individuos ingresar un nuevo elemento al verctor población\n",
        "\n",
        "poblacion"
      ],
      "metadata": {
        "colab": {
          "base_uri": "https://localhost:8080/"
        },
        "id": "Vmk3uA-9AMPz",
        "outputId": "4a315034-39fa-459a-b18c-0d8251307c51"
      },
      "execution_count": null,
      "outputs": [
        {
          "output_type": "execute_result",
          "data": {
            "text/plain": [
              "[[23.0, 3.0, 9.0, 8.0, 1.0, 9.0, 4.0, 2.0, 6.0, 8.0, 2.0, 6.0, 3.0, 7.0, 5.0],\n",
              " [5.0, 9.0, 8.0, 4.0, 1.0, 6.0, 3.0, 9.0, 0.0, 3.0, 5.0, 9.0, 7.0, 7.0, 0.0],\n",
              " [19.0, 5.0, 1.0, 3.0, 6.0, 0.0, 2.0, 3.0, 6.0, 1.0, 7.0, 4.0, 2.0, 1.0, 8.0],\n",
              " [28.0, 8.0, 1.0, 6.0, 5.0, 3.0, 5.0, 3.0, 7.0, 8.0, 9.0, 4.0, 0.0, 7.0, 5.0],\n",
              " [3.0, 5.0, 0.0, 1.0, 7.0, 2.0, 7.0, 5.0, 9.0, 8.0, 2.0, 5.0, 5.0, 4.0, 6.0],\n",
              " [3.0, 1.0, 8.0, 7.0, 0.0, 9.0, 2.0, 5.0, 8.0, 4.0, 6.0, 3.0, 8.0, 3.0, 5.0],\n",
              " [5.0, 2.0, 6.0, 9.0, 0.0, 8.0, 2.0, 3.0, 5.0, 5.0, 4.0, 9.0, 5.0, 2.0, 0.0],\n",
              " [4.0, 8.0, 0.0, 8.0, 2.0, 0.0, 2.0, 3.0, 1.0, 2.0, 9.0, 3.0, 2.0, 4.0, 2.0],\n",
              " [0.0, 7.0, 2.0, 1.0, 7.0, 4.0, 4.0, 5.0, 5.0, 0.0, 1.0, 9.0, 1.0, 9.0, 4.0],\n",
              " [31.0, 6.0, 4.0, 9.0, 6.0, 1.0, 8.0, 3.0, 4.0, 4.0, 0.0, 5.0, 1.0, 2.0, 3.0],\n",
              " [27.0, 1.0, 7.0, 7.0, 6.0, 6.0, 8.0, 6.0, 6.0, 4.0, 6.0, 1.0, 2.0, 6.0, 8.0],\n",
              " [24.0, 9.0, 8.0, 4.0, 7.0, 3.0, 5.0, 2.0, 6.0, 3.0, 4.0, 2.0, 2.0, 1.0, 1.0],\n",
              " [28.0, 0.0, 3.0, 9.0, 5.0, 5.0, 2.0, 9.0, 6.0, 4.0, 5.0, 5.0, 1.0, 2.0, 9.0],\n",
              " [28.0, 8.0, 6.0, 9.0, 6.0, 1.0, 4.0, 9.0, 8.0, 4.0, 4.0, 1.0, 1.0, 3.0, 9.0],\n",
              " [5.0, 3.0, 9.0, 5.0, 8.0, 9.0, 3.0, 0.0, 1.0, 1.0, 3.0, 4.0, 1.0, 5.0, 2.0],\n",
              " [6.0, 2.0, 3.0, 2.0, 7.0, 8.0, 5.0, 9.0, 6.0, 6.0, 7.0, 9.0, 1.0, 9.0, 7.0],\n",
              " [22.0, 3.0, 8.0, 9.0, 0.0, 2.0, 3.0, 6.0, 0.0, 4.0, 6.0, 0.0, 5.0, 2.0, 0.0],\n",
              " [28.0, 4.0, 4.0, 8.0, 1.0, 9.0, 8.0, 9.0, 6.0, 7.0, 5.0, 5.0, 8.0, 2.0, 8.0],\n",
              " [13.0, 1.0, 4.0, 9.0, 5.0, 9.0, 1.0, 7.0, 0.0, 2.0, 3.0, 5.0, 3.0, 8.0, 4.0],\n",
              " [8.0, 3.0, 0.0, 6.0, 1.0, 3.0, 9.0, 7.0, 8.0, 3.0, 2.0, 5.0, 8.0, 0.0, 1.0]]"
            ]
          },
          "metadata": {},
          "execution_count": 126
        }
      ]
    },
    {
      "cell_type": "code",
      "source": [
        "plt.figure(figsize=(3,2))\n",
        "for individuo in poblacion:\n",
        "  x_d = listToDecimal(individuo)\n",
        "  y_d = fx(x_d)\n",
        "  plt.plot(x_d,y_d,'o')\n",
        "\n",
        "plt.plot(x,y,'r')"
      ],
      "metadata": {
        "colab": {
          "base_uri": "https://localhost:8080/",
          "height": 231
        },
        "id": "jXGWi42kC31P",
        "outputId": "9c183e92-4e6f-4056-8c64-8e6c471743ef"
      },
      "execution_count": null,
      "outputs": [
        {
          "output_type": "execute_result",
          "data": {
            "text/plain": [
              "[<matplotlib.lines.Line2D at 0x7c3048b55d80>]"
            ]
          },
          "metadata": {},
          "execution_count": 127
        },
        {
          "output_type": "display_data",
          "data": {
            "text/plain": [
              "<Figure size 300x200 with 1 Axes>"
            ],
            "image/png": "[encoded data removed]"
          },
          "metadata": {}
        }
      ]
    },
    {
      "cell_type": "markdown",
      "source": [
        "**ALGORITMO GENÉTICO - EVALUAR POBLACIÓN**"
      ],
      "metadata": {
        "id": "F3aTIuHxBw_n"
      }
    },
    {
      "cell_type": "code",
      "source": [
        "fitness = []# arreglo para guardar los valores de aptitud de la poblacion\n",
        "\n",
        "for individuo in poblacion:\n",
        "  x_d = listToDecimal(individuo)\n",
        "  y_d = fx(x_d)\n",
        "  fitness += [y_d]\n",
        "  #plt.plot(x_d,y_d,'o')\n",
        "\n",
        "#plt.plot(x,y, \"g\")\n",
        "#plt.title(\"Evaluación de la población en la Función Objetivo\")\n",
        "#plt.xlabel(\"X\")\n",
        "#plt.ylabel(\"f(x)\")\n"
      ],
      "metadata": {
        "id": "dVjDMKt_BzqZ"
      },
      "execution_count": null,
      "outputs": []
    },
    {
      "cell_type": "code",
      "source": [
        "fitness"
      ],
      "metadata": {
        "colab": {
          "base_uri": "https://localhost:8080/"
        },
        "id": "c6QJqFTbLIJG",
        "outputId": "0a7a7205-4d9e-46ac-978a-929e5ef4ef31"
      },
      "execution_count": null,
      "outputs": [
        {
          "output_type": "execute_result",
          "data": {
            "text/plain": [
              "[1459.8481959456792,\n",
              " 1989.450840722491,\n",
              " 2234.678360372372,\n",
              " 1571.4982727602514,\n",
              " 1995.678830879207,\n",
              " 1999.53799120968,\n",
              " 1976.428826860907,\n",
              " 1976.9872269471427,\n",
              " 2000.3441661854356,\n",
              " 2231.963837140137,\n",
              " 2657.147700954239,\n",
              " 1907.9461467424858,\n",
              " 2182.897488033581,\n",
              " 1532.6473563284394,\n",
              " 1977.4247457045951,\n",
              " 1998.0429342978587,\n",
              " 1805.778435416801,\n",
              " 1859.9988285980771,\n",
              " 2095.225171688101,\n",
              " 2062.05869996326]"
            ]
          },
          "metadata": {},
          "execution_count": 129
        }
      ]
    },
    {
      "cell_type": "code",
      "source": [
        "fitness = np.array(fitness)\n",
        "fitness"
      ],
      "metadata": {
        "colab": {
          "base_uri": "https://localhost:8080/"
        },
        "id": "DdohKUetLm_S",
        "outputId": "6b0b6bb1-947e-4f37-87f6-fc5d7e6cc514"
      },
      "execution_count": null,
      "outputs": [
        {
          "output_type": "execute_result",
          "data": {
            "text/plain": [
              "array([1459.84819595, 1989.45084072, 2234.67836037, 1571.49827276,\n",
              "       1995.67883088, 1999.53799121, 1976.42882686, 1976.98722695,\n",
              "       2000.34416619, 2231.96383714, 2657.14770095, 1907.94614674,\n",
              "       2182.89748803, 1532.64735633, 1977.4247457 , 1998.0429343 ,\n",
              "       1805.77843542, 1859.9988286 , 2095.22517169, 2062.05869996])"
            ]
          },
          "metadata": {},
          "execution_count": 130
        }
      ]
    },
    {
      "cell_type": "code",
      "source": [
        "# Medición de aptitud de la población\n",
        "fitness = np.array(fitness)\n",
        "fitness = fitness/fitness.sum()\n",
        "fitness"
      ],
      "metadata": {
        "colab": {
          "base_uri": "https://localhost:8080/"
        },
        "id": "x30Rk7FHKTgP",
        "outputId": "079ce906-d183-4974-c5d4-b3c886f88775"
      },
      "execution_count": null,
      "outputs": [
        {
          "output_type": "execute_result",
          "data": {
            "text/plain": [
              "array([0.1, 0.1, 0.1, 0.1, 0.1, 0.1, 0.1, 0.1, 0.1, 0.1])"
            ]
          },
          "metadata": {},
          "execution_count": 154
        }
      ]
    },
    {
      "cell_type": "code",
      "source": [
        "np.argmax(fitness)"
      ],
      "metadata": {
        "colab": {
          "base_uri": "https://localhost:8080/"
        },
        "id": "wm2eoIjNGNaC",
        "outputId": "5703fe5a-fba9-4332-9e52-ba20c0597c6e"
      },
      "execution_count": null,
      "outputs": [
        {
          "output_type": "execute_result",
          "data": {
            "text/plain": [
              "10"
            ]
          },
          "metadata": {},
          "execution_count": 132
        }
      ]
    },
    {
      "cell_type": "markdown",
      "source": [
        "**ALGORITMO GENÉTICO - SELECCIONAR**"
      ],
      "metadata": {
        "id": "hWZcFlzrMdDt"
      }
    },
    {
      "cell_type": "markdown",
      "source": [
        "**Metodo de selección: Ruleta.** Se selecciona al más apto y el segundo se selcciona aleatorio."
      ],
      "metadata": {
        "id": "0QMGsqbJT2E4"
      }
    },
    {
      "cell_type": "code",
      "source": [
        "# El más apto por función fitness\n",
        "padre_1 = np.argmax(fitness)\n",
        "# Seleccionando el alatorio por random pero con las probabilidades dadas por la función fitness\n",
        "padre_2 = np.random.choice(size_poblacion, 1, p=fitness)\n",
        "padres = [padre_1, padre_2[0]]\n",
        "padres"
      ],
      "metadata": {
        "id": "yJNpxx-hM0Sa",
        "colab": {
          "base_uri": "https://localhost:8080/"
        },
        "outputId": "f1a31815-7b9e-4c45-8980-802aaa90f4d2"
      },
      "execution_count": null,
      "outputs": [
        {
          "output_type": "execute_result",
          "data": {
            "text/plain": [
              "[0, 5]"
            ]
          },
          "metadata": {},
          "execution_count": 153
        }
      ]
    },
    {
      "cell_type": "markdown",
      "source": [
        "**Metodo de selección: Elitista.** Selecciona  siempre los dos mejores padres.\n"
      ],
      "metadata": {
        "id": "Xh92pCVRTjSc"
      }
    },
    {
      "cell_type": "code",
      "source": [
        "# Lee las posiciones de los dos valores máximos de la función fitneess\n",
        "padres = np.argsort(fitness)[::-1][:2]\n",
        "padres"
      ],
      "metadata": {
        "colab": {
          "base_uri": "https://localhost:8080/"
        },
        "id": "NXfWdpFCRREe",
        "outputId": "1693289a-501e-44b2-80a5-dcbf7b032a3c"
      },
      "execution_count": null,
      "outputs": [
        {
          "output_type": "execute_result",
          "data": {
            "text/plain": [
              "array([9, 8])"
            ]
          },
          "metadata": {},
          "execution_count": 152
        }
      ]
    },
    {
      "cell_type": "markdown",
      "source": [
        "**ALGORITMO GENÉTICO - CRUCE**"
      ],
      "metadata": {
        "id": "rk-Zmr7EUxcN"
      }
    },
    {
      "cell_type": "markdown",
      "source": [
        "**Metodo de Cruce: Punto Simple** En este ejemplo, vamos a cruzar en la mitad de los cromosomas\n"
      ],
      "metadata": {
        "id": "EauOY3xlVI_K"
      }
    },
    {
      "cell_type": "code",
      "source": [
        "poblacion_temporal=[]\n",
        "# Definir el punto de cruce\n",
        "cross_point = int(size_cromo/2)\n",
        "numero_hijos = 5 # en cada iteracion me genera dos hijos\n",
        "for i in range(numero_hijos):\n",
        "  padres = np.argsort(fitness)[::-1][:2]\n",
        "  poblacion_temporal += [poblacion[padres[0]][:cross_point]+poblacion[padres[1]][cross_point:]]\n",
        "  poblacion_temporal += [poblacion[padres[1]][:cross_point]+poblacion[padres[0]][cross_point:]]"
      ],
      "metadata": {
        "id": "pLJwiJdyVIHi"
      },
      "execution_count": null,
      "outputs": []
    },
    {
      "cell_type": "code",
      "source": [
        "poblacion_temporal"
      ],
      "metadata": {
        "colab": {
          "base_uri": "https://localhost:8080/"
        },
        "id": "AEbKaxn7YSCS",
        "outputId": "daae33f1-a889-4137-a0a6-455453a878a3"
      },
      "execution_count": null,
      "outputs": [
        {
          "output_type": "execute_result",
          "data": {
            "text/plain": [
              "[[27.0, 1.0, 7.0, 7.0, 6.0, 6.0, 8.0, 3.0, 6.0, 1.0, 7.0, 4.0, 2.0, 1.0, 8.0],\n",
              " [19.0, 5.0, 1.0, 3.0, 6.0, 0.0, 2.0, 6.0, 6.0, 4.0, 6.0, 1.0, 2.0, 6.0, 8.0],\n",
              " [27.0, 1.0, 7.0, 7.0, 6.0, 6.0, 8.0, 3.0, 6.0, 1.0, 7.0, 4.0, 2.0, 1.0, 8.0],\n",
              " [19.0, 5.0, 1.0, 3.0, 6.0, 0.0, 2.0, 6.0, 6.0, 4.0, 6.0, 1.0, 2.0, 6.0, 8.0],\n",
              " [27.0, 1.0, 7.0, 7.0, 6.0, 6.0, 8.0, 3.0, 6.0, 1.0, 7.0, 4.0, 2.0, 1.0, 8.0],\n",
              " [19.0, 5.0, 1.0, 3.0, 6.0, 0.0, 2.0, 6.0, 6.0, 4.0, 6.0, 1.0, 2.0, 6.0, 8.0],\n",
              " [27.0, 1.0, 7.0, 7.0, 6.0, 6.0, 8.0, 3.0, 6.0, 1.0, 7.0, 4.0, 2.0, 1.0, 8.0],\n",
              " [19.0, 5.0, 1.0, 3.0, 6.0, 0.0, 2.0, 6.0, 6.0, 4.0, 6.0, 1.0, 2.0, 6.0, 8.0],\n",
              " [27.0, 1.0, 7.0, 7.0, 6.0, 6.0, 8.0, 3.0, 6.0, 1.0, 7.0, 4.0, 2.0, 1.0, 8.0],\n",
              " [19.0, 5.0, 1.0, 3.0, 6.0, 0.0, 2.0, 6.0, 6.0, 4.0, 6.0, 1.0, 2.0, 6.0, 8.0]]"
            ]
          },
          "metadata": {},
          "execution_count": 136
        }
      ]
    },
    {
      "cell_type": "code",
      "source": [
        "poblacion_temporal=[]\n",
        "# Definir el punto de cruce\n",
        "cross_point = int(size_cromo/2)\n",
        "numero_hijos = 5 # en cada iteracion me genera dos hijos\n",
        "for i in range(numero_hijos):\n",
        "  # El más apto por función fitness\n",
        "  padre_1 = np.argmax(fitness)\n",
        "  # Seleccionando el alatorio por random pero con las probabilidades dadas por la función fitness\n",
        "  padre_2 = np.random.choice(size_poblacion, 1, p=fitness)\n",
        "  padres = [padre_1, padre_2[0]]\n",
        "  poblacion_temporal += [poblacion[padres[0]][:cross_point]+poblacion[padres[1]][cross_point:]]\n",
        "  poblacion_temporal += [poblacion[padres[1]][:cross_point]+poblacion[padres[0]][cross_point:]]"
      ],
      "metadata": {
        "id": "tFKrxmLVb4aM"
      },
      "execution_count": null,
      "outputs": []
    },
    {
      "cell_type": "code",
      "source": [
        "poblacion_temporal"
      ],
      "metadata": {
        "colab": {
          "base_uri": "https://localhost:8080/"
        },
        "id": "sdrVBxBjcPVl",
        "outputId": "a183858d-3779-4f8b-f2ee-92438bb056d2"
      },
      "execution_count": null,
      "outputs": [
        {
          "output_type": "execute_result",
          "data": {
            "text/plain": [
              "[[27.0, 1.0, 7.0, 7.0, 6.0, 6.0, 8.0, 0.0, 1.0, 1.0, 3.0, 4.0, 1.0, 5.0, 2.0],\n",
              " [5.0, 3.0, 9.0, 5.0, 8.0, 9.0, 3.0, 6.0, 6.0, 4.0, 6.0, 1.0, 2.0, 6.0, 8.0],\n",
              " [27.0, 1.0, 7.0, 7.0, 6.0, 6.0, 8.0, 3.0, 4.0, 4.0, 0.0, 5.0, 1.0, 2.0, 3.0],\n",
              " [31.0, 6.0, 4.0, 9.0, 6.0, 1.0, 8.0, 6.0, 6.0, 4.0, 6.0, 1.0, 2.0, 6.0, 8.0],\n",
              " [27.0, 1.0, 7.0, 7.0, 6.0, 6.0, 8.0, 6.0, 6.0, 4.0, 6.0, 1.0, 2.0, 6.0, 8.0],\n",
              " [27.0, 1.0, 7.0, 7.0, 6.0, 6.0, 8.0, 6.0, 6.0, 4.0, 6.0, 1.0, 2.0, 6.0, 8.0],\n",
              " [27.0, 1.0, 7.0, 7.0, 6.0, 6.0, 8.0, 2.0, 6.0, 3.0, 4.0, 2.0, 2.0, 1.0, 1.0],\n",
              " [24.0, 9.0, 8.0, 4.0, 7.0, 3.0, 5.0, 6.0, 6.0, 4.0, 6.0, 1.0, 2.0, 6.0, 8.0],\n",
              " [27.0, 1.0, 7.0, 7.0, 6.0, 6.0, 8.0, 9.0, 6.0, 4.0, 5.0, 5.0, 1.0, 2.0, 9.0],\n",
              " [28.0, 0.0, 3.0, 9.0, 5.0, 5.0, 2.0, 6.0, 6.0, 4.0, 6.0, 1.0, 2.0, 6.0, 8.0]]"
            ]
          },
          "metadata": {},
          "execution_count": 138
        }
      ]
    },
    {
      "cell_type": "markdown",
      "source": [
        "**ALGORITMO GENÉTICO - MUTACIÓN**"
      ],
      "metadata": {
        "id": "FyEtRwHTep2f"
      }
    },
    {
      "cell_type": "code",
      "source": [
        "def mutate(individuals, prob, pool):\n",
        "    for i in range(len(individuals)):\n",
        "        mutate_individual=individuals[i]\n",
        "\n",
        "        if np.random.random() < prob:\n",
        "            mutation = np.random.choice(pool[0])\n",
        "            mutate_individual = [mutation] + mutate_individual[1:]\n",
        "\n",
        "        for j in range(1,len(mutate_individual)):\n",
        "            if np.random.random() < prob:\n",
        "                mutation = np.random.choice(pool[1])\n",
        "                mutate_individual = mutate_individual[0:j] + [mutation] + mutate_individual[j+1:]\n",
        "        individuals[i] = mutate_individual"
      ],
      "metadata": {
        "id": "_POs94_qetG1"
      },
      "execution_count": null,
      "outputs": []
    },
    {
      "cell_type": "code",
      "source": [
        "mutate(poblacion_temporal, 0.05, cromosoma)\n",
        "poblacion_temporal"
      ],
      "metadata": {
        "colab": {
          "base_uri": "https://localhost:8080/"
        },
        "id": "H1J-Ddd2e5W9",
        "outputId": "db85ed9a-feb4-429c-f799-c2b5de6fd9c9"
      },
      "execution_count": null,
      "outputs": [
        {
          "output_type": "execute_result",
          "data": {
            "text/plain": [
              "[[26.0, 1.0, 7.0, 7.0, 6.0, 6.0, 8.0, 0.0, 1.0, 1.0, 3.0, 4.0, 1.0, 5.0, 2.0],\n",
              " [5.0, 3.0, 9.0, 5.0, 8.0, 9.0, 3.0, 5.0, 6.0, 4.0, 6.0, 1.0, 2.0, 6.0, 8.0],\n",
              " [27.0, 1.0, 7.0, 7.0, 6.0, 6.0, 8.0, 3.0, 4.0, 4.0, 0.0, 5.0, 1.0, 2.0, 3.0],\n",
              " [31.0, 9.0, 4.0, 9.0, 6.0, 1.0, 8.0, 6.0, 6.0, 1.0, 6.0, 1.0, 2.0, 6.0, 8.0],\n",
              " [27.0, 1.0, 7.0, 7.0, 6.0, 6.0, 8.0, 6.0, 6.0, 8.0, 6.0, 1.0, 2.0, 6.0, 8.0],\n",
              " [27.0, 1.0, 7.0, 7.0, 2.0, 6.0, 8.0, 6.0, 6.0, 4.0, 6.0, 1.0, 2.0, 6.0, 8.0],\n",
              " [27.0, 1.0, 7.0, 7.0, 6.0, 6.0, 8.0, 2.0, 6.0, 3.0, 4.0, 2.0, 2.0, 1.0, 1.0],\n",
              " [24.0, 9.0, 8.0, 4.0, 7.0, 3.0, 1.0, 6.0, 6.0, 4.0, 6.0, 1.0, 2.0, 6.0, 8.0],\n",
              " [27.0, 1.0, 7.0, 7.0, 6.0, 6.0, 8.0, 9.0, 6.0, 4.0, 5.0, 5.0, 1.0, 2.0, 3.0],\n",
              " [28.0, 0.0, 3.0, 9.0, 5.0, 5.0, 2.0, 6.0, 6.0, 6.0, 6.0, 1.0, 2.0, 6.0, 2.0]]"
            ]
          },
          "metadata": {},
          "execution_count": 140
        }
      ]
    },
    {
      "cell_type": "markdown",
      "source": [
        "**ALGORITMO GENÉTICO - REEMPLAZO**"
      ],
      "metadata": {
        "id": "Upe5Vvz-bWyZ"
      }
    },
    {
      "cell_type": "markdown",
      "source": [
        "**Metodo de Reemplazo** Generación completa"
      ],
      "metadata": {
        "id": "xKywv8tUbaz1"
      }
    },
    {
      "cell_type": "code",
      "source": [
        "poblacion = poblacion_temporal\n",
        "\n",
        "for individuo in poblacion:\n",
        "  x_d = listToDecimal(individuo)\n",
        "  y_d = fx(x_d)\n",
        "  plt.plot(x_d,y_d,'o')\n",
        "\n",
        "plt.plot(x,y,'r')\n"
      ],
      "metadata": {
        "colab": {
          "base_uri": "https://localhost:8080/",
          "height": 447
        },
        "id": "SUx3asPwbWg2",
        "outputId": "315c23e4-a2cd-46e5-f364-2a02c320cff5"
      },
      "execution_count": null,
      "outputs": [
        {
          "output_type": "execute_result",
          "data": {
            "text/plain": [
              "[<matplotlib.lines.Line2D at 0x7c304845b430>]"
            ]
          },
          "metadata": {},
          "execution_count": 141
        },
        {
          "output_type": "display_data",
          "data": {
            "text/plain": [
              "<Figure size 640x480 with 1 Axes>"
            ],
            "image/png": "[encoded data removed]"
          },
          "metadata": {}
        }
      ]
    },
    {
      "cell_type": "code",
      "source": [
        "def mutate(individuals, prob, pool):\n",
        "\n",
        "    for i in range(len(individuals)):\n",
        "        mutate_individual=individuals[i]\n",
        "\n",
        "        if np.random.random() < prob:\n",
        "            mutation = np.random.choice(pool[0])\n",
        "            mutate_individual = [mutation] + mutate_individual[1:]\n",
        "\n",
        "        for j in range(1,len(mutate_individual)):\n",
        "            if np.random.random() < prob:\n",
        "                mutation = np.random.choice(pool[1])\n",
        "                mutate_individual = mutate_individual[0:j] + [mutation] + mutate_individual[j+1:]\n",
        "        individuals[i] = mutate_individual"
      ],
      "metadata": {
        "id": "eRcd-rNeeewL"
      },
      "execution_count": null,
      "outputs": []
    },
    {
      "cell_type": "markdown",
      "source": [
        "**ALGORITMO GENÉTICO - COMPLETO - main**"
      ],
      "metadata": {
        "id": "E6r_5A4-WpZ5"
      }
    },
    {
      "cell_type": "code",
      "source": [
        "# Población\n",
        "size_poblacion = 10\n",
        "poblacion = []\n",
        "\n",
        "for i in range(size_poblacion):\n",
        "  individuo = []\n",
        "  individuo += [np.random.choice(cromosoma[0])]# Antes de la coma\n",
        "  individuo += list(np.random.choice(cromosoma[1],size_cromo-1)) # después de la coma\n",
        "  poblacion.append(individuo) # Concatenando individuos ingresar un nuevo elemento al verctor población\n",
        "\n",
        "poblacion"
      ],
      "metadata": {
        "id": "F1495UPykG6H",
        "colab": {
          "base_uri": "https://localhost:8080/"
        },
        "outputId": "fd276132-7c43-46cb-be0a-6eeb605ddd73"
      },
      "execution_count": null,
      "outputs": [
        {
          "output_type": "execute_result",
          "data": {
            "text/plain": [
              "[[31.0, 3.0, 0.0, 7.0, 2.0, 8.0, 0.0, 6.0, 2.0, 4.0, 2.0, 9.0, 4.0, 2.0, 7.0],\n",
              " [1.0, 1.0, 0.0, 4.0, 8.0, 9.0, 4.0, 0.0, 5.0, 1.0, 2.0, 9.0, 5.0, 9.0, 2.0],\n",
              " [14.0, 9.0, 9.0, 2.0, 1.0, 9.0, 1.0, 0.0, 1.0, 9.0, 2.0, 2.0, 4.0, 2.0, 2.0],\n",
              " [15.0, 3.0, 3.0, 4.0, 3.0, 0.0, 0.0, 7.0, 0.0, 0.0, 4.0, 4.0, 4.0, 2.0, 8.0],\n",
              " [7.0, 8.0, 4.0, 2.0, 6.0, 9.0, 5.0, 4.0, 4.0, 9.0, 7.0, 8.0, 3.0, 8.0, 8.0],\n",
              " [17.0, 4.0, 6.0, 1.0, 3.0, 8.0, 1.0, 3.0, 6.0, 2.0, 9.0, 5.0, 5.0, 7.0, 0.0],\n",
              " [12.0, 0.0, 6.0, 3.0, 1.0, 3.0, 4.0, 5.0, 8.0, 4.0, 9.0, 6.0, 3.0, 9.0, 6.0],\n",
              " [19.0, 4.0, 8.0, 6.0, 2.0, 9.0, 3.0, 6.0, 1.0, 6.0, 0.0, 2.0, 1.0, 4.0, 0.0],\n",
              " [29.0, 7.0, 8.0, 4.0, 5.0, 0.0, 3.0, 9.0, 2.0, 6.0, 0.0, 8.0, 8.0, 0.0, 6.0],\n",
              " [26.0, 1.0, 0.0, 6.0, 2.0, 2.0, 0.0, 6.0, 1.0, 7.0, 4.0, 5.0, 6.0, 1.0, 5.0]]"
            ]
          },
          "metadata": {},
          "execution_count": 143
        }
      ]
    },
    {
      "cell_type": "code",
      "source": [
        "generaciones = 1000\n",
        "\n",
        "for _ in range(generaciones):\n",
        "\n",
        "# Evaluación de aptitud\n",
        "  fitness = []\n",
        "  for individuo in poblacion:\n",
        "    x_d = listToDecimal(individuo)\n",
        "    y_d = fx(x_d)\n",
        "    fitness += [y_d]\n",
        "  fitness = np.array(fitness)\n",
        "  fitness = fitness/fitness.sum()\n",
        "\n",
        "# Selección y Cruce\n",
        "  poblacion_temporal=[]\n",
        "  # Definir el punto de cruce\n",
        "  cross_point = int(size_cromo/2)\n",
        "  numero_hijos = int(size_poblacion/2) # en cada iteracion me genera dos hijos\n",
        "  for i in range(numero_hijos):\n",
        "    padres = np.argsort(fitness)[::-1][:2]\n",
        "    poblacion_temporal += [poblacion[padres[0]][:cross_point]+poblacion[padres[1]][cross_point:]]\n",
        "    poblacion_temporal += [poblacion[padres[1]][:cross_point]+poblacion[padres[0]][cross_point:]]\n",
        "\n",
        "# Mutacion\n",
        "  mutate(poblacion_temporal, 0.01, cromosoma)\n",
        "\n",
        "# Reemplazo\n",
        "  poblacion = poblacion_temporal\n"
      ],
      "metadata": {
        "id": "PZlIr_y1hzyL"
      },
      "execution_count": null,
      "outputs": []
    },
    {
      "cell_type": "code",
      "source": [
        "for individuo in poblacion:\n",
        "  x_d = listToDecimal(individuo)\n",
        "  y_d = fx(x_d)\n",
        "  plt.plot(x_d,y_d,'o')\n",
        "\n",
        "plt.plot(x,y,'r')"
      ],
      "metadata": {
        "colab": {
          "base_uri": "https://localhost:8080/",
          "height": 447
        },
        "id": "b1w_hl9jjxMc",
        "outputId": "746d6bc6-3b58-4694-c98e-13ef9060af8b"
      },
      "execution_count": null,
      "outputs": [
        {
          "output_type": "execute_result",
          "data": {
            "text/plain": [
              "[<matplotlib.lines.Line2D at 0x7c3048520e80>]"
            ]
          },
          "metadata": {},
          "execution_count": 145
        },
        {
          "output_type": "display_data",
          "data": {
            "text/plain": [
              "<Figure size 640x480 with 1 Axes>"
            ],
            "image/png": "[encoded data removed]"
          },
          "metadata": {}
        }
      ]
    }
  ]
}