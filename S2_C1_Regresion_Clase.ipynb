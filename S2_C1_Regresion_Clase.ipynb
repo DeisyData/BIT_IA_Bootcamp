{
  "nbformat": 4,
  "nbformat_minor": 0,
  "metadata": {
    "colab": {
      "provenance": [],
      "authorship_tag": "ABX9TyN01BMcZ+1q66+Auc2u+OZB",
      "include_colab_link": true
    },
    "kernelspec": {
      "name": "python3",
      "display_name": "Python 3"
    },
    "language_info": {
      "name": "python"
    }
  },
  "cells": [
    {
      "cell_type": "markdown",
      "metadata": {
        "id": "view-in-github",
        "colab_type": "text"
      },
      "source": [
        "<a href=\"https://colab.research.google.com/github/DeisyData/BIT_IA_Bootcamp/blob/main/S2_C1_Regresion_Clase.ipynb\" target=\"_parent\"><img src=\"https://colab.research.google.com/assets/colab-badge.svg\" alt=\"Open In Colab\"/></a>"
      ]
    },
    {
      "cell_type": "markdown",
      "source": [
        "**Modelos de Regresión Lineal**\n",
        "\n",
        "\n",
        "\n",
        "1. Cree una carpeta en drive  'Models'\n",
        "2. Guarde los archivos .plk\n",
        "\n",
        "\n"
      ],
      "metadata": {
        "id": "TXyBVqcvO4q6"
      }
    },
    {
      "cell_type": "code",
      "source": [
        "from google.colab import drive\n",
        "drive.mount('/content/drive')\n",
        "import os\n",
        "# Se envia el documento consolidado a la carpeta SAC_NOTAS_CONSOLIDADO\n",
        "os.chdir('/content/drive/MyDrive/Colab Notebooks/BIT_BootCamp_IA/Models')\n",
        "os.listdir()"
      ],
      "metadata": {
        "colab": {
          "base_uri": "https://localhost:8080/"
        },
        "id": "qcde1eTGmRE2",
        "outputId": "101ee280-ad57-45ae-ed93-b151436d2009"
      },
      "execution_count": null,
      "outputs": [
        {
          "output_type": "stream",
          "name": "stdout",
          "text": [
            "Mounted at /content/drive\n"
          ]
        },
        {
          "output_type": "execute_result",
          "data": {
            "text/plain": [
              "['linear_regression_model.pkl', 'poly_regression_model.pkl']"
            ]
          },
          "metadata": {},
          "execution_count": 1
        }
      ]
    },
    {
      "cell_type": "code",
      "execution_count": null,
      "metadata": {
        "id": "kA55dPTpAyMC"
      },
      "outputs": [],
      "source": [
        "import joblib\n",
        "# Cargar el modelo desde el archivo\n",
        "loaded_model = joblib.load('linear_regression_model.pkl')"
      ]
    },
    {
      "cell_type": "markdown",
      "source": [
        "# Actividad 1.\n",
        "\n",
        "1. Ingrese un valor  y realice una prediccion con el modelo lineal"
      ],
      "metadata": {
        "id": "wdRG7SrpaA8Q"
      }
    },
    {
      "cell_type": "code",
      "source": [
        "# Hacer predicciones con el modelo cargado\n",
        "print(\"Predicción del Ingreso Anual a partir de las Compras en productos de Carne \")\n",
        "\n",
        "opcion = int(input(\"Ingrese el valor de compras en carne: \"))\n",
        "predicted_lineal = loaded_model.predict([[opcion]])\n",
        "\n",
        "print(f\"EL ingreso anual de esta persona con el modelo lineal es es de : {predicted_lineal}\")"
      ],
      "metadata": {
        "colab": {
          "base_uri": "https://localhost:8080/"
        },
        "id": "R1c9t7TYm69e",
        "outputId": "fab36b1a-8df8-4a36-e797-f3ae971b0b76"
      },
      "execution_count": null,
      "outputs": [
        {
          "output_type": "stream",
          "name": "stdout",
          "text": [
            "Predicción del Ingreso Anual a partir de las Compras en productos de Carne \n",
            "Ingrese el valor de compras en carne: 300\n",
            "EL ingreso anual de esta persona  es de : [67618.6171778]\n"
          ]
        },
        {
          "output_type": "stream",
          "name": "stderr",
          "text": [
            "/usr/local/lib/python3.10/dist-packages/sklearn/base.py:493: UserWarning: X does not have valid feature names, but LinearRegression was fitted with feature names\n",
            "  warnings.warn(\n"
          ]
        }
      ]
    },
    {
      "cell_type": "markdown",
      "source": [
        "# Actividad 2.\n",
        "\n",
        "1. Cargue el modelo de regresión polinómica\n",
        "2. Ingrese un valor  y realice una prediccion con el modelo polinómico"
      ],
      "metadata": {
        "id": "yMsfnMjRaKHy"
      }
    },
    {
      "cell_type": "code",
      "source": [
        "# 1. Cargar el modelo desde el archivo\n",
        "loaded_model = joblib.load('poly_regression_model.pkl')"
      ],
      "metadata": {
        "id": "8m99pqC9bjvd"
      },
      "execution_count": 11,
      "outputs": []
    },
    {
      "cell_type": "markdown",
      "source": [],
      "metadata": {
        "id": "Xa_3JN51bjDv"
      }
    },
    {
      "cell_type": "code",
      "source": [
        "# 2. Hacer predicciones con el modelo cargado\n",
        "print(\"Predicción del Ingreso Anual a partir de las Compras en productos de Carne \")\n",
        "opcion = int(input(\"Ingrese un valor: \"))\n",
        "\n",
        "def arreglo (opcion):\n",
        "  return [1, opcion, opcion**2]\n",
        "\n",
        "### Se evalua en la funcion anterior\n",
        "x_test= arreglo(opcion)\n",
        "\n",
        "predicted_poly = loaded_model.predict([x_test])\n",
        "\n",
        "print(f\"EL ingreso anual de esta persona con el modelo lineal es es de : {round(predicted_poly[0])}\")"
      ],
      "metadata": {
        "colab": {
          "base_uri": "https://localhost:8080/"
        },
        "id": "-0t0OAvtaMts",
        "outputId": "3bf7cf63-75a8-46c0-b551-087a4db8f014"
      },
      "execution_count": 13,
      "outputs": [
        {
          "output_type": "stream",
          "name": "stdout",
          "text": [
            "Predicción del Ingreso Anual a partir de las Compras en productos de Carne \n",
            "Ingrese un valor: 300\n",
            "EL ingreso anual de esta persona con el modelo lineal es es de : 74196\n"
          ]
        }
      ]
    }
  ]
}