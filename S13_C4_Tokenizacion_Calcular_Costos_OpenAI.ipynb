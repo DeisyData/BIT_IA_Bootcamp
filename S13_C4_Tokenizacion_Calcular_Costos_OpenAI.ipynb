{
  "nbformat": 4,
  "nbformat_minor": 0,
  "metadata": {
    "colab": {
      "provenance": [],
      "authorship_tag": "ABX9TyNOGhMvN+E8iVuzN9UsOkUP",
      "include_colab_link": true
    },
    "kernelspec": {
      "name": "python3",
      "display_name": "Python 3"
    },
    "language_info": {
      "name": "python"
    }
  },
  "cells": [
    {
      "cell_type": "markdown",
      "metadata": {
        "id": "view-in-github",
        "colab_type": "text"
      },
      "source": [
        "<a href=\"https://colab.research.google.com/github/DeisyData/BIT_IA_Bootcamp/blob/main/S13_C4_Tokenizacion_Calcular_Costos_OpenAI.ipynb\" target=\"_parent\"><img src=\"https://colab.research.google.com/assets/colab-badge.svg\" alt=\"Open In Colab\"/></a>"
      ]
    },
    {
      "cell_type": "markdown",
      "source": [
        "# Git Hub Documentación de OpenAI\n",
        "\n",
        "[GitHub OpenAI](https://github.com/openai/openai-cookbook/blob/main/examples/Embedding_Wikipedia_articles_for_search.ipynb)"
      ],
      "metadata": {
        "id": "m13r_8ecigAZ"
      }
    },
    {
      "cell_type": "code",
      "execution_count": 1,
      "metadata": {
        "colab": {
          "base_uri": "https://localhost:8080/"
        },
        "id": "E4c4zdjVhuoY",
        "outputId": "5c3c71b7-178d-4e4f-b4c0-4500a54efe8c"
      },
      "outputs": [
        {
          "output_type": "stream",
          "name": "stdout",
          "text": [
            "Collecting tiktoken\n",
            "  Downloading tiktoken-0.8.0-cp310-cp310-manylinux_2_17_x86_64.manylinux2014_x86_64.whl.metadata (6.6 kB)\n",
            "Requirement already satisfied: regex>=2022.1.18 in /usr/local/lib/python3.10/dist-packages (from tiktoken) (2024.11.6)\n",
            "Requirement already satisfied: requests>=2.26.0 in /usr/local/lib/python3.10/dist-packages (from tiktoken) (2.32.3)\n",
            "Requirement already satisfied: charset-normalizer<4,>=2 in /usr/local/lib/python3.10/dist-packages (from requests>=2.26.0->tiktoken) (3.4.1)\n",
            "Requirement already satisfied: idna<4,>=2.5 in /usr/local/lib/python3.10/dist-packages (from requests>=2.26.0->tiktoken) (3.10)\n",
            "Requirement already satisfied: urllib3<3,>=1.21.1 in /usr/local/lib/python3.10/dist-packages (from requests>=2.26.0->tiktoken) (2.3.0)\n",
            "Requirement already satisfied: certifi>=2017.4.17 in /usr/local/lib/python3.10/dist-packages (from requests>=2.26.0->tiktoken) (2024.12.14)\n",
            "Downloading tiktoken-0.8.0-cp310-cp310-manylinux_2_17_x86_64.manylinux2014_x86_64.whl (1.2 MB)\n",
            "\u001b[2K   \u001b[90m━━━━━━━━━━━━━━━━━━━━━━━━━━━━━━━━━━━━━━━━\u001b[0m \u001b[32m1.2/1.2 MB\u001b[0m \u001b[31m10.1 MB/s\u001b[0m eta \u001b[36m0:00:00\u001b[0m\n",
            "\u001b[?25hInstalling collected packages: tiktoken\n",
            "Successfully installed tiktoken-0.8.0\n"
          ]
        }
      ],
      "source": [
        "!pip install tiktoken"
      ]
    },
    {
      "cell_type": "code",
      "source": [
        "import tiktoken"
      ],
      "metadata": {
        "id": "X6oMFWmdiCs9"
      },
      "execution_count": 2,
      "outputs": []
    },
    {
      "cell_type": "markdown",
      "source": [
        "# Paso 1. Cargar el Encoding\n",
        "\n",
        "cl100k_base para modelos:\n",
        "* gpt-4-turbo, gpt-4, gpt-3.5-turbo, text-embedding-ada-002, text-embedding-3-small, text-embedding-3-large"
      ],
      "metadata": {
        "id": "bCrRtaIrixIb"
      }
    },
    {
      "cell_type": "code",
      "source": [
        "encoding = tiktoken.get_encoding(\"cl100k_base\")\n",
        "encoding = tiktoken.encoding_for_model(\"gpt-3.5-turbo\")"
      ],
      "metadata": {
        "id": "A4iXp6WoitmE"
      },
      "execution_count": 3,
      "outputs": []
    },
    {
      "cell_type": "code",
      "source": [
        "text_large  = \"23 Conference Proceedings, August 6–10, 2023, Los Angeles, CA, USA X. Pan, A. Tewari, T. Leimkühler, L. Liu, A. Meka, C. Theobalt\\n1 INTRODUCTION\\nDeep generative models such as generative adversarial networks\\n(GANs) [Goodfellow et al. 2014] have achieved unprecedented suc-\\ncess in synthesizing random photorealistic images. In real-world\\napplications, a critical functionality requirement of such learning-\\nbased image synthesis methods is the controllability over the syn-\\nthesized visual content. For example, social-media users might want\\nto adjust the position, shape, expression, and body pose of a hu-\\nman or animal in a casually-captured photo; professional movie\\npre-visualization and media editing may require efficiently creating\\nsketches of scenes with certain layouts; and car designers may want\\nto interactively modify the shape of their creations. To satisfy these\\ndiverse user requirements, an ideal controllable image synthesis\\napproach should possess the following properties 1) Flexibility: it\\nshould be able to control different spatial attributes including posi-\\ntion, pose, shape, expression, and layout of the generated objects\\nor animals; 2) Precision: it should be able to control the spatial at-\\ntributes with high precision; 3) Generality: it should be applicable\\nto different object categories but not limited to a certain category.\\nWhile previous works only satisfy one or two of these properties,\\nwe target to achieve them all in this work.'\"\n",
        "text_small = \"Qué es SAM?\""
      ],
      "metadata": {
        "id": "g4sl4ESDiwQy"
      },
      "execution_count": 4,
      "outputs": []
    },
    {
      "cell_type": "markdown",
      "source": [
        "# Paso 2. Tokenizar el texto"
      ],
      "metadata": {
        "id": "tOCzp9Z7j_Gr"
      }
    },
    {
      "cell_type": "code",
      "source": [
        "totalTokens = len(encoding.encode(text_large))\n",
        "totalTokens"
      ],
      "metadata": {
        "colab": {
          "base_uri": "https://localhost:8080/"
        },
        "id": "pVXJnuUlj9lE",
        "outputId": "ee05cddd-934b-4369-c914-e0aac474c5db"
      },
      "execution_count": 8,
      "outputs": [
        {
          "output_type": "execute_result",
          "data": {
            "text/plain": [
              "330"
            ]
          },
          "metadata": {},
          "execution_count": 8
        }
      ]
    },
    {
      "cell_type": "markdown",
      "source": [
        "# Paso 3. Calcular el valor en Dolares"
      ],
      "metadata": {
        "id": "xBOvN5JqmPyT"
      }
    },
    {
      "cell_type": "code",
      "source": [
        "total_cost = totalTokens * 0.0005 /1000\n",
        "print(f\"The total cost for this tokenization is {total_cost:.5f} USD\")"
      ],
      "metadata": {
        "colab": {
          "base_uri": "https://localhost:8080/"
        },
        "id": "6RyeXRtKmPkp",
        "outputId": "f60f3bd7-81bb-48f6-fb26-c1a047bb7dbb"
      },
      "execution_count": 9,
      "outputs": [
        {
          "output_type": "stream",
          "name": "stdout",
          "text": [
            "The total cost for this tokenization is 0.00016 USD\n"
          ]
        }
      ]
    },
    {
      "cell_type": "code",
      "source": [
        "def total_cost_token(text):\n",
        "  totalTokens = len(encoding.encode(text))\n",
        "  total_cost = totalTokens * 0.0005 /1000\n",
        "  print(f\"The total cost for this tokenization is {total_cost:.5f} USD\")\n",
        "  return total_cost"
      ],
      "metadata": {
        "id": "6bJhCESynWb_"
      },
      "execution_count": 10,
      "outputs": []
    },
    {
      "cell_type": "code",
      "source": [
        "total_cost_token(text_small)"
      ],
      "metadata": {
        "colab": {
          "base_uri": "https://localhost:8080/"
        },
        "id": "vW6RyrjPngr7",
        "outputId": "0b2df4be-07a2-44d7-9b9e-7e7953177714"
      },
      "execution_count": 11,
      "outputs": [
        {
          "output_type": "stream",
          "name": "stdout",
          "text": [
            "The total cost for this tokenization is 0.00000 USD\n"
          ]
        },
        {
          "output_type": "execute_result",
          "data": {
            "text/plain": [
              "2e-06"
            ]
          },
          "metadata": {},
          "execution_count": 11
        }
      ]
    }
  ]
}