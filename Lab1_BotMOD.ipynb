{
  "nbformat": 4,
  "nbformat_minor": 0,
  "metadata": {
    "colab": {
      "provenance": [],
      "authorship_tag": "ABX9TyMg2XpRpRuApU60PyZ4heG4",
      "include_colab_link": true
    },
    "kernelspec": {
      "name": "python3",
      "display_name": "Python 3"
    },
    "language_info": {
      "name": "python"
    }
  },
  "cells": [
    {
      "cell_type": "markdown",
      "metadata": {
        "id": "view-in-github",
        "colab_type": "text"
      },
      "source": [
        "<a href=\"https://colab.research.google.com/github/DeisyData/BIT_IA_Bootcamp/blob/main/Lab1_BotMOD.ipynb\" target=\"_parent\"><img src=\"https://colab.research.google.com/assets/colab-badge.svg\" alt=\"Open In Colab\"/></a>"
      ]
    },
    {
      "cell_type": "code",
      "source": [
        "def obtener_respuesta(pregunta, opciones):\n",
        "    print(pregunta)\n",
        "    for clave, texto in opciones.items():\n",
        "        print(f\"{clave}. {texto}\")\n",
        "    while True:\n",
        "        respuesta = input(\"Elige A, B o C: \").strip().upper()\n",
        "        if respuesta in opciones:\n",
        "            return respuesta\n",
        "        else:\n",
        "            print(\"❌ Opción inválida. Intenta de nuevo (A, B o C).\")\n",
        "\n",
        "def identificar_tipo_cuerpo():\n",
        "    print(\"👗 Bienvenida a tu asesor de imagen personalizado.\")\n",
        "    print(\"Vamos a identificar tu tipo de cuerpo con 4 preguntas rápidas.\\n\")\n",
        "\n",
        "    respuestas = []\n",
        "\n",
        "    # Pregunta 1\n",
        "    pregunta1 = \"1️⃣ ¿Cómo describirías la parte superior de tu cuerpo?\\n(Selecciona la opción que más se parezca)\"\n",
        "    opciones1 = {\n",
        "        \"A\": \"Mis hombros son más estrechos que mis caderas.\",\n",
        "        \"B\": \"Mis hombros y caderas tienen un tamaño similar.\",\n",
        "        \"C\": \"Mis hombros son más anchos que mis caderas.\"\n",
        "    }\n",
        "    respuestas.append(obtener_respuesta(pregunta1, opciones1))\n",
        "\n",
        "    # Pregunta 2\n",
        "    pregunta2 = \"2️⃣ ¿Cómo sientes que es tu cintura?\"\n",
        "    opciones2 = {\n",
        "        \"A\": \"Poco marcada o recta.\",\n",
        "        \"B\": \"Definida, se nota bien.\",\n",
        "        \"C\": \"Se nota, pero tiende a ser suave o más redonda.\"\n",
        "    }\n",
        "    respuestas.append(obtener_respuesta(pregunta2, opciones2))\n",
        "\n",
        "    # Pregunta 3\n",
        "    pregunta3 = \"3️⃣ ¿Cómo describirías la parte inferior de tu cuerpo?\"\n",
        "    opciones3 = {\n",
        "        \"A\": \"Piernas delgadas, caderas estrechas.\",\n",
        "        \"B\": \"Caderas proporcionadas, piernas con algo de forma.\",\n",
        "        \"C\": \"Caderas anchas o marcadas, piernas con curvas.\"\n",
        "    }\n",
        "    respuestas.append(obtener_respuesta(pregunta3, opciones3))\n",
        "\n",
        "    # Pregunta 4\n",
        "    pregunta4 = \"4️⃣ Y en general, ¿cómo definirías tu complexión?\"\n",
        "    opciones4 = {\n",
        "        \"A\": \"Delgada y larga, me cuesta subir de peso.\",\n",
        "        \"B\": \"Atlético, con facilidad para tonificar o ganar músculo.\",\n",
        "        \"C\": \"Curvilínea, con facilidad para ganar peso.\"\n",
        "    }\n",
        "    respuestas.append(obtener_respuesta(pregunta4, opciones4))\n",
        "\n",
        "    # Contar respuestas\n",
        "    tipo = {\"A\": 0, \"B\": 0, \"C\": 0}\n",
        "    for r in respuestas:\n",
        "        tipo[r] += 1\n",
        "\n",
        "    # Determinar resultado\n",
        "    if tipo[\"A\"] >= 3:\n",
        "        resultado = \"Ectomorfo → Delgada, con hombros y caderas estrechas.\"\n",
        "    elif tipo[\"B\"] >= 3:\n",
        "        resultado = \"Mesomorfo → Atlético y proporcionado, con cintura definida.\"\n",
        "    elif tipo[\"C\"] >= 3:\n",
        "        resultado = \"Endomorfo → Curvilínea, con caderas anchas y facilidad para ganar peso.\"\n",
        "    else:\n",
        "        resultado = \"🔍 Tu tipo de cuerpo es mixto, ¡tienes características combinadas únicas!\"\n",
        "\n",
        "    print(\"\\n🎯 Resultado:\")\n",
        "    print(\"¡Gracias por responder!\")\n",
        "    print(f\"Con base en tus respuestas, tu tipo de cuerpo se parece más a:\\n👉 {resultado}\")\n",
        "    print(\"\\n📌 Recuerda: este tipo de cuerpo no es una etiqueta, ¡es solo una guía para resaltar tu belleza!\")\n",
        "    print(\"¿Listas para ver tus recomendaciones? 💖\")\n",
        "\n",
        "# Ejecutar\n",
        "if __name__ == \"__main__\":\n",
        "    identificar_tipo_cuerpo()\n",
        "\n"
      ],
      "metadata": {
        "colab": {
          "base_uri": "https://localhost:8080/",
          "height": 460
        },
        "id": "cYDUD4FY7_lY",
        "outputId": "e591b1a8-4274-42dd-af6d-005dfbff0d1c"
      },
      "execution_count": 9,
      "outputs": [
        {
          "output_type": "stream",
          "name": "stdout",
          "text": [
            "👗 Paso 2: Identificación del tipo de cuerpo\n",
            "¿Cuál de estas opciones se parece más a tu cuerpo?\n",
            "\n",
            "🔹 A: Delgada, hombros y caderas estrechas (Ectomorfo)\n",
            "🔸 B: Cuerpo proporcionado, cintura definida (Mesomorfo)\n",
            "🔻 C: Caderas más anchas, curvas marcadas (Endomorfo)\n",
            "\n",
            "🖼️ Mostrando imágenes ilustrativas...\n"
          ]
        },
        {
          "output_type": "error",
          "ename": "KeyboardInterrupt",
          "evalue": "Interrupted by user",
          "traceback": [
            "\u001b[0;31m---------------------------------------------------------------------------\u001b[0m",
            "\u001b[0;31mKeyboardInterrupt\u001b[0m                         Traceback (most recent call last)",
            "\u001b[0;32m/tmp/ipython-input-9-3841797440.py\u001b[0m in \u001b[0;36m<cell line: 0>\u001b[0;34m()\u001b[0m\n\u001b[1;32m     27\u001b[0m \u001b[0;31m# Ejecutar\u001b[0m\u001b[0;34m\u001b[0m\u001b[0;34m\u001b[0m\u001b[0m\n\u001b[1;32m     28\u001b[0m \u001b[0;32mif\u001b[0m \u001b[0m__name__\u001b[0m \u001b[0;34m==\u001b[0m \u001b[0;34m\"__main__\"\u001b[0m\u001b[0;34m:\u001b[0m\u001b[0;34m\u001b[0m\u001b[0;34m\u001b[0m\u001b[0m\n\u001b[0;32m---> 29\u001b[0;31m     \u001b[0mmostrar_opciones_cuerpo\u001b[0m\u001b[0;34m(\u001b[0m\u001b[0;34m)\u001b[0m\u001b[0;34m\u001b[0m\u001b[0;34m\u001b[0m\u001b[0m\n\u001b[0m",
            "\u001b[0;32m/tmp/ipython-input-9-3841797440.py\u001b[0m in \u001b[0;36mmostrar_opciones_cuerpo\u001b[0;34m()\u001b[0m\n\u001b[1;32m     14\u001b[0m \u001b[0;34m\u001b[0m\u001b[0m\n\u001b[1;32m     15\u001b[0m \u001b[0;34m\u001b[0m\u001b[0m\n\u001b[0;32m---> 16\u001b[0;31m     \u001b[0meleccion\u001b[0m \u001b[0;34m=\u001b[0m \u001b[0minput\u001b[0m\u001b[0;34m(\u001b[0m\u001b[0;34m\"Escribe A, B o C según tu tipo de cuerpo: \"\u001b[0m\u001b[0;34m)\u001b[0m\u001b[0;34m.\u001b[0m\u001b[0mstrip\u001b[0m\u001b[0;34m(\u001b[0m\u001b[0;34m)\u001b[0m\u001b[0;34m.\u001b[0m\u001b[0mupper\u001b[0m\u001b[0;34m(\u001b[0m\u001b[0;34m)\u001b[0m\u001b[0;34m\u001b[0m\u001b[0;34m\u001b[0m\u001b[0m\n\u001b[0m\u001b[1;32m     17\u001b[0m \u001b[0;34m\u001b[0m\u001b[0m\n\u001b[1;32m     18\u001b[0m     tipos = {\n",
            "\u001b[0;32m/usr/local/lib/python3.11/dist-packages/ipykernel/kernelbase.py\u001b[0m in \u001b[0;36mraw_input\u001b[0;34m(self, prompt)\u001b[0m\n\u001b[1;32m   1175\u001b[0m                 \u001b[0;34m\"raw_input was called, but this frontend does not support input requests.\"\u001b[0m\u001b[0;34m\u001b[0m\u001b[0;34m\u001b[0m\u001b[0m\n\u001b[1;32m   1176\u001b[0m             )\n\u001b[0;32m-> 1177\u001b[0;31m         return self._input_request(\n\u001b[0m\u001b[1;32m   1178\u001b[0m             \u001b[0mstr\u001b[0m\u001b[0;34m(\u001b[0m\u001b[0mprompt\u001b[0m\u001b[0;34m)\u001b[0m\u001b[0;34m,\u001b[0m\u001b[0;34m\u001b[0m\u001b[0;34m\u001b[0m\u001b[0m\n\u001b[1;32m   1179\u001b[0m             \u001b[0mself\u001b[0m\u001b[0;34m.\u001b[0m\u001b[0m_parent_ident\u001b[0m\u001b[0;34m[\u001b[0m\u001b[0;34m\"shell\"\u001b[0m\u001b[0;34m]\u001b[0m\u001b[0;34m,\u001b[0m\u001b[0;34m\u001b[0m\u001b[0;34m\u001b[0m\u001b[0m\n",
            "\u001b[0;32m/usr/local/lib/python3.11/dist-packages/ipykernel/kernelbase.py\u001b[0m in \u001b[0;36m_input_request\u001b[0;34m(self, prompt, ident, parent, password)\u001b[0m\n\u001b[1;32m   1217\u001b[0m             \u001b[0;32mexcept\u001b[0m \u001b[0mKeyboardInterrupt\u001b[0m\u001b[0;34m:\u001b[0m\u001b[0;34m\u001b[0m\u001b[0;34m\u001b[0m\u001b[0m\n\u001b[1;32m   1218\u001b[0m                 \u001b[0;31m# re-raise KeyboardInterrupt, to truncate traceback\u001b[0m\u001b[0;34m\u001b[0m\u001b[0;34m\u001b[0m\u001b[0m\n\u001b[0;32m-> 1219\u001b[0;31m                 \u001b[0;32mraise\u001b[0m \u001b[0mKeyboardInterrupt\u001b[0m\u001b[0;34m(\u001b[0m\u001b[0;34m\"Interrupted by user\"\u001b[0m\u001b[0;34m)\u001b[0m \u001b[0;32mfrom\u001b[0m \u001b[0;32mNone\u001b[0m\u001b[0;34m\u001b[0m\u001b[0;34m\u001b[0m\u001b[0m\n\u001b[0m\u001b[1;32m   1220\u001b[0m             \u001b[0;32mexcept\u001b[0m \u001b[0mException\u001b[0m\u001b[0;34m:\u001b[0m\u001b[0;34m\u001b[0m\u001b[0;34m\u001b[0m\u001b[0m\n\u001b[1;32m   1221\u001b[0m                 \u001b[0mself\u001b[0m\u001b[0;34m.\u001b[0m\u001b[0mlog\u001b[0m\u001b[0;34m.\u001b[0m\u001b[0mwarning\u001b[0m\u001b[0;34m(\u001b[0m\u001b[0;34m\"Invalid Message:\"\u001b[0m\u001b[0;34m,\u001b[0m \u001b[0mexc_info\u001b[0m\u001b[0;34m=\u001b[0m\u001b[0;32mTrue\u001b[0m\u001b[0;34m)\u001b[0m\u001b[0;34m\u001b[0m\u001b[0;34m\u001b[0m\u001b[0m\n",
            "\u001b[0;31mKeyboardInterrupt\u001b[0m: Interrupted by user"
          ]
        }
      ]
    }
  ]
}