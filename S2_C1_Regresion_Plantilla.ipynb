{
  "nbformat": 4,
  "nbformat_minor": 0,
  "metadata": {
    "colab": {
      "provenance": [],
      "authorship_tag": "ABX9TyOCjEsSz26z2ClP3dSb0Acj",
      "include_colab_link": true
    },
    "kernelspec": {
      "name": "python3",
      "display_name": "Python 3"
    },
    "language_info": {
      "name": "python"
    }
  },
  "cells": [
    {
      "cell_type": "markdown",
      "metadata": {
        "id": "view-in-github",
        "colab_type": "text"
      },
      "source": [
        "<a href=\"https://colab.research.google.com/github/DeisyData/BIT_IA_Bootcamp/blob/main/S2_C1_Regresion_Plantilla.ipynb\" target=\"_parent\"><img src=\"https://colab.research.google.com/assets/colab-badge.svg\" alt=\"Open In Colab\"/></a>"
      ]
    },
    {
      "cell_type": "markdown",
      "source": [
        "**Modelos de Regresión Lineal**\n",
        "\n",
        "\n",
        "\n",
        "1. Cree una carpeta en drive  'Models'\n",
        "2. Guarde los archivos .plk\n",
        "3. Actualice las ruta de la carpeta\n",
        "\n",
        "\n"
      ],
      "metadata": {
        "id": "TXyBVqcvO4q6"
      }
    },
    {
      "cell_type": "code",
      "source": [
        "from google.colab import drive\n",
        "drive.mount('/content/drive')\n",
        "import os\n",
        "# Se envia el documento consolidado a la carpeta SAC_NOTAS_CONSOLIDADO\n",
        "os.chdir('/content/drive/MyDrive/Colab Notebooks/TU CARPETA')\n",
        "os.listdir()"
      ],
      "metadata": {
        "colab": {
          "base_uri": "https://localhost:8080/"
        },
        "id": "qcde1eTGmRE2",
        "outputId": "eebbe5cc-bff9-4336-e8ff-d6bee789c455"
      },
      "execution_count": null,
      "outputs": [
        {
          "output_type": "stream",
          "name": "stdout",
          "text": [
            "Drive already mounted at /content/drive; to attempt to forcibly remount, call drive.mount(\"/content/drive\", force_remount=True).\n"
          ]
        },
        {
          "output_type": "execute_result",
          "data": {
            "text/plain": [
              "['linear_regression_model.pkl']"
            ]
          },
          "metadata": {},
          "execution_count": 3
        }
      ]
    },
    {
      "cell_type": "markdown",
      "source": [
        "\n",
        "\n",
        "# Actividad 1.\n",
        "\n",
        "1. Ingrese un valor  y realice una prediccion con el modelo lineal\n",
        "\n"
      ],
      "metadata": {
        "id": "DX9jzaoLQJm5"
      }
    },
    {
      "cell_type": "code",
      "execution_count": null,
      "metadata": {
        "id": "kA55dPTpAyMC"
      },
      "outputs": [],
      "source": [
        "import joblib\n",
        "# Cargar el modelo desde el archivo\n",
        "loaded_model = joblib.load('TUS MODELOS.pkl')"
      ]
    },
    {
      "cell_type": "code",
      "source": [
        "# Hacer predicciones con el modelo cargado\n",
        "print(\"Predicción del Ingreso Anual a partir de las Compras en productos de Carne \")\n",
        "\n",
        "opcion = int(input(\"Ingrese el valor de compras en carne\"))\n",
        "predicted_class = loaded_model.predict([[opcion]])\n",
        "\n",
        "print(f\"EL ingreso anual de esta persona  es de : {predicted_class}\")"
      ],
      "metadata": {
        "id": "R1c9t7TYm69e"
      },
      "execution_count": null,
      "outputs": []
    },
    {
      "cell_type": "markdown",
      "source": [
        "# Actividad 2.\n",
        "\n",
        "1. Cargue el modelo de regresión polinómica\n",
        "2. Ingrese un valor  y realice una prediccion con el modelo polinómico"
      ],
      "metadata": {
        "id": "YE9ot9lsQ6qK"
      }
    },
    {
      "cell_type": "code",
      "source": [
        "\n"
      ],
      "metadata": {
        "id": "gYknB9DLQZzL"
      },
      "execution_count": null,
      "outputs": []
    },
    {
      "cell_type": "markdown",
      "source": [
        "# Actividad 3.\n",
        "\n",
        "1. Modique que codigo para que con el mismo datos prediga con los dos modelos\n",
        "2. Realice un ciclo FOR que 5 valores ingresados por teclado\n",
        "3. Grafiquelo"
      ],
      "metadata": {
        "id": "rOuAAPVIQ8s2"
      }
    },
    {
      "cell_type": "code",
      "source": [],
      "metadata": {
        "id": "GnGvv9HjQotS"
      },
      "execution_count": null,
      "outputs": []
    }
  ]
}