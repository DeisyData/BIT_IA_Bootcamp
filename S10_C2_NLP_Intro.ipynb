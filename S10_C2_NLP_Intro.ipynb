{
  "cells": [
    {
      "cell_type": "markdown",
      "metadata": {
        "id": "view-in-github",
        "colab_type": "text"
      },
      "source": [
        "<a href=\"https://colab.research.google.com/github/DeisyData/BIT_IA_Bootcamp/blob/main/S10_C2_NLP_Intro.ipynb\" target=\"_parent\"><img src=\"https://colab.research.google.com/assets/colab-badge.svg\" alt=\"Open In Colab\"/></a>"
      ]
    },
    {
      "cell_type": "markdown",
      "metadata": {
        "id": "MasHRxALC3ZC"
      },
      "source": [
        "# Librerías"
      ]
    },
    {
      "cell_type": "code",
      "execution_count": 13,
      "metadata": {
        "colab": {
          "base_uri": "https://localhost:8080/"
        },
        "id": "7ZuGvnqUChpP",
        "outputId": "953d24cd-7790-4c70-ac2b-dc5aebfcbd0b"
      },
      "outputs": [
        {
          "output_type": "stream",
          "name": "stderr",
          "text": [
            "[nltk_data] Downloading package cess_esp to /root/nltk_data...\n",
            "[nltk_data]   Package cess_esp is already up-to-date!\n"
          ]
        },
        {
          "output_type": "execute_result",
          "data": {
            "text/plain": [
              "True"
            ]
          },
          "metadata": {},
          "execution_count": 13
        }
      ],
      "source": [
        "import nltk\n",
        "nltk.download('cess_esp')"
      ]
    },
    {
      "cell_type": "code",
      "execution_count": 14,
      "metadata": {
        "id": "bbgbLJEKDzar"
      },
      "outputs": [],
      "source": [
        "import re"
      ]
    },
    {
      "cell_type": "markdown",
      "metadata": {
        "id": "CksYCG1ZEAMB"
      },
      "source": [
        "# Corpus"
      ]
    },
    {
      "cell_type": "code",
      "execution_count": 15,
      "metadata": {
        "colab": {
          "base_uri": "https://localhost:8080/"
        },
        "id": "MrcCVIuuEC8e",
        "outputId": "de81eee3-8888-4dd4-a35c-f92be77eea04"
      },
      "outputs": [
        {
          "output_type": "execute_result",
          "data": {
            "text/plain": [
              "6030"
            ]
          },
          "metadata": {},
          "execution_count": 15
        }
      ],
      "source": [
        "corpus = nltk.corpus.cess_esp.sents()\n",
        "len(corpus) # es una tupla de noticias, nos da el número de noticias"
      ]
    },
    {
      "cell_type": "code",
      "execution_count": 16,
      "metadata": {
        "colab": {
          "base_uri": "https://localhost:8080/"
        },
        "id": "XwDO4le-ETgQ",
        "outputId": "592e1316-de14-4d59-e207-c9020bf71448"
      },
      "outputs": [
        {
          "output_type": "execute_result",
          "data": {
            "text/plain": [
              "[['El', 'grupo', 'estatal', 'Electricité_de_France', '-Fpa-', 'EDF', '-Fpt-', 'anunció', 'hoy', ',', 'jueves', ',', 'la', 'compra', 'del', '51_por_ciento', 'de', 'la', 'empresa', 'mexicana', 'Electricidad_Águila_de_Altamira', '-Fpa-', 'EAA', '-Fpt-', ',', 'creada', 'por', 'el', 'japonés', 'Mitsubishi_Corporation', 'para', 'poner_en_marcha', 'una', 'central', 'de', 'gas', 'de', '495', 'megavatios', '.'], ['Una', 'portavoz', 'de', 'EDF', 'explicó', 'a', 'EFE', 'que', 'el', 'proyecto', 'para', 'la', 'construcción', 'de', 'Altamira_2', ',', 'al', 'norte', 'de', 'Tampico', ',', 'prevé', 'la', 'utilización', 'de', 'gas', 'natural', 'como', 'combustible', 'principal', 'en', 'una', 'central', 'de', 'ciclo', 'combinado', 'que', 'debe', 'empezar', 'a', 'funcionar', 'en', 'mayo_del_2002', '.'], ...]"
            ]
          },
          "metadata": {},
          "execution_count": 16
        }
      ],
      "source": [
        "corpus"
      ]
    },
    {
      "cell_type": "markdown",
      "source": [
        "Se organiza en una sola cadena de texto"
      ],
      "metadata": {
        "id": "kMLCLV22Gm67"
      }
    },
    {
      "cell_type": "code",
      "execution_count": 21,
      "metadata": {
        "id": "6OhHZeGJE8K_"
      },
      "outputs": [],
      "source": [
        "vector = [w for i in corpus for w in i]\n",
        "\n",
        "#for i in range(len(corpus)):\n",
        "#  for j in range(len(corpus[i])):\n",
        "#    vector.append(corpus[i][j])"
      ]
    },
    {
      "cell_type": "code",
      "source": [
        "# Nos entrega el número de palabras\n",
        "len(vector)"
      ],
      "metadata": {
        "colab": {
          "base_uri": "https://localhost:8080/"
        },
        "id": "Erpqc38ZI2Vt",
        "outputId": "32804de7-3b16-4345-8951-7ac50adfc561"
      },
      "execution_count": 28,
      "outputs": [
        {
          "output_type": "execute_result",
          "data": {
            "text/plain": [
              "192686"
            ]
          },
          "metadata": {},
          "execution_count": 28
        }
      ]
    },
    {
      "cell_type": "code",
      "execution_count": 22,
      "metadata": {
        "colab": {
          "base_uri": "https://localhost:8080/"
        },
        "id": "7WBiCxjlFirj",
        "outputId": "2ff93c6f-0a28-48f2-d26d-51da67f46aa0"
      },
      "outputs": [
        {
          "output_type": "execute_result",
          "data": {
            "text/plain": [
              "['gas',\n",
              " 'de',\n",
              " '495',\n",
              " 'megavatios',\n",
              " '.',\n",
              " 'Una',\n",
              " 'portavoz',\n",
              " 'de',\n",
              " 'EDF',\n",
              " 'explicó',\n",
              " 'a',\n",
              " 'EFE',\n",
              " 'que',\n",
              " 'el',\n",
              " 'proyecto']"
            ]
          },
          "metadata": {},
          "execution_count": 22
        }
      ],
      "source": [
        "vector[35:50]"
      ]
    },
    {
      "cell_type": "markdown",
      "source": [
        "# ANCLAS\n",
        "* TEXTO AL INCIO Y AL FINAL"
      ],
      "metadata": {
        "id": "pwDTD0NyLjJc"
      }
    },
    {
      "cell_type": "markdown",
      "source": [
        "Q1. ¿ Qué palabras tienen la consonate 'pa'?"
      ],
      "metadata": {
        "id": "okwYze1PHBd9"
      }
    },
    {
      "cell_type": "code",
      "source": [
        "vector_pa = [w for w in vector if re.search('es', w)]\n",
        "vector_pa[:10]"
      ],
      "metadata": {
        "colab": {
          "base_uri": "https://localhost:8080/"
        },
        "id": "3Q_zfjQdHnO0",
        "outputId": "824ff0f0-c319-4438-dabd-f22681c22af9"
      },
      "execution_count": 29,
      "outputs": [
        {
          "output_type": "execute_result",
          "data": {
            "text/plain": [
              "['estatal',\n",
              " 'jueves',\n",
              " 'empresa',\n",
              " 'centrales',\n",
              " 'francesa',\n",
              " 'japonesa',\n",
              " 'millones',\n",
              " 'millones',\n",
              " 'dólares',\n",
              " 'millones']"
            ]
          },
          "metadata": {},
          "execution_count": 29
        }
      ]
    },
    {
      "cell_type": "markdown",
      "source": [
        "* Q2. ¿ Qué palabras **empiezan** con la consonate 'pa'?\n",
        "* Q3. ¿ Qué palabras **finalizan** con la consonate 'pa'?"
      ],
      "metadata": {
        "id": "uPmDgYeuJvP_"
      }
    },
    {
      "cell_type": "code",
      "source": [
        "vector_pa = [w for w in vector if re.search('^pa', w)]\n",
        "vector_pa[:10]"
      ],
      "metadata": {
        "colab": {
          "base_uri": "https://localhost:8080/"
        },
        "id": "-ACfBiScJ80C",
        "outputId": "2fa1f3eb-f851-4f46-9536-a9ee1f8d43cd"
      },
      "execution_count": 31,
      "outputs": [
        {
          "output_type": "execute_result",
          "data": {
            "text/plain": [
              "['para',\n",
              " 'para',\n",
              " 'pasará',\n",
              " 'pagó',\n",
              " 'participación',\n",
              " 'participaron',\n",
              " 'para',\n",
              " 'para',\n",
              " 'para',\n",
              " 'para']"
            ]
          },
          "metadata": {},
          "execution_count": 31
        }
      ]
    },
    {
      "cell_type": "code",
      "source": [
        "vector_pa = [w for w in vector if re.search('pa$', w)]\n",
        "vector_pa[:3]"
      ],
      "metadata": {
        "colab": {
          "base_uri": "https://localhost:8080/"
        },
        "id": "L-3worUFKK5_",
        "outputId": "8b98f796-586f-4803-cc31-b6dc13d56690"
      },
      "execution_count": 32,
      "outputs": [
        {
          "output_type": "execute_result",
          "data": {
            "text/plain": [
              "['Europa',\n",
              " 'Eurocopa',\n",
              " 'Europa',\n",
              " 'Europa',\n",
              " 'Europa',\n",
              " 'Europa',\n",
              " 'ocupa',\n",
              " 'etapa',\n",
              " 'etapa',\n",
              " 'ocupa']"
            ]
          },
          "metadata": {},
          "execution_count": 32
        }
      ]
    },
    {
      "cell_type": "markdown",
      "metadata": {
        "id": "0OxtAV6cE7qO"
      },
      "source": [
        "* Q5. ¿ Qué palabras **empiezan** con la consonate 'Pa'?\n"
      ]
    },
    {
      "cell_type": "markdown",
      "source": [],
      "metadata": {
        "id": "RqhGCqthKyGj"
      }
    },
    {
      "cell_type": "markdown",
      "source": [],
      "metadata": {
        "id": "9G8PBqfeKyA5"
      }
    },
    {
      "cell_type": "code",
      "source": [
        "vector_pa = [w for w in vector if re.search('^Pa', w)]\n",
        "vector_pa[:3]"
      ],
      "metadata": {
        "colab": {
          "base_uri": "https://localhost:8080/"
        },
        "id": "8eHYp9_HKmLN",
        "outputId": "a0a923e9-4e16-4002-d625-b2909bc4e9b4"
      },
      "execution_count": 35,
      "outputs": [
        {
          "output_type": "execute_result",
          "data": {
            "text/plain": [
              "['Parlamento', 'Patrick_Rafter', 'Partido_Popular']"
            ]
          },
          "metadata": {},
          "execution_count": 35
        }
      ]
    },
    {
      "cell_type": "markdown",
      "source": [
        "# RANGOS\n",
        "* BUSCA EN UN CONJUNTO DE VALORES [A-Z\n",
        "* - ES EL RANGO ENTRE LOS DOS\n"
      ],
      "metadata": {
        "id": "xPbPbq8HKypv"
      }
    },
    {
      "cell_type": "code",
      "source": [
        "vector_pa = [w for w in vector if re.search('^[A-Z]', w)]"
      ],
      "metadata": {
        "id": "yJ3f9jA6LTdj"
      },
      "execution_count": 42,
      "outputs": []
    },
    {
      "cell_type": "markdown",
      "source": [],
      "metadata": {
        "id": "6ncc01XEQYp_"
      }
    },
    {
      "cell_type": "code",
      "source": [
        "vector_pa[:40]"
      ],
      "metadata": {
        "colab": {
          "base_uri": "https://localhost:8080/"
        },
        "id": "W9NERjjOL6WN",
        "outputId": "dc79044f-2051-4d5f-94e9-9f5eff983f58"
      },
      "execution_count": 43,
      "outputs": [
        {
          "output_type": "execute_result",
          "data": {
            "text/plain": [
              "['El',\n",
              " 'Electricité_de_France',\n",
              " 'EDF',\n",
              " 'Electricidad_Águila_de_Altamira',\n",
              " 'EAA',\n",
              " 'Mitsubishi_Corporation',\n",
              " 'Una',\n",
              " 'EDF',\n",
              " 'EFE',\n",
              " 'Altamira_2',\n",
              " 'Tampico',\n",
              " 'La',\n",
              " 'México',\n",
              " 'EAA',\n",
              " 'Comisión_Federal_de_Electricidad',\n",
              " 'CFE',\n",
              " 'EDF',\n",
              " 'EAA',\n",
              " 'Altamira_2',\n",
              " 'EDF',\n",
              " 'Mitsubishi',\n",
              " 'México',\n",
              " 'Río_Bravo',\n",
              " 'Saltillo',\n",
              " 'Altamira',\n",
              " 'Tuxpán',\n",
              " 'EDF',\n",
              " 'Río_Bravo',\n",
              " 'Saltillo',\n",
              " 'La',\n",
              " 'Málaga',\n",
              " 'PP',\n",
              " 'Congreso',\n",
              " 'Celia_Villalobos',\n",
              " 'En',\n",
              " 'PP',\n",
              " 'Villalobos',\n",
              " 'La',\n",
              " 'José_María_Aznar',\n",
              " 'PP']"
            ]
          },
          "metadata": {},
          "execution_count": 43
        }
      ]
    },
    {
      "cell_type": "markdown",
      "source": [
        "# CLAUSURA\n",
        "* Un cadena de caracteres se repita 0 o más veces (*)\n",
        "* Un cadena de caracteres se repita 1 o más veces (+)\n"
      ],
      "metadata": {
        "id": "ye5t-cgUQf7N"
      }
    },
    {
      "cell_type": "code",
      "source": [
        "vector_pa = [w for w in vector if re.search('(ta)+', w)]\n",
        "vector_pa[:10]"
      ],
      "metadata": {
        "colab": {
          "base_uri": "https://localhost:8080/"
        },
        "id": "1Vl3JPU1Q51K",
        "outputId": "ea40cf3e-756d-479d-bab8-c8ec7d55b006"
      },
      "execution_count": 48,
      "outputs": [
        {
          "output_type": "execute_result",
          "data": {
            "text/plain": [
              "['estatal',\n",
              " 'Electricidad_Águila_de_Altamira',\n",
              " 'portavoz',\n",
              " 'Altamira_2',\n",
              " 'venta',\n",
              " 'mayoritaria',\n",
              " 'Altamira_2',\n",
              " 'explotarla',\n",
              " 'accionista',\n",
              " 'licitación']"
            ]
          },
          "metadata": {},
          "execution_count": 48
        }
      ]
    },
    {
      "cell_type": "code",
      "source": [],
      "metadata": {
        "id": "RQHU8KdwSBjN"
      },
      "execution_count": null,
      "outputs": []
    },
    {
      "cell_type": "code",
      "source": [
        "vector_pa = [w for w in vector if re.search('^(ta)*', w)] #  ^(ta)*: aunque obliga a inciiar en 'ta' con * dice 0 o más ves entonces puede ser cualquierea\n",
        "vector_pa[:10]"
      ],
      "metadata": {
        "colab": {
          "base_uri": "https://localhost:8080/"
        },
        "id": "T6lIlqV0RlQf",
        "outputId": "8b9ae148-0c84-4fa1-ff8b-135be872e0af"
      },
      "execution_count": 51,
      "outputs": [
        {
          "output_type": "execute_result",
          "data": {
            "text/plain": [
              "['El',\n",
              " 'grupo',\n",
              " 'estatal',\n",
              " 'Electricité_de_France',\n",
              " '-Fpa-',\n",
              " 'EDF',\n",
              " '-Fpt-',\n",
              " 'anunció',\n",
              " 'hoy',\n",
              " ',']"
            ]
          },
          "metadata": {},
          "execution_count": 51
        }
      ]
    },
    {
      "cell_type": "markdown",
      "source": [
        "# Tokenización"
      ],
      "metadata": {
        "id": "0yfhTcmGSLHB"
      }
    },
    {
      "cell_type": "code",
      "source": [
        "vector_3 = ['En', 'los', 'E.U.', 'esa', 'postal', 'vale', '$15.50', '99%', '97.3%']"
      ],
      "metadata": {
        "id": "74qP4rXWSHln"
      },
      "execution_count": 59,
      "outputs": []
    },
    {
      "cell_type": "code",
      "source": [
        "vector_USD = [w for w in vector_3 if re.search('^[$]', w)]\n",
        "vector_USD"
      ],
      "metadata": {
        "colab": {
          "base_uri": "https://localhost:8080/"
        },
        "id": "TkRCKl83SoHd",
        "outputId": "bee0b1d3-cb27-48b5-f038-642a0be240b6"
      },
      "execution_count": 58,
      "outputs": [
        {
          "output_type": "execute_result",
          "data": {
            "text/plain": [
              "['$15.50']"
            ]
          },
          "metadata": {},
          "execution_count": 58
        }
      ]
    },
    {
      "cell_type": "code",
      "source": [
        "vector_USD = [w for w in vector_3 if re.search('[%]$', w)]\n",
        "vector_USD"
      ],
      "metadata": {
        "colab": {
          "base_uri": "https://localhost:8080/"
        },
        "id": "agdgqlC1TBkb",
        "outputId": "e5e1b424-5d11-40e4-e03c-a29708b4d1f2"
      },
      "execution_count": 60,
      "outputs": [
        {
          "output_type": "execute_result",
          "data": {
            "text/plain": [
              "['99%', '97.3%']"
            ]
          },
          "metadata": {},
          "execution_count": 60
        }
      ]
    },
    {
      "cell_type": "markdown",
      "source": [
        "## tokenización 2"
      ],
      "metadata": {
        "id": "MYNltQ-eTi38"
      }
    },
    {
      "cell_type": "markdown",
      "source": [],
      "metadata": {
        "id": "PjunXEQ4WFfo"
      }
    },
    {
      "cell_type": "code",
      "source": [
        "vector_Frase = \"Carlos gasto $1200 en ropa \\n se le aplicó un descuento de 10%\"\n",
        "# D: contien el descuento\n",
        "# G: contiene el valor que pagó"
      ],
      "metadata": {
        "id": "tgFAsb80ThVl"
      },
      "execution_count": 68,
      "outputs": []
    },
    {
      "cell_type": "code",
      "source": [
        "print(re.split(r'[ \\W\\t\\n]+',vector_Frase))"
      ],
      "metadata": {
        "colab": {
          "base_uri": "https://localhost:8080/"
        },
        "id": "G9aE2CqCVAp3",
        "outputId": "cd2978b8-4d5a-4f3d-9b37-4ef255cf4642"
      },
      "execution_count": 69,
      "outputs": [
        {
          "output_type": "stream",
          "name": "stdout",
          "text": [
            "['Carlos', 'gasto', '1200', 'en', 'ropa', 'se', 'le', 'aplicó', 'un', 'descuento', 'de', '10', '']\n"
          ]
        }
      ]
    },
    {
      "cell_type": "code",
      "source": [
        "Frase = vector_Frase.split()\n",
        "Frase"
      ],
      "metadata": {
        "colab": {
          "base_uri": "https://localhost:8080/"
        },
        "id": "awn15iKzV2wq",
        "outputId": "605b4a0e-bbca-4f84-c3d3-00512c39e231"
      },
      "execution_count": 70,
      "outputs": [
        {
          "output_type": "execute_result",
          "data": {
            "text/plain": [
              "['Carlos',\n",
              " 'gasto',\n",
              " '$1200',\n",
              " 'en',\n",
              " 'ropa',\n",
              " 'se',\n",
              " 'le',\n",
              " 'aplicó',\n",
              " 'un',\n",
              " 'descuento',\n",
              " 'de',\n",
              " '10%']"
            ]
          },
          "metadata": {},
          "execution_count": 70
        }
      ]
    },
    {
      "cell_type": "code",
      "source": [
        "frase_vctr = Frase\n",
        "vector_frase_d = [wrd for wrd in frase_vctr if re.search('[%]', wrd)]\n",
        "vector_frase_g = [wrd for wrd in frase_vctr if re.search('[$]', wrd)]"
      ],
      "metadata": {
        "id": "Fev7vDVqW-Ml"
      },
      "execution_count": 71,
      "outputs": []
    },
    {
      "cell_type": "code",
      "source": [
        "vector_frase_g"
      ],
      "metadata": {
        "colab": {
          "base_uri": "https://localhost:8080/"
        },
        "id": "ZtXZruP8XIV5",
        "outputId": "ca20fe42-3bdf-4cc0-c986-0769958aaa42"
      },
      "execution_count": 73,
      "outputs": [
        {
          "output_type": "execute_result",
          "data": {
            "text/plain": [
              "['$1200']"
            ]
          },
          "metadata": {},
          "execution_count": 73
        }
      ]
    },
    {
      "cell_type": "markdown",
      "source": [],
      "metadata": {
        "id": "keFcYp7vUKY0"
      }
    },
    {
      "cell_type": "code",
      "source": [
        "frase2 = \"El cliente María Gómez compró un artículo por $250.00 el 12/03/2024. Contacto: maria.gomez@example.com, teléfono: +57 300-123-4567.\""
      ],
      "metadata": {
        "id": "p62IEUjXXs1H"
      },
      "execution_count": 75,
      "outputs": []
    },
    {
      "cell_type": "code",
      "source": [
        "Frase = frase2.split()\n",
        "Frase"
      ],
      "metadata": {
        "colab": {
          "base_uri": "https://localhost:8080/"
        },
        "id": "Y9ibItQkYCap",
        "outputId": "f24a1349-5141-436f-b4dd-42b85942e4c6"
      },
      "execution_count": 77,
      "outputs": [
        {
          "output_type": "execute_result",
          "data": {
            "text/plain": [
              "['El',\n",
              " 'cliente',\n",
              " 'María',\n",
              " 'Gómez',\n",
              " 'compró',\n",
              " 'un',\n",
              " 'artículo',\n",
              " 'por',\n",
              " '$250.00',\n",
              " 'el',\n",
              " '12/03/2024.',\n",
              " 'Contacto:',\n",
              " 'maria.gomez@example.com,',\n",
              " 'teléfono:',\n",
              " '+57',\n",
              " '300-123-4567.']"
            ]
          },
          "metadata": {},
          "execution_count": 77
        }
      ]
    },
    {
      "cell_type": "code",
      "source": [
        "\n",
        "# Lista de textos\n",
        "textos = [\n",
        "    \"El cliente María Gómez compró un artículo por $250.00 el 12/03/2024. Contacto: maria.gomez@example.com, teléfono: \",\n",
        "    \"Pedro López adquirió un paquete por $1250.50 el 01/01/2023. Correo: pedro.lopez@example.org, móvil: +1 (415) 987-6543.\",\n",
        "    \"La transacción de Luisa Fernández fue de $89 el 22/07/2024. Email: luisa_fernandez23@gmail.com, teléfono: 320-765-4321.\",\n",
        "    \"Compra realizada por Juan Pérez por $560.75 el 05/11/2022. Email de contacto: juan.perez123@correo.com, teléfono: +34 678-543-210.\",\n",
        "    \"El cliente Ana Torres gastó $42.30 el 15/08/2024. Contacto: ana.torres@empresa.com, móvil: +57 301-456-7890.\"\n",
        "]\n",
        "\n",
        "# Generar un data frame: email, telefono, valor, fecha"
      ],
      "metadata": {
        "id": "i52Q6p_sYnOq"
      },
      "execution_count": 118,
      "outputs": []
    },
    {
      "cell_type": "code",
      "source": [
        "email_temp = []\n",
        "telefono = []\n",
        "valor = []\n",
        "fecha = []\n",
        "for texto in textos:\n",
        "    email = re.findall(r'[\\w\\.-]+@[\\w\\.-]+', texto)\n",
        "    gasto = re.findall('\\$\\d+(?:\\.\\d+)?', texto)\n",
        "    valor.append(gasto)\n",
        "    email_temp.append(email)"
      ],
      "metadata": {
        "id": "5ssZt3EigqR7"
      },
      "execution_count": 119,
      "outputs": []
    },
    {
      "cell_type": "markdown",
      "source": [
        "*¨\\$ : simbolo $\n",
        "* \\d+ : \\d digitos de 0 a 9, + puede ser que tenga uno omá digitos.\n",
        "* (?:....) : parte decimal \"Grupo no capturado\"\n",
        "* \\. : simbolo ."
      ],
      "metadata": {
        "id": "y55_IKITkg-M"
      }
    },
    {
      "cell_type": "code",
      "source": [
        "# Expresiones regulares\n",
        "email_pattern = r'[a-zA-Z0-9._%+-]+@[a-zA-Z0-9.-]+\\.[a-zA-Z]{2,}'\n",
        "phone_pattern = r'\\+?\\d{1,3}[-.\\s]?\\(?\\d{1,3}\\)?[-.\\s]?\\d{3}[-.\\s]?\\d{4}'\n",
        "currency_pattern = r'\\$\\d+(?:\\.\\d+)?'\n",
        "date_pattern = r'\\d{2}/\\d{2}/\\d{4}'"
      ],
      "metadata": {
        "id": "IxCn-aGRlyCW"
      },
      "execution_count": null,
      "outputs": []
    },
    {
      "cell_type": "code",
      "source": [
        "email_temp"
      ],
      "metadata": {
        "id": "1rAQByhZiBw4",
        "outputId": "fb286159-5a91-4b66-8528-0d3bd8cb7ed9",
        "colab": {
          "base_uri": "https://localhost:8080/"
        }
      },
      "execution_count": 110,
      "outputs": [
        {
          "output_type": "execute_result",
          "data": {
            "text/plain": [
              "[['maria.gomez@example.com'],\n",
              " ['pedro.lopez@example.org'],\n",
              " ['luisa_fernandez23@gmail.com'],\n",
              " ['juan.perez123@correo.com'],\n",
              " ['ana.torres@empresa.com']]"
            ]
          },
          "metadata": {},
          "execution_count": 110
        }
      ]
    },
    {
      "cell_type": "code",
      "source": [],
      "metadata": {
        "id": "R25FQ2U9lqgd"
      },
      "execution_count": null,
      "outputs": []
    },
    {
      "cell_type": "code",
      "source": [
        "valor"
      ],
      "metadata": {
        "id": "H5MZB4T2jBZU",
        "outputId": "cd22ef5e-6da7-4e77-fa6f-5a67d7b37fac",
        "colab": {
          "base_uri": "https://localhost:8080/"
        }
      },
      "execution_count": 120,
      "outputs": [
        {
          "output_type": "execute_result",
          "data": {
            "text/plain": [
              "[['$250.00'], ['$1250.50'], ['$89'], ['$560.75'], ['$42.30']]"
            ]
          },
          "metadata": {},
          "execution_count": 120
        }
      ]
    },
    {
      "cell_type": "markdown",
      "source": [
        "# Lista de textos\n",
        "textos = [\n",
        "    \"El cliente María Gómez compró un artículo por $250.00 el 12/03/2024. Contacto: , teléfono: +57 300-123-4567.\",\n",
        "    \"Correo: pedro.lopez@example.org, Pedro López adquirió un paquete por $1250.50 el 01/01/2023.  móvil: +1 (415) 987-6543.\",\n",
        "    \"La transacción de Luisa Fernández fue de $89.99 el 22/07/2024. Email: luisa_fernandez23@gmail.com, teléfono: 320-765-4321.\",\n",
        "    \"Compra realizada por Juan Pérez por $560.75 el 05/11/2022. Email de contacto: juan.perez123@correo.com, teléfono: +34 678-543-210.\",\n",
        "    \"El cliente Ana Torres gastó $42.30 el 15/08/2024. Contacto: ana.torres@empresa.com, móvil: +57 301-456-7890.\"\n",
        "]"
      ],
      "metadata": {
        "id": "RTiCXft7fpj4"
      }
    },
    {
      "cell_type": "markdown",
      "source": [
        "1. Agrupar todos en un solo vector\n",
        "2. Tokenizar\n",
        "2. Agrupa por \"grupos\"\n"
      ],
      "metadata": {
        "id": "nAvLluNrfAwQ"
      }
    }
  ],
  "metadata": {
    "colab": {
      "provenance": [],
      "authorship_tag": "ABX9TyNDGd+rTJvlDNQLZ1FfCOod",
      "include_colab_link": true
    },
    "kernelspec": {
      "display_name": "Python 3",
      "name": "python3"
    },
    "language_info": {
      "name": "python"
    }
  },
  "nbformat": 4,
  "nbformat_minor": 0
}