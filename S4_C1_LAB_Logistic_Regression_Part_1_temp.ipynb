{
  "cells": [
    {
      "cell_type": "markdown",
      "metadata": {
        "id": "view-in-github",
        "colab_type": "text"
      },
      "source": [
        "<a href=\"https://colab.research.google.com/github/DeisyData/BIT_IA_Bootcamp/blob/main/S4_C1_LAB_Logistic_Regression_Part_1_temp.ipynb\" target=\"_parent\"><img src=\"https://colab.research.google.com/assets/colab-badge.svg\" alt=\"Open In Colab\"/></a>"
      ]
    },
    {
      "cell_type": "markdown",
      "metadata": {
        "id": "lxqgMxwgY0va"
      },
      "source": [
        "<h2 align=\"center\"> Logistic Regression </h2>"
      ]
    },
    {
      "cell_type": "markdown",
      "metadata": {
        "id": "t26je5roY0vf"
      },
      "source": [
        "## **Actividad 2**\n",
        "\n",
        "\n",
        "---\n",
        "\n",
        "\n",
        "## **Balance de clases**\n",
        "El balance de las clases se refiere a la ***distribución*** de las clases en un conjunto de datos de clasificación.\n",
        "\n",
        "Un conjunto de datos está ***balanceado ***cuando las diferentes clases tienen aproximadamente el mismo número de muestras. Si una clase tiene significativamente más ejemplos que otra, se dice que el conjunto de datos está ***desbalanceado.***\n",
        "\n",
        "Por ejemplo, si estás clasificando si un examen fue aprobado o no, y el 90% de los estudiantes aprobaron mientras solo el 10% fallaron, el conjunto de datos está desbalanceado. Un modelo entrenado en un conjunto de datos desbalanceado tiende a estar sesgado hacia la clase mayoritaria (en este caso, los aprobados), lo que puede llevar a un mal rendimiento en la predicción de la clase minoritaria (los que fallaron).\n",
        "\n",
        "### **¿Cómo manejarlo?**\n",
        "\n",
        "**Aumentar la clase minoritaria (Oversampling):**\n",
        "\n",
        "* SMOTE (Synthetic Minority Over-sampling Technique): Genera ejemplos sintéticos de la clase minoritaria combinando características de los datos existentes.\n",
        "* Random Oversampling: Duplica aleatoriamente ejemplos de la clase minoritaria hasta que ambas clases tengan tamaños similares.\n",
        "\n",
        "**Reducir la clase mayoritaria (Undersampling):**\n",
        "\n",
        "* Random Undersampling: Reduce el tamaño de la clase mayoritaria eliminando ejemplos aleatoriamente hasta igualar el tamaño de la clase minoritaria.\n",
        "\n",
        "**Recolección de más datos**\n",
        "\n",
        "**Usar algoritmos adaptados a datos desbalanceados**\n",
        "\n",
        "* Balanced Random Forest o Class-balanced loss functions"
      ]
    },
    {
      "cell_type": "markdown",
      "source": [
        "Data set:\n",
        "\n",
        "* **Test_1:** Puntuación en el primer examen.\n",
        "* **Test_2:** Puntuación en el segundo examen.\n",
        "* **Results:** Resultado del examen (0 = Fallido, 1 = Aprobado)."
      ],
      "metadata": {
        "id": "BuZkMIWkY7Fl"
      }
    },
    {
      "cell_type": "markdown",
      "metadata": {
        "id": "_FaIduLIY0vg"
      },
      "source": [
        "### **Actividad 1. Cargue librerías y datos**\n",
        "------"
      ]
    },
    {
      "cell_type": "code",
      "execution_count": null,
      "metadata": {
        "id": "A9XGbCizY0vg"
      },
      "outputs": [],
      "source": [
        "import numpy as np\n",
        "import matplotlib.pyplot as plt\n",
        "import seaborn as sns\n",
        "import pandas as pd\n",
        "plt.style.use(\"ggplot\")\n",
        "%matplotlib inline"
      ]
    },
    {
      "cell_type": "code",
      "source": [
        "from pylab import rcParams\n",
        "rcParams['figure.figsize'] = 5,3"
      ],
      "metadata": {
        "id": "2FzWAIfyFJy-"
      },
      "execution_count": null,
      "outputs": []
    },
    {
      "cell_type": "markdown",
      "source": [
        "### *Tareas A1*\n",
        "\n",
        "* Cargue los datos 'Classification_Tests.csv' desde su carpeta de drive\n",
        "* Muestre las 5 pirmeras columnas"
      ],
      "metadata": {
        "id": "8JUCu0Ri88SM"
      }
    },
    {
      "cell_type": "code",
      "execution_count": 1,
      "metadata": {
        "id": "PjAoEjXiY0vi"
      },
      "outputs": [],
      "source": [
        "# Cargue los datos, imprima las primeras filas\n"
      ]
    },
    {
      "cell_type": "markdown",
      "metadata": {
        "id": "9BUwirKT8CoV"
      },
      "source": [
        "### **Actividad 2. Descripción del data set**\n",
        "------"
      ]
    },
    {
      "cell_type": "markdown",
      "source": [
        "### *Tareas A2*\n",
        "\n",
        "* Describa los datos (Atributos, registros, rangos, distribuciones)\n",
        "* ¿Debe aplicar alguna técnica de limpieza?\n",
        "\n"
      ],
      "metadata": {
        "id": "eCJ5Ds9-5CTV"
      }
    },
    {
      "cell_type": "code",
      "source": [
        "df.info()"
      ],
      "metadata": {
        "id": "sS4HEvVs5B4Y"
      },
      "execution_count": null,
      "outputs": []
    },
    {
      "cell_type": "markdown",
      "source": [
        "### *Tareas A2*\n",
        "\n",
        "* Realice un diagrama de barras al target (concluya respecto al balance de las clases)"
      ],
      "metadata": {
        "id": "XtY_J-vJEa_H"
      }
    },
    {
      "cell_type": "code",
      "execution_count": null,
      "metadata": {
        "id": "NrFREtdbY0vj"
      },
      "outputs": [],
      "source": []
    },
    {
      "cell_type": "markdown",
      "metadata": {
        "id": "oExLo73lY0vk"
      },
      "source": [
        "### **Actividad 3: Construya un diagrama de las clases de data set**\n",
        "---"
      ]
    },
    {
      "cell_type": "markdown",
      "source": [
        "### *Tareas A3*\n",
        "\n",
        "Las siguientes líneas de código grafican el diagrama de dispersión (scatter) de los datos de los que no aprobaron\n",
        "\n",
        "* Ingresa la línea de código para que gráfique la clase que si aprobó con un triangulo verde\n",
        "*  Complete los títulos de la gra´fica y los ejes"
      ],
      "metadata": {
        "id": "A3EVH3quCVpm"
      }
    },
    {
      "cell_type": "code",
      "execution_count": null,
      "metadata": {
        "id": "DVPjbmyYY0vk"
      },
      "outputs": [],
      "source": [
        "target = df['Results']\n",
        "\n",
        "plt.scatter(df['Test_1'][target == 0], df['Test_2'][target== 0], alpha=0.5, label='No aprobó (0)', marker='X', color='red')\n",
        "### Inserte la línea de código\n",
        "\n",
        "plt.title('Qué título tiene está grafica')\n",
        "plt.xlabel('cuál es el x?')\n",
        "plt.ylabel('cuál es el y?')\n",
        "plt.legend()\n",
        "plt.grid(True)\n",
        "plt.show()"
      ]
    },
    {
      "cell_type": "markdown",
      "metadata": {
        "id": "whFa8CdFY0vk"
      },
      "source": [
        "### **Actividad 4: Defina una función para calcular la función sigmoid**\n",
        "---\n",
        "\n",
        "$$ h(z) = \\frac{1}{1+e^{-z}}$$"
      ]
    },
    {
      "cell_type": "markdown",
      "source": [
        "### *Tareas A4*\n",
        "\n",
        "En clases pasadas desarrollamos la función de para en cálculo de la sigmoid\n",
        "\n",
        "* Copia la función y grafica en un rango de -10 a 10\n",
        "* Describa la función sigmoid\n",
        "* Cuál es el rango de la función sigmoid? Es decir en qué valores existe la función?"
      ],
      "metadata": {
        "id": "imKJDEfrHwlm"
      }
    },
    {
      "cell_type": "markdown",
      "metadata": {
        "id": "99tSO2zMY0vl"
      },
      "source": [
        "### Actividad 5: Cálculo de la función de costos $J(\\theta)$\n",
        "---"
      ]
    },
    {
      "cell_type": "markdown",
      "metadata": {
        "id": "Omcly6RDY0vl"
      },
      "source": [
        "El objetivo de la regresión log´stica es minimizar la función de costo\n",
        "\n",
        "$$J(\\theta) = -\\frac{1}{m} \\sum_{i=1}^{m} [ y^{(i)}log(h_{\\theta}(x^{(i)})) + (1 - y^{(i)})log(1 - (h_{\\theta}(x^{(i)}))]$$\n",
        "\n",
        "donde el gradiente de la función de costo está dado por\n",
        "\n",
        "$$ \\frac{\\partial J(\\theta)}{\\partial \\theta_j} = \\frac{1}{m} \\sum_{i=1}^{m} (h_{\\theta}(x^{(i)}) - y^{(i)})x_j^{(i)}$$"
      ]
    },
    {
      "cell_type": "markdown",
      "source": [
        "### *Tareas A5*\n",
        "\n",
        "* Contruya una función para calcular la función de costo\n",
        "* Construya una gráfica con plot(h,y) para graficar la función de costo.\n",
        "1. Genere un vector de datos con todos los posibles valores de h\n",
        "2. Grafique un plot cuando  y = 0\n",
        "3. Grafique un plot cuando  y = 1\n",
        "\n",
        "* Concluya"
      ],
      "metadata": {
        "id": "LXOjxwEJI-Wi"
      }
    },
    {
      "cell_type": "code",
      "execution_count": null,
      "metadata": {
        "id": "TtD8ITgbY0vl"
      },
      "outputs": [],
      "source": []
    }
  ],
  "metadata": {
    "kernelspec": {
      "display_name": "Python 3 (ipykernel)",
      "language": "python",
      "name": "python3"
    },
    "language_info": {
      "codemirror_mode": {
        "name": "ipython",
        "version": 3
      },
      "file_extension": ".py",
      "mimetype": "text/x-python",
      "name": "python",
      "nbconvert_exporter": "python",
      "pygments_lexer": "ipython3",
      "version": "3.10.6"
    },
    "colab": {
      "provenance": [],
      "include_colab_link": true
    }
  },
  "nbformat": 4,
  "nbformat_minor": 0
}