{
  "nbformat": 4,
  "nbformat_minor": 0,
  "metadata": {
    "colab": {
      "provenance": [],
      "authorship_tag": "ABX9TyPNlR2gHVtBi+vU4fq+6pJ4",
      "include_colab_link": true
    },
    "kernelspec": {
      "name": "python3",
      "display_name": "Python 3"
    },
    "language_info": {
      "name": "python"
    }
  },
  "cells": [
    {
      "cell_type": "markdown",
      "metadata": {
        "id": "view-in-github",
        "colab_type": "text"
      },
      "source": [
        "<a href=\"https://colab.research.google.com/github/DeisyData/BIT_IA_Bootcamp/blob/main/S4_C4_DecisionTree_Lab.ipynb\" target=\"_parent\"><img src=\"https://colab.research.google.com/assets/colab-badge.svg\" alt=\"Open In Colab\"/></a>"
      ]
    },
    {
      "cell_type": "markdown",
      "source": [
        "# Árbol de Decisión - Evaluación del riesgo de ataque cardíaco"
      ],
      "metadata": {
        "id": "C_xllnmmHa-4"
      }
    },
    {
      "cell_type": "code",
      "source": [
        "## Importar las librerías necesarias\n",
        "import pandas as pd\n",
        "from sklearn.model_selection import train_test_split\n",
        "from sklearn.tree import DecisionTreeClassifier\n",
        "from sklearn import tree\n",
        "import matplotlib.pyplot as plt\n",
        "from sklearn.metrics import classification_report, accuracy_score\n",
        "\n",
        "data = {\n",
        "    'Age': [16, 17, 20, 25, 35, 40, 45, 50],\n",
        "    'Weight': [55, 65, 70, 80, 68, 85, 72, 90],\n",
        "    'Smoker': [0, 0, 0, 1, 0, 1, 0, 1],  # 0 = No fumador, 1 = Fumador\n",
        "    'Risk': [0, 1, 0, 1, 0, 1, 0, 1]  # 0 = Bajo riesgo, 1 = Alto riesgo\n",
        "}\n",
        "\n",
        "# Convertir el dataset a un DataFrame de pandas\n",
        "df = pd.DataFrame(data)\n",
        "\n",
        "# Mostrar los datos\n",
        "print(\"Datos del dataset:\")\n",
        "print(df)"
      ],
      "metadata": {
        "id": "TbIzHCytc58y",
        "colab": {
          "base_uri": "https://localhost:8080/"
        },
        "outputId": "e0b7c4f2-2686-4bf4-8ed2-71f9a31a6637"
      },
      "execution_count": null,
      "outputs": [
        {
          "output_type": "stream",
          "name": "stdout",
          "text": [
            "Datos del dataset:\n",
            "   Age  Weight  Smoker  Risk\n",
            "0   16      55       0     0\n",
            "1   17      65       0     1\n",
            "2   20      70       0     0\n",
            "3   25      80       1     1\n",
            "4   35      68       0     0\n",
            "5   40      85       1     1\n",
            "6   45      72       0     0\n",
            "7   50      90       1     1\n"
          ]
        }
      ]
    },
    {
      "cell_type": "markdown",
      "source": [
        "**Q1** ¿A qué decision podríamos llegar con estos datos?\n",
        "\n",
        "**Q2** ¿Que tipo de problema debemos abordar?"
      ],
      "metadata": {
        "id": "rA-LhWkbH0XT"
      }
    },
    {
      "cell_type": "markdown",
      "source": [
        "# Actividad 1. Separar las características (X) de la variable objetivo (y)\n",
        "\n",
        "* Cuál es la variable objetivo?\n",
        "* Cuáles son los parámetros?\n"
      ],
      "metadata": {
        "id": "S4VBCszuHqve"
      }
    },
    {
      "cell_type": "markdown",
      "source": [
        "# Actividad 2. Dividir los datos en conjuntos de entrenamiento y prueba (80% entrenamiento, 20% prueba)"
      ],
      "metadata": {
        "id": "2LWx3od1Ifd9"
      }
    },
    {
      "cell_type": "markdown",
      "source": [
        "# Actividad 3. Seleccione y ajuste el modelo: árbol de decision\n",
        "\n",
        "* Ejecute lás líneas de código, si desea cambie el nombre del modelo\n",
        "\n"
      ],
      "metadata": {
        "id": "alFqloTqIlik"
      }
    },
    {
      "cell_type": "code",
      "source": [
        "# Crear el modelo de árbol de decisión\n",
        "modeloDTC = DecisionTreeClassifier()\n",
        "\n",
        "# Entrenar el modelo\n",
        "modeloDTC.fit(X_train, y_train)"
      ],
      "metadata": {
        "id": "o78OCoQyHqJd"
      },
      "execution_count": null,
      "outputs": []
    },
    {
      "cell_type": "markdown",
      "source": [
        "# Actividad 4. Hacer predicciones sobre los datos de prueba\n",
        "\n",
        "* Aplique al modelo la palabra predict y evalue en los datos de prueba y guardelos en y_pred\n",
        "\n",
        "\n",
        "```\n",
        "modelo.predict(datos_de_prueba)\n",
        "```\n",
        "\n"
      ],
      "metadata": {
        "id": "zFkjdJRCJCX5"
      }
    },
    {
      "cell_type": "code",
      "source": [],
      "metadata": {
        "id": "ZXWvKWFdHY40"
      },
      "execution_count": null,
      "outputs": []
    },
    {
      "cell_type": "markdown",
      "source": [
        "# Actividad 5. Evalue el modelo\n",
        "\n",
        "* Use la medida de accuracy para medir el desempeño del modelo\n",
        "\n",
        "```\n",
        "accuracy_score(y_test, y_pred)\n",
        "```\n",
        "* Genere un reporte de medidas del modelo con\n",
        "\n",
        "```\n",
        "classification_report(y_test, y_pred)\n",
        "```\n",
        "\n",
        "\n",
        "* Imprima las mediciones y acopmpañe de valores que orienten al usuario"
      ],
      "metadata": {
        "id": "79MhdchiLPez"
      }
    },
    {
      "cell_type": "code",
      "source": [],
      "metadata": {
        "id": "DSz0NQ95MnYZ"
      },
      "execution_count": null,
      "outputs": []
    },
    {
      "cell_type": "markdown",
      "source": [
        "# Actividad 6. Visualizar el árbol de decisión\n",
        "\n"
      ],
      "metadata": {
        "id": "5lEKPxwhMnuD"
      }
    },
    {
      "cell_type": "code",
      "source": [
        "plt.figure(figsize=(10, 8))\n",
        "tree.plot_tree(modelo, feature_names=['Age', 'Weight', 'Smoker'], class_names=['Low Risk', 'High Risk'], filled=True)\n",
        "plt.title(\"Árbol de Decisión - Riesgo de Ataque Cardíaco\")\n",
        "plt.show()"
      ],
      "metadata": {
        "id": "n7X2Uc1vMwTA"
      },
      "execution_count": null,
      "outputs": []
    },
    {
      "cell_type": "markdown",
      "source": [
        "# Actividad 7. Ejemplo de predicción\n",
        "\n",
        "* Escriba un código para evaluar un dato del modelo\n",
        "\n",
        "* Use estos comentarios que orienten al usuario\n",
        "\n",
        "\n",
        "\n",
        "```\n",
        "print(\"\\nPredicción con un ejemplo nuevo:\")\n",
        "print(f\"Predicción (0 = Bajo Riesgo, 1 = Alto Riesgo): {prediction[0]}\")\n",
        "\n",
        "```\n",
        "\n"
      ],
      "metadata": {
        "id": "wUvn_mcbM9_1"
      }
    },
    {
      "cell_type": "code",
      "source": [],
      "metadata": {
        "id": "TcXd5mICM9ef"
      },
      "execution_count": null,
      "outputs": []
    }
  ]
}