{
  "cells": [
    {
      "cell_type": "markdown",
      "metadata": {
        "id": "view-in-github",
        "colab_type": "text"
      },
      "source": [
        "<a href=\"https://colab.research.google.com/github/DeisyData/BIT_IA_Bootcamp/blob/main/S4_C2_LAB_Logistic_Regression_Part_1_ipynb2.ipynb\" target=\"_parent\"><img src=\"https://colab.research.google.com/assets/colab-badge.svg\" alt=\"Open In Colab\"/></a>"
      ]
    },
    {
      "cell_type": "markdown",
      "metadata": {
        "id": "lxqgMxwgY0va"
      },
      "source": [
        "<h2 align=\"center\"> Logistic Regression </h2>"
      ]
    },
    {
      "cell_type": "markdown",
      "metadata": {
        "id": "t26je5roY0vf"
      },
      "source": [
        "## **Actividad 2**\n",
        "\n",
        "\n",
        "---\n",
        "\n",
        "\n",
        "## **Balance de clases**\n",
        "El balance de las clases se refiere a la ***distribución*** de las clases en un conjunto de datos de clasificación.\n",
        "\n",
        "Un conjunto de datos está ***balanceado ***cuando las diferentes clases tienen aproximadamente el mismo número de muestras. Si una clase tiene significativamente más ejemplos que otra, se dice que el conjunto de datos está ***desbalanceado.***\n",
        "\n",
        "Por ejemplo, si estás clasificando si un examen fue aprobado o no, y el 90% de los estudiantes aprobaron mientras solo el 10% fallaron, el conjunto de datos está desbalanceado. Un modelo entrenado en un conjunto de datos desbalanceado tiende a estar sesgado hacia la clase mayoritaria (en este caso, los aprobados), lo que puede llevar a un mal rendimiento en la predicción de la clase minoritaria (los que fallaron).\n",
        "\n",
        "### **¿Cómo manejarlo?**\n",
        "\n",
        "**Aumentar la clase minoritaria (Oversampling):**\n",
        "\n",
        "* SMOTE (Synthetic Minority Over-sampling Technique): Genera ejemplos sintéticos de la clase minoritaria combinando características de los datos existentes.\n",
        "* Random Oversampling: Duplica aleatoriamente ejemplos de la clase minoritaria hasta que ambas clases tengan tamaños similares.\n",
        "\n",
        "**Reducir la clase mayoritaria (Undersampling):**\n",
        "\n",
        "* Random Undersampling: Reduce el tamaño de la clase mayoritaria eliminando ejemplos aleatoriamente hasta igualar el tamaño de la clase minoritaria.\n",
        "\n",
        "**Recolección de más datos**\n",
        "\n",
        "**Usar algoritmos adaptados a datos desbalanceados**\n",
        "\n",
        "* Balanced Random Forest o Class-balanced loss functions"
      ]
    },
    {
      "cell_type": "markdown",
      "source": [
        "Data set:\n",
        "\n",
        "* **Test_1:** Puntuación en el primer examen.\n",
        "* **Test_2:** Puntuación en el segundo examen.\n",
        "* **Results:** Resultado del examen (0 = Fallido, 1 = Aprobado)."
      ],
      "metadata": {
        "id": "BuZkMIWkY7Fl"
      }
    },
    {
      "cell_type": "markdown",
      "metadata": {
        "id": "_FaIduLIY0vg"
      },
      "source": [
        "### **Actividad 1. Cargue librerías y datos**\n",
        "------"
      ]
    },
    {
      "cell_type": "code",
      "execution_count": 154,
      "metadata": {
        "id": "A9XGbCizY0vg"
      },
      "outputs": [],
      "source": [
        "import numpy as np\n",
        "import matplotlib.pyplot as plt\n",
        "import seaborn as sns\n",
        "import pandas as pd\n",
        "plt.style.use(\"ggplot\")\n",
        "%matplotlib inline"
      ]
    },
    {
      "cell_type": "code",
      "source": [
        "from pylab import rcParams\n",
        "rcParams['figure.figsize'] = 5,3"
      ],
      "metadata": {
        "id": "2FzWAIfyFJy-"
      },
      "execution_count": 155,
      "outputs": []
    },
    {
      "cell_type": "markdown",
      "source": [
        "### *Tareas A1*\n",
        "\n",
        "* Cargue los datos 'Classification_Tests.csv' desde su carpeta de drive\n",
        "* Muestre las 5 pirmeras columnas"
      ],
      "metadata": {
        "id": "8JUCu0Ri88SM"
      }
    },
    {
      "cell_type": "code",
      "source": [
        "from google.colab import drive # Conectanonos con google drive\n",
        "drive.mount('/content/drive')\n",
        "import os    # la librería necesaria para la ruta de la carpeta\n",
        "os.chdir('/content/drive/MyDrive/Colab Notebooks/BIT_BootCamp_IA/DataSET/Classification/')\n",
        "\n",
        "#mostar lista de archivos\n",
        "os.listdir()"
      ],
      "metadata": {
        "colab": {
          "base_uri": "https://localhost:8080/"
        },
        "id": "jDyReuQ3ZwYt",
        "outputId": "f2d6cfdd-f53d-47ca-e22a-696002f5adad"
      },
      "execution_count": 156,
      "outputs": [
        {
          "output_type": "stream",
          "name": "stdout",
          "text": [
            "Drive already mounted at /content/drive; to attempt to forcibly remount, call drive.mount(\"/content/drive\", force_remount=True).\n"
          ]
        },
        {
          "output_type": "execute_result",
          "data": {
            "text/plain": [
              "['Classification_Tests.csv']"
            ]
          },
          "metadata": {},
          "execution_count": 156
        }
      ]
    },
    {
      "cell_type": "code",
      "execution_count": 157,
      "metadata": {
        "colab": {
          "base_uri": "https://localhost:8080/",
          "height": 206
        },
        "id": "PjAoEjXiY0vi",
        "outputId": "dbac9cbb-76cf-4383-fec7-3f124cb3d507"
      },
      "outputs": [
        {
          "output_type": "execute_result",
          "data": {
            "text/plain": [
              "      Test_1     Test_2  Results\n",
              "0  34.623660  78.024693        0\n",
              "1  30.286711  43.894998        0\n",
              "2  35.847409  72.902198        0\n",
              "3  60.182599  86.308552        1\n",
              "4  79.032736  75.344376        1"
            ],
            "text/html": [
              "\n",
              "  <div id=\"df-c6af479e-4e97-44a1-bd9c-906ea038b837\" class=\"colab-df-container\">\n",
              "    <div>\n",
              "<style scoped>\n",
              "    .dataframe tbody tr th:only-of-type {\n",
              "        vertical-align: middle;\n",
              "    }\n",
              "\n",
              "    .dataframe tbody tr th {\n",
              "        vertical-align: top;\n",
              "    }\n",
              "\n",
              "    .dataframe thead th {\n",
              "        text-align: right;\n",
              "    }\n",
              "</style>\n",
              "<table border=\"1\" class=\"dataframe\">\n",
              "  <thead>\n",
              "    <tr style=\"text-align: right;\">\n",
              "      <th></th>\n",
              "      <th>Test_1</th>\n",
              "      <th>Test_2</th>\n",
              "      <th>Results</th>\n",
              "    </tr>\n",
              "  </thead>\n",
              "  <tbody>\n",
              "    <tr>\n",
              "      <th>0</th>\n",
              "      <td>34.623660</td>\n",
              "      <td>78.024693</td>\n",
              "      <td>0</td>\n",
              "    </tr>\n",
              "    <tr>\n",
              "      <th>1</th>\n",
              "      <td>30.286711</td>\n",
              "      <td>43.894998</td>\n",
              "      <td>0</td>\n",
              "    </tr>\n",
              "    <tr>\n",
              "      <th>2</th>\n",
              "      <td>35.847409</td>\n",
              "      <td>72.902198</td>\n",
              "      <td>0</td>\n",
              "    </tr>\n",
              "    <tr>\n",
              "      <th>3</th>\n",
              "      <td>60.182599</td>\n",
              "      <td>86.308552</td>\n",
              "      <td>1</td>\n",
              "    </tr>\n",
              "    <tr>\n",
              "      <th>4</th>\n",
              "      <td>79.032736</td>\n",
              "      <td>75.344376</td>\n",
              "      <td>1</td>\n",
              "    </tr>\n",
              "  </tbody>\n",
              "</table>\n",
              "</div>\n",
              "    <div class=\"colab-df-buttons\">\n",
              "\n",
              "  <div class=\"colab-df-container\">\n",
              "    <button class=\"colab-df-convert\" onclick=\"convertToInteractive('df-c6af479e-4e97-44a1-bd9c-906ea038b837')\"\n",
              "            title=\"Convert this dataframe to an interactive table.\"\n",
              "            style=\"display:none;\">\n",
              "\n",
              "  <svg xmlns=\"http://www.w3.org/2000/svg\" height=\"24px\" viewBox=\"0 -960 960 960\">\n",
              "    <path d=\"M120-120v-720h720v720H120Zm60-500h600v-160H180v160Zm220 220h160v-160H400v160Zm0 220h160v-160H400v160ZM180-400h160v-160H180v160Zm440 0h160v-160H620v160ZM180-180h160v-160H180v160Zm440 0h160v-160H620v160Z\"/>\n",
              "  </svg>\n",
              "    </button>\n",
              "\n",
              "  <style>\n",
              "    .colab-df-container {\n",
              "      display:flex;\n",
              "      gap: 12px;\n",
              "    }\n",
              "\n",
              "    .colab-df-convert {\n",
              "      background-color: #E8F0FE;\n",
              "      border: none;\n",
              "      border-radius: 50%;\n",
              "      cursor: pointer;\n",
              "      display: none;\n",
              "      fill: #1967D2;\n",
              "      height: 32px;\n",
              "      padding: 0 0 0 0;\n",
              "      width: 32px;\n",
              "    }\n",
              "\n",
              "    .colab-df-convert:hover {\n",
              "      background-color: #E2EBFA;\n",
              "      box-shadow: 0px 1px 2px rgba(60, 64, 67, 0.3), 0px 1px 3px 1px rgba(60, 64, 67, 0.15);\n",
              "      fill: #174EA6;\n",
              "    }\n",
              "\n",
              "    .colab-df-buttons div {\n",
              "      margin-bottom: 4px;\n",
              "    }\n",
              "\n",
              "    [theme=dark] .colab-df-convert {\n",
              "      background-color: #3B4455;\n",
              "      fill: #D2E3FC;\n",
              "    }\n",
              "\n",
              "    [theme=dark] .colab-df-convert:hover {\n",
              "      background-color: #434B5C;\n",
              "      box-shadow: 0px 1px 3px 1px rgba(0, 0, 0, 0.15);\n",
              "      filter: drop-shadow(0px 1px 2px rgba(0, 0, 0, 0.3));\n",
              "      fill: #FFFFFF;\n",
              "    }\n",
              "  </style>\n",
              "\n",
              "    <script>\n",
              "      const buttonEl =\n",
              "        document.querySelector('#df-c6af479e-4e97-44a1-bd9c-906ea038b837 button.colab-df-convert');\n",
              "      buttonEl.style.display =\n",
              "        google.colab.kernel.accessAllowed ? 'block' : 'none';\n",
              "\n",
              "      async function convertToInteractive(key) {\n",
              "        const element = document.querySelector('#df-c6af479e-4e97-44a1-bd9c-906ea038b837');\n",
              "        const dataTable =\n",
              "          await google.colab.kernel.invokeFunction('convertToInteractive',\n",
              "                                                    [key], {});\n",
              "        if (!dataTable) return;\n",
              "\n",
              "        const docLinkHtml = 'Like what you see? Visit the ' +\n",
              "          '<a target=\"_blank\" href=https://colab.research.google.com/notebooks/data_table.ipynb>data table notebook</a>'\n",
              "          + ' to learn more about interactive tables.';\n",
              "        element.innerHTML = '';\n",
              "        dataTable['output_type'] = 'display_data';\n",
              "        await google.colab.output.renderOutput(dataTable, element);\n",
              "        const docLink = document.createElement('div');\n",
              "        docLink.innerHTML = docLinkHtml;\n",
              "        element.appendChild(docLink);\n",
              "      }\n",
              "    </script>\n",
              "  </div>\n",
              "\n",
              "\n",
              "<div id=\"df-db363b8b-2946-4cf3-baa3-0ec0d37af4b5\">\n",
              "  <button class=\"colab-df-quickchart\" onclick=\"quickchart('df-db363b8b-2946-4cf3-baa3-0ec0d37af4b5')\"\n",
              "            title=\"Suggest charts\"\n",
              "            style=\"display:none;\">\n",
              "\n",
              "<svg xmlns=\"http://www.w3.org/2000/svg\" height=\"24px\"viewBox=\"0 0 24 24\"\n",
              "     width=\"24px\">\n",
              "    <g>\n",
              "        <path d=\"M19 3H5c-1.1 0-2 .9-2 2v14c0 1.1.9 2 2 2h14c1.1 0 2-.9 2-2V5c0-1.1-.9-2-2-2zM9 17H7v-7h2v7zm4 0h-2V7h2v10zm4 0h-2v-4h2v4z\"/>\n",
              "    </g>\n",
              "</svg>\n",
              "  </button>\n",
              "\n",
              "<style>\n",
              "  .colab-df-quickchart {\n",
              "      --bg-color: #E8F0FE;\n",
              "      --fill-color: #1967D2;\n",
              "      --hover-bg-color: #E2EBFA;\n",
              "      --hover-fill-color: #174EA6;\n",
              "      --disabled-fill-color: #AAA;\n",
              "      --disabled-bg-color: #DDD;\n",
              "  }\n",
              "\n",
              "  [theme=dark] .colab-df-quickchart {\n",
              "      --bg-color: #3B4455;\n",
              "      --fill-color: #D2E3FC;\n",
              "      --hover-bg-color: #434B5C;\n",
              "      --hover-fill-color: #FFFFFF;\n",
              "      --disabled-bg-color: #3B4455;\n",
              "      --disabled-fill-color: #666;\n",
              "  }\n",
              "\n",
              "  .colab-df-quickchart {\n",
              "    background-color: var(--bg-color);\n",
              "    border: none;\n",
              "    border-radius: 50%;\n",
              "    cursor: pointer;\n",
              "    display: none;\n",
              "    fill: var(--fill-color);\n",
              "    height: 32px;\n",
              "    padding: 0;\n",
              "    width: 32px;\n",
              "  }\n",
              "\n",
              "  .colab-df-quickchart:hover {\n",
              "    background-color: var(--hover-bg-color);\n",
              "    box-shadow: 0 1px 2px rgba(60, 64, 67, 0.3), 0 1px 3px 1px rgba(60, 64, 67, 0.15);\n",
              "    fill: var(--button-hover-fill-color);\n",
              "  }\n",
              "\n",
              "  .colab-df-quickchart-complete:disabled,\n",
              "  .colab-df-quickchart-complete:disabled:hover {\n",
              "    background-color: var(--disabled-bg-color);\n",
              "    fill: var(--disabled-fill-color);\n",
              "    box-shadow: none;\n",
              "  }\n",
              "\n",
              "  .colab-df-spinner {\n",
              "    border: 2px solid var(--fill-color);\n",
              "    border-color: transparent;\n",
              "    border-bottom-color: var(--fill-color);\n",
              "    animation:\n",
              "      spin 1s steps(1) infinite;\n",
              "  }\n",
              "\n",
              "  @keyframes spin {\n",
              "    0% {\n",
              "      border-color: transparent;\n",
              "      border-bottom-color: var(--fill-color);\n",
              "      border-left-color: var(--fill-color);\n",
              "    }\n",
              "    20% {\n",
              "      border-color: transparent;\n",
              "      border-left-color: var(--fill-color);\n",
              "      border-top-color: var(--fill-color);\n",
              "    }\n",
              "    30% {\n",
              "      border-color: transparent;\n",
              "      border-left-color: var(--fill-color);\n",
              "      border-top-color: var(--fill-color);\n",
              "      border-right-color: var(--fill-color);\n",
              "    }\n",
              "    40% {\n",
              "      border-color: transparent;\n",
              "      border-right-color: var(--fill-color);\n",
              "      border-top-color: var(--fill-color);\n",
              "    }\n",
              "    60% {\n",
              "      border-color: transparent;\n",
              "      border-right-color: var(--fill-color);\n",
              "    }\n",
              "    80% {\n",
              "      border-color: transparent;\n",
              "      border-right-color: var(--fill-color);\n",
              "      border-bottom-color: var(--fill-color);\n",
              "    }\n",
              "    90% {\n",
              "      border-color: transparent;\n",
              "      border-bottom-color: var(--fill-color);\n",
              "    }\n",
              "  }\n",
              "</style>\n",
              "\n",
              "  <script>\n",
              "    async function quickchart(key) {\n",
              "      const quickchartButtonEl =\n",
              "        document.querySelector('#' + key + ' button');\n",
              "      quickchartButtonEl.disabled = true;  // To prevent multiple clicks.\n",
              "      quickchartButtonEl.classList.add('colab-df-spinner');\n",
              "      try {\n",
              "        const charts = await google.colab.kernel.invokeFunction(\n",
              "            'suggestCharts', [key], {});\n",
              "      } catch (error) {\n",
              "        console.error('Error during call to suggestCharts:', error);\n",
              "      }\n",
              "      quickchartButtonEl.classList.remove('colab-df-spinner');\n",
              "      quickchartButtonEl.classList.add('colab-df-quickchart-complete');\n",
              "    }\n",
              "    (() => {\n",
              "      let quickchartButtonEl =\n",
              "        document.querySelector('#df-db363b8b-2946-4cf3-baa3-0ec0d37af4b5 button');\n",
              "      quickchartButtonEl.style.display =\n",
              "        google.colab.kernel.accessAllowed ? 'block' : 'none';\n",
              "    })();\n",
              "  </script>\n",
              "</div>\n",
              "\n",
              "    </div>\n",
              "  </div>\n"
            ],
            "application/vnd.google.colaboratory.intrinsic+json": {
              "type": "dataframe",
              "variable_name": "df",
              "summary": "{\n  \"name\": \"df\",\n  \"rows\": 100,\n  \"fields\": [\n    {\n      \"column\": \"Test_1\",\n      \"properties\": {\n        \"dtype\": \"number\",\n        \"std\": 19.458222275425072,\n        \"min\": 30.05882244669796,\n        \"max\": 99.82785779692128,\n        \"num_unique_values\": 100,\n        \"samples\": [\n          57.23870631569862,\n          34.52451385320009,\n          32.72283304060323\n        ],\n        \"semantic_type\": \"\",\n        \"description\": \"\"\n      }\n    },\n    {\n      \"column\": \"Test_2\",\n      \"properties\": {\n        \"dtype\": \"number\",\n        \"std\": 18.582783039307344,\n        \"min\": 30.60326323428011,\n        \"max\": 98.86943574220612,\n        \"num_unique_values\": 100,\n        \"samples\": [\n          59.51428198012956,\n          60.39634245837173,\n          43.30717306430063\n        ],\n        \"semantic_type\": \"\",\n        \"description\": \"\"\n      }\n    },\n    {\n      \"column\": \"Results\",\n      \"properties\": {\n        \"dtype\": \"number\",\n        \"std\": 0,\n        \"min\": 0,\n        \"max\": 1,\n        \"num_unique_values\": 2,\n        \"samples\": [\n          1,\n          0\n        ],\n        \"semantic_type\": \"\",\n        \"description\": \"\"\n      }\n    }\n  ]\n}"
            }
          },
          "metadata": {},
          "execution_count": 157
        }
      ],
      "source": [
        "# Cargue los datos\n",
        "df = pd.read_csv('Classification_Tests.csv')\n",
        "df.head()"
      ]
    },
    {
      "cell_type": "markdown",
      "metadata": {
        "id": "9BUwirKT8CoV"
      },
      "source": [
        "### **Actividad 2. Descripción del data set**\n",
        "------"
      ]
    },
    {
      "cell_type": "markdown",
      "source": [
        "### *Tareas A2*\n",
        "\n",
        "* Describa los datos (Atributos, registros, rangos, distribuciones)\n",
        "* ¿Debe aplicar alguna técnica de limpieza?\n",
        "\n"
      ],
      "metadata": {
        "id": "eCJ5Ds9-5CTV"
      }
    },
    {
      "cell_type": "code",
      "source": [
        "df.info()"
      ],
      "metadata": {
        "colab": {
          "base_uri": "https://localhost:8080/"
        },
        "id": "sS4HEvVs5B4Y",
        "outputId": "9a99f5e4-45e5-4764-afed-28f0f02cf2da"
      },
      "execution_count": 158,
      "outputs": [
        {
          "output_type": "stream",
          "name": "stdout",
          "text": [
            "<class 'pandas.core.frame.DataFrame'>\n",
            "RangeIndex: 100 entries, 0 to 99\n",
            "Data columns (total 3 columns):\n",
            " #   Column   Non-Null Count  Dtype  \n",
            "---  ------   --------------  -----  \n",
            " 0   Test_1   100 non-null    float64\n",
            " 1   Test_2   100 non-null    float64\n",
            " 2   Results  100 non-null    int64  \n",
            "dtypes: float64(2), int64(1)\n",
            "memory usage: 2.5 KB\n"
          ]
        }
      ]
    },
    {
      "cell_type": "markdown",
      "source": [
        "### *Tareas A2*\n",
        "\n",
        "* Realice un diagrama de barras al target (concluya respecto al balance de las clases)"
      ],
      "metadata": {
        "id": "XtY_J-vJEa_H"
      }
    },
    {
      "cell_type": "code",
      "execution_count": 159,
      "metadata": {
        "colab": {
          "base_uri": "https://localhost:8080/",
          "height": 340
        },
        "id": "NrFREtdbY0vj",
        "outputId": "12ba64e2-df81-4b07-bcdc-a15d3b5c9ac6"
      },
      "outputs": [
        {
          "output_type": "display_data",
          "data": {
            "text/plain": [
              "<Figure size 500x300 with 1 Axes>"
            ],
            "image/png": "[encoded data removed]"
          },
          "metadata": {}
        }
      ],
      "source": [
        "class_counts = df['Results'].value_counts()\n",
        "class_counts.plot(kind='bar')\n",
        "plt.xlabel('Clase')\n",
        "plt.ylabel('Número de muestras')\n",
        "plt.title('Distribución de clases')\n",
        "plt.show()"
      ]
    },
    {
      "cell_type": "code",
      "source": [
        "df.head(20)"
      ],
      "metadata": {
        "colab": {
          "base_uri": "https://localhost:8080/",
          "height": 676
        },
        "id": "RB9m54Po2rGN",
        "outputId": "bd3833ba-fc70-452e-f73f-824119f25fbb"
      },
      "execution_count": 160,
      "outputs": [
        {
          "output_type": "execute_result",
          "data": {
            "text/plain": [
              "       Test_1     Test_2  Results\n",
              "0   34.623660  78.024693        0\n",
              "1   30.286711  43.894998        0\n",
              "2   35.847409  72.902198        0\n",
              "3   60.182599  86.308552        1\n",
              "4   79.032736  75.344376        1\n",
              "5   45.083277  56.316372        0\n",
              "6   61.106665  96.511426        1\n",
              "7   75.024746  46.554014        1\n",
              "8   76.098787  87.420570        1\n",
              "9   84.432820  43.533393        1\n",
              "10  95.861555  38.225278        0\n",
              "11  75.013658  30.603263        0\n",
              "12  82.307053  76.481963        1\n",
              "13  69.364589  97.718692        1\n",
              "14  39.538339  76.036811        0\n",
              "15  53.971052  89.207350        1\n",
              "16  69.070144  52.740470        1\n",
              "17  67.946855  46.678574        0\n",
              "18  70.661510  92.927138        1\n",
              "19  76.978784  47.575964        1"
            ],
            "text/html": [
              "\n",
              "  <div id=\"df-f49090af-a401-4339-84f2-8dfb2d520de9\" class=\"colab-df-container\">\n",
              "    <div>\n",
              "<style scoped>\n",
              "    .dataframe tbody tr th:only-of-type {\n",
              "        vertical-align: middle;\n",
              "    }\n",
              "\n",
              "    .dataframe tbody tr th {\n",
              "        vertical-align: top;\n",
              "    }\n",
              "\n",
              "    .dataframe thead th {\n",
              "        text-align: right;\n",
              "    }\n",
              "</style>\n",
              "<table border=\"1\" class=\"dataframe\">\n",
              "  <thead>\n",
              "    <tr style=\"text-align: right;\">\n",
              "      <th></th>\n",
              "      <th>Test_1</th>\n",
              "      <th>Test_2</th>\n",
              "      <th>Results</th>\n",
              "    </tr>\n",
              "  </thead>\n",
              "  <tbody>\n",
              "    <tr>\n",
              "      <th>0</th>\n",
              "      <td>34.623660</td>\n",
              "      <td>78.024693</td>\n",
              "      <td>0</td>\n",
              "    </tr>\n",
              "    <tr>\n",
              "      <th>1</th>\n",
              "      <td>30.286711</td>\n",
              "      <td>43.894998</td>\n",
              "      <td>0</td>\n",
              "    </tr>\n",
              "    <tr>\n",
              "      <th>2</th>\n",
              "      <td>35.847409</td>\n",
              "      <td>72.902198</td>\n",
              "      <td>0</td>\n",
              "    </tr>\n",
              "    <tr>\n",
              "      <th>3</th>\n",
              "      <td>60.182599</td>\n",
              "      <td>86.308552</td>\n",
              "      <td>1</td>\n",
              "    </tr>\n",
              "    <tr>\n",
              "      <th>4</th>\n",
              "      <td>79.032736</td>\n",
              "      <td>75.344376</td>\n",
              "      <td>1</td>\n",
              "    </tr>\n",
              "    <tr>\n",
              "      <th>5</th>\n",
              "      <td>45.083277</td>\n",
              "      <td>56.316372</td>\n",
              "      <td>0</td>\n",
              "    </tr>\n",
              "    <tr>\n",
              "      <th>6</th>\n",
              "      <td>61.106665</td>\n",
              "      <td>96.511426</td>\n",
              "      <td>1</td>\n",
              "    </tr>\n",
              "    <tr>\n",
              "      <th>7</th>\n",
              "      <td>75.024746</td>\n",
              "      <td>46.554014</td>\n",
              "      <td>1</td>\n",
              "    </tr>\n",
              "    <tr>\n",
              "      <th>8</th>\n",
              "      <td>76.098787</td>\n",
              "      <td>87.420570</td>\n",
              "      <td>1</td>\n",
              "    </tr>\n",
              "    <tr>\n",
              "      <th>9</th>\n",
              "      <td>84.432820</td>\n",
              "      <td>43.533393</td>\n",
              "      <td>1</td>\n",
              "    </tr>\n",
              "    <tr>\n",
              "      <th>10</th>\n",
              "      <td>95.861555</td>\n",
              "      <td>38.225278</td>\n",
              "      <td>0</td>\n",
              "    </tr>\n",
              "    <tr>\n",
              "      <th>11</th>\n",
              "      <td>75.013658</td>\n",
              "      <td>30.603263</td>\n",
              "      <td>0</td>\n",
              "    </tr>\n",
              "    <tr>\n",
              "      <th>12</th>\n",
              "      <td>82.307053</td>\n",
              "      <td>76.481963</td>\n",
              "      <td>1</td>\n",
              "    </tr>\n",
              "    <tr>\n",
              "      <th>13</th>\n",
              "      <td>69.364589</td>\n",
              "      <td>97.718692</td>\n",
              "      <td>1</td>\n",
              "    </tr>\n",
              "    <tr>\n",
              "      <th>14</th>\n",
              "      <td>39.538339</td>\n",
              "      <td>76.036811</td>\n",
              "      <td>0</td>\n",
              "    </tr>\n",
              "    <tr>\n",
              "      <th>15</th>\n",
              "      <td>53.971052</td>\n",
              "      <td>89.207350</td>\n",
              "      <td>1</td>\n",
              "    </tr>\n",
              "    <tr>\n",
              "      <th>16</th>\n",
              "      <td>69.070144</td>\n",
              "      <td>52.740470</td>\n",
              "      <td>1</td>\n",
              "    </tr>\n",
              "    <tr>\n",
              "      <th>17</th>\n",
              "      <td>67.946855</td>\n",
              "      <td>46.678574</td>\n",
              "      <td>0</td>\n",
              "    </tr>\n",
              "    <tr>\n",
              "      <th>18</th>\n",
              "      <td>70.661510</td>\n",
              "      <td>92.927138</td>\n",
              "      <td>1</td>\n",
              "    </tr>\n",
              "    <tr>\n",
              "      <th>19</th>\n",
              "      <td>76.978784</td>\n",
              "      <td>47.575964</td>\n",
              "      <td>1</td>\n",
              "    </tr>\n",
              "  </tbody>\n",
              "</table>\n",
              "</div>\n",
              "    <div class=\"colab-df-buttons\">\n",
              "\n",
              "  <div class=\"colab-df-container\">\n",
              "    <button class=\"colab-df-convert\" onclick=\"convertToInteractive('df-f49090af-a401-4339-84f2-8dfb2d520de9')\"\n",
              "            title=\"Convert this dataframe to an interactive table.\"\n",
              "            style=\"display:none;\">\n",
              "\n",
              "  <svg xmlns=\"http://www.w3.org/2000/svg\" height=\"24px\" viewBox=\"0 -960 960 960\">\n",
              "    <path d=\"M120-120v-720h720v720H120Zm60-500h600v-160H180v160Zm220 220h160v-160H400v160Zm0 220h160v-160H400v160ZM180-400h160v-160H180v160Zm440 0h160v-160H620v160ZM180-180h160v-160H180v160Zm440 0h160v-160H620v160Z\"/>\n",
              "  </svg>\n",
              "    </button>\n",
              "\n",
              "  <style>\n",
              "    .colab-df-container {\n",
              "      display:flex;\n",
              "      gap: 12px;\n",
              "    }\n",
              "\n",
              "    .colab-df-convert {\n",
              "      background-color: #E8F0FE;\n",
              "      border: none;\n",
              "      border-radius: 50%;\n",
              "      cursor: pointer;\n",
              "      display: none;\n",
              "      fill: #1967D2;\n",
              "      height: 32px;\n",
              "      padding: 0 0 0 0;\n",
              "      width: 32px;\n",
              "    }\n",
              "\n",
              "    .colab-df-convert:hover {\n",
              "      background-color: #E2EBFA;\n",
              "      box-shadow: 0px 1px 2px rgba(60, 64, 67, 0.3), 0px 1px 3px 1px rgba(60, 64, 67, 0.15);\n",
              "      fill: #174EA6;\n",
              "    }\n",
              "\n",
              "    .colab-df-buttons div {\n",
              "      margin-bottom: 4px;\n",
              "    }\n",
              "\n",
              "    [theme=dark] .colab-df-convert {\n",
              "      background-color: #3B4455;\n",
              "      fill: #D2E3FC;\n",
              "    }\n",
              "\n",
              "    [theme=dark] .colab-df-convert:hover {\n",
              "      background-color: #434B5C;\n",
              "      box-shadow: 0px 1px 3px 1px rgba(0, 0, 0, 0.15);\n",
              "      filter: drop-shadow(0px 1px 2px rgba(0, 0, 0, 0.3));\n",
              "      fill: #FFFFFF;\n",
              "    }\n",
              "  </style>\n",
              "\n",
              "    <script>\n",
              "      const buttonEl =\n",
              "        document.querySelector('#df-f49090af-a401-4339-84f2-8dfb2d520de9 button.colab-df-convert');\n",
              "      buttonEl.style.display =\n",
              "        google.colab.kernel.accessAllowed ? 'block' : 'none';\n",
              "\n",
              "      async function convertToInteractive(key) {\n",
              "        const element = document.querySelector('#df-f49090af-a401-4339-84f2-8dfb2d520de9');\n",
              "        const dataTable =\n",
              "          await google.colab.kernel.invokeFunction('convertToInteractive',\n",
              "                                                    [key], {});\n",
              "        if (!dataTable) return;\n",
              "\n",
              "        const docLinkHtml = 'Like what you see? Visit the ' +\n",
              "          '<a target=\"_blank\" href=https://colab.research.google.com/notebooks/data_table.ipynb>data table notebook</a>'\n",
              "          + ' to learn more about interactive tables.';\n",
              "        element.innerHTML = '';\n",
              "        dataTable['output_type'] = 'display_data';\n",
              "        await google.colab.output.renderOutput(dataTable, element);\n",
              "        const docLink = document.createElement('div');\n",
              "        docLink.innerHTML = docLinkHtml;\n",
              "        element.appendChild(docLink);\n",
              "      }\n",
              "    </script>\n",
              "  </div>\n",
              "\n",
              "\n",
              "<div id=\"df-0f0995d9-86b4-4eec-8504-1aff366fa01f\">\n",
              "  <button class=\"colab-df-quickchart\" onclick=\"quickchart('df-0f0995d9-86b4-4eec-8504-1aff366fa01f')\"\n",
              "            title=\"Suggest charts\"\n",
              "            style=\"display:none;\">\n",
              "\n",
              "<svg xmlns=\"http://www.w3.org/2000/svg\" height=\"24px\"viewBox=\"0 0 24 24\"\n",
              "     width=\"24px\">\n",
              "    <g>\n",
              "        <path d=\"M19 3H5c-1.1 0-2 .9-2 2v14c0 1.1.9 2 2 2h14c1.1 0 2-.9 2-2V5c0-1.1-.9-2-2-2zM9 17H7v-7h2v7zm4 0h-2V7h2v10zm4 0h-2v-4h2v4z\"/>\n",
              "    </g>\n",
              "</svg>\n",
              "  </button>\n",
              "\n",
              "<style>\n",
              "  .colab-df-quickchart {\n",
              "      --bg-color: #E8F0FE;\n",
              "      --fill-color: #1967D2;\n",
              "      --hover-bg-color: #E2EBFA;\n",
              "      --hover-fill-color: #174EA6;\n",
              "      --disabled-fill-color: #AAA;\n",
              "      --disabled-bg-color: #DDD;\n",
              "  }\n",
              "\n",
              "  [theme=dark] .colab-df-quickchart {\n",
              "      --bg-color: #3B4455;\n",
              "      --fill-color: #D2E3FC;\n",
              "      --hover-bg-color: #434B5C;\n",
              "      --hover-fill-color: #FFFFFF;\n",
              "      --disabled-bg-color: #3B4455;\n",
              "      --disabled-fill-color: #666;\n",
              "  }\n",
              "\n",
              "  .colab-df-quickchart {\n",
              "    background-color: var(--bg-color);\n",
              "    border: none;\n",
              "    border-radius: 50%;\n",
              "    cursor: pointer;\n",
              "    display: none;\n",
              "    fill: var(--fill-color);\n",
              "    height: 32px;\n",
              "    padding: 0;\n",
              "    width: 32px;\n",
              "  }\n",
              "\n",
              "  .colab-df-quickchart:hover {\n",
              "    background-color: var(--hover-bg-color);\n",
              "    box-shadow: 0 1px 2px rgba(60, 64, 67, 0.3), 0 1px 3px 1px rgba(60, 64, 67, 0.15);\n",
              "    fill: var(--button-hover-fill-color);\n",
              "  }\n",
              "\n",
              "  .colab-df-quickchart-complete:disabled,\n",
              "  .colab-df-quickchart-complete:disabled:hover {\n",
              "    background-color: var(--disabled-bg-color);\n",
              "    fill: var(--disabled-fill-color);\n",
              "    box-shadow: none;\n",
              "  }\n",
              "\n",
              "  .colab-df-spinner {\n",
              "    border: 2px solid var(--fill-color);\n",
              "    border-color: transparent;\n",
              "    border-bottom-color: var(--fill-color);\n",
              "    animation:\n",
              "      spin 1s steps(1) infinite;\n",
              "  }\n",
              "\n",
              "  @keyframes spin {\n",
              "    0% {\n",
              "      border-color: transparent;\n",
              "      border-bottom-color: var(--fill-color);\n",
              "      border-left-color: var(--fill-color);\n",
              "    }\n",
              "    20% {\n",
              "      border-color: transparent;\n",
              "      border-left-color: var(--fill-color);\n",
              "      border-top-color: var(--fill-color);\n",
              "    }\n",
              "    30% {\n",
              "      border-color: transparent;\n",
              "      border-left-color: var(--fill-color);\n",
              "      border-top-color: var(--fill-color);\n",
              "      border-right-color: var(--fill-color);\n",
              "    }\n",
              "    40% {\n",
              "      border-color: transparent;\n",
              "      border-right-color: var(--fill-color);\n",
              "      border-top-color: var(--fill-color);\n",
              "    }\n",
              "    60% {\n",
              "      border-color: transparent;\n",
              "      border-right-color: var(--fill-color);\n",
              "    }\n",
              "    80% {\n",
              "      border-color: transparent;\n",
              "      border-right-color: var(--fill-color);\n",
              "      border-bottom-color: var(--fill-color);\n",
              "    }\n",
              "    90% {\n",
              "      border-color: transparent;\n",
              "      border-bottom-color: var(--fill-color);\n",
              "    }\n",
              "  }\n",
              "</style>\n",
              "\n",
              "  <script>\n",
              "    async function quickchart(key) {\n",
              "      const quickchartButtonEl =\n",
              "        document.querySelector('#' + key + ' button');\n",
              "      quickchartButtonEl.disabled = true;  // To prevent multiple clicks.\n",
              "      quickchartButtonEl.classList.add('colab-df-spinner');\n",
              "      try {\n",
              "        const charts = await google.colab.kernel.invokeFunction(\n",
              "            'suggestCharts', [key], {});\n",
              "      } catch (error) {\n",
              "        console.error('Error during call to suggestCharts:', error);\n",
              "      }\n",
              "      quickchartButtonEl.classList.remove('colab-df-spinner');\n",
              "      quickchartButtonEl.classList.add('colab-df-quickchart-complete');\n",
              "    }\n",
              "    (() => {\n",
              "      let quickchartButtonEl =\n",
              "        document.querySelector('#df-0f0995d9-86b4-4eec-8504-1aff366fa01f button');\n",
              "      quickchartButtonEl.style.display =\n",
              "        google.colab.kernel.accessAllowed ? 'block' : 'none';\n",
              "    })();\n",
              "  </script>\n",
              "</div>\n",
              "\n",
              "    </div>\n",
              "  </div>\n"
            ],
            "application/vnd.google.colaboratory.intrinsic+json": {
              "type": "dataframe",
              "variable_name": "df",
              "summary": "{\n  \"name\": \"df\",\n  \"rows\": 100,\n  \"fields\": [\n    {\n      \"column\": \"Test_1\",\n      \"properties\": {\n        \"dtype\": \"number\",\n        \"std\": 19.458222275425072,\n        \"min\": 30.05882244669796,\n        \"max\": 99.82785779692128,\n        \"num_unique_values\": 100,\n        \"samples\": [\n          57.23870631569862,\n          34.52451385320009,\n          32.72283304060323\n        ],\n        \"semantic_type\": \"\",\n        \"description\": \"\"\n      }\n    },\n    {\n      \"column\": \"Test_2\",\n      \"properties\": {\n        \"dtype\": \"number\",\n        \"std\": 18.582783039307344,\n        \"min\": 30.60326323428011,\n        \"max\": 98.86943574220612,\n        \"num_unique_values\": 100,\n        \"samples\": [\n          59.51428198012956,\n          60.39634245837173,\n          43.30717306430063\n        ],\n        \"semantic_type\": \"\",\n        \"description\": \"\"\n      }\n    },\n    {\n      \"column\": \"Results\",\n      \"properties\": {\n        \"dtype\": \"number\",\n        \"std\": 0,\n        \"min\": 0,\n        \"max\": 1,\n        \"num_unique_values\": 2,\n        \"samples\": [\n          1,\n          0\n        ],\n        \"semantic_type\": \"\",\n        \"description\": \"\"\n      }\n    }\n  ]\n}"
            }
          },
          "metadata": {},
          "execution_count": 160
        }
      ]
    },
    {
      "cell_type": "code",
      "source": [
        "resultado_Test1 = df['Results'][df['Test_1'] > 85]\n",
        "resultado_Test1\n"
      ],
      "metadata": {
        "colab": {
          "base_uri": "https://localhost:8080/",
          "height": 617
        },
        "id": "WsKQzOMP10e3",
        "outputId": "e15d21d2-11f5-4bde-f46e-cbcb4e0757dd"
      },
      "execution_count": 161,
      "outputs": [
        {
          "output_type": "execute_result",
          "data": {
            "text/plain": [
              "10    0\n",
              "21    1\n",
              "27    0\n",
              "31    1\n",
              "42    1\n",
              "47    1\n",
              "49    1\n",
              "51    1\n",
              "52    1\n",
              "56    1\n",
              "75    1\n",
              "80    1\n",
              "81    1\n",
              "90    1\n",
              "91    1\n",
              "94    1\n",
              "97    1\n",
              "Name: Results, dtype: int64"
            ],
            "text/html": [
              "<div>\n",
              "<style scoped>\n",
              "    .dataframe tbody tr th:only-of-type {\n",
              "        vertical-align: middle;\n",
              "    }\n",
              "\n",
              "    .dataframe tbody tr th {\n",
              "        vertical-align: top;\n",
              "    }\n",
              "\n",
              "    .dataframe thead th {\n",
              "        text-align: right;\n",
              "    }\n",
              "</style>\n",
              "<table border=\"1\" class=\"dataframe\">\n",
              "  <thead>\n",
              "    <tr style=\"text-align: right;\">\n",
              "      <th></th>\n",
              "      <th>Results</th>\n",
              "    </tr>\n",
              "  </thead>\n",
              "  <tbody>\n",
              "    <tr>\n",
              "      <th>10</th>\n",
              "      <td>0</td>\n",
              "    </tr>\n",
              "    <tr>\n",
              "      <th>21</th>\n",
              "      <td>1</td>\n",
              "    </tr>\n",
              "    <tr>\n",
              "      <th>27</th>\n",
              "      <td>0</td>\n",
              "    </tr>\n",
              "    <tr>\n",
              "      <th>31</th>\n",
              "      <td>1</td>\n",
              "    </tr>\n",
              "    <tr>\n",
              "      <th>42</th>\n",
              "      <td>1</td>\n",
              "    </tr>\n",
              "    <tr>\n",
              "      <th>47</th>\n",
              "      <td>1</td>\n",
              "    </tr>\n",
              "    <tr>\n",
              "      <th>49</th>\n",
              "      <td>1</td>\n",
              "    </tr>\n",
              "    <tr>\n",
              "      <th>51</th>\n",
              "      <td>1</td>\n",
              "    </tr>\n",
              "    <tr>\n",
              "      <th>52</th>\n",
              "      <td>1</td>\n",
              "    </tr>\n",
              "    <tr>\n",
              "      <th>56</th>\n",
              "      <td>1</td>\n",
              "    </tr>\n",
              "    <tr>\n",
              "      <th>75</th>\n",
              "      <td>1</td>\n",
              "    </tr>\n",
              "    <tr>\n",
              "      <th>80</th>\n",
              "      <td>1</td>\n",
              "    </tr>\n",
              "    <tr>\n",
              "      <th>81</th>\n",
              "      <td>1</td>\n",
              "    </tr>\n",
              "    <tr>\n",
              "      <th>90</th>\n",
              "      <td>1</td>\n",
              "    </tr>\n",
              "    <tr>\n",
              "      <th>91</th>\n",
              "      <td>1</td>\n",
              "    </tr>\n",
              "    <tr>\n",
              "      <th>94</th>\n",
              "      <td>1</td>\n",
              "    </tr>\n",
              "    <tr>\n",
              "      <th>97</th>\n",
              "      <td>1</td>\n",
              "    </tr>\n",
              "  </tbody>\n",
              "</table>\n",
              "</div><br><label><b>dtype:</b> int64</label>"
            ]
          },
          "metadata": {},
          "execution_count": 161
        }
      ]
    },
    {
      "cell_type": "markdown",
      "metadata": {
        "id": "oExLo73lY0vk"
      },
      "source": [
        "### **Actividad 3: Construya un diagrama de las clases de data set**\n",
        "---"
      ]
    },
    {
      "cell_type": "markdown",
      "source": [
        "### *Tareas A3*\n",
        "\n",
        "Las siguientes líneas de código grafican el diagrama de dispersión (scatter) de los datos de los que no aprobaron\n",
        "\n",
        "* Ingresa la línea de código para que gráfique la clase que si aprobó con un triangulo verde\n",
        "*  Complete los títulos de la gra´fica y los ejes"
      ],
      "metadata": {
        "id": "A3EVH3quCVpm"
      }
    },
    {
      "cell_type": "code",
      "execution_count": 162,
      "metadata": {
        "colab": {
          "base_uri": "https://localhost:8080/",
          "height": 346
        },
        "id": "DVPjbmyYY0vk",
        "outputId": "f46adf1f-c160-4f01-de9f-1906e4f580ba"
      },
      "outputs": [
        {
          "output_type": "display_data",
          "data": {
            "text/plain": [
              "<Figure size 500x300 with 1 Axes>"
            ],
            "image/png": "[encoded data removed]"
          },
          "metadata": {}
        }
      ],
      "source": [
        "target = df['Results']\n",
        "\n",
        "plt.scatter(df['Test_1'][target == 0], df['Test_2'][target== 0], alpha=0.5, label='No aprobó (0)', marker='X', color='red')\n",
        "plt.scatter(df['Test_1'][target == 1], df['Test_2'][target == 1], alpha=1, label='Aprobo (1)', marker='^', color='green')\n",
        "\n",
        "plt.title('Qué título tiene está grafica')\n",
        "plt.xlabel('cuál es el x?')\n",
        "plt.ylabel('cuál es el y?')\n",
        "plt.legend()\n",
        "plt.grid(True)\n",
        "plt.show()"
      ]
    },
    {
      "cell_type": "markdown",
      "metadata": {
        "id": "whFa8CdFY0vk"
      },
      "source": [
        "### **Actividad 4: Defina una función para calcular la función sigmoid**\n",
        "---\n",
        "\n",
        "$$ h(z) = \\frac{1}{1+e^{-z}}$$"
      ]
    },
    {
      "cell_type": "code",
      "source": [
        "def sigmoid(x):\n",
        "    return 1 / (1 + np.exp(-x))"
      ],
      "metadata": {
        "id": "2K0K3JySvfVk"
      },
      "execution_count": 163,
      "outputs": []
    },
    {
      "cell_type": "markdown",
      "source": [
        "### *Tareas A4*\n",
        "\n",
        "En clases pasadas desarrollamos la función de para en cálculo de la sigmoid\n",
        "\n",
        "* Copia la función y grafica en un rango de -10 a 10\n",
        "* Describa la función sigmoid\n",
        "* Cuál es el rango de la función sigmoid? Es decir en qué valores existe la función?"
      ],
      "metadata": {
        "id": "imKJDEfrHwlm"
      }
    },
    {
      "cell_type": "markdown",
      "metadata": {
        "id": "99tSO2zMY0vl"
      },
      "source": [
        "### Actividad 5: Cálculo de la función de costos $J(\\theta)$\n",
        "---"
      ]
    },
    {
      "cell_type": "markdown",
      "metadata": {
        "id": "Omcly6RDY0vl"
      },
      "source": [
        "El objetivo de la regresión log´stica es minimizar la función de costo\n",
        "\n",
        "$$J(\\theta) = -\\frac{1}{m} \\sum_{i=1}^{m} [ y^{(i)}log(h_{\\theta}(x^{(i)})) + (1 - y^{(i)})log(1 - (h_{\\theta}(x^{(i)}))]$$\n",
        "\n",
        "donde el gradiente de la función de costo está dado por\n",
        "\n",
        "$$ \\frac{\\partial J(\\theta)}{\\partial \\theta_j} = \\frac{1}{m} \\sum_{i=1}^{m} (h_{\\theta}(x^{(i)}) - y^{(i)})x_j^{(i)}$$"
      ]
    },
    {
      "cell_type": "markdown",
      "source": [
        "### *Tareas A5*\n",
        "\n",
        "* Contruya una función para calcular la función de costo\n",
        "* Construya una gráfica con plot(h,y) para graficar la función de costo.\n",
        "1. Genere un vector de datos con todos los posibles valores de h\n",
        "2. Grafique un plot cuando  y = 0\n",
        "3. Grafique un plot cuando  y = 1\n",
        "\n",
        "* Concluya"
      ],
      "metadata": {
        "id": "LXOjxwEJI-Wi"
      }
    },
    {
      "cell_type": "code",
      "source": [
        "1e-10"
      ],
      "metadata": {
        "colab": {
          "base_uri": "https://localhost:8080/"
        },
        "id": "ofXgxSHdMWlc",
        "outputId": "40eb9da2-5b18-4a9f-c31e-2bb12e83a067"
      },
      "execution_count": 173,
      "outputs": [
        {
          "output_type": "execute_result",
          "data": {
            "text/plain": [
              "1e-10"
            ]
          },
          "metadata": {},
          "execution_count": 173
        }
      ]
    },
    {
      "cell_type": "code",
      "execution_count": 174,
      "metadata": {
        "colab": {
          "base_uri": "https://localhost:8080/",
          "height": 590
        },
        "id": "TtD8ITgbY0vl",
        "outputId": "108b3a2e-7d1a-44c3-9b13-f71465d18703"
      },
      "outputs": [
        {
          "output_type": "display_data",
          "data": {
            "text/plain": [
              "<Figure size 800x600 with 1 Axes>"
            ],
            "image/png": "[encoded data removed]"
          },
          "metadata": {}
        }
      ],
      "source": [
        "# Definir la función de costo para logistic regression\n",
        "def cost_function(h, y):\n",
        "    h = np.clip(h, 1e-10, 1 - 1e-10)  # Avoid log(0)\n",
        "    return -y * np.log(h) - (1 - y) * np.log(1 - h)\n",
        "\n",
        "# Crear valores de h (predicción) desde casi 0 hasta casi 1\n",
        "h_values = np.linspace(0.01, 0.99, 100)\n",
        "\n",
        "# Calcular el costo para y=0 y y=1\n",
        "cost_for_y0 = cost_function(h_values, 0)\n",
        "cost_for_y1 = cost_function(h_values, 1)\n",
        "\n",
        "# Graficar las funciones de costo\n",
        "plt.figure(figsize=(8, 6))\n",
        "plt.plot(h_values, cost_for_y0, label='Costo cuando y=0', color='blue')\n",
        "plt.plot(h_values, cost_for_y1, label='Costo cuando y=1', color='red')\n",
        "plt.title('Función de Costo para Logistic Regression')\n",
        "plt.xlabel('h_θ(x) (Predicción)')\n",
        "plt.ylabel('Costo')\n",
        "plt.legend()\n",
        "plt.grid(True)\n",
        "plt.show()"
      ]
    },
    {
      "cell_type": "code",
      "source": [],
      "metadata": {
        "id": "OLy0RYefJEGQ"
      },
      "execution_count": 164,
      "outputs": []
    },
    {
      "cell_type": "markdown",
      "source": [
        "### Actividad 6: Actualización de los parámetros $(\\theta)$\n",
        "---\n",
        "\n",
        "Modificar la fucnión desarrolladas en RGD para ajustarla a la hipotesisi de la Reg logistica\n",
        "\n",
        "\n",
        "El objetivo del **gradiente descendente** es minimizar la **función de costo** ajustando los parámetros"
      ],
      "metadata": {
        "id": "n7Ww9mLcy19D"
      }
    },
    {
      "cell_type": "markdown",
      "source": [
        "![Ajuste Pesos.png](data:image/png;base64,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)\n",
        "\n"
      ],
      "metadata": {
        "id": "j-m8Tet6vxM2"
      }
    },
    {
      "cell_type": "code",
      "source": [
        "from statsmodels.tools.tools import add_constant"
      ],
      "metadata": {
        "id": "dS0p8NdS0t0p"
      },
      "execution_count": 165,
      "outputs": []
    },
    {
      "cell_type": "code",
      "source": [
        "# Fuente del código original  https://github.com/Liam-Nova/\n",
        "# S2_C5\n",
        "\n",
        "def my_RLog(X,Y,alpha,theta,n_iteraciones):\n",
        "  m = len(Y)  # Se calcula el número de registros( ejemplos de entrenamiento) y se guarda en m\n",
        "  Y = np.reshape(Y,(-1,1))\n",
        "  # Se reemplaza cost_history = np.zeros(n_iteraciones)\n",
        "  # Por\n",
        "  cost_history  = []\n",
        "  # ¿Qué para guardar el valor del costo\n",
        "  #cost_history.append(cost)\n",
        "\n",
        "  for i in range(n_iteraciones):\n",
        "    # H = sigmoid(z) = 1 / ( 1 + exp(-(t0+t1X1+t2X2)))\n",
        "    H = sigmoid(np.dot(X,theta))\n",
        "\n",
        "    # Actualización de paramatero\n",
        "    # theta = theta - alpha * (1/m) * np.dot(X.T,(H-Y))\n",
        "    theta -=  alpha * (1/m) * np.dot(X.T,(H-Y))\n",
        "\n",
        "    # llamando la función que calcula el del costo\n",
        "    cost = cost_function(H,Y)\n",
        "\n",
        "    # Guarda los valores del costo en la iteracion i-ésima\n",
        "    # cost_history[i] = cost_function(H,Y)\n",
        "    cost_history.append(cost)\n",
        "    # cost_history.append(cost_function(H,Y))\n",
        "\n",
        "  return theta, cost_history"
      ],
      "metadata": {
        "id": "wXlloLSt0RTI"
      },
      "execution_count": 166,
      "outputs": []
    },
    {
      "cell_type": "markdown",
      "metadata": {
        "id": "iUpG_CgrY0vm"
      },
      "source": [
        "### Actividad 7: Entrenamiento\n",
        "---\n",
        "\n",
        "* Definifir los atributos y objetivo\n",
        "* Modelar los atributos con la componente de unos para $(\\theta_0)$ ( **bias**)\n",
        "* Definir los hiperparámetros\n",
        "* Fit ( Entrenar) en con la función de la actividad 6\n",
        "\n"
      ]
    },
    {
      "cell_type": "code",
      "source": [
        "Y = df['Results'] # Target\n",
        "X = df[['Test_1','Test_2']] # Atributos\n",
        "# X = add_constant(X) # Agregar unos para theta_0\n",
        "# X = np.c_[A,B] : concatena A,B\n",
        "X = np.c_[np.ones((X.shape[0],1)), X]\n",
        "alpha = 0.01\n",
        "n_iteraciones = 1000"
      ],
      "metadata": {
        "id": "Jw0heaoQ2XiF"
      },
      "execution_count": 167,
      "outputs": []
    },
    {
      "cell_type": "code",
      "execution_count": 168,
      "metadata": {
        "id": "xYHVnDQjY0vm",
        "colab": {
          "base_uri": "https://localhost:8080/"
        },
        "outputId": "a08b9764-d866-419b-81fb-09f2bd912502"
      },
      "outputs": [
        {
          "output_type": "stream",
          "name": "stdout",
          "text": [
            "Parámetros iniciales\n",
            "[[ 0.38560632]\n",
            " [-0.60604235]\n",
            " [-0.10135756]]\n"
          ]
        }
      ],
      "source": [
        "theta = np.random.randn(3,1) #\n",
        "print('Parámetros iniciales')\n",
        "print(theta)"
      ]
    },
    {
      "cell_type": "code",
      "source": [
        "theta, cost_history = my_RLog(X,Y,alpha,theta,n_iteraciones)\n",
        "print('Parámetros finales')\n",
        "print(theta)"
      ],
      "metadata": {
        "colab": {
          "base_uri": "https://localhost:8080/"
        },
        "id": "JZTGEK_YJOds",
        "outputId": "3e07bd0e-acb2-4a6b-91ef-7c63bba069c2"
      },
      "execution_count": 169,
      "outputs": [
        {
          "output_type": "stream",
          "name": "stdout",
          "text": [
            "Parámetros finales\n",
            "[[-0.37725187]\n",
            " [ 0.35565012]\n",
            " [-0.11319421]]\n"
          ]
        }
      ]
    },
    {
      "cell_type": "code",
      "source": [
        "len(cost_history)"
      ],
      "metadata": {
        "colab": {
          "base_uri": "https://localhost:8080/"
        },
        "id": "m3ueGTYuLF0s",
        "outputId": "63fcf10d-e530-40ce-90a9-29669b4a8993"
      },
      "execution_count": 170,
      "outputs": [
        {
          "output_type": "execute_result",
          "data": {
            "text/plain": [
              "1000"
            ]
          },
          "metadata": {},
          "execution_count": 170
        }
      ]
    },
    {
      "cell_type": "code",
      "source": [
        "plt.figure(figsize=(10,5))\n",
        "plt.subplot(1,2,1)\n",
        "c = np.arange(1,len(cost_history)+1)\n",
        "plt.plot(c, cost_history)\n",
        "\n",
        "\n",
        "plt.title('Costo vs Iteraciones')\n",
        "plt.xlabel('Iteraciones')\n",
        "plt.ylabel('Costo')"
      ],
      "metadata": {
        "colab": {
          "base_uri": "https://localhost:8080/",
          "height": 822
        },
        "id": "jaA_DytfK7bp",
        "outputId": "be85ffde-e2f0-4e62-aeb5-8d39ca9e9508"
      },
      "execution_count": 172,
      "outputs": [
        {
          "output_type": "error",
          "ename": "ValueError",
          "evalue": "x and y can be no greater than 2D, but have shapes (1000,) and (1000, 100, 1)",
          "traceback": [
            "\u001b[0;31m---------------------------------------------------------------------------\u001b[0m",
            "\u001b[0;31mValueError\u001b[0m                                Traceback (most recent call last)",
            "\u001b[0;32m<ipython-input-172-5f47a484bf6d>\u001b[0m in \u001b[0;36m<cell line: 4>\u001b[0;34m()\u001b[0m\n\u001b[1;32m      2\u001b[0m \u001b[0mplt\u001b[0m\u001b[0;34m.\u001b[0m\u001b[0msubplot\u001b[0m\u001b[0;34m(\u001b[0m\u001b[0;36m1\u001b[0m\u001b[0;34m,\u001b[0m\u001b[0;36m2\u001b[0m\u001b[0;34m,\u001b[0m\u001b[0;36m1\u001b[0m\u001b[0;34m)\u001b[0m\u001b[0;34m\u001b[0m\u001b[0;34m\u001b[0m\u001b[0m\n\u001b[1;32m      3\u001b[0m \u001b[0mc\u001b[0m \u001b[0;34m=\u001b[0m \u001b[0mnp\u001b[0m\u001b[0;34m.\u001b[0m\u001b[0marange\u001b[0m\u001b[0;34m(\u001b[0m\u001b[0;36m1\u001b[0m\u001b[0;34m,\u001b[0m\u001b[0mlen\u001b[0m\u001b[0;34m(\u001b[0m\u001b[0mcost_history\u001b[0m\u001b[0;34m)\u001b[0m\u001b[0;34m+\u001b[0m\u001b[0;36m1\u001b[0m\u001b[0;34m)\u001b[0m\u001b[0;34m\u001b[0m\u001b[0;34m\u001b[0m\u001b[0m\n\u001b[0;32m----> 4\u001b[0;31m \u001b[0mplt\u001b[0m\u001b[0;34m.\u001b[0m\u001b[0mplot\u001b[0m\u001b[0;34m(\u001b[0m\u001b[0mc\u001b[0m\u001b[0;34m,\u001b[0m \u001b[0mcost_history\u001b[0m\u001b[0;34m)\u001b[0m\u001b[0;34m\u001b[0m\u001b[0;34m\u001b[0m\u001b[0m\n\u001b[0m\u001b[1;32m      5\u001b[0m \u001b[0;34m\u001b[0m\u001b[0m\n\u001b[1;32m      6\u001b[0m \u001b[0;34m\u001b[0m\u001b[0m\n",
            "\u001b[0;32m/usr/local/lib/python3.10/dist-packages/matplotlib/pyplot.py\u001b[0m in \u001b[0;36mplot\u001b[0;34m(scalex, scaley, data, *args, **kwargs)\u001b[0m\n\u001b[1;32m   2810\u001b[0m \u001b[0;34m@\u001b[0m\u001b[0m_copy_docstring_and_deprecators\u001b[0m\u001b[0;34m(\u001b[0m\u001b[0mAxes\u001b[0m\u001b[0;34m.\u001b[0m\u001b[0mplot\u001b[0m\u001b[0;34m)\u001b[0m\u001b[0;34m\u001b[0m\u001b[0;34m\u001b[0m\u001b[0m\n\u001b[1;32m   2811\u001b[0m \u001b[0;32mdef\u001b[0m \u001b[0mplot\u001b[0m\u001b[0;34m(\u001b[0m\u001b[0;34m*\u001b[0m\u001b[0margs\u001b[0m\u001b[0;34m,\u001b[0m \u001b[0mscalex\u001b[0m\u001b[0;34m=\u001b[0m\u001b[0;32mTrue\u001b[0m\u001b[0;34m,\u001b[0m \u001b[0mscaley\u001b[0m\u001b[0;34m=\u001b[0m\u001b[0;32mTrue\u001b[0m\u001b[0;34m,\u001b[0m \u001b[0mdata\u001b[0m\u001b[0;34m=\u001b[0m\u001b[0;32mNone\u001b[0m\u001b[0;34m,\u001b[0m \u001b[0;34m**\u001b[0m\u001b[0mkwargs\u001b[0m\u001b[0;34m)\u001b[0m\u001b[0;34m:\u001b[0m\u001b[0;34m\u001b[0m\u001b[0;34m\u001b[0m\u001b[0m\n\u001b[0;32m-> 2812\u001b[0;31m     return gca().plot(\n\u001b[0m\u001b[1;32m   2813\u001b[0m         \u001b[0;34m*\u001b[0m\u001b[0margs\u001b[0m\u001b[0;34m,\u001b[0m \u001b[0mscalex\u001b[0m\u001b[0;34m=\u001b[0m\u001b[0mscalex\u001b[0m\u001b[0;34m,\u001b[0m \u001b[0mscaley\u001b[0m\u001b[0;34m=\u001b[0m\u001b[0mscaley\u001b[0m\u001b[0;34m,\u001b[0m\u001b[0;34m\u001b[0m\u001b[0;34m\u001b[0m\u001b[0m\n\u001b[1;32m   2814\u001b[0m         **({\"data\": data} if data is not None else {}), **kwargs)\n",
            "\u001b[0;32m/usr/local/lib/python3.10/dist-packages/matplotlib/axes/_axes.py\u001b[0m in \u001b[0;36mplot\u001b[0;34m(self, scalex, scaley, data, *args, **kwargs)\u001b[0m\n\u001b[1;32m   1686\u001b[0m         \"\"\"\n\u001b[1;32m   1687\u001b[0m         \u001b[0mkwargs\u001b[0m \u001b[0;34m=\u001b[0m \u001b[0mcbook\u001b[0m\u001b[0;34m.\u001b[0m\u001b[0mnormalize_kwargs\u001b[0m\u001b[0;34m(\u001b[0m\u001b[0mkwargs\u001b[0m\u001b[0;34m,\u001b[0m \u001b[0mmlines\u001b[0m\u001b[0;34m.\u001b[0m\u001b[0mLine2D\u001b[0m\u001b[0;34m)\u001b[0m\u001b[0;34m\u001b[0m\u001b[0;34m\u001b[0m\u001b[0m\n\u001b[0;32m-> 1688\u001b[0;31m         \u001b[0mlines\u001b[0m \u001b[0;34m=\u001b[0m \u001b[0;34m[\u001b[0m\u001b[0;34m*\u001b[0m\u001b[0mself\u001b[0m\u001b[0;34m.\u001b[0m\u001b[0m_get_lines\u001b[0m\u001b[0;34m(\u001b[0m\u001b[0;34m*\u001b[0m\u001b[0margs\u001b[0m\u001b[0;34m,\u001b[0m \u001b[0mdata\u001b[0m\u001b[0;34m=\u001b[0m\u001b[0mdata\u001b[0m\u001b[0;34m,\u001b[0m \u001b[0;34m**\u001b[0m\u001b[0mkwargs\u001b[0m\u001b[0;34m)\u001b[0m\u001b[0;34m]\u001b[0m\u001b[0;34m\u001b[0m\u001b[0;34m\u001b[0m\u001b[0m\n\u001b[0m\u001b[1;32m   1689\u001b[0m         \u001b[0;32mfor\u001b[0m \u001b[0mline\u001b[0m \u001b[0;32min\u001b[0m \u001b[0mlines\u001b[0m\u001b[0;34m:\u001b[0m\u001b[0;34m\u001b[0m\u001b[0;34m\u001b[0m\u001b[0m\n\u001b[1;32m   1690\u001b[0m             \u001b[0mself\u001b[0m\u001b[0;34m.\u001b[0m\u001b[0madd_line\u001b[0m\u001b[0;34m(\u001b[0m\u001b[0mline\u001b[0m\u001b[0;34m)\u001b[0m\u001b[0;34m\u001b[0m\u001b[0;34m\u001b[0m\u001b[0m\n",
            "\u001b[0;32m/usr/local/lib/python3.10/dist-packages/matplotlib/axes/_base.py\u001b[0m in \u001b[0;36m__call__\u001b[0;34m(self, data, *args, **kwargs)\u001b[0m\n\u001b[1;32m    309\u001b[0m                 \u001b[0mthis\u001b[0m \u001b[0;34m+=\u001b[0m \u001b[0margs\u001b[0m\u001b[0;34m[\u001b[0m\u001b[0;36m0\u001b[0m\u001b[0;34m]\u001b[0m\u001b[0;34m,\u001b[0m\u001b[0;34m\u001b[0m\u001b[0;34m\u001b[0m\u001b[0m\n\u001b[1;32m    310\u001b[0m                 \u001b[0margs\u001b[0m \u001b[0;34m=\u001b[0m \u001b[0margs\u001b[0m\u001b[0;34m[\u001b[0m\u001b[0;36m1\u001b[0m\u001b[0;34m:\u001b[0m\u001b[0;34m]\u001b[0m\u001b[0;34m\u001b[0m\u001b[0;34m\u001b[0m\u001b[0m\n\u001b[0;32m--> 311\u001b[0;31m             yield from self._plot_args(\n\u001b[0m\u001b[1;32m    312\u001b[0m                 this, kwargs, ambiguous_fmt_datakey=ambiguous_fmt_datakey)\n\u001b[1;32m    313\u001b[0m \u001b[0;34m\u001b[0m\u001b[0m\n",
            "\u001b[0;32m/usr/local/lib/python3.10/dist-packages/matplotlib/axes/_base.py\u001b[0m in \u001b[0;36m_plot_args\u001b[0;34m(self, tup, kwargs, return_kwargs, ambiguous_fmt_datakey)\u001b[0m\n\u001b[1;32m    505\u001b[0m                              f\"have shapes {x.shape} and {y.shape}\")\n\u001b[1;32m    506\u001b[0m         \u001b[0;32mif\u001b[0m \u001b[0mx\u001b[0m\u001b[0;34m.\u001b[0m\u001b[0mndim\u001b[0m \u001b[0;34m>\u001b[0m \u001b[0;36m2\u001b[0m \u001b[0;32mor\u001b[0m \u001b[0my\u001b[0m\u001b[0;34m.\u001b[0m\u001b[0mndim\u001b[0m \u001b[0;34m>\u001b[0m \u001b[0;36m2\u001b[0m\u001b[0;34m:\u001b[0m\u001b[0;34m\u001b[0m\u001b[0;34m\u001b[0m\u001b[0m\n\u001b[0;32m--> 507\u001b[0;31m             raise ValueError(f\"x and y can be no greater than 2D, but have \"\n\u001b[0m\u001b[1;32m    508\u001b[0m                              f\"shapes {x.shape} and {y.shape}\")\n\u001b[1;32m    509\u001b[0m         \u001b[0;32mif\u001b[0m \u001b[0mx\u001b[0m\u001b[0;34m.\u001b[0m\u001b[0mndim\u001b[0m \u001b[0;34m==\u001b[0m \u001b[0;36m1\u001b[0m\u001b[0;34m:\u001b[0m\u001b[0;34m\u001b[0m\u001b[0;34m\u001b[0m\u001b[0m\n",
            "\u001b[0;31mValueError\u001b[0m: x and y can be no greater than 2D, but have shapes (1000,) and (1000, 100, 1)"
          ]
        },
        {
          "output_type": "display_data",
          "data": {
            "text/plain": [
              "<Figure size 1000x500 with 1 Axes>"
            ],
            "image/png": "[encoded data removed]"
          },
          "metadata": {}
        }
      ]
    },
    {
      "cell_type": "markdown",
      "metadata": {
        "id": "rOWv0yirY0vm"
      },
      "source": [
        "Minimize the cost function $J(\\theta)$ by updating the below equation and repeat until convergence\n",
        "$\\theta_j := \\theta_j - \\alpha \\frac{\\partial J(\\theta)}{\\partial \\theta_j}$ (simultaneously update $\\theta_j$ for all $j$)"
      ]
    },
    {
      "cell_type": "code",
      "execution_count": null,
      "metadata": {
        "id": "G15IM7WrY0vm"
      },
      "outputs": [],
      "source": []
    },
    {
      "cell_type": "code",
      "execution_count": null,
      "metadata": {
        "id": "7b9fYBhlY0vm"
      },
      "outputs": [],
      "source": []
    },
    {
      "cell_type": "code",
      "execution_count": null,
      "metadata": {
        "id": "54ZIga03Y0vm"
      },
      "outputs": [],
      "source": []
    },
    {
      "cell_type": "markdown",
      "metadata": {
        "id": "f0cuff_eY0vn"
      },
      "source": []
    },
    {
      "cell_type": "markdown",
      "metadata": {
        "id": "MwH6POp8Y0vn"
      },
      "source": [
        "### Task 8: Plotting the Convergence of $J(\\theta)$\n",
        "---"
      ]
    },
    {
      "cell_type": "markdown",
      "metadata": {
        "id": "-lgJ5XL4Y0vn"
      },
      "source": [
        "Plot $J(\\theta)$ against the number of iterations of gradient descent:"
      ]
    },
    {
      "cell_type": "code",
      "execution_count": null,
      "metadata": {
        "id": "Gxs9zt64Y0vn"
      },
      "outputs": [],
      "source": []
    },
    {
      "cell_type": "code",
      "execution_count": null,
      "metadata": {
        "id": "o2h_ZeXuY0vn"
      },
      "outputs": [],
      "source": []
    },
    {
      "cell_type": "markdown",
      "metadata": {
        "id": "yb0_3PXsY0vn"
      },
      "source": []
    },
    {
      "cell_type": "markdown",
      "metadata": {
        "id": "lp8u-dkeY0vn"
      },
      "source": [
        "### Task 9: Plotting the decision boundary\n",
        "---"
      ]
    },
    {
      "cell_type": "markdown",
      "metadata": {
        "id": "_c8hz25jY0vn"
      },
      "source": [
        "$h_\\theta(x) = \\sigma(z)$, where $\\sigma$ is the logistic sigmoid function and $z = \\theta^Tx$\n",
        "\n",
        "When $h_\\theta(x) \\geq 0.5$ the model predicts class \"1\":\n",
        "\n",
        "$\\implies \\sigma(\\theta^Tx) \\geq 0.5$\n",
        "\n",
        "$\\implies \\theta^Tx \\geq 0$ predict class \"1\"\n",
        "\n",
        "Hence, $\\theta_1 + \\theta_2x_2 + \\theta_3x_3 = 0$ is the equation for the decision boundary, giving us\n",
        "\n",
        "$ x_3 = \\frac{-(\\theta_1+\\theta_2x_2)}{\\theta_3}$"
      ]
    },
    {
      "cell_type": "code",
      "execution_count": null,
      "metadata": {
        "id": "epA6IINhY0vn"
      },
      "outputs": [],
      "source": []
    },
    {
      "cell_type": "code",
      "execution_count": null,
      "metadata": {
        "id": "34D47MgiY0vo"
      },
      "outputs": [],
      "source": []
    },
    {
      "cell_type": "markdown",
      "metadata": {
        "id": "DLCxf5AmY0vo"
      },
      "source": []
    },
    {
      "cell_type": "markdown",
      "metadata": {
        "id": "fsHewQ6CY0vo"
      },
      "source": [
        "### Task 10: Predictions using the optimized $\\theta$ values\n",
        "---"
      ]
    },
    {
      "cell_type": "markdown",
      "metadata": {
        "id": "vDjEJPU_Y0vo"
      },
      "source": [
        "$h_\\theta(x) = x\\theta$"
      ]
    },
    {
      "cell_type": "code",
      "execution_count": null,
      "metadata": {
        "id": "ZCDnqXysY0vs"
      },
      "outputs": [],
      "source": []
    },
    {
      "cell_type": "code",
      "execution_count": null,
      "metadata": {
        "id": "Y9173QR8Y0vt"
      },
      "outputs": [],
      "source": []
    },
    {
      "cell_type": "code",
      "execution_count": null,
      "metadata": {
        "id": "_CmNGvTyY0vt"
      },
      "outputs": [],
      "source": []
    }
  ],
  "metadata": {
    "kernelspec": {
      "display_name": "Python 3 (ipykernel)",
      "language": "python",
      "name": "python3"
    },
    "language_info": {
      "codemirror_mode": {
        "name": "ipython",
        "version": 3
      },
      "file_extension": ".py",
      "mimetype": "text/x-python",
      "name": "python",
      "nbconvert_exporter": "python",
      "pygments_lexer": "ipython3",
      "version": "3.10.6"
    },
    "colab": {
      "provenance": [],
      "include_colab_link": true
    }
  },
  "nbformat": 4,
  "nbformat_minor": 0
}