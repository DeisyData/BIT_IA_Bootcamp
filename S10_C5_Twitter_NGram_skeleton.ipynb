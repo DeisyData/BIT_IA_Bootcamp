{
  "nbformat": 4,
  "nbformat_minor": 0,
  "metadata": {
    "colab": {
      "provenance": [],
      "authorship_tag": "ABX9TyNAyVCsnAbv7FSh3VfUrg/s",
      "include_colab_link": true
    },
    "kernelspec": {
      "name": "python3",
      "display_name": "Python 3"
    },
    "language_info": {
      "name": "python"
    }
  },
  "cells": [
    {
      "cell_type": "markdown",
      "metadata": {
        "id": "view-in-github",
        "colab_type": "text"
      },
      "source": [
        "<a href=\"https://colab.research.google.com/github/DeisyData/BIT_IA_Bootcamp/blob/main/S10_C5_Twitter_NGram_skeleton.ipynb\" target=\"_parent\"><img src=\"https://colab.research.google.com/assets/colab-badge.svg\" alt=\"Open In Colab\"/></a>"
      ]
    },
    {
      "cell_type": "code",
      "execution_count": null,
      "metadata": {
        "id": "xg33Bo5Trkfx"
      },
      "outputs": [],
      "source": [
        "import pandas as pd\n",
        "import re\n",
        "from nltk.corpus import stopwords\n",
        "from nltk.tokenize import word_tokenize\n",
        "from nltk.util import ngrams\n",
        "from collections import Counter\n",
        "import matplotlib.pyplot as plt"
      ]
    },
    {
      "cell_type": "markdown",
      "source": [
        "# Paso 1. Cargar Datos"
      ],
      "metadata": {
        "id": "ECr2rP_wtXj-"
      }
    },
    {
      "cell_type": "code",
      "source": [
        "# Cargar datos\n",
        "data = pd.read_csv('twitter.csv')\n",
        "\n",
        "# Mostrar primeras filas\n",
        "print(data.head())"
      ],
      "metadata": {
        "id": "wigXDxxxtOm_"
      },
      "execution_count": null,
      "outputs": []
    },
    {
      "cell_type": "code",
      "source": [
        "# Limpiar texto\n",
        "def clean_text(text):\n",
        "      # Eliminar menciones\n",
        "           # Eliminar URLs\n",
        "                 # Eliminar hashtags\n",
        "       # Eliminar caracteres especiales\n",
        "                    # Convertir a minúsculas\n",
        "    return text\n",
        "\n"
      ],
      "metadata": {
        "id": "R9nSQcr0tSX_"
      },
      "execution_count": null,
      "outputs": []
    },
    {
      "cell_type": "markdown",
      "source": [
        "# Paso 2. Tokenizacion y elminicación de stop words"
      ],
      "metadata": {
        "id": "t1Ag7pt8tb1W"
      }
    },
    {
      "cell_type": "code",
      "source": [
        "import nltk\n",
        "nltk.download('punkt_tab')\n",
        "nltk.download('punkt')\n",
        "nltk.download('stopwords')\n"
      ],
      "metadata": {
        "id": "KC1jOckwtQ7m"
      },
      "execution_count": null,
      "outputs": []
    },
    {
      "cell_type": "markdown",
      "source": [
        "# Paso 3. N-gram"
      ],
      "metadata": {
        "id": "nWa-zYPCt2Gt"
      }
    },
    {
      "cell_type": "code",
      "source": [
        "# Crear N-grams y contar su frecuencia\n"
      ],
      "metadata": {
        "id": "RT3Gg6Wpt4bW"
      },
      "execution_count": null,
      "outputs": []
    },
    {
      "cell_type": "code",
      "source": [
        "# Unigrams, bigrams y trigrams\n",
        "\n",
        "\n",
        "# Mostrar los 10 más frecuentes\n"
      ],
      "metadata": {
        "id": "z7Rzti0_t8Te"
      },
      "execution_count": null,
      "outputs": []
    },
    {
      "cell_type": "code",
      "source": [
        "# Visualizar bigrams más frecuentes\n"
      ],
      "metadata": {
        "id": "LotCTobguZ1n"
      },
      "execution_count": null,
      "outputs": []
    },
    {
      "cell_type": "markdown",
      "source": [
        "\n",
        "\n",
        "```\n",
        "# This is formatted as code\n",
        "```\n",
        "\n",
        "# Paso 4. Colocación (Collocations)"
      ],
      "metadata": {
        "id": "eiQWwOxVuIQm"
      }
    },
    {
      "cell_type": "markdown",
      "source": [
        "¿ Cómo eliminamos los términos irrelevantes?"
      ],
      "metadata": {
        "id": "gjxDMkTKvih-"
      }
    }
  ]
}