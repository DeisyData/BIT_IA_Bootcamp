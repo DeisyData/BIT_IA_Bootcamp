{
  "nbformat": 4,
  "nbformat_minor": 0,
  "metadata": {
    "colab": {
      "provenance": [],
      "authorship_tag": "ABX9TyPMISTiXNh+mK3ujTMXnD62",
      "include_colab_link": true
    },
    "kernelspec": {
      "name": "python3",
      "display_name": "Python 3"
    },
    "language_info": {
      "name": "python"
    }
  },
  "cells": [
    {
      "cell_type": "markdown",
      "metadata": {
        "id": "view-in-github",
        "colab_type": "text"
      },
      "source": [
        "<a href=\"https://colab.research.google.com/github/DeisyData/BIT_IA_Bootcamp/blob/main/S10_C5_Twitter_NGram_skeleton.ipynb\" target=\"_parent\"><img src=\"https://colab.research.google.com/assets/colab-badge.svg\" alt=\"Open In Colab\"/></a>"
      ]
    },
    {
      "cell_type": "code",
      "execution_count": 20,
      "metadata": {
        "id": "xg33Bo5Trkfx"
      },
      "outputs": [],
      "source": [
        "import pandas as pd\n",
        "import matplotlib.pyplot as plt\n",
        "\n",
        "\n",
        "# NLP\n",
        "import re # regulary expression\n",
        "import nltk\n",
        "from nltk.corpus import stopwords\n",
        "from nltk.tokenize import word_tokenize\n",
        "\n",
        "from nltk.util import ngrams\n",
        "from collections import Counter"
      ]
    },
    {
      "cell_type": "markdown",
      "source": [
        "# Paso 1. Cargar Datos y Limpiar"
      ],
      "metadata": {
        "id": "ECr2rP_wtXj-"
      }
    },
    {
      "cell_type": "code",
      "source": [
        "# Cargar datos\n",
        "data = pd.read_csv('twitter.csv')\n",
        "\n",
        "# Mostrar primeras filas\n",
        "print(data.head())\n",
        "\n"
      ],
      "metadata": {
        "id": "wigXDxxxtOm_",
        "colab": {
          "base_uri": "https://localhost:8080/"
        },
        "outputId": "fc62eeb6-9d28-4a23-e7f9-60c409a3c453"
      },
      "execution_count": 21,
      "outputs": [
        {
          "output_type": "stream",
          "name": "stdout",
          "text": [
            "   id  label                                              tweet\n",
            "0   1      0   @user when a father is dysfunctional and is s...\n",
            "1   2      0  @user @user thanks for #lyft credit i can't us...\n",
            "2   3      0                                bihday your majesty\n",
            "3   4      0  #model   i love u take with u all the time in ...\n",
            "4   5      0             factsguide: society now    #motivation\n"
          ]
        }
      ]
    },
    {
      "cell_type": "code",
      "source": [
        "data.info()"
      ],
      "metadata": {
        "colab": {
          "base_uri": "https://localhost:8080/"
        },
        "id": "VPd7bFfoVi37",
        "outputId": "5732b163-7337-4b6b-e876-53bd35416b7b"
      },
      "execution_count": 22,
      "outputs": [
        {
          "output_type": "stream",
          "name": "stdout",
          "text": [
            "<class 'pandas.core.frame.DataFrame'>\n",
            "RangeIndex: 31962 entries, 0 to 31961\n",
            "Data columns (total 3 columns):\n",
            " #   Column  Non-Null Count  Dtype \n",
            "---  ------  --------------  ----- \n",
            " 0   id      31962 non-null  int64 \n",
            " 1   label   31962 non-null  int64 \n",
            " 2   tweet   31962 non-null  object\n",
            "dtypes: int64(2), object(1)\n",
            "memory usage: 749.2+ KB\n"
          ]
        }
      ]
    },
    {
      "cell_type": "markdown",
      "source": [
        "* label 0 = positive\n",
        "* label 1 = negative\n",
        "\n",
        "¿Cuál es la distribución de las clases?"
      ],
      "metadata": {
        "id": "TcKyxTHOWcJB"
      }
    },
    {
      "cell_type": "code",
      "source": [
        "data['label'].value_counts()"
      ],
      "metadata": {
        "colab": {
          "base_uri": "https://localhost:8080/",
          "height": 178
        },
        "id": "b-E9Ofu7WUDP",
        "outputId": "06242b68-7006-43c7-f65a-5d967599bcfe"
      },
      "execution_count": 23,
      "outputs": [
        {
          "output_type": "execute_result",
          "data": {
            "text/plain": [
              "label\n",
              "0    29720\n",
              "1     2242\n",
              "Name: count, dtype: int64"
            ],
            "text/html": [
              "<div>\n",
              "<style scoped>\n",
              "    .dataframe tbody tr th:only-of-type {\n",
              "        vertical-align: middle;\n",
              "    }\n",
              "\n",
              "    .dataframe tbody tr th {\n",
              "        vertical-align: top;\n",
              "    }\n",
              "\n",
              "    .dataframe thead th {\n",
              "        text-align: right;\n",
              "    }\n",
              "</style>\n",
              "<table border=\"1\" class=\"dataframe\">\n",
              "  <thead>\n",
              "    <tr style=\"text-align: right;\">\n",
              "      <th></th>\n",
              "      <th>count</th>\n",
              "    </tr>\n",
              "    <tr>\n",
              "      <th>label</th>\n",
              "      <th></th>\n",
              "    </tr>\n",
              "  </thead>\n",
              "  <tbody>\n",
              "    <tr>\n",
              "      <th>0</th>\n",
              "      <td>29720</td>\n",
              "    </tr>\n",
              "    <tr>\n",
              "      <th>1</th>\n",
              "      <td>2242</td>\n",
              "    </tr>\n",
              "  </tbody>\n",
              "</table>\n",
              "</div><br><label><b>dtype:</b> int64</label>"
            ]
          },
          "metadata": {},
          "execution_count": 23
        }
      ]
    },
    {
      "cell_type": "code",
      "source": [
        "data = data.drop(columns=['id'])\n",
        "# Mostrar primeras filas\n",
        "print(data.head())"
      ],
      "metadata": {
        "colab": {
          "base_uri": "https://localhost:8080/"
        },
        "id": "Mt6T2HhDW1lu",
        "outputId": "d76c66d7-7f68-4742-ffc8-4d34b3d19aa4"
      },
      "execution_count": 24,
      "outputs": [
        {
          "output_type": "stream",
          "name": "stdout",
          "text": [
            "   label                                              tweet\n",
            "0      0   @user when a father is dysfunctional and is s...\n",
            "1      0  @user @user thanks for #lyft credit i can't us...\n",
            "2      0                                bihday your majesty\n",
            "3      0  #model   i love u take with u all the time in ...\n",
            "4      0             factsguide: society now    #motivation\n"
          ]
        }
      ]
    },
    {
      "cell_type": "code",
      "source": [
        "# Limpiar texto\n",
        "def clean_text(text):\n",
        "      # sub(patron (regular expresion), texto de reemplazo, testo input)\n",
        "      text = re.sub(r'@[A-Za-z0-9_]+', '', text )# Eliminar menciones @Deisy\n",
        "      text = re.sub(r'http\\S+', '', text )  # Eliminar\n",
        "      text = re.sub(r'www\\S+', '', text )  # Eliminar URLs\n",
        "      text = re.sub(r'#', '',text)          # Eliminar hashtags\n",
        "      text = re.sub(r\"[^A-Za-z \\d\\s']\",' ',text) # elimina todo lo que no es letras mayus o minus espacios y comilla sencilla\"'\"\n",
        "      text = text.lower()              # Convertir a minúsculas lower(), eliminar nueva linea o tabulacion strip()\n",
        "      return text\n",
        "\n",
        "data['clean_tweet'] = data['tweet'].apply(clean_text)"
      ],
      "metadata": {
        "id": "R9nSQcr0tSX_"
      },
      "execution_count": 25,
      "outputs": []
    },
    {
      "cell_type": "code",
      "source": [
        "print(data['tweet'].head(3))"
      ],
      "metadata": {
        "colab": {
          "base_uri": "https://localhost:8080/"
        },
        "id": "kMr4fsJeeKVX",
        "outputId": "c77244ed-e67f-4b07-81c9-acf8f3b3a809"
      },
      "execution_count": 26,
      "outputs": [
        {
          "output_type": "stream",
          "name": "stdout",
          "text": [
            "0     @user when a father is dysfunctional and is s...\n",
            "1    @user @user thanks for #lyft credit i can't us...\n",
            "2                                  bihday your majesty\n",
            "Name: tweet, dtype: object\n"
          ]
        }
      ]
    },
    {
      "cell_type": "code",
      "source": [
        "print(data['clean_tweet'].head(3))"
      ],
      "metadata": {
        "colab": {
          "base_uri": "https://localhost:8080/"
        },
        "id": "Z_vaHQWIcU1x",
        "outputId": "020239a7-7540-4ffe-a853-3dd8b69be580"
      },
      "execution_count": 27,
      "outputs": [
        {
          "output_type": "stream",
          "name": "stdout",
          "text": [
            "0      when a father is dysfunctional and is so sel...\n",
            "1      thanks for lyft credit i can't use cause the...\n",
            "2                                  bihday your majesty\n",
            "Name: clean_tweet, dtype: object\n"
          ]
        }
      ]
    },
    {
      "cell_type": "markdown",
      "source": [
        "# Paso 2. Tokenizacion y elminicación de stop words"
      ],
      "metadata": {
        "id": "t1Ag7pt8tb1W"
      }
    },
    {
      "cell_type": "code",
      "source": [
        "import nltk\n",
        "nltk.download('punkt_tab')\n",
        "nltk.download('punkt')\n",
        "nltk.download('stopwords')"
      ],
      "metadata": {
        "id": "KC1jOckwtQ7m",
        "colab": {
          "base_uri": "https://localhost:8080/"
        },
        "outputId": "eb9a1447-0805-46ea-fb8e-06c899c1d60f"
      },
      "execution_count": 28,
      "outputs": [
        {
          "output_type": "stream",
          "name": "stderr",
          "text": [
            "[nltk_data] Downloading package punkt_tab to /root/nltk_data...\n",
            "[nltk_data]   Package punkt_tab is already up-to-date!\n",
            "[nltk_data] Downloading package punkt to /root/nltk_data...\n",
            "[nltk_data]   Package punkt is already up-to-date!\n",
            "[nltk_data] Downloading package stopwords to /root/nltk_data...\n",
            "[nltk_data]   Package stopwords is already up-to-date!\n"
          ]
        },
        {
          "output_type": "execute_result",
          "data": {
            "text/plain": [
              "True"
            ]
          },
          "metadata": {},
          "execution_count": 28
        }
      ]
    },
    {
      "cell_type": "code",
      "source": [
        "# Cargar las stopwords en ingles\n",
        "stop_words = set(stopwords.words('english'))\n",
        "\n",
        "# tokens\n",
        "def tokenize_text(text):\n",
        "    tokens = word_tokenize(text)\n",
        "    tokens = [word for word in tokens if word not in stop_words]\n",
        "    return tokens\n",
        "\n",
        "data['tokens'] = data['clean_tweet'].apply(tokenize_text)\n",
        "\n",
        "print(data['tokens'].head(10))"
      ],
      "metadata": {
        "colab": {
          "base_uri": "https://localhost:8080/"
        },
        "id": "vMr6-CI7es3p",
        "outputId": "1fa0953d-16e2-4060-a25f-31dd7873c0a2"
      },
      "execution_count": 29,
      "outputs": [
        {
          "output_type": "stream",
          "name": "stdout",
          "text": [
            "0    [father, dysfunctional, selfish, drags, kids, ...\n",
            "1    [thanks, lyft, credit, ca, n't, use, cause, n'...\n",
            "2                                    [bihday, majesty]\n",
            "3                  [model, love, u, take, u, time, ur]\n",
            "4                    [factsguide, society, motivation]\n",
            "5    [2, 2, huge, fan, fare, big, talking, leave, c...\n",
            "6                           [camping, tomorrow, danny]\n",
            "7    [next, school, year, year, exams, ca, n't, thi...\n",
            "8    [love, land, allin, cavs, champions, cleveland...\n",
            "9                               [welcome, 'm, 's, gr8]\n",
            "Name: tokens, dtype: object\n"
          ]
        }
      ]
    },
    {
      "cell_type": "code",
      "source": [
        "print(data['clean_tweet'].head(10))"
      ],
      "metadata": {
        "colab": {
          "base_uri": "https://localhost:8080/"
        },
        "id": "9FGQyg1yiOuM",
        "outputId": "6f7f21e0-a8d9-405a-a71f-9235ff7e2803"
      },
      "execution_count": 30,
      "outputs": [
        {
          "output_type": "stream",
          "name": "stdout",
          "text": [
            "0      when a father is dysfunctional and is so sel...\n",
            "1      thanks for lyft credit i can't use cause the...\n",
            "2                                  bihday your majesty\n",
            "3    model   i love u take with u all the time in u...\n",
            "4                factsguide  society now    motivation\n",
            "5     2 2  huge fan fare and big talking before the...\n",
            "6                     camping tomorrow        danny   \n",
            "7    the next school year is the year for exams    ...\n",
            "8    we won    love the land    allin cavs champion...\n",
            "9                 welcome here    i'm   it's so gr8   \n",
            "Name: clean_tweet, dtype: object\n"
          ]
        }
      ]
    },
    {
      "cell_type": "markdown",
      "source": [
        "# Paso 3. N-gram"
      ],
      "metadata": {
        "id": "nWa-zYPCt2Gt"
      }
    },
    {
      "cell_type": "code",
      "source": [
        "# Crear N-grams y contar su frecuencia\n",
        "# data['tokens'] = es el conjunto de tokens\n",
        "# tokens => [welcome, 'm, 's, gr8]\n",
        "# token/word => welcome\n",
        "all_word = [word for tokens in data['tokens'] for word in tokens]"
      ],
      "metadata": {
        "id": "RT3Gg6Wpt4bW"
      },
      "execution_count": 31,
      "outputs": []
    },
    {
      "cell_type": "code",
      "source": [
        "unigrams = ngrams(all_word, 1)\n",
        "bigrams = ngrams(all_word, 2)\n",
        "trigrams = ngrams(all_word, 3)"
      ],
      "metadata": {
        "id": "Xu484NCXpSt_"
      },
      "execution_count": 41,
      "outputs": []
    },
    {
      "cell_type": "code",
      "source": [
        "fdist_unigrams = nltk.FreqDist(unigrams)\n",
        "fdist_bigrams = nltk.FreqDist(bigrams)\n",
        "fdist_trigrams = nltk.FreqDist(trigrams)"
      ],
      "metadata": {
        "id": "vvEZ1RD4sx8C"
      },
      "execution_count": 42,
      "outputs": []
    },
    {
      "cell_type": "code",
      "source": [
        "fdist_bigrams.most_common(10)"
      ],
      "metadata": {
        "colab": {
          "base_uri": "https://localhost:8080/"
        },
        "id": "pKbZY6pis36n",
        "outputId": "1215578b-ece7-46b1-dc14-eae3a3f8610a"
      },
      "execution_count": 44,
      "outputs": [
        {
          "output_type": "execute_result",
          "data": {
            "text/plain": [
              "[(('ca', \"n't\"), 747),\n",
              " ((\"'s\", 'day'), 440),\n",
              " (('thankful', 'positive'), 429),\n",
              " (('father', \"'s\"), 423),\n",
              " (('positive', 'affirmation'), 352),\n",
              " (('love', 'u'), 351),\n",
              " (('u', 'take'), 327),\n",
              " (('take', 'u'), 326),\n",
              " (('model', 'love'), 325),\n",
              " (('u', 'time'), 325)]"
            ]
          },
          "metadata": {},
          "execution_count": 44
        }
      ]
    },
    {
      "cell_type": "code",
      "source": [
        "fdist_bigrams.most_common(5)"
      ],
      "metadata": {
        "colab": {
          "base_uri": "https://localhost:8080/"
        },
        "id": "KTonzmyjs325",
        "outputId": "6452a470-dab0-4b45-8a2d-290ac3699fd0"
      },
      "execution_count": 46,
      "outputs": [
        {
          "output_type": "execute_result",
          "data": {
            "text/plain": [
              "[(('ca', \"n't\"), 747),\n",
              " ((\"'s\", 'day'), 440),\n",
              " (('thankful', 'positive'), 429),\n",
              " (('father', \"'s\"), 423),\n",
              " (('positive', 'affirmation'), 352)]"
            ]
          },
          "metadata": {},
          "execution_count": 46
        }
      ]
    },
    {
      "cell_type": "code",
      "source": [
        "fdist_trigrams.most_common(5)"
      ],
      "metadata": {
        "colab": {
          "base_uri": "https://localhost:8080/"
        },
        "id": "wZyEKy-ItFH7",
        "outputId": "b651042b-bce9-4d9d-849d-06ed0d39e7b7"
      },
      "execution_count": 47,
      "outputs": [
        {
          "output_type": "execute_result",
          "data": {
            "text/plain": [
              "[(('father', \"'s\", 'day'), 400),\n",
              " (('model', 'love', 'u'), 325),\n",
              " (('love', 'u', 'take'), 325),\n",
              " (('u', 'take', 'u'), 325),\n",
              " (('take', 'u', 'time'), 325)]"
            ]
          },
          "metadata": {},
          "execution_count": 47
        }
      ]
    },
    {
      "cell_type": "code",
      "source": [
        "# Unigrams, bigrams y trigrams\n",
        "\n",
        "\n",
        "# Mostrar los 10 más frecuentes\n"
      ],
      "metadata": {
        "id": "z7Rzti0_t8Te"
      },
      "execution_count": 37,
      "outputs": []
    },
    {
      "cell_type": "code",
      "source": [
        "# Visualizar bigrams más frecuentes\n"
      ],
      "metadata": {
        "id": "LotCTobguZ1n"
      },
      "execution_count": 38,
      "outputs": []
    },
    {
      "cell_type": "markdown",
      "source": [
        "\n",
        "\n",
        "```\n",
        "# This is formatted as code\n",
        "```\n",
        "\n",
        "# Paso 4. Colocación (Collocations)"
      ],
      "metadata": {
        "id": "eiQWwOxVuIQm"
      }
    },
    {
      "cell_type": "markdown",
      "source": [
        "¿ Cómo eliminamos los términos irrelevantes?"
      ],
      "metadata": {
        "id": "gjxDMkTKvih-"
      }
    }
  ]
}