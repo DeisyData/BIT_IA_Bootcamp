{
  "nbformat": 4,
  "nbformat_minor": 0,
  "metadata": {
    "colab": {
      "provenance": [],
      "authorship_tag": "ABX9TyO+wlfOIwUYha+P5gmZbK8W",
      "include_colab_link": true
    },
    "kernelspec": {
      "name": "python3",
      "display_name": "Python 3"
    },
    "language_info": {
      "name": "python"
    }
  },
  "cells": [
    {
      "cell_type": "markdown",
      "metadata": {
        "id": "view-in-github",
        "colab_type": "text"
      },
      "source": [
        "<a href=\"https://colab.research.google.com/github/DeisyData/BIT_IA_Bootcamp/blob/main/S10_C5_Twitter_NGram_skeleton.ipynb\" target=\"_parent\"><img src=\"https://colab.research.google.com/assets/colab-badge.svg\" alt=\"Open In Colab\"/></a>"
      ]
    },
    {
      "cell_type": "code",
      "execution_count": 37,
      "metadata": {
        "id": "xg33Bo5Trkfx"
      },
      "outputs": [],
      "source": [
        "import pandas as pd\n",
        "import matplotlib.pyplot as plt\n",
        "\n",
        "\n",
        "# NLP\n",
        "import re # regulary expression\n",
        "from nltk.corpus import stopwords\n",
        "from nltk.tokenize import word_tokenize\n",
        "\n",
        "from nltk.util import ngrams\n",
        "from collections import Counter"
      ]
    },
    {
      "cell_type": "markdown",
      "source": [
        "# Paso 1. Cargar Datos y Limpiar"
      ],
      "metadata": {
        "id": "ECr2rP_wtXj-"
      }
    },
    {
      "cell_type": "code",
      "source": [
        "# Cargar datos\n",
        "data = pd.read_csv('twitter.csv')\n",
        "\n",
        "# Mostrar primeras filas\n",
        "print(data.head())\n",
        "\n"
      ],
      "metadata": {
        "id": "wigXDxxxtOm_",
        "colab": {
          "base_uri": "https://localhost:8080/"
        },
        "outputId": "c615f4dc-5d23-42bf-f1a3-ee0b3006b517"
      },
      "execution_count": 38,
      "outputs": [
        {
          "output_type": "stream",
          "name": "stdout",
          "text": [
            "   id  label                                              tweet\n",
            "0   1      0   @user when a father is dysfunctional and is s...\n",
            "1   2      0  @user @user thanks for #lyft credit i can't us...\n",
            "2   3      0                                bihday your majesty\n",
            "3   4      0  #model   i love u take with u all the time in ...\n",
            "4   5      0             factsguide: society now    #motivation\n"
          ]
        }
      ]
    },
    {
      "cell_type": "code",
      "source": [
        "data.info()"
      ],
      "metadata": {
        "colab": {
          "base_uri": "https://localhost:8080/"
        },
        "id": "VPd7bFfoVi37",
        "outputId": "cece6b74-b1a1-463b-e4fd-228624747130"
      },
      "execution_count": 39,
      "outputs": [
        {
          "output_type": "stream",
          "name": "stdout",
          "text": [
            "<class 'pandas.core.frame.DataFrame'>\n",
            "RangeIndex: 31962 entries, 0 to 31961\n",
            "Data columns (total 3 columns):\n",
            " #   Column  Non-Null Count  Dtype \n",
            "---  ------  --------------  ----- \n",
            " 0   id      31962 non-null  int64 \n",
            " 1   label   31962 non-null  int64 \n",
            " 2   tweet   31962 non-null  object\n",
            "dtypes: int64(2), object(1)\n",
            "memory usage: 749.2+ KB\n"
          ]
        }
      ]
    },
    {
      "cell_type": "markdown",
      "source": [
        "* label 0 = positive\n",
        "* label 1 = negative\n",
        "\n",
        "¿Cuál es la distribución de las clases?"
      ],
      "metadata": {
        "id": "TcKyxTHOWcJB"
      }
    },
    {
      "cell_type": "code",
      "source": [
        "data['label'].value_counts()"
      ],
      "metadata": {
        "colab": {
          "base_uri": "https://localhost:8080/",
          "height": 178
        },
        "id": "b-E9Ofu7WUDP",
        "outputId": "a3d8ae3a-cc5f-484c-be43-cdbdaee0784f"
      },
      "execution_count": 40,
      "outputs": [
        {
          "output_type": "execute_result",
          "data": {
            "text/plain": [
              "label\n",
              "0    29720\n",
              "1     2242\n",
              "Name: count, dtype: int64"
            ],
            "text/html": [
              "<div>\n",
              "<style scoped>\n",
              "    .dataframe tbody tr th:only-of-type {\n",
              "        vertical-align: middle;\n",
              "    }\n",
              "\n",
              "    .dataframe tbody tr th {\n",
              "        vertical-align: top;\n",
              "    }\n",
              "\n",
              "    .dataframe thead th {\n",
              "        text-align: right;\n",
              "    }\n",
              "</style>\n",
              "<table border=\"1\" class=\"dataframe\">\n",
              "  <thead>\n",
              "    <tr style=\"text-align: right;\">\n",
              "      <th></th>\n",
              "      <th>count</th>\n",
              "    </tr>\n",
              "    <tr>\n",
              "      <th>label</th>\n",
              "      <th></th>\n",
              "    </tr>\n",
              "  </thead>\n",
              "  <tbody>\n",
              "    <tr>\n",
              "      <th>0</th>\n",
              "      <td>29720</td>\n",
              "    </tr>\n",
              "    <tr>\n",
              "      <th>1</th>\n",
              "      <td>2242</td>\n",
              "    </tr>\n",
              "  </tbody>\n",
              "</table>\n",
              "</div><br><label><b>dtype:</b> int64</label>"
            ]
          },
          "metadata": {},
          "execution_count": 40
        }
      ]
    },
    {
      "cell_type": "code",
      "source": [
        "data = data.drop(columns=['id'])\n",
        "# Mostrar primeras filas\n",
        "print(data.head())"
      ],
      "metadata": {
        "colab": {
          "base_uri": "https://localhost:8080/"
        },
        "id": "Mt6T2HhDW1lu",
        "outputId": "e53aa68a-773d-423c-ca22-206ba78aa832"
      },
      "execution_count": 41,
      "outputs": [
        {
          "output_type": "stream",
          "name": "stdout",
          "text": [
            "   label                                              tweet\n",
            "0      0   @user when a father is dysfunctional and is s...\n",
            "1      0  @user @user thanks for #lyft credit i can't us...\n",
            "2      0                                bihday your majesty\n",
            "3      0  #model   i love u take with u all the time in ...\n",
            "4      0             factsguide: society now    #motivation\n"
          ]
        }
      ]
    },
    {
      "cell_type": "code",
      "source": [
        "# Limpiar texto\n",
        "def clean_text(text):\n",
        "      # sub(patron (regular expresion), texto de reemplazo, testo input)\n",
        "      text = re.sub(r'@[A-Za-z0-9_]+', '', text )# Eliminar menciones @Deisy\n",
        "      text = re.sub(r'http\\S+', '', text )  # Eliminar\n",
        "      text = re.sub(r'www\\S+', '', text )  # Eliminar URLs\n",
        "      text = re.sub(r'#', '',text)          # Eliminar hashtags\n",
        "      text = re.sub(r\"[^A-Za-z \\s']\",' ',text) # elimina todo lo que no es letras mayus o minus espacios y comilla sencilla\"'\"\n",
        "      text = text.lower()              # Convertir a minúsculas lower(), eliminar nueva linea o tabulacion strip()\n",
        "      return text\n",
        "\n",
        "data['clean_tweet'] = data['tweet'].apply(clean_text)"
      ],
      "metadata": {
        "id": "R9nSQcr0tSX_"
      },
      "execution_count": 55,
      "outputs": []
    },
    {
      "cell_type": "code",
      "source": [
        "print(data['tweet'].head(3))"
      ],
      "metadata": {
        "colab": {
          "base_uri": "https://localhost:8080/"
        },
        "id": "kMr4fsJeeKVX",
        "outputId": "768522cc-aeb9-421e-cbee-f4bb1251dd4a"
      },
      "execution_count": 57,
      "outputs": [
        {
          "output_type": "stream",
          "name": "stdout",
          "text": [
            "0     @user when a father is dysfunctional and is s...\n",
            "1    @user @user thanks for #lyft credit i can't us...\n",
            "2                                  bihday your majesty\n",
            "Name: tweet, dtype: object\n"
          ]
        }
      ]
    },
    {
      "cell_type": "code",
      "source": [
        "print(data['clean_tweet'].head(3))"
      ],
      "metadata": {
        "colab": {
          "base_uri": "https://localhost:8080/"
        },
        "id": "Z_vaHQWIcU1x",
        "outputId": "5a68056c-f8c5-4d4f-8ba5-540a344c5056"
      },
      "execution_count": 58,
      "outputs": [
        {
          "output_type": "stream",
          "name": "stdout",
          "text": [
            "0      when a father is dysfunctional and is so sel...\n",
            "1      thanks for lyft credit i can't use cause the...\n",
            "2                                  bihday your majesty\n",
            "Name: clean_tweet, dtype: object\n"
          ]
        }
      ]
    },
    {
      "cell_type": "markdown",
      "source": [
        "# Paso 2. Tokenizacion y elminicación de stop words"
      ],
      "metadata": {
        "id": "t1Ag7pt8tb1W"
      }
    },
    {
      "cell_type": "code",
      "source": [
        "import nltk\n",
        "nltk.download('punkt_tab')\n",
        "nltk.download('punkt')\n",
        "nltk.download('stopwords')"
      ],
      "metadata": {
        "id": "KC1jOckwtQ7m",
        "colab": {
          "base_uri": "https://localhost:8080/"
        },
        "outputId": "216278df-6721-4c53-b9aa-57f408437939"
      },
      "execution_count": 59,
      "outputs": [
        {
          "output_type": "stream",
          "name": "stderr",
          "text": [
            "[nltk_data] Downloading package punkt_tab to /root/nltk_data...\n",
            "[nltk_data]   Package punkt_tab is already up-to-date!\n",
            "[nltk_data] Downloading package punkt to /root/nltk_data...\n",
            "[nltk_data]   Package punkt is already up-to-date!\n",
            "[nltk_data] Downloading package stopwords to /root/nltk_data...\n",
            "[nltk_data]   Package stopwords is already up-to-date!\n"
          ]
        },
        {
          "output_type": "execute_result",
          "data": {
            "text/plain": [
              "True"
            ]
          },
          "metadata": {},
          "execution_count": 59
        }
      ]
    },
    {
      "cell_type": "code",
      "source": [
        "# Cargar las stopwords en ingles\n",
        "stop_words = set(stopwords.words('english'))\n",
        "\n",
        "# tokens\n",
        "def tokenize_text(text):"
      ],
      "metadata": {
        "collapsed": true,
        "id": "vMr6-CI7es3p"
      },
      "execution_count": 62,
      "outputs": []
    },
    {
      "cell_type": "markdown",
      "source": [
        "# Paso 3. N-gram"
      ],
      "metadata": {
        "id": "nWa-zYPCt2Gt"
      }
    },
    {
      "cell_type": "code",
      "source": [
        "# Crear N-grams y contar su frecuencia\n"
      ],
      "metadata": {
        "id": "RT3Gg6Wpt4bW"
      },
      "execution_count": 45,
      "outputs": []
    },
    {
      "cell_type": "code",
      "source": [
        "# Unigrams, bigrams y trigrams\n",
        "\n",
        "\n",
        "# Mostrar los 10 más frecuentes\n"
      ],
      "metadata": {
        "id": "z7Rzti0_t8Te"
      },
      "execution_count": 46,
      "outputs": []
    },
    {
      "cell_type": "code",
      "source": [
        "# Visualizar bigrams más frecuentes\n"
      ],
      "metadata": {
        "id": "LotCTobguZ1n"
      },
      "execution_count": 47,
      "outputs": []
    },
    {
      "cell_type": "markdown",
      "source": [
        "\n",
        "\n",
        "```\n",
        "# This is formatted as code\n",
        "```\n",
        "\n",
        "# Paso 4. Colocación (Collocations)"
      ],
      "metadata": {
        "id": "eiQWwOxVuIQm"
      }
    },
    {
      "cell_type": "markdown",
      "source": [
        "¿ Cómo eliminamos los términos irrelevantes?"
      ],
      "metadata": {
        "id": "gjxDMkTKvih-"
      }
    }
  ]
}