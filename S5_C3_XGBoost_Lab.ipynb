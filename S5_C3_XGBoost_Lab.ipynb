{
  "cells": [
    {
      "cell_type": "markdown",
      "metadata": {
        "id": "view-in-github",
        "colab_type": "text"
      },
      "source": [
        "<a href=\"https://colab.research.google.com/github/DeisyData/BIT_IA_Bootcamp/blob/main/S5_C3_XGBoost_Lab.ipynb\" target=\"_parent\"><img src=\"https://colab.research.google.com/assets/colab-badge.svg\" alt=\"Open In Colab\"/></a>"
      ]
    },
    {
      "cell_type": "markdown",
      "id": "897c4d04",
      "metadata": {
        "id": "897c4d04"
      },
      "source": [
        "# Laboratorio de XGBoost"
      ]
    },
    {
      "cell_type": "markdown",
      "id": "ebd8b65e",
      "metadata": {
        "id": "ebd8b65e"
      },
      "source": [
        "\n",
        "Este laboratorio guía el uso de XGBoost para predecir el riesgo de ataque cardíaco en función de la edad, el peso y si la persona es fumadora.\n",
        "Exploraremos los datos, entrenaremos un modelo, evaluaremos el rendimiento y realizaremos ajustes de hiperparámetros.\n"
      ]
    },
    {
      "cell_type": "code",
      "execution_count": null,
      "id": "d2a55d13",
      "metadata": {
        "id": "d2a55d13"
      },
      "outputs": [],
      "source": [
        "\n",
        "!pip install xgboost\n",
        "import pandas as pd\n",
        "import numpy as np\n",
        "from sklearn.model_selection import train_test_split, GridSearchCV\n",
        "from xgboost import XGBClassifier\n",
        "from sklearn.metrics import accuracy_score, precision_score, recall_score, classification_report\n"
      ]
    },
    {
      "cell_type": "code",
      "execution_count": null,
      "id": "07256721",
      "metadata": {
        "id": "07256721"
      },
      "outputs": [],
      "source": [
        "\n",
        "# Cargar el dataset\n",
        "data_path = ''\n",
        "data = pd.read_csv(data_path)\n",
        "data.head()\n"
      ]
    },
    {
      "cell_type": "code",
      "execution_count": null,
      "id": "6576ddcf",
      "metadata": {
        "id": "6576ddcf"
      },
      "outputs": [],
      "source": [
        "\n",
        "# Información general del dataset\n",
        "data.info()\n",
        "\n",
        "# Distribución de la variable objetivo 'Risk'\n",
        "data['Risk'].value_counts()\n"
      ]
    },
    {
      "cell_type": "code",
      "execution_count": null,
      "id": "afed474e",
      "metadata": {
        "id": "afed474e"
      },
      "outputs": [],
      "source": [
        "\n",
        "# Dividir las características (X) y la variable objetivo (y)\n",
        "X = data[['Age', 'Weight', 'Smoker']]\n",
        "y = data['Risk']\n",
        "\n",
        "# Dividir en conjuntos de entrenamiento y prueba\n",
        "X_train, X_test, y_train, y_test = train_test_split(X, y, test_size=0.2, random_state=42)\n"
      ]
    },
    {
      "cell_type": "code",
      "execution_count": null,
      "id": "74e6f979",
      "metadata": {
        "id": "74e6f979"
      },
      "outputs": [],
      "source": [
        "\n",
        "# Inicializar y entrenar el modelo XGBoost\n",
        "xgb_model = XGBClassifier(use_label_encoder=False, eval_metric='logloss', n_estimators=100, random_state=42)\n",
        "xgb_model.fit(X_train, y_train)\n"
      ]
    },
    {
      "cell_type": "code",
      "execution_count": null,
      "id": "a6b0f7d4",
      "metadata": {
        "id": "a6b0f7d4"
      },
      "outputs": [],
      "source": [
        "\n",
        "# Realizar predicciones en el conjunto de prueba\n",
        "y_pred = xgb_model.predict(X_test)\n",
        "\n",
        "# Evaluación del modelo\n",
        "print(\"Exactitud:\", accuracy_score(y_test, y_pred))\n",
        "print(\"Precisión:\", precision_score(y_test, y_pred))\n",
        "print(\"Sensibilidad:\", recall_score(y_test, y_pred))\n",
        "print(\"\\nReporte de Clasificación:\\n\", classification_report(y_test, y_pred))\n"
      ]
    },
    {
      "cell_type": "code",
      "execution_count": null,
      "id": "d9f6df23",
      "metadata": {
        "id": "d9f6df23"
      },
      "outputs": [],
      "source": [
        "\n",
        "# Importancia de las características\n",
        "importances = xgb_model.feature_importances_\n",
        "feature_names = X.columns\n",
        "feature_importance_df = pd.DataFrame({'Característica': feature_names, 'Importancia': importances})\n",
        "feature_importance_df.sort_values(by='Importancia', ascending=False, inplace=True)\n",
        "feature_importance_df\n"
      ]
    },
    {
      "cell_type": "code",
      "execution_count": null,
      "id": "d474304c",
      "metadata": {
        "id": "d474304c"
      },
      "outputs": [],
      "source": [
        "\n",
        "# Ajuste de hiperparámetros usando GridSearchCV (opcional)\n",
        "param_grid = {\n",
        "    'n_estimators': [50, 100, 200],\n",
        "    'max_depth': [3, 5, 10],\n",
        "    'learning_rate': [0.01, 0.1, 0.2]\n",
        "}\n",
        "grid_search = GridSearchCV(estimator=xgb_model, param_grid=param_grid, cv=3, scoring='accuracy')\n",
        "grid_search.fit(X_train, y_train)\n",
        "\n",
        "# Mejor combinación de hiperparámetros\n",
        "print(\"Mejores hiperparámetros:\", grid_search.best_params_)\n",
        "\n",
        "# Evaluación del modelo ajustado\n",
        "best_xgb_model = grid_search.best_estimator_\n",
        "y_pred_best = best_xgb_model.predict(X_test)\n",
        "print(\"\\nExactitud del modelo ajustado:\", accuracy_score(y_test, y_pred_best))\n"
      ]
    },
    {
      "cell_type": "markdown",
      "id": "d3908719",
      "metadata": {
        "id": "d3908719"
      },
      "source": [
        "\n",
        "### Conclusión\n",
        "Hemos entrenado un modelo de XGBoost para predecir el riesgo de ataque cardíaco, explorado la importancia de cada característica y\n",
        "realizado ajustes de hiperparámetros. Los resultados y la importancia de las características proporcionan una visión de los factores\n",
        "relevantes en las predicciones del modelo.\n"
      ]
    }
  ],
  "metadata": {
    "colab": {
      "provenance": [],
      "include_colab_link": true
    }
  },
  "nbformat": 4,
  "nbformat_minor": 5
}