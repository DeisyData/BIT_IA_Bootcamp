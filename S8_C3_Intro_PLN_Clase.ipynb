{
  "nbformat": 4,
  "nbformat_minor": 0,
  "metadata": {
    "colab": {
      "provenance": [],
      "authorship_tag": "ABX9TyMogc3MrOw6pGcm5BW8OKwn",
      "include_colab_link": true
    },
    "kernelspec": {
      "name": "python3",
      "display_name": "Python 3"
    },
    "language_info": {
      "name": "python"
    }
  },
  "cells": [
    {
      "cell_type": "markdown",
      "metadata": {
        "id": "view-in-github",
        "colab_type": "text"
      },
      "source": [
        "<a href=\"https://colab.research.google.com/github/DeisyData/BIT_IA_Bootcamp/blob/main/S8_C3_Intro_PLN_Clase.ipynb\" target=\"_parent\"><img src=\"https://colab.research.google.com/assets/colab-badge.svg\" alt=\"Open In Colab\"/></a>"
      ]
    },
    {
      "cell_type": "code",
      "execution_count": 1,
      "metadata": {
        "id": "N_vz2zgQRIN9"
      },
      "outputs": [],
      "source": [
        "import pandas as pd\n",
        "import numpy as np\n",
        "import matplotlib.pyplot as plt\n",
        "import seaborn as sns\n",
        "\n",
        "from sklearn.cluster import KMeans\n",
        "from sklearn.metrics import silhouette_score"
      ]
    },
    {
      "cell_type": "markdown",
      "source": [
        "## LIbrerías para PNL"
      ],
      "metadata": {
        "id": "Ak8HBeTNRjgb"
      }
    },
    {
      "cell_type": "code",
      "source": [
        "from nltk.corpus import stopwords\n",
        "from sklearn.feature_extraction.text import TfidfVectorizer\n",
        "import nltk"
      ],
      "metadata": {
        "id": "pYybbw16Ri7V"
      },
      "execution_count": 2,
      "outputs": []
    },
    {
      "cell_type": "markdown",
      "source": [
        "#Parte 1. Cargar datos"
      ],
      "metadata": {
        "id": "PdtmHBxVRNXp"
      }
    },
    {
      "cell_type": "code",
      "source": [
        "from google.colab import drive # Conectanonos con google drive\n",
        "drive.mount('/content/drive')"
      ],
      "metadata": {
        "colab": {
          "base_uri": "https://localhost:8080/"
        },
        "id": "E9-6vDkNRQpt",
        "outputId": "8fa9d2a0-7912-497e-b7e7-7827ca10e904"
      },
      "execution_count": 3,
      "outputs": [
        {
          "output_type": "stream",
          "name": "stdout",
          "text": [
            "Mounted at /content/drive\n"
          ]
        }
      ]
    },
    {
      "cell_type": "code",
      "source": [
        "folder_path = '/content/drive/MyDrive/Colab Notebooks/BIT_BootCamp_IA/DataSET/Agrupamiento'\n",
        "import os    # la librería necesaria para la ruta de la carpeta\n",
        "os.chdir(folder_path) # ruta de la carpeta\n",
        "\n",
        "#mostar lista de archivos\n",
        "os.listdir()"
      ],
      "metadata": {
        "colab": {
          "base_uri": "https://localhost:8080/"
        },
        "id": "qDEk0j-MRYDx",
        "outputId": "fb7ced4f-310c-4adf-9c3f-044b677ee176"
      },
      "execution_count": 4,
      "outputs": [
        {
          "output_type": "execute_result",
          "data": {
            "text/plain": [
              "['[Marketing]-Mall_Customers.csv', 'Policial-Crime.csv', 'cleaned_data.csv']"
            ]
          },
          "metadata": {},
          "execution_count": 4
        }
      ]
    },
    {
      "cell_type": "code",
      "source": [
        "# Reloading the file provided by the user to explore the structure for designing the notebook\n",
        "file_path = 'Policial-Crime.csv'\n",
        "data = pd.read_csv(file_path, delimiter=';')\n",
        "\n",
        "# Checking the structure of the data for notebook design\n",
        "data.head()"
      ],
      "metadata": {
        "colab": {
          "base_uri": "https://localhost:8080/",
          "height": 206
        },
        "id": "joZhjTVuRbvu",
        "outputId": "2bac1210-7d55-4dca-8ef2-67363af5d779"
      },
      "execution_count": 5,
      "outputs": [
        {
          "output_type": "execute_result",
          "data": {
            "text/plain": [
              "     CrimeId OriginalCrimeTypeName          OffenseDate CallTime  \\\n",
              "0  160903280     Assault / Battery  2016-03-30T00:00:00    18:42   \n",
              "1  160912272    Homeless Complaint  2016-03-31T00:00:00    15:31   \n",
              "2  160912590             Susp Info  2016-03-31T00:00:00    16:49   \n",
              "3  160912801                Report  2016-03-31T00:00:00    17:38   \n",
              "4  160912811                   594  2016-03-31T00:00:00    17:42   \n",
              "\n",
              "          CallDateTime Disposition                  Address           City  \\\n",
              "0  2016-03-30T18:42:00         REP  100 Block Of Chilton Av  San Francisco   \n",
              "1  2016-03-31T15:31:00         GOA  2300 Block Of Market St  San Francisco   \n",
              "2  2016-03-31T16:49:00         GOA  2300 Block Of Market St  San Francisco   \n",
              "3  2016-03-31T17:38:00         GOA      500 Block Of 7th St  San Francisco   \n",
              "4  2016-03-31T17:42:00         REP       Beale St/bryant St  San Francisco   \n",
              "\n",
              "  State AgencyId  Range      AddressType  \n",
              "0    CA        1    NaN  Premise Address  \n",
              "1    CA        1    NaN  Premise Address  \n",
              "2    CA        1    NaN  Premise Address  \n",
              "3    CA        1    NaN  Premise Address  \n",
              "4    CA        1    NaN     Intersection  "
            ],
            "text/html": [
              "\n",
              "  <div id=\"df-f268a6e2-7c27-4294-a6f1-fb8c32c7a111\" class=\"colab-df-container\">\n",
              "    <div>\n",
              "<style scoped>\n",
              "    .dataframe tbody tr th:only-of-type {\n",
              "        vertical-align: middle;\n",
              "    }\n",
              "\n",
              "    .dataframe tbody tr th {\n",
              "        vertical-align: top;\n",
              "    }\n",
              "\n",
              "    .dataframe thead th {\n",
              "        text-align: right;\n",
              "    }\n",
              "</style>\n",
              "<table border=\"1\" class=\"dataframe\">\n",
              "  <thead>\n",
              "    <tr style=\"text-align: right;\">\n",
              "      <th></th>\n",
              "      <th>CrimeId</th>\n",
              "      <th>OriginalCrimeTypeName</th>\n",
              "      <th>OffenseDate</th>\n",
              "      <th>CallTime</th>\n",
              "      <th>CallDateTime</th>\n",
              "      <th>Disposition</th>\n",
              "      <th>Address</th>\n",
              "      <th>City</th>\n",
              "      <th>State</th>\n",
              "      <th>AgencyId</th>\n",
              "      <th>Range</th>\n",
              "      <th>AddressType</th>\n",
              "    </tr>\n",
              "  </thead>\n",
              "  <tbody>\n",
              "    <tr>\n",
              "      <th>0</th>\n",
              "      <td>160903280</td>\n",
              "      <td>Assault / Battery</td>\n",
              "      <td>2016-03-30T00:00:00</td>\n",
              "      <td>18:42</td>\n",
              "      <td>2016-03-30T18:42:00</td>\n",
              "      <td>REP</td>\n",
              "      <td>100 Block Of Chilton Av</td>\n",
              "      <td>San Francisco</td>\n",
              "      <td>CA</td>\n",
              "      <td>1</td>\n",
              "      <td>NaN</td>\n",
              "      <td>Premise Address</td>\n",
              "    </tr>\n",
              "    <tr>\n",
              "      <th>1</th>\n",
              "      <td>160912272</td>\n",
              "      <td>Homeless Complaint</td>\n",
              "      <td>2016-03-31T00:00:00</td>\n",
              "      <td>15:31</td>\n",
              "      <td>2016-03-31T15:31:00</td>\n",
              "      <td>GOA</td>\n",
              "      <td>2300 Block Of Market St</td>\n",
              "      <td>San Francisco</td>\n",
              "      <td>CA</td>\n",
              "      <td>1</td>\n",
              "      <td>NaN</td>\n",
              "      <td>Premise Address</td>\n",
              "    </tr>\n",
              "    <tr>\n",
              "      <th>2</th>\n",
              "      <td>160912590</td>\n",
              "      <td>Susp Info</td>\n",
              "      <td>2016-03-31T00:00:00</td>\n",
              "      <td>16:49</td>\n",
              "      <td>2016-03-31T16:49:00</td>\n",
              "      <td>GOA</td>\n",
              "      <td>2300 Block Of Market St</td>\n",
              "      <td>San Francisco</td>\n",
              "      <td>CA</td>\n",
              "      <td>1</td>\n",
              "      <td>NaN</td>\n",
              "      <td>Premise Address</td>\n",
              "    </tr>\n",
              "    <tr>\n",
              "      <th>3</th>\n",
              "      <td>160912801</td>\n",
              "      <td>Report</td>\n",
              "      <td>2016-03-31T00:00:00</td>\n",
              "      <td>17:38</td>\n",
              "      <td>2016-03-31T17:38:00</td>\n",
              "      <td>GOA</td>\n",
              "      <td>500 Block Of 7th St</td>\n",
              "      <td>San Francisco</td>\n",
              "      <td>CA</td>\n",
              "      <td>1</td>\n",
              "      <td>NaN</td>\n",
              "      <td>Premise Address</td>\n",
              "    </tr>\n",
              "    <tr>\n",
              "      <th>4</th>\n",
              "      <td>160912811</td>\n",
              "      <td>594</td>\n",
              "      <td>2016-03-31T00:00:00</td>\n",
              "      <td>17:42</td>\n",
              "      <td>2016-03-31T17:42:00</td>\n",
              "      <td>REP</td>\n",
              "      <td>Beale St/bryant St</td>\n",
              "      <td>San Francisco</td>\n",
              "      <td>CA</td>\n",
              "      <td>1</td>\n",
              "      <td>NaN</td>\n",
              "      <td>Intersection</td>\n",
              "    </tr>\n",
              "  </tbody>\n",
              "</table>\n",
              "</div>\n",
              "    <div class=\"colab-df-buttons\">\n",
              "\n",
              "  <div class=\"colab-df-container\">\n",
              "    <button class=\"colab-df-convert\" onclick=\"convertToInteractive('df-f268a6e2-7c27-4294-a6f1-fb8c32c7a111')\"\n",
              "            title=\"Convert this dataframe to an interactive table.\"\n",
              "            style=\"display:none;\">\n",
              "\n",
              "  <svg xmlns=\"http://www.w3.org/2000/svg\" height=\"24px\" viewBox=\"0 -960 960 960\">\n",
              "    <path d=\"M120-120v-720h720v720H120Zm60-500h600v-160H180v160Zm220 220h160v-160H400v160Zm0 220h160v-160H400v160ZM180-400h160v-160H180v160Zm440 0h160v-160H620v160ZM180-180h160v-160H180v160Zm440 0h160v-160H620v160Z\"/>\n",
              "  </svg>\n",
              "    </button>\n",
              "\n",
              "  <style>\n",
              "    .colab-df-container {\n",
              "      display:flex;\n",
              "      gap: 12px;\n",
              "    }\n",
              "\n",
              "    .colab-df-convert {\n",
              "      background-color: #E8F0FE;\n",
              "      border: none;\n",
              "      border-radius: 50%;\n",
              "      cursor: pointer;\n",
              "      display: none;\n",
              "      fill: #1967D2;\n",
              "      height: 32px;\n",
              "      padding: 0 0 0 0;\n",
              "      width: 32px;\n",
              "    }\n",
              "\n",
              "    .colab-df-convert:hover {\n",
              "      background-color: #E2EBFA;\n",
              "      box-shadow: 0px 1px 2px rgba(60, 64, 67, 0.3), 0px 1px 3px 1px rgba(60, 64, 67, 0.15);\n",
              "      fill: #174EA6;\n",
              "    }\n",
              "\n",
              "    .colab-df-buttons div {\n",
              "      margin-bottom: 4px;\n",
              "    }\n",
              "\n",
              "    [theme=dark] .colab-df-convert {\n",
              "      background-color: #3B4455;\n",
              "      fill: #D2E3FC;\n",
              "    }\n",
              "\n",
              "    [theme=dark] .colab-df-convert:hover {\n",
              "      background-color: #434B5C;\n",
              "      box-shadow: 0px 1px 3px 1px rgba(0, 0, 0, 0.15);\n",
              "      filter: drop-shadow(0px 1px 2px rgba(0, 0, 0, 0.3));\n",
              "      fill: #FFFFFF;\n",
              "    }\n",
              "  </style>\n",
              "\n",
              "    <script>\n",
              "      const buttonEl =\n",
              "        document.querySelector('#df-f268a6e2-7c27-4294-a6f1-fb8c32c7a111 button.colab-df-convert');\n",
              "      buttonEl.style.display =\n",
              "        google.colab.kernel.accessAllowed ? 'block' : 'none';\n",
              "\n",
              "      async function convertToInteractive(key) {\n",
              "        const element = document.querySelector('#df-f268a6e2-7c27-4294-a6f1-fb8c32c7a111');\n",
              "        const dataTable =\n",
              "          await google.colab.kernel.invokeFunction('convertToInteractive',\n",
              "                                                    [key], {});\n",
              "        if (!dataTable) return;\n",
              "\n",
              "        const docLinkHtml = 'Like what you see? Visit the ' +\n",
              "          '<a target=\"_blank\" href=https://colab.research.google.com/notebooks/data_table.ipynb>data table notebook</a>'\n",
              "          + ' to learn more about interactive tables.';\n",
              "        element.innerHTML = '';\n",
              "        dataTable['output_type'] = 'display_data';\n",
              "        await google.colab.output.renderOutput(dataTable, element);\n",
              "        const docLink = document.createElement('div');\n",
              "        docLink.innerHTML = docLinkHtml;\n",
              "        element.appendChild(docLink);\n",
              "      }\n",
              "    </script>\n",
              "  </div>\n",
              "\n",
              "\n",
              "<div id=\"df-f2c4319c-97f7-4763-b540-83e31808933b\">\n",
              "  <button class=\"colab-df-quickchart\" onclick=\"quickchart('df-f2c4319c-97f7-4763-b540-83e31808933b')\"\n",
              "            title=\"Suggest charts\"\n",
              "            style=\"display:none;\">\n",
              "\n",
              "<svg xmlns=\"http://www.w3.org/2000/svg\" height=\"24px\"viewBox=\"0 0 24 24\"\n",
              "     width=\"24px\">\n",
              "    <g>\n",
              "        <path d=\"M19 3H5c-1.1 0-2 .9-2 2v14c0 1.1.9 2 2 2h14c1.1 0 2-.9 2-2V5c0-1.1-.9-2-2-2zM9 17H7v-7h2v7zm4 0h-2V7h2v10zm4 0h-2v-4h2v4z\"/>\n",
              "    </g>\n",
              "</svg>\n",
              "  </button>\n",
              "\n",
              "<style>\n",
              "  .colab-df-quickchart {\n",
              "      --bg-color: #E8F0FE;\n",
              "      --fill-color: #1967D2;\n",
              "      --hover-bg-color: #E2EBFA;\n",
              "      --hover-fill-color: #174EA6;\n",
              "      --disabled-fill-color: #AAA;\n",
              "      --disabled-bg-color: #DDD;\n",
              "  }\n",
              "\n",
              "  [theme=dark] .colab-df-quickchart {\n",
              "      --bg-color: #3B4455;\n",
              "      --fill-color: #D2E3FC;\n",
              "      --hover-bg-color: #434B5C;\n",
              "      --hover-fill-color: #FFFFFF;\n",
              "      --disabled-bg-color: #3B4455;\n",
              "      --disabled-fill-color: #666;\n",
              "  }\n",
              "\n",
              "  .colab-df-quickchart {\n",
              "    background-color: var(--bg-color);\n",
              "    border: none;\n",
              "    border-radius: 50%;\n",
              "    cursor: pointer;\n",
              "    display: none;\n",
              "    fill: var(--fill-color);\n",
              "    height: 32px;\n",
              "    padding: 0;\n",
              "    width: 32px;\n",
              "  }\n",
              "\n",
              "  .colab-df-quickchart:hover {\n",
              "    background-color: var(--hover-bg-color);\n",
              "    box-shadow: 0 1px 2px rgba(60, 64, 67, 0.3), 0 1px 3px 1px rgba(60, 64, 67, 0.15);\n",
              "    fill: var(--button-hover-fill-color);\n",
              "  }\n",
              "\n",
              "  .colab-df-quickchart-complete:disabled,\n",
              "  .colab-df-quickchart-complete:disabled:hover {\n",
              "    background-color: var(--disabled-bg-color);\n",
              "    fill: var(--disabled-fill-color);\n",
              "    box-shadow: none;\n",
              "  }\n",
              "\n",
              "  .colab-df-spinner {\n",
              "    border: 2px solid var(--fill-color);\n",
              "    border-color: transparent;\n",
              "    border-bottom-color: var(--fill-color);\n",
              "    animation:\n",
              "      spin 1s steps(1) infinite;\n",
              "  }\n",
              "\n",
              "  @keyframes spin {\n",
              "    0% {\n",
              "      border-color: transparent;\n",
              "      border-bottom-color: var(--fill-color);\n",
              "      border-left-color: var(--fill-color);\n",
              "    }\n",
              "    20% {\n",
              "      border-color: transparent;\n",
              "      border-left-color: var(--fill-color);\n",
              "      border-top-color: var(--fill-color);\n",
              "    }\n",
              "    30% {\n",
              "      border-color: transparent;\n",
              "      border-left-color: var(--fill-color);\n",
              "      border-top-color: var(--fill-color);\n",
              "      border-right-color: var(--fill-color);\n",
              "    }\n",
              "    40% {\n",
              "      border-color: transparent;\n",
              "      border-right-color: var(--fill-color);\n",
              "      border-top-color: var(--fill-color);\n",
              "    }\n",
              "    60% {\n",
              "      border-color: transparent;\n",
              "      border-right-color: var(--fill-color);\n",
              "    }\n",
              "    80% {\n",
              "      border-color: transparent;\n",
              "      border-right-color: var(--fill-color);\n",
              "      border-bottom-color: var(--fill-color);\n",
              "    }\n",
              "    90% {\n",
              "      border-color: transparent;\n",
              "      border-bottom-color: var(--fill-color);\n",
              "    }\n",
              "  }\n",
              "</style>\n",
              "\n",
              "  <script>\n",
              "    async function quickchart(key) {\n",
              "      const quickchartButtonEl =\n",
              "        document.querySelector('#' + key + ' button');\n",
              "      quickchartButtonEl.disabled = true;  // To prevent multiple clicks.\n",
              "      quickchartButtonEl.classList.add('colab-df-spinner');\n",
              "      try {\n",
              "        const charts = await google.colab.kernel.invokeFunction(\n",
              "            'suggestCharts', [key], {});\n",
              "      } catch (error) {\n",
              "        console.error('Error during call to suggestCharts:', error);\n",
              "      }\n",
              "      quickchartButtonEl.classList.remove('colab-df-spinner');\n",
              "      quickchartButtonEl.classList.add('colab-df-quickchart-complete');\n",
              "    }\n",
              "    (() => {\n",
              "      let quickchartButtonEl =\n",
              "        document.querySelector('#df-f2c4319c-97f7-4763-b540-83e31808933b button');\n",
              "      quickchartButtonEl.style.display =\n",
              "        google.colab.kernel.accessAllowed ? 'block' : 'none';\n",
              "    })();\n",
              "  </script>\n",
              "</div>\n",
              "\n",
              "    </div>\n",
              "  </div>\n"
            ],
            "application/vnd.google.colaboratory.intrinsic+json": {
              "type": "dataframe",
              "variable_name": "data",
              "summary": "{\n  \"name\": \"data\",\n  \"rows\": 10051,\n  \"fields\": [\n    {\n      \"column\": \"CrimeId\",\n      \"properties\": {\n        \"dtype\": \"number\",\n        \"std\": 13270,\n        \"min\": 160903280,\n        \"max\": 160964249,\n        \"num_unique_values\": 10047,\n        \"samples\": [\n          160921118,\n          160922220,\n          160950734\n        ],\n        \"semantic_type\": \"\",\n        \"description\": \"\"\n      }\n    },\n    {\n      \"column\": \"OriginalCrimeTypeName\",\n      \"properties\": {\n        \"dtype\": \"category\",\n        \"num_unique_values\": 575,\n        \"samples\": [\n          \"Glass Bottles\",\n          \"Fire\",\n          \"22500b\"\n        ],\n        \"semantic_type\": \"\",\n        \"description\": \"\"\n      }\n    },\n    {\n      \"column\": \"OffenseDate\",\n      \"properties\": {\n        \"dtype\": \"object\",\n        \"num_unique_values\": 9,\n        \"samples\": [\n          \"2025-04-04T00:00:00\",\n          \"2016-03-31T00:00:00\",\n          \"2016-04-04T00:00:00\"\n        ],\n        \"semantic_type\": \"\",\n        \"description\": \"\"\n      }\n    },\n    {\n      \"column\": \"CallTime\",\n      \"properties\": {\n        \"dtype\": \"object\",\n        \"num_unique_values\": 1416,\n        \"samples\": [\n          \"17:11\",\n          \"19:24\",\n          \"7:45\"\n        ],\n        \"semantic_type\": \"\",\n        \"description\": \"\"\n      }\n    },\n    {\n      \"column\": \"CallDateTime\",\n      \"properties\": {\n        \"dtype\": \"object\",\n        \"num_unique_values\": 5116,\n        \"samples\": [\n          \"2016-04-01T11:35:00\",\n          \"2016-04-05T19:41:00\",\n          \"2016-04-05T16:37:00\"\n        ],\n        \"semantic_type\": \"\",\n        \"description\": \"\"\n      }\n    },\n    {\n      \"column\": \"Disposition\",\n      \"properties\": {\n        \"dtype\": \"category\",\n        \"num_unique_values\": 19,\n        \"samples\": [\n          \"REP\",\n          \"ARR\",\n          \"NOM\"\n        ],\n        \"semantic_type\": \"\",\n        \"description\": \"\"\n      }\n    },\n    {\n      \"column\": \"Address\",\n      \"properties\": {\n        \"dtype\": \"string\",\n        \"num_unique_values\": 5387,\n        \"samples\": [\n          \"Van Ness Av/grove St\",\n          \"900 Block Of Iowa St\",\n          \"9th St\"\n        ],\n        \"semantic_type\": \"\",\n        \"description\": \"\"\n      }\n    },\n    {\n      \"column\": \"City\",\n      \"properties\": {\n        \"dtype\": \"category\",\n        \"num_unique_values\": 8,\n        \"samples\": [\n          \"Daly City\",\n          \"Presidio\",\n          \"San Francisco\"\n        ],\n        \"semantic_type\": \"\",\n        \"description\": \"\"\n      }\n    },\n    {\n      \"column\": \"State\",\n      \"properties\": {\n        \"dtype\": \"category\",\n        \"num_unique_values\": 1,\n        \"samples\": [\n          \"CA\"\n        ],\n        \"semantic_type\": \"\",\n        \"description\": \"\"\n      }\n    },\n    {\n      \"column\": \"AgencyId\",\n      \"properties\": {\n        \"dtype\": \"category\",\n        \"num_unique_values\": 2,\n        \"samples\": [\n          \"CA\"\n        ],\n        \"semantic_type\": \"\",\n        \"description\": \"\"\n      }\n    },\n    {\n      \"column\": \"Range\",\n      \"properties\": {\n        \"dtype\": \"number\",\n        \"std\": null,\n        \"min\": null,\n        \"max\": null,\n        \"num_unique_values\": 0,\n        \"samples\": [],\n        \"semantic_type\": \"\",\n        \"description\": \"\"\n      }\n    },\n    {\n      \"column\": \"AddressType\",\n      \"properties\": {\n        \"dtype\": \"category\",\n        \"num_unique_values\": 6,\n        \"samples\": [],\n        \"semantic_type\": \"\",\n        \"description\": \"\"\n      }\n    }\n  ]\n}"
            }
          },
          "metadata": {},
          "execution_count": 5
        }
      ]
    },
    {
      "cell_type": "markdown",
      "source": [
        "### Exploración"
      ],
      "metadata": {
        "id": "hIMom33Ja8rG"
      }
    },
    {
      "cell_type": "code",
      "source": [
        "data['OriginalCrimeTypeName'].unique()"
      ],
      "metadata": {
        "id": "ZbYFcrZFY_Mx"
      },
      "execution_count": null,
      "outputs": []
    },
    {
      "cell_type": "code",
      "source": [
        "data.info()"
      ],
      "metadata": {
        "colab": {
          "base_uri": "https://localhost:8080/"
        },
        "id": "4GPalrGqZKhq",
        "outputId": "c13aeeb6-619f-4e3a-a376-91e0d5a0be34"
      },
      "execution_count": 7,
      "outputs": [
        {
          "output_type": "stream",
          "name": "stdout",
          "text": [
            "<class 'pandas.core.frame.DataFrame'>\n",
            "RangeIndex: 10051 entries, 0 to 10050\n",
            "Data columns (total 12 columns):\n",
            " #   Column                 Non-Null Count  Dtype  \n",
            "---  ------                 --------------  -----  \n",
            " 0   CrimeId                10051 non-null  int64  \n",
            " 1   OriginalCrimeTypeName  10051 non-null  object \n",
            " 2   OffenseDate            10051 non-null  object \n",
            " 3   CallTime               10051 non-null  object \n",
            " 4   CallDateTime           10051 non-null  object \n",
            " 5   Disposition            10051 non-null  object \n",
            " 6   Address                10051 non-null  object \n",
            " 7   City                   9730 non-null   object \n",
            " 8   State                  10048 non-null  object \n",
            " 9   AgencyId               10051 non-null  object \n",
            " 10  Range                  0 non-null      float64\n",
            " 11  AddressType            10051 non-null  object \n",
            "dtypes: float64(1), int64(1), object(10)\n",
            "memory usage: 942.4+ KB\n"
          ]
        }
      ]
    },
    {
      "cell_type": "markdown",
      "source": [
        "# Parte 2. Preprocesamiento del texto"
      ],
      "metadata": {
        "id": "xPwttxmjRv9l"
      }
    },
    {
      "cell_type": "code",
      "source": [
        "# Descargar stopwords de NLTK\n",
        "nltk.download('stopwords')"
      ],
      "metadata": {
        "colab": {
          "base_uri": "https://localhost:8080/"
        },
        "id": "nYY0MytiRv0L",
        "outputId": "11bc8fdb-d8e4-4cad-9114-d1cbf4f19dc1"
      },
      "execution_count": 10,
      "outputs": [
        {
          "output_type": "stream",
          "name": "stderr",
          "text": [
            "[nltk_data] Downloading package stopwords to /root/nltk_data...\n",
            "[nltk_data]   Unzipping corpora/stopwords.zip.\n"
          ]
        },
        {
          "output_type": "execute_result",
          "data": {
            "text/plain": [
              "True"
            ]
          },
          "metadata": {},
          "execution_count": 10
        }
      ]
    },
    {
      "cell_type": "code",
      "source": [
        "crime_type = data['OriginalCrimeTypeName'].dropna().unique()"
      ],
      "metadata": {
        "id": "SUtpHA5Db2ke"
      },
      "execution_count": 11,
      "outputs": []
    },
    {
      "cell_type": "code",
      "source": [
        "# Preprocesar texto\n",
        "def preprocess_text(text):\n",
        "    \"\"\"Preprocesa el texto eliminando stopwords y convirtiendo a minúsculas.\"\"\"\n",
        "    stops = set(stopwords.words('english'))\n",
        "    text = text.lower()\n",
        "    return ' '.join([word for word in text.split() if word not in stops])"
      ],
      "metadata": {
        "id": "w6TeHxFBdD9p"
      },
      "execution_count": 12,
      "outputs": []
    },
    {
      "cell_type": "code",
      "source": [
        "###### operación  For incremetador in rango(En donde recorre)\n",
        "crime_type_preprocessed = [preprocess_text(text) for text in crime_type]"
      ],
      "metadata": {
        "id": "ohED2kO_dLiY"
      },
      "execution_count": 13,
      "outputs": []
    },
    {
      "cell_type": "code",
      "source": [
        "vectorizer= TfidfVectorizer()\n",
        "X = vectorizer.fit_transform(crime_type_preprocessed)"
      ],
      "metadata": {
        "id": "6GeKXnepd5vg"
      },
      "execution_count": 15,
      "outputs": []
    },
    {
      "cell_type": "code",
      "source": [
        "X"
      ],
      "metadata": {
        "colab": {
          "base_uri": "https://localhost:8080/"
        },
        "id": "q2gPtHebene8",
        "outputId": "eca0fb37-f6f7-4569-f2b8-9feb711e1d5f"
      },
      "execution_count": 16,
      "outputs": [
        {
          "output_type": "execute_result",
          "data": {
            "text/plain": [
              "<575x496 sparse matrix of type '<class 'numpy.float64'>'\n",
              "\twith 870 stored elements in Compressed Sparse Row format>"
            ]
          },
          "metadata": {},
          "execution_count": 16
        }
      ]
    },
    {
      "cell_type": "markdown",
      "source": [],
      "metadata": {
        "id": "V1E_ioLBRQKa"
      }
    }
  ]
}