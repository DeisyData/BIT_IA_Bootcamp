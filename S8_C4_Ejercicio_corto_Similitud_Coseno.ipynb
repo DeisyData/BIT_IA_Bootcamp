{
  "nbformat": 4,
  "nbformat_minor": 0,
  "metadata": {
    "colab": {
      "provenance": [],
      "authorship_tag": "ABX9TyOFRiNoeFlpgEq/CnCCDi8e",
      "include_colab_link": true
    },
    "kernelspec": {
      "name": "python3",
      "display_name": "Python 3"
    },
    "language_info": {
      "name": "python"
    }
  },
  "cells": [
    {
      "cell_type": "markdown",
      "metadata": {
        "id": "view-in-github",
        "colab_type": "text"
      },
      "source": [
        "<a href=\"https://colab.research.google.com/github/DeisyData/BIT_IA_Bootcamp/blob/main/S8_C4_Ejercicio_corto_Similitud_Coseno.ipynb\" target=\"_parent\"><img src=\"https://colab.research.google.com/assets/colab-badge.svg\" alt=\"Open In Colab\"/></a>"
      ]
    },
    {
      "cell_type": "code",
      "execution_count": 1,
      "metadata": {
        "id": "gg0MFHB2g-j-"
      },
      "outputs": [],
      "source": [
        "from sklearn.feature_extraction.text import TfidfVectorizer"
      ]
    },
    {
      "cell_type": "code",
      "source": [
        "#crime_type_preprocessed = ['Homeless Complaint', 'Susp Info', '594', \"Ref'd\", 'Encampment', 'Burglary']\n",
        "#crime_type_preprocessed = ['Audible Alarm', 'Silent Holdup Alarm', 'Silent Alarm']\n",
        "\n",
        "crime_type_preprocessed = ['Audible Alarm', 'Silent Holdup Alarm', 'Silent Alarm', 'Muni Inspection']\n",
        "\n",
        "#crime_type_preprocessed = ['Traf Violation Tow', 'Traf Violation Cite', 'R/o Violation', 'Ro Violation', 'R.o. Violation']"
      ],
      "metadata": {
        "id": "w-PBqof7hNJS"
      },
      "execution_count": 48,
      "outputs": []
    },
    {
      "cell_type": "code",
      "source": [
        "vectorizer= TfidfVectorizer()\n",
        "crime_type_vectorizer = vectorizer.fit_transform(crime_type_preprocessed)"
      ],
      "metadata": {
        "id": "ZdojmxtlhVOj"
      },
      "execution_count": 49,
      "outputs": []
    },
    {
      "cell_type": "code",
      "source": [
        "crime_type_vectorizer.toarray()"
      ],
      "metadata": {
        "colab": {
          "base_uri": "https://localhost:8080/"
        },
        "id": "QcTOXiCvhjZ6",
        "outputId": "c5a95061-9f0e-4e84-b6fa-e74a9ec0403c"
      },
      "execution_count": 50,
      "outputs": [
        {
          "output_type": "execute_result",
          "data": {
            "text/plain": [
              "array([[0.53802897, 0.84292635, 0.        , 0.        , 0.        ,\n",
              "        0.        ],\n",
              "       [0.44809973, 0.        , 0.70203482, 0.        , 0.        ,\n",
              "        0.55349232],\n",
              "       [0.62922751, 0.        , 0.        , 0.        , 0.        ,\n",
              "        0.77722116],\n",
              "       [0.        , 0.        , 0.        , 0.70710678, 0.70710678,\n",
              "        0.        ]])"
            ]
          },
          "metadata": {},
          "execution_count": 50
        }
      ]
    },
    {
      "cell_type": "code",
      "source": [
        "vectorizer.get_feature_names_out()"
      ],
      "metadata": {
        "colab": {
          "base_uri": "https://localhost:8080/"
        },
        "id": "sq53Of1pippy",
        "outputId": "73808214-c8fe-44cb-e2de-dd4fc9566324"
      },
      "execution_count": 51,
      "outputs": [
        {
          "output_type": "execute_result",
          "data": {
            "text/plain": [
              "array(['alarm', 'audible', 'holdup', 'inspection', 'muni', 'silent'],\n",
              "      dtype=object)"
            ]
          },
          "metadata": {},
          "execution_count": 51
        }
      ]
    },
    {
      "cell_type": "code",
      "source": [
        "from sklearn.metrics.pairwise import cosine_similarity"
      ],
      "metadata": {
        "id": "CefGDLHbnIK9"
      },
      "execution_count": 52,
      "outputs": []
    },
    {
      "cell_type": "code",
      "source": [
        "cosine_similar = cosine_similarity(crime_type_vectorizer)\n",
        "cosine_similar"
      ],
      "metadata": {
        "colab": {
          "base_uri": "https://localhost:8080/"
        },
        "id": "_-mBCxjpolEN",
        "outputId": "d2cd81a8-66c7-4bdd-a9b8-4cc5c0da3fd8"
      },
      "execution_count": 53,
      "outputs": [
        {
          "output_type": "execute_result",
          "data": {
            "text/plain": [
              "array([[1.        , 0.24109064, 0.33854263, 0.        ],\n",
              "       [0.24109064, 1.        , 0.71214262, 0.        ],\n",
              "       [0.33854263, 0.71214262, 1.        , 0.        ],\n",
              "       [0.        , 0.        , 0.        , 1.        ]])"
            ]
          },
          "metadata": {},
          "execution_count": 53
        }
      ]
    },
    {
      "cell_type": "markdown",
      "source": [],
      "metadata": {
        "id": "CCeWWE6RsxCK"
      }
    },
    {
      "cell_type": "markdown",
      "source": [
        "Del siguiente conjunto de términos\n",
        "\n",
        "```\n",
        "crime_type_preprocessed = ['Audible Alarm', 'Silent Holdup Alarm', 'Silent Alarm', 'Muni Inspection']\n",
        "```\n",
        "\n",
        "\n",
        "\n",
        "* Se observa que el índice de símiltud más alta (0.69) se presenta en los términos 'Silent Holdup Alarm' y  'Silent Alarm' dado que tienen dos palabras iguales, en total hay 5 palabras 2 palabras en los dos 2 términos\n",
        "\n",
        "* Se observa que el índice de símiltud más bajo (0) se presenta en los términos 'Muni Inspection' dado que ninguna de sus palabras se repite en los otros términos"
      ],
      "metadata": {
        "id": "EI6yVJmVsxXR"
      }
    },
    {
      "cell_type": "markdown",
      "source": [
        "Del siguiente conjunto de términos\n",
        "\n",
        "```\n",
        "crime_type_preprocessed = ['Audible Alarm', 'Silent Holdup Alarm', 'Silent Alarm']\n",
        "```\n",
        "\n",
        "\n",
        "\n",
        "* Se observa que el índice de símiltud más alta (0.69) se presenta en los términos 'Silent Holdup Alarm' y  'Silent Alarm' dado que tienen dos palabras iguales, en total hay 5 palabras 2 palabras en los dos 2 términos\n",
        "\n",
        "* Se observa que el índice de símiltud más bajo (0.21) se presenta en los términos 'Audible Alarm' y  'Silent Holdup Alarm' en total hay 5 palabras sollamente 1 palabra está presente en los dos términos"
      ],
      "metadata": {
        "id": "Tq3A5KH-rcu8"
      }
    },
    {
      "cell_type": "code",
      "source": [],
      "metadata": {
        "id": "TYbIgZqMra_X"
      },
      "execution_count": 53,
      "outputs": []
    },
    {
      "cell_type": "code",
      "source": [],
      "metadata": {
        "id": "QljhYfuGsQPM"
      },
      "execution_count": 53,
      "outputs": []
    }
  ]
}