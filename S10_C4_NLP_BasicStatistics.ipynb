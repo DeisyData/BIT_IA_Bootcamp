{
  "nbformat": 4,
  "nbformat_minor": 0,
  "metadata": {
    "colab": {
      "provenance": [],
      "authorship_tag": "ABX9TyMMGoLR61r/0FNu5ydEoOYy",
      "include_colab_link": true
    },
    "kernelspec": {
      "name": "python3",
      "display_name": "Python 3"
    },
    "language_info": {
      "name": "python"
    }
  },
  "cells": [
    {
      "cell_type": "markdown",
      "metadata": {
        "id": "view-in-github",
        "colab_type": "text"
      },
      "source": [
        "<a href=\"https://colab.research.google.com/github/DeisyData/BIT_IA_Bootcamp/blob/main/S10_C4_NLP_BasicStatistics.ipynb\" target=\"_parent\"><img src=\"https://colab.research.google.com/assets/colab-badge.svg\" alt=\"Open In Colab\"/></a>"
      ]
    },
    {
      "cell_type": "markdown",
      "source": [
        "Cargar el texto"
      ],
      "metadata": {
        "id": "0GR1S5vhHBnw"
      }
    },
    {
      "cell_type": "code",
      "execution_count": null,
      "metadata": {
        "id": "XqPrfzgkGSYJ"
      },
      "outputs": [],
      "source": [
        "import nltk\n",
        "nltk.download('book')\n",
        "from nltk.book import *\n",
        "import matplotlib.pyplot as plt\n",
        "import numpy as np"
      ]
    },
    {
      "cell_type": "code",
      "source": [],
      "metadata": {
        "id": "ygkTYe_JHJKn"
      },
      "execution_count": null,
      "outputs": []
    },
    {
      "cell_type": "markdown",
      "source": [
        "# 1. Basic statistics\n",
        "* Count\n",
        "* Medida de riqueza léxica\n"
      ],
      "metadata": {
        "id": "12K0djzcHKjM"
      }
    },
    {
      "cell_type": "markdown",
      "source": [
        "# 2. FreqDist"
      ],
      "metadata": {
        "id": "7Twz1ExHHzzI"
      }
    },
    {
      "cell_type": "code",
      "source": [],
      "metadata": {
        "id": "5DIJEkfMH8ni"
      },
      "execution_count": null,
      "outputs": []
    },
    {
      "cell_type": "markdown",
      "source": [
        "# 3. Colocaciones\n"
      ],
      "metadata": {
        "id": "WOD8tAfCH8_q"
      }
    }
  ]
}