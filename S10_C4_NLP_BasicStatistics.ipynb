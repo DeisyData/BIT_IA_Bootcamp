{
  "nbformat": 4,
  "nbformat_minor": 0,
  "metadata": {
    "colab": {
      "provenance": [],
      "authorship_tag": "ABX9TyNW/H7lbeaYxhfqKsRWuUfE",
      "include_colab_link": true
    },
    "kernelspec": {
      "name": "python3",
      "display_name": "Python 3"
    },
    "language_info": {
      "name": "python"
    }
  },
  "cells": [
    {
      "cell_type": "markdown",
      "metadata": {
        "id": "view-in-github",
        "colab_type": "text"
      },
      "source": [
        "<a href=\"https://colab.research.google.com/github/DeisyData/BIT_IA_Bootcamp/blob/main/S10_C4_NLP_BasicStatistics.ipynb\" target=\"_parent\"><img src=\"https://colab.research.google.com/assets/colab-badge.svg\" alt=\"Open In Colab\"/></a>"
      ]
    },
    {
      "cell_type": "markdown",
      "source": [
        "Cargar el texto"
      ],
      "metadata": {
        "id": "0GR1S5vhHBnw"
      }
    },
    {
      "cell_type": "code",
      "execution_count": 1,
      "metadata": {
        "id": "XqPrfzgkGSYJ",
        "colab": {
          "base_uri": "https://localhost:8080/"
        },
        "outputId": "aa16b700-6f45-4fcd-b1ff-9a6b9c27dcd8"
      },
      "outputs": [
        {
          "output_type": "stream",
          "name": "stderr",
          "text": [
            "[nltk_data] Downloading collection 'book'\n",
            "[nltk_data]    | \n",
            "[nltk_data]    | Downloading package abc to /root/nltk_data...\n",
            "[nltk_data]    |   Unzipping corpora/abc.zip.\n",
            "[nltk_data]    | Downloading package brown to /root/nltk_data...\n",
            "[nltk_data]    |   Unzipping corpora/brown.zip.\n",
            "[nltk_data]    | Downloading package chat80 to /root/nltk_data...\n",
            "[nltk_data]    |   Unzipping corpora/chat80.zip.\n",
            "[nltk_data]    | Downloading package cmudict to /root/nltk_data...\n",
            "[nltk_data]    |   Unzipping corpora/cmudict.zip.\n",
            "[nltk_data]    | Downloading package conll2000 to /root/nltk_data...\n",
            "[nltk_data]    |   Unzipping corpora/conll2000.zip.\n",
            "[nltk_data]    | Downloading package conll2002 to /root/nltk_data...\n",
            "[nltk_data]    |   Unzipping corpora/conll2002.zip.\n",
            "[nltk_data]    | Downloading package dependency_treebank to\n",
            "[nltk_data]    |     /root/nltk_data...\n",
            "[nltk_data]    |   Unzipping corpora/dependency_treebank.zip.\n",
            "[nltk_data]    | Downloading package genesis to /root/nltk_data...\n",
            "[nltk_data]    |   Unzipping corpora/genesis.zip.\n",
            "[nltk_data]    | Downloading package gutenberg to /root/nltk_data...\n",
            "[nltk_data]    |   Unzipping corpora/gutenberg.zip.\n",
            "[nltk_data]    | Downloading package ieer to /root/nltk_data...\n",
            "[nltk_data]    |   Unzipping corpora/ieer.zip.\n",
            "[nltk_data]    | Downloading package inaugural to /root/nltk_data...\n",
            "[nltk_data]    |   Unzipping corpora/inaugural.zip.\n",
            "[nltk_data]    | Downloading package movie_reviews to\n",
            "[nltk_data]    |     /root/nltk_data...\n",
            "[nltk_data]    |   Unzipping corpora/movie_reviews.zip.\n",
            "[nltk_data]    | Downloading package nps_chat to /root/nltk_data...\n",
            "[nltk_data]    |   Unzipping corpora/nps_chat.zip.\n",
            "[nltk_data]    | Downloading package names to /root/nltk_data...\n",
            "[nltk_data]    |   Unzipping corpora/names.zip.\n",
            "[nltk_data]    | Downloading package ppattach to /root/nltk_data...\n",
            "[nltk_data]    |   Unzipping corpora/ppattach.zip.\n",
            "[nltk_data]    | Downloading package reuters to /root/nltk_data...\n",
            "[nltk_data]    | Downloading package senseval to /root/nltk_data...\n",
            "[nltk_data]    |   Unzipping corpora/senseval.zip.\n",
            "[nltk_data]    | Downloading package state_union to /root/nltk_data...\n",
            "[nltk_data]    |   Unzipping corpora/state_union.zip.\n",
            "[nltk_data]    | Downloading package stopwords to /root/nltk_data...\n",
            "[nltk_data]    |   Unzipping corpora/stopwords.zip.\n",
            "[nltk_data]    | Downloading package swadesh to /root/nltk_data...\n",
            "[nltk_data]    |   Unzipping corpora/swadesh.zip.\n",
            "[nltk_data]    | Downloading package timit to /root/nltk_data...\n",
            "[nltk_data]    |   Unzipping corpora/timit.zip.\n",
            "[nltk_data]    | Downloading package treebank to /root/nltk_data...\n",
            "[nltk_data]    |   Unzipping corpora/treebank.zip.\n",
            "[nltk_data]    | Downloading package toolbox to /root/nltk_data...\n",
            "[nltk_data]    |   Unzipping corpora/toolbox.zip.\n",
            "[nltk_data]    | Downloading package udhr to /root/nltk_data...\n",
            "[nltk_data]    |   Unzipping corpora/udhr.zip.\n",
            "[nltk_data]    | Downloading package udhr2 to /root/nltk_data...\n",
            "[nltk_data]    |   Unzipping corpora/udhr2.zip.\n",
            "[nltk_data]    | Downloading package unicode_samples to\n",
            "[nltk_data]    |     /root/nltk_data...\n",
            "[nltk_data]    |   Unzipping corpora/unicode_samples.zip.\n",
            "[nltk_data]    | Downloading package webtext to /root/nltk_data...\n",
            "[nltk_data]    |   Unzipping corpora/webtext.zip.\n",
            "[nltk_data]    | Downloading package wordnet to /root/nltk_data...\n",
            "[nltk_data]    | Downloading package wordnet_ic to /root/nltk_data...\n",
            "[nltk_data]    |   Unzipping corpora/wordnet_ic.zip.\n",
            "[nltk_data]    | Downloading package words to /root/nltk_data...\n",
            "[nltk_data]    |   Unzipping corpora/words.zip.\n",
            "[nltk_data]    | Downloading package maxent_treebank_pos_tagger to\n",
            "[nltk_data]    |     /root/nltk_data...\n",
            "[nltk_data]    |   Unzipping taggers/maxent_treebank_pos_tagger.zip.\n",
            "[nltk_data]    | Downloading package maxent_ne_chunker to\n",
            "[nltk_data]    |     /root/nltk_data...\n",
            "[nltk_data]    |   Unzipping chunkers/maxent_ne_chunker.zip.\n",
            "[nltk_data]    | Downloading package universal_tagset to\n",
            "[nltk_data]    |     /root/nltk_data...\n",
            "[nltk_data]    |   Unzipping taggers/universal_tagset.zip.\n",
            "[nltk_data]    | Downloading package punkt to /root/nltk_data...\n",
            "[nltk_data]    |   Unzipping tokenizers/punkt.zip.\n",
            "[nltk_data]    | Downloading package book_grammars to\n",
            "[nltk_data]    |     /root/nltk_data...\n",
            "[nltk_data]    |   Unzipping grammars/book_grammars.zip.\n",
            "[nltk_data]    | Downloading package city_database to\n",
            "[nltk_data]    |     /root/nltk_data...\n",
            "[nltk_data]    |   Unzipping corpora/city_database.zip.\n",
            "[nltk_data]    | Downloading package tagsets to /root/nltk_data...\n",
            "[nltk_data]    |   Unzipping help/tagsets.zip.\n",
            "[nltk_data]    | Downloading package panlex_swadesh to\n",
            "[nltk_data]    |     /root/nltk_data...\n",
            "[nltk_data]    | Downloading package averaged_perceptron_tagger to\n",
            "[nltk_data]    |     /root/nltk_data...\n",
            "[nltk_data]    |   Unzipping taggers/averaged_perceptron_tagger.zip.\n",
            "[nltk_data]    | \n",
            "[nltk_data]  Done downloading collection book\n"
          ]
        },
        {
          "output_type": "stream",
          "name": "stdout",
          "text": [
            "*** Introductory Examples for the NLTK Book ***\n",
            "Loading text1, ..., text9 and sent1, ..., sent9\n",
            "Type the name of the text or sentence to view it.\n",
            "Type: 'texts()' or 'sents()' to list the materials.\n",
            "text1: Moby Dick by Herman Melville 1851\n",
            "text2: Sense and Sensibility by Jane Austen 1811\n",
            "text3: The Book of Genesis\n",
            "text4: Inaugural Address Corpus\n",
            "text5: Chat Corpus\n",
            "text6: Monty Python and the Holy Grail\n",
            "text7: Wall Street Journal\n",
            "text8: Personals Corpus\n",
            "text9: The Man Who Was Thursday by G . K . Chesterton 1908\n"
          ]
        }
      ],
      "source": [
        "import matplotlib.pyplot as plt\n",
        "import numpy as np\n",
        "import nltk\n",
        "nltk.download('book')\n",
        "from nltk.book import *"
      ]
    },
    {
      "cell_type": "code",
      "source": [
        "# Selecionar un libro\n",
        "text1"
      ],
      "metadata": {
        "colab": {
          "base_uri": "https://localhost:8080/"
        },
        "id": "ygkTYe_JHJKn",
        "outputId": "dfb96eae-af8f-4742-a1ce-55a1275434f1"
      },
      "execution_count": 2,
      "outputs": [
        {
          "output_type": "execute_result",
          "data": {
            "text/plain": [
              "<Text: Moby Dick by Herman Melville 1851>"
            ]
          },
          "metadata": {},
          "execution_count": 2
        }
      ]
    },
    {
      "cell_type": "code",
      "source": [
        "book = text1"
      ],
      "metadata": {
        "id": "iLXtThatKhUh"
      },
      "execution_count": 13,
      "outputs": []
    },
    {
      "cell_type": "code",
      "source": [
        "book.tokens[1000:1010]"
      ],
      "metadata": {
        "colab": {
          "base_uri": "https://localhost:8080/"
        },
        "id": "aJh0XdTjJhsz",
        "outputId": "42483c5b-fd1b-4c08-9a1b-e32d51c1b713"
      },
      "execution_count": 28,
      "outputs": [
        {
          "output_type": "execute_result",
          "data": {
            "text/plain": [
              "['said', 'that', 'he', 'was', 'one', 'of', 'six', 'who', 'had', 'killed']"
            ]
          },
          "metadata": {},
          "execution_count": 28
        }
      ]
    },
    {
      "cell_type": "markdown",
      "source": [
        "# 1. Basic statistics\n",
        "* Count\n",
        "* Medida de riqueza léxica\n"
      ],
      "metadata": {
        "id": "12K0djzcHKjM"
      }
    },
    {
      "cell_type": "code",
      "source": [
        "# ¿Cuántos tokens tiene el libro?\n",
        "len(book)"
      ],
      "metadata": {
        "colab": {
          "base_uri": "https://localhost:8080/"
        },
        "id": "9XZXjJQgKKP-",
        "outputId": "dfab96d5-fcba-42f3-f0eb-a17067f3b696"
      },
      "execution_count": 15,
      "outputs": [
        {
          "output_type": "execute_result",
          "data": {
            "text/plain": [
              "260819"
            ]
          },
          "metadata": {},
          "execution_count": 15
        }
      ]
    },
    {
      "cell_type": "code",
      "source": [
        "# ¿Cuántas palabras únicas hay en el libro?\n",
        "len(set(book))"
      ],
      "metadata": {
        "colab": {
          "base_uri": "https://localhost:8080/"
        },
        "id": "ToeUoL9GK6IX",
        "outputId": "5218481e-b500-4cd8-f713-ddf4392cde9a"
      },
      "execution_count": 16,
      "outputs": [
        {
          "output_type": "execute_result",
          "data": {
            "text/plain": [
              "19317"
            ]
          },
          "metadata": {},
          "execution_count": 16
        }
      ]
    },
    {
      "cell_type": "code",
      "source": [
        "vocabulary = sorted(set(book))"
      ],
      "metadata": {
        "id": "BFgnd5AJMPwY"
      },
      "execution_count": 24,
      "outputs": []
    },
    {
      "cell_type": "code",
      "source": [
        "vocabulary[2000:2010]"
      ],
      "metadata": {
        "colab": {
          "base_uri": "https://localhost:8080/"
        },
        "id": "Jl5wIcqzMjet",
        "outputId": "42c60f64-e8e1-40b1-fbb5-bf127f7e0824"
      },
      "execution_count": 32,
      "outputs": [
        {
          "output_type": "execute_result",
          "data": {
            "text/plain": [
              "['LEG',\n",
              " 'LENGTHWISE',\n",
              " 'LETTER',\n",
              " 'LETTERS',\n",
              " 'LEVIATHAN',\n",
              " 'LIE',\n",
              " 'LIFE',\n",
              " 'LIGHT',\n",
              " 'LIGHTNING',\n",
              " 'LINE']"
            ]
          },
          "metadata": {},
          "execution_count": 32
        }
      ]
    },
    {
      "cell_type": "code",
      "source": [
        "# crear función para calcular ríqueza léxica\n",
        "\n",
        "def riqueza_lexica(texto):\n",
        "  return len(set(texto))/len(texto)"
      ],
      "metadata": {
        "id": "bE0236jNNBEB"
      },
      "execution_count": 29,
      "outputs": []
    },
    {
      "cell_type": "code",
      "source": [
        "riqueza_lexica(book)"
      ],
      "metadata": {
        "colab": {
          "base_uri": "https://localhost:8080/"
        },
        "id": "9uVxfHm7NBAw",
        "outputId": "441383c3-e5e0-42bc-df38-0dbf94a85a59"
      },
      "execution_count": 30,
      "outputs": [
        {
          "output_type": "execute_result",
          "data": {
            "text/plain": [
              "0.07406285585022564"
            ]
          },
          "metadata": {},
          "execution_count": 30
        }
      ]
    },
    {
      "cell_type": "code",
      "source": [
        "book.count('Dick')"
      ],
      "metadata": {
        "colab": {
          "base_uri": "https://localhost:8080/"
        },
        "id": "zk9z8qGtPJtj",
        "outputId": "7f8f319f-53cc-43c1-f970-8138cc76cb26"
      },
      "execution_count": 33,
      "outputs": [
        {
          "output_type": "execute_result",
          "data": {
            "text/plain": [
              "84"
            ]
          },
          "metadata": {},
          "execution_count": 33
        }
      ]
    },
    {
      "cell_type": "code",
      "source": [
        "# crear función de porcentaje de palabra\n",
        "\n",
        "def token_percent(palabra, texto):\n",
        "  token_count = texto.count(palabra)\n",
        "  token_percent = 100 * texto.count(palabra) / len(texto)\n",
        "  return token_count,  token_percent"
      ],
      "metadata": {
        "id": "rpsw0fIoO3kE"
      },
      "execution_count": 40,
      "outputs": []
    },
    {
      "cell_type": "code",
      "source": [
        "token_percent('the', book)"
      ],
      "metadata": {
        "colab": {
          "base_uri": "https://localhost:8080/"
        },
        "id": "Qe3s3ywfPoxf",
        "outputId": "a35e8743-32da-4e99-ed7b-beb13fc4e814"
      },
      "execution_count": 45,
      "outputs": [
        {
          "output_type": "execute_result",
          "data": {
            "text/plain": [
              "(13721, 5.260736372733581)"
            ]
          },
          "metadata": {},
          "execution_count": 45
        }
      ]
    },
    {
      "cell_type": "markdown",
      "source": [
        "# 2. FreqDist"
      ],
      "metadata": {
        "id": "7Twz1ExHHzzI"
      }
    },
    {
      "cell_type": "code",
      "source": [
        "fdist = FreqDist(book)"
      ],
      "metadata": {
        "id": "5DIJEkfMH8ni"
      },
      "execution_count": 42,
      "outputs": []
    },
    {
      "cell_type": "code",
      "source": [
        "# ¿Cuántas veces aparecen los tekens en el texto?\n",
        "# Opción 1\n",
        "fdist.most_common(10)"
      ],
      "metadata": {
        "colab": {
          "base_uri": "https://localhost:8080/"
        },
        "id": "0GK9rqmjRtfP",
        "outputId": "889f0cd5-84b3-4be6-ab5c-ec3cd0a2a053"
      },
      "execution_count": 43,
      "outputs": [
        {
          "output_type": "execute_result",
          "data": {
            "text/plain": [
              "[(',', 18713),\n",
              " ('the', 13721),\n",
              " ('.', 6862),\n",
              " ('of', 6536),\n",
              " ('and', 6024),\n",
              " ('a', 4569),\n",
              " ('to', 4542),\n",
              " (';', 4072),\n",
              " ('in', 3916),\n",
              " ('that', 2982)]"
            ]
          },
          "metadata": {},
          "execution_count": 43
        }
      ]
    },
    {
      "cell_type": "code",
      "source": [
        "fdist.plot(30, cumulative=False)"
      ],
      "metadata": {
        "colab": {
          "base_uri": "https://localhost:8080/",
          "height": 482
        },
        "id": "lLkiRHRKSCLQ",
        "outputId": "3e06fa70-6e5c-4b84-fadf-ac8d43db1a24"
      },
      "execution_count": 49,
      "outputs": [
        {
          "output_type": "execute_result",
          "data": {
            "text/plain": [
              "<Axes: xlabel='Samples', ylabel='Counts'>"
            ]
          },
          "metadata": {},
          "execution_count": 49
        },
        {
          "output_type": "display_data",
          "data": {
            "text/plain": [
              "<Figure size 640x480 with 1 Axes>"
            ],
            "image/png": "[encoded data removed]"
          },
          "metadata": {}
        }
      ]
    },
    {
      "cell_type": "code",
      "source": [
        "# ¿Cuántas veces aparecen los tekens en el texto?\n",
        "# Opción 2\n",
        "book.vocab().most_common(30)\n",
        "book.vocab().plot(30)"
      ],
      "metadata": {
        "colab": {
          "base_uri": "https://localhost:8080/",
          "height": 482
        },
        "id": "0QGv4VJRT0NQ",
        "outputId": "2397803d-64e8-4222-e8f5-a991e0acc8e2"
      },
      "execution_count": 50,
      "outputs": [
        {
          "output_type": "execute_result",
          "data": {
            "text/plain": [
              "<Axes: xlabel='Samples', ylabel='Counts'>"
            ]
          },
          "metadata": {},
          "execution_count": 50
        },
        {
          "output_type": "display_data",
          "data": {
            "text/plain": [
              "<Figure size 640x480 with 1 Axes>"
            ],
            "image/png": "[encoded data removed]"
          },
          "metadata": {}
        }
      ]
    },
    {
      "cell_type": "markdown",
      "source": [
        "# Ley de Zipf\n",
        "\n",
        "Describe la relación entra la frecuencia de la palabra y su posición en una lista ordenada por frecuencia."
      ],
      "metadata": {
        "id": "6xg3CWPPSBsv"
      }
    },
    {
      "cell_type": "code",
      "source": [
        "a = list(fdist.values())\n",
        "a = np.array(a)\n",
        "a = np.sort(a)\n",
        "a = a[::-1]\n",
        "plt.figure(figsize=(3,3))\n",
        "plt.yscale('log')\n",
        "plt.xscale('log')\n",
        "plt.plot(a)\n",
        "plt.xlabel('Posición log')\n",
        "plt.ylabel('Frecuencia')\n",
        "plt.title('Ley de Zipf')\n"
      ],
      "metadata": {
        "colab": {
          "base_uri": "https://localhost:8080/",
          "height": 355
        },
        "id": "LrYLOkthU9Wv",
        "outputId": "008160fd-d902-4ee7-a0d9-73a19164da70"
      },
      "execution_count": 53,
      "outputs": [
        {
          "output_type": "execute_result",
          "data": {
            "text/plain": [
              "Text(0.5, 1.0, 'Ley de Zipf')"
            ]
          },
          "metadata": {},
          "execution_count": 53
        },
        {
          "output_type": "display_data",
          "data": {
            "text/plain": [
              "<Figure size 300x300 with 1 Axes>"
            ],
            "image/png": "[encoded data removed]"
          },
          "metadata": {}
        }
      ]
    },
    {
      "cell_type": "markdown",
      "source": [
        "## 2.2. Filtros"
      ],
      "metadata": {
        "id": "tjCrscBEYVv9"
      }
    },
    {
      "cell_type": "code",
      "source": [
        "# filtrar las distribucion\n",
        "# len(word)>5 porque la mayoría de los conetorese en inglés tiene hasta 4 caracteres: his, that, this, not.....\n",
        "long_words = [ word for word in book if len(word)>5 ]\n"
      ],
      "metadata": {
        "id": "28UlqXHxYb5G"
      },
      "execution_count": 54,
      "outputs": []
    },
    {
      "cell_type": "code",
      "source": [
        "fdist = FreqDist(long_words)\n",
        "fdist.most_common(10)\n",
        "fdist.plot(30, cumulative=False)"
      ],
      "metadata": {
        "colab": {
          "base_uri": "https://localhost:8080/",
          "height": 526
        },
        "id": "7i3ntV2oYh74",
        "outputId": "6745af07-df8e-4bed-fc12-70cfce39bae3"
      },
      "execution_count": 57,
      "outputs": [
        {
          "output_type": "execute_result",
          "data": {
            "text/plain": [
              "<Axes: xlabel='Samples', ylabel='Counts'>"
            ]
          },
          "metadata": {},
          "execution_count": 57
        },
        {
          "output_type": "display_data",
          "data": {
            "text/plain": [
              "<Figure size 640x480 with 1 Axes>"
            ],
            "image/png": "[encoded data removed]"
          },
          "metadata": {}
        }
      ]
    },
    {
      "cell_type": "markdown",
      "source": [
        "Pistas parte 1.\n",
        "* Queenqueg, Starbuck, Pequod: 3 personas\n",
        "* whales:  ballenas\n",
        "* voyage: viaje\n"
      ],
      "metadata": {
        "id": "l71vGH31ad7E"
      }
    },
    {
      "cell_type": "code",
      "source": [
        "mayus_book = set([mayus for mayus in long_words if mayus.istitle()])\n",
        "mayus_book"
      ],
      "metadata": {
        "colab": {
          "base_uri": "https://localhost:8080/"
        },
        "collapsed": true,
        "id": "6qw-Zk2fcHXk",
        "outputId": "7a3fff14-36eb-4a5f-e2e8-5e1110b87457"
      },
      "execution_count": 64,
      "outputs": [
        {
          "output_type": "execute_result",
          "data": {
            "text/plain": [
              "{'Sounding',\n",
              " 'Actium',\n",
              " 'Harris',\n",
              " 'Meddling',\n",
              " 'Missouri',\n",
              " 'Mysteriously',\n",
              " 'Kraken',\n",
              " 'Grounds',\n",
              " 'Forthwith',\n",
              " 'Whitehall',\n",
              " 'Quakeress',\n",
              " 'Dutchman',\n",
              " 'Header',\n",
              " 'Deuteronomy',\n",
              " 'Ophites',\n",
              " 'Softly',\n",
              " 'Peterson',\n",
              " 'Ottoman',\n",
              " 'Because',\n",
              " 'Thorkill',\n",
              " 'Physeter',\n",
              " 'Colonies',\n",
              " 'Immortal',\n",
              " 'Electors',\n",
              " 'Hearkening',\n",
              " 'Literally',\n",
              " 'Exception',\n",
              " 'Reference',\n",
              " 'Should',\n",
              " 'Callao',\n",
              " 'Stripped',\n",
              " 'Making',\n",
              " 'Leaning',\n",
              " 'Mackinaw',\n",
              " 'Tumbled',\n",
              " 'Symphony',\n",
              " 'Before',\n",
              " 'Savage',\n",
              " 'Lothario',\n",
              " 'Hoveringly',\n",
              " 'Cruppered',\n",
              " 'Created',\n",
              " 'Funeral',\n",
              " 'Plains',\n",
              " 'Better',\n",
              " 'Justice',\n",
              " 'Shipped',\n",
              " 'Cathedral',\n",
              " 'Americas',\n",
              " 'Nightgown',\n",
              " 'Judith',\n",
              " 'Cussed',\n",
              " 'Leviathans',\n",
              " 'Pampas',\n",
              " 'Rensselaers',\n",
              " 'Season',\n",
              " 'Westers',\n",
              " 'Thanks',\n",
              " 'Trades',\n",
              " 'According',\n",
              " 'Around',\n",
              " 'Maccabees',\n",
              " 'Lookee',\n",
              " 'Babylon',\n",
              " 'Rattle',\n",
              " 'Tartarean',\n",
              " 'Dugongs',\n",
              " 'Christmas',\n",
              " 'Starting',\n",
              " 'Passed',\n",
              " 'Doubts',\n",
              " 'Pitferren',\n",
              " 'Quakerish',\n",
              " 'Dragged',\n",
              " 'Harbor',\n",
              " 'Squall',\n",
              " 'Ashore',\n",
              " 'Vancouver',\n",
              " 'Cancer',\n",
              " 'Lightning',\n",
              " 'Christian',\n",
              " 'Paracelsan',\n",
              " 'Stepping',\n",
              " 'Bennett',\n",
              " 'System',\n",
              " 'Simeon',\n",
              " 'Hollanders',\n",
              " 'Coming',\n",
              " 'Germain',\n",
              " 'Trumpa',\n",
              " 'Horner',\n",
              " 'Rarmai',\n",
              " 'Snarles',\n",
              " 'Espying',\n",
              " 'Mordecai',\n",
              " 'Wherein',\n",
              " 'Virtue',\n",
              " 'Corkscrew',\n",
              " 'Neskyeuna',\n",
              " 'Typhoons',\n",
              " 'Ceylon',\n",
              " 'Danish',\n",
              " 'Cutter',\n",
              " 'Macrocephalus',\n",
              " 'Germans',\n",
              " 'December',\n",
              " 'Schmerenburgh',\n",
              " 'Grisly',\n",
              " 'Sharks',\n",
              " 'Solomon',\n",
              " 'Circumambulate',\n",
              " 'Poland',\n",
              " 'Horrible',\n",
              " 'Launched',\n",
              " 'Acushnet',\n",
              " 'Sultan',\n",
              " 'Rousseau',\n",
              " 'Egyptians',\n",
              " 'Shakers',\n",
              " 'Striking',\n",
              " 'Spurzheim',\n",
              " 'Dericks',\n",
              " 'County',\n",
              " 'Manxman',\n",
              " 'Archipelagoes',\n",
              " 'Childe',\n",
              " 'Scorpion',\n",
              " 'Portuguese',\n",
              " 'National',\n",
              " 'Duodecimoes',\n",
              " 'Pacific',\n",
              " 'Priest',\n",
              " 'Swimming',\n",
              " 'Scorpio',\n",
              " 'Rachel',\n",
              " 'Abjectus',\n",
              " 'Suppose',\n",
              " 'Bartholomew',\n",
              " 'Museum',\n",
              " 'Perchance',\n",
              " 'Planted',\n",
              " 'Cleveland',\n",
              " 'Begone',\n",
              " 'Russian',\n",
              " 'Moreover',\n",
              " 'Gothic',\n",
              " 'Probably',\n",
              " 'Divine',\n",
              " 'Fleece',\n",
              " 'Perseus',\n",
              " 'Sphinx',\n",
              " 'Unhinge',\n",
              " 'Pandects',\n",
              " 'Tranquilly',\n",
              " 'Edmund',\n",
              " 'Future',\n",
              " 'Leviathanism',\n",
              " 'Doubloon',\n",
              " 'Madame',\n",
              " 'Heading',\n",
              " 'Derick',\n",
              " 'Ganges',\n",
              " 'Hussey',\n",
              " 'Miracle',\n",
              " 'Attached',\n",
              " 'Avatar',\n",
              " 'Owners',\n",
              " 'Christians',\n",
              " 'Thrusting',\n",
              " 'Myself',\n",
              " 'Anyway',\n",
              " 'Angels',\n",
              " 'Commodores',\n",
              " 'Kentuckian',\n",
              " 'Spanish',\n",
              " 'Tahiti',\n",
              " 'Merely',\n",
              " 'Society',\n",
              " 'Perhaps',\n",
              " 'Emblazonings',\n",
              " 'Dissect',\n",
              " 'Tarshish',\n",
              " 'Fishiest',\n",
              " 'Merchant',\n",
              " 'Prodromus',\n",
              " 'Mississippies',\n",
              " 'Figuera',\n",
              " 'Bentham',\n",
              " 'Turkish',\n",
              " 'Elephanta',\n",
              " 'Crockett',\n",
              " 'Browne',\n",
              " 'Crushed',\n",
              " 'Stretched',\n",
              " 'Pompey',\n",
              " 'Oriental',\n",
              " 'Pupella',\n",
              " 'Arsacides',\n",
              " 'Ramadans',\n",
              " 'Manilla',\n",
              " 'Burkes',\n",
              " 'Platonic',\n",
              " 'Matsmai',\n",
              " 'Faintly',\n",
              " 'Barrens',\n",
              " 'Floundered',\n",
              " 'Bendigoes',\n",
              " 'Puritans',\n",
              " 'Iroquois',\n",
              " 'Relieved',\n",
              " 'Tarsus',\n",
              " 'Whatever',\n",
              " 'Unconsciously',\n",
              " 'Methinks',\n",
              " 'Crossing',\n",
              " 'Rogers',\n",
              " 'Canaris',\n",
              " 'Careful',\n",
              " 'Niagara',\n",
              " 'Palace',\n",
              " 'Fisheries',\n",
              " 'Empire',\n",
              " 'Screwed',\n",
              " 'Frenchman',\n",
              " 'Syrian',\n",
              " 'Articles',\n",
              " 'Conjuror',\n",
              " 'Eternity',\n",
              " 'Yellow',\n",
              " 'Rising',\n",
              " 'Tuileries',\n",
              " 'Corlears',\n",
              " 'Inserting',\n",
              " 'Commons',\n",
              " 'Charley',\n",
              " 'Lakeman',\n",
              " 'Islands',\n",
              " 'Indian',\n",
              " 'Raphael',\n",
              " 'Paradise',\n",
              " 'Historians',\n",
              " 'Certainly',\n",
              " 'Angelo',\n",
              " 'Commodore',\n",
              " 'Matter',\n",
              " 'Fellow',\n",
              " 'Presently',\n",
              " 'Pollard',\n",
              " 'Champagne',\n",
              " 'Sachem',\n",
              " 'Shipmates',\n",
              " 'Strike',\n",
              " 'Woebegone',\n",
              " 'Philippe',\n",
              " 'Columbus',\n",
              " 'Porpoises',\n",
              " 'Thirdly',\n",
              " 'Brighggians',\n",
              " 'Honourary',\n",
              " 'Suspended',\n",
              " 'Golden',\n",
              " 'Pagans',\n",
              " 'Behold',\n",
              " 'Byward',\n",
              " 'Retribution',\n",
              " 'Vermonters',\n",
              " 'Ecclesiastes',\n",
              " 'Applied',\n",
              " 'Trumpet',\n",
              " 'Pacifics',\n",
              " 'Turkey',\n",
              " 'Whiteness',\n",
              " 'Subtilize',\n",
              " 'Cambyses',\n",
              " 'Caramba',\n",
              " 'Procopius',\n",
              " 'Blinding',\n",
              " 'Bishop',\n",
              " 'Typhoon',\n",
              " 'American',\n",
              " 'Others',\n",
              " 'Tanaquil',\n",
              " 'Desecrated',\n",
              " 'Earthsman',\n",
              " 'Whence',\n",
              " 'Scoresby',\n",
              " 'Saladin',\n",
              " 'Tashtego',\n",
              " 'Hampshire',\n",
              " 'Sorrows',\n",
              " 'Hardicanutes',\n",
              " 'Scorning',\n",
              " 'Shaking',\n",
              " 'Pressing',\n",
              " 'Unlike',\n",
              " 'Vineyard',\n",
              " 'Halloa',\n",
              " 'Immediately',\n",
              " 'Wellington',\n",
              " 'Methuselah',\n",
              " 'Blacksmith',\n",
              " 'Coppered',\n",
              " 'Afterwards',\n",
              " 'Wherefore',\n",
              " 'Tennessee',\n",
              " 'Keeping',\n",
              " 'Likewise',\n",
              " 'Spaniards',\n",
              " 'Dunkirk',\n",
              " 'Hindostan',\n",
              " 'George',\n",
              " 'Bungle',\n",
              " 'Leuwenhoeck',\n",
              " 'Lacepede',\n",
              " 'Beyond',\n",
              " 'Forming',\n",
              " 'Coenties',\n",
              " 'Himmalehan',\n",
              " 'Philip',\n",
              " 'Polynesians',\n",
              " 'Sikoke',\n",
              " 'Sherry',\n",
              " 'Corresponding',\n",
              " 'Gliding',\n",
              " 'Abashed',\n",
              " 'Librarian',\n",
              " 'Coopman',\n",
              " 'Goodwin',\n",
              " 'Business',\n",
              " 'Capricornus',\n",
              " 'Huggins',\n",
              " 'Solander',\n",
              " 'Tormentoto',\n",
              " 'Jeroboam',\n",
              " 'Israel',\n",
              " 'Manillas',\n",
              " 'Helena',\n",
              " 'Philistines',\n",
              " 'Eastern',\n",
              " 'Availing',\n",
              " 'Scripture',\n",
              " 'Sumatra',\n",
              " 'Narragansett',\n",
              " 'Mosque',\n",
              " 'Alleghanian',\n",
              " 'Deliverer',\n",
              " 'Whosoever',\n",
              " 'Carpet',\n",
              " 'Humane',\n",
              " 'Arched',\n",
              " 'Pirates',\n",
              " 'Innkeeper',\n",
              " 'General',\n",
              " 'Placing',\n",
              " 'Latter',\n",
              " 'Hawaiian',\n",
              " 'Harpoons',\n",
              " 'Mastodon',\n",
              " 'Abraham',\n",
              " 'February',\n",
              " 'Heidelburgh',\n",
              " 'Tempered',\n",
              " 'Austrian',\n",
              " 'Nantucketer',\n",
              " 'Gardiner',\n",
              " 'Regarded',\n",
              " 'Elijah',\n",
              " 'Prairie',\n",
              " 'Martin',\n",
              " 'Strello',\n",
              " 'Virgin',\n",
              " 'Valparaiso',\n",
              " 'Daniel',\n",
              " 'Ishmael',\n",
              " 'Sibbald',\n",
              " 'Cannibals',\n",
              " 'Steady',\n",
              " 'Physiognomy',\n",
              " 'Steward',\n",
              " 'Thames',\n",
              " 'United',\n",
              " 'Sixteen',\n",
              " 'Senators',\n",
              " 'Tamerlane',\n",
              " 'Tahitian',\n",
              " 'Scotch',\n",
              " 'Impossible',\n",
              " 'Hearing',\n",
              " 'Dardanelles',\n",
              " 'Gather',\n",
              " 'During',\n",
              " 'Australian',\n",
              " 'Gallipagos',\n",
              " 'Commanded',\n",
              " 'Povelson',\n",
              " 'Headed',\n",
              " 'Temperance',\n",
              " 'Cruising',\n",
              " 'Christendom',\n",
              " 'Lucifer',\n",
              " 'Battering',\n",
              " 'Aldrovandus',\n",
              " 'Leyden',\n",
              " 'Congregation',\n",
              " 'Elsewhere',\n",
              " 'Lamatins',\n",
              " 'Issuing',\n",
              " 'Thomas',\n",
              " 'Depend',\n",
              " 'Euclidean',\n",
              " 'Cologne',\n",
              " 'Fasting',\n",
              " 'Catholic',\n",
              " 'Albert',\n",
              " 'Shaster',\n",
              " 'Leeward',\n",
              " 'Whaling',\n",
              " 'Dinner',\n",
              " 'Reckon',\n",
              " 'Semiramis',\n",
              " 'Captains',\n",
              " 'Bashaw',\n",
              " 'Delight',\n",
              " 'Muster',\n",
              " 'Blanco',\n",
              " 'Ellenborough',\n",
              " 'Pippin',\n",
              " 'Indolence',\n",
              " 'Antiochus',\n",
              " 'Beware',\n",
              " 'Splice',\n",
              " 'Charing',\n",
              " 'Corinthians',\n",
              " 'Imperial',\n",
              " 'Gilder',\n",
              " 'Advancement',\n",
              " 'Jonathan',\n",
              " 'Norwegian',\n",
              " 'Hackluyt',\n",
              " 'Amsterdam',\n",
              " 'Ptolemy',\n",
              " 'October',\n",
              " 'Samuel',\n",
              " 'Hindoo',\n",
              " 'Little',\n",
              " 'Swerve',\n",
              " 'Hyperborean',\n",
              " 'Frobisher',\n",
              " 'Monstrous',\n",
              " 'Tropics',\n",
              " 'Webster',\n",
              " 'Venetianly',\n",
              " 'Pontoppodan',\n",
              " 'Southerner',\n",
              " 'Richard',\n",
              " 'Britain',\n",
              " 'Algerine',\n",
              " 'Orient',\n",
              " 'Possession',\n",
              " 'Peering',\n",
              " 'Requiem',\n",
              " 'Hudson',\n",
              " 'Sailing',\n",
              " 'Dominic',\n",
              " 'Ephesian',\n",
              " 'Guinea',\n",
              " 'Seneca',\n",
              " 'Corlaer',\n",
              " 'Discovery',\n",
              " 'Accessory',\n",
              " 'Projecting',\n",
              " 'Aristotle',\n",
              " 'Monsoons',\n",
              " 'Aldrovandi',\n",
              " 'Wrapping',\n",
              " 'Dropping',\n",
              " 'Pyrrho',\n",
              " 'Whereupon',\n",
              " 'Butler',\n",
              " 'Seeing',\n",
              " 'Father',\n",
              " 'Zealanders',\n",
              " 'Manhatto',\n",
              " 'Sandwich',\n",
              " 'Englander',\n",
              " 'Monadnock',\n",
              " 'Foolish',\n",
              " 'Monsieurs',\n",
              " 'Diminish',\n",
              " 'Canterbury',\n",
              " 'Suppression',\n",
              " 'Starboard',\n",
              " 'Baliene',\n",
              " 'Forecastle',\n",
              " 'Polynesia',\n",
              " 'Vidocq',\n",
              " 'Puritanic',\n",
              " 'Remember',\n",
              " 'Freeze',\n",
              " 'Wrinkled',\n",
              " 'Unicorn',\n",
              " 'Gomorrah',\n",
              " 'Arkite',\n",
              " 'Isolatoes',\n",
              " 'Tierce',\n",
              " 'Bunyan',\n",
              " 'William',\n",
              " 'Extending',\n",
              " 'Bowditch',\n",
              " 'Anatomist',\n",
              " 'Agassiz',\n",
              " 'Disdain',\n",
              " 'Sideways',\n",
              " 'Marking',\n",
              " 'Dantean',\n",
              " 'Tropic',\n",
              " 'Englishmen',\n",
              " 'Improving',\n",
              " 'Moorish',\n",
              " 'Octavo',\n",
              " 'However',\n",
              " 'Vehemently',\n",
              " 'Surmises',\n",
              " 'Franklin',\n",
              " 'Canada',\n",
              " 'Randolphs',\n",
              " 'Pillar',\n",
              " 'Justinian',\n",
              " 'Accordingly',\n",
              " 'Receiving',\n",
              " 'Several',\n",
              " 'Island',\n",
              " 'Threading',\n",
              " 'Whalebone',\n",
              " 'German',\n",
              " 'Parliament',\n",
              " 'Halting',\n",
              " 'Erromanggoans',\n",
              " 'Suddenly',\n",
              " 'Trafalgar',\n",
              " 'Eternities',\n",
              " 'Bottle',\n",
              " 'Durand',\n",
              " 'Burtons',\n",
              " 'Narwhale',\n",
              " 'Admiral',\n",
              " 'Malays',\n",
              " 'Syracuse',\n",
              " 'Whaleman',\n",
              " 'Liberties',\n",
              " 'Equator',\n",
              " 'Office',\n",
              " 'Therefore',\n",
              " 'Strangest',\n",
              " 'Wonder',\n",
              " 'Pedestrians',\n",
              " 'Harmattans',\n",
              " 'Doubtless',\n",
              " 'Marten',\n",
              " 'Teneriffe',\n",
              " 'Yarman',\n",
              " 'Presbyterian',\n",
              " 'Herein',\n",
              " 'Thermes',\n",
              " 'Bombay',\n",
              " 'Almighty',\n",
              " 'Creagh',\n",
              " 'Rinaldini',\n",
              " 'Quitting',\n",
              " 'Marmora',\n",
              " 'Whirlpooles',\n",
              " 'Civitas',\n",
              " 'November',\n",
              " 'Sperma',\n",
              " 'Already',\n",
              " 'Abednego',\n",
              " 'Terrors',\n",
              " 'Holloa',\n",
              " 'Folger',\n",
              " 'Passion',\n",
              " 'Excepting',\n",
              " 'Somehow',\n",
              " 'Alarmed',\n",
              " 'Mother',\n",
              " 'Bloody',\n",
              " 'Prometheus',\n",
              " 'Jimimi',\n",
              " 'Birmah',\n",
              " 'Ontario',\n",
              " 'Despatch',\n",
              " 'Hittite',\n",
              " 'Either',\n",
              " 'Hydriote',\n",
              " 'Alleghanies',\n",
              " 'Crammer',\n",
              " 'Clifford',\n",
              " 'Morquan',\n",
              " 'Titans',\n",
              " 'Biographical',\n",
              " 'Epilogue',\n",
              " 'Lesson',\n",
              " 'Sometimes',\n",
              " 'Nantucket',\n",
              " 'Throwing',\n",
              " 'Besides',\n",
              " 'Alexander',\n",
              " 'Dunfermline',\n",
              " 'Israelites',\n",
              " 'Mammoth',\n",
              " 'Riotous',\n",
              " 'Praetorians',\n",
              " 'Setting',\n",
              " 'Penetrating',\n",
              " 'Supposing',\n",
              " 'Innocents',\n",
              " 'Darkness',\n",
              " 'Vaticans',\n",
              " 'Ordinaire',\n",
              " 'Scarcely',\n",
              " 'Newcastle',\n",
              " 'Damocles',\n",
              " 'Dorchester',\n",
              " 'Folding',\n",
              " 'Accursed',\n",
              " 'Providence',\n",
              " 'Benjamin',\n",
              " 'Greenlanders',\n",
              " 'Musket',\n",
              " 'Vacantly',\n",
              " 'Greece',\n",
              " 'Rattler',\n",
              " 'Hogarth',\n",
              " 'Uppermost',\n",
              " 'Polynesian',\n",
              " 'Jumped',\n",
              " 'Voyage',\n",
              " 'Magnanimous',\n",
              " 'August',\n",
              " 'Constantinople',\n",
              " 'Hebrews',\n",
              " 'Belial',\n",
              " 'Physiognomist',\n",
              " 'Emboldened',\n",
              " 'Bernard',\n",
              " 'Anyhow',\n",
              " 'Decanter',\n",
              " 'Removing',\n",
              " 'Entering',\n",
              " 'Raising',\n",
              " 'Overhearing',\n",
              " 'Monkey',\n",
              " 'Parisians',\n",
              " 'Belubed',\n",
              " 'Consider',\n",
              " 'Battery',\n",
              " 'British',\n",
              " 'Persians',\n",
              " 'Without',\n",
              " 'Massacre',\n",
              " 'Holofernes',\n",
              " 'Consequently',\n",
              " 'Philippine',\n",
              " 'Floating',\n",
              " 'Drawing',\n",
              " 'Bastille',\n",
              " 'Bestow',\n",
              " 'Soothed',\n",
              " 'Gospel',\n",
              " 'Swedes',\n",
              " 'Freely',\n",
              " 'Watery',\n",
              " 'Admirals',\n",
              " 'Apollo',\n",
              " 'Coronation',\n",
              " 'Imprimis',\n",
              " 'Monsieur',\n",
              " 'Rather',\n",
              " 'Gifted',\n",
              " 'Jordan',\n",
              " 'Supper',\n",
              " 'Isabella',\n",
              " 'Madness',\n",
              " 'Nevertheless',\n",
              " 'Feegee',\n",
              " 'Handling',\n",
              " 'Natural',\n",
              " 'Ferdinando',\n",
              " 'Tranquo',\n",
              " 'Morgana',\n",
              " 'Chinese',\n",
              " 'Vesuvius',\n",
              " 'Siberia',\n",
              " 'Unwittingly',\n",
              " 'Connecticut',\n",
              " 'Atlantic',\n",
              " 'Thinking',\n",
              " 'Watching',\n",
              " 'Fearing',\n",
              " 'African',\n",
              " 'Quakerism',\n",
              " 'Harold',\n",
              " 'Captain',\n",
              " 'Steelkilt',\n",
              " 'Meshach',\n",
              " 'Hebrew',\n",
              " 'Dunder',\n",
              " 'Simoon',\n",
              " 'Phaedon',\n",
              " 'Arnold',\n",
              " 'Shiver',\n",
              " 'Regarding',\n",
              " 'Secondly',\n",
              " 'Shakespeare',\n",
              " 'Champollion',\n",
              " 'Chowder',\n",
              " 'Shrouded',\n",
              " 'Platonist',\n",
              " 'Shifting',\n",
              " 'Rabbins',\n",
              " 'Froissart',\n",
              " 'Assuming',\n",
              " 'Guernsey',\n",
              " 'Windsor',\n",
              " 'Formosa',\n",
              " 'Cabaco',\n",
              " 'Chaldee',\n",
              " 'Dashing',\n",
              " 'Running',\n",
              " 'Arethusa',\n",
              " 'Persia',\n",
              " 'Ambergriese',\n",
              " 'Amelia',\n",
              " 'Originally',\n",
              " 'Meantime',\n",
              " 'Folios',\n",
              " 'Manchester',\n",
              " 'Drinking',\n",
              " 'Pirohitee',\n",
              " 'Descending',\n",
              " 'Brahma',\n",
              " 'Californian',\n",
              " 'Yankees',\n",
              " 'Spinoza',\n",
              " 'Continents',\n",
              " 'Thrusted',\n",
              " 'Oceanica',\n",
              " 'Guernseyman',\n",
              " 'Constable',\n",
              " 'Bolivia',\n",
              " 'Panting',\n",
              " 'Descartian',\n",
              " 'Silence',\n",
              " 'Gabriel',\n",
              " 'Gibraltar',\n",
              " 'Aladdin',\n",
              " 'Sunday',\n",
              " 'Baling',\n",
              " 'Borean',\n",
              " 'Despairing',\n",
              " 'Potluck',\n",
              " 'Shipmate',\n",
              " 'Republican',\n",
              " 'Patagonia',\n",
              " 'Instead',\n",
              " 'Superior',\n",
              " 'Almost',\n",
              " 'Pisces',\n",
              " 'Scragg',\n",
              " 'Judges',\n",
              " 'Lavater',\n",
              " 'Yankee',\n",
              " 'Southern',\n",
              " 'Babylonian',\n",
              " 'Himmalehs',\n",
              " 'Vanity',\n",
              " 'Gracious',\n",
              " 'Quadrant',\n",
              " 'Edward',\n",
              " 'Mingling',\n",
              " 'Samson',\n",
              " 'Monongahela',\n",
              " 'Melancthon',\n",
              " 'Anything',\n",
              " 'Authors',\n",
              " 'Uncommonly',\n",
              " 'Scenes',\n",
              " 'Slowly',\n",
              " 'Carefully',\n",
              " 'Hannibal',\n",
              " 'Wisdom',\n",
              " 'Curious',\n",
              " 'Trinity',\n",
              " 'Phrenologist',\n",
              " 'Sebastian',\n",
              " 'Hurrah',\n",
              " 'Finding',\n",
              " 'Fossil',\n",
              " 'Chilian',\n",
              " 'Started',\n",
              " 'Illinois',\n",
              " 'Caught',\n",
              " 'Rondeletius',\n",
              " 'Eckerman',\n",
              " 'Nicholas',\n",
              " 'Romans',\n",
              " 'Arrived',\n",
              " 'Welding',\n",
              " 'Foremost',\n",
              " 'Fiercely',\n",
              " 'Beneath',\n",
              " 'Pythagorean',\n",
              " 'Colnett',\n",
              " 'Bulwarks',\n",
              " 'Conversation',\n",
              " 'Aroostook',\n",
              " 'Leviathanic',\n",
              " 'Cooper',\n",
              " 'Belisarius',\n",
              " 'Bamboo',\n",
              " 'Niphon',\n",
              " 'Highland',\n",
              " 'Instances',\n",
              " 'Baltimore',\n",
              " 'Lighting',\n",
              " 'Pantheon',\n",
              " 'Pretty',\n",
              " 'Vendome',\n",
              " 'Comparing',\n",
              " 'Cruelty',\n",
              " 'Thirty',\n",
              " 'Serious',\n",
              " 'Archbishop',\n",
              " 'Miserable',\n",
              " 'Carpenter',\n",
              " 'Adverse',\n",
              " 'Hosmannus',\n",
              " 'Tartar',\n",
              " 'Touching',\n",
              " 'Please',\n",
              " 'Scales',\n",
              " 'Seizing',\n",
              " 'Pudding',\n",
              " 'Pascal',\n",
              " 'Zeuglodon',\n",
              " 'Titanic',\n",
              " 'Socratic',\n",
              " 'Equality',\n",
              " 'Wonderfullest',\n",
              " 'Roanoke',\n",
              " 'Burton',\n",
              " 'Nimbly',\n",
              " 'Quaker',\n",
              " 'Towards',\n",
              " 'Thunder',\n",
              " 'Tartarian',\n",
              " 'Summer',\n",
              " 'Standing',\n",
              " 'Cheever',\n",
              " 'Antony',\n",
              " 'Greenwich',\n",
              " 'Crazed',\n",
              " 'Companies',\n",
              " 'Nantucketers',\n",
              " 'Philistine',\n",
              " 'Cuvier',\n",
              " 'Snodhead',\n",
              " 'Squaring',\n",
              " 'Buckets',\n",
              " 'Straits',\n",
              " 'Caryatid',\n",
              " 'Africa',\n",
              " 'Fourth',\n",
              " 'Fanning',\n",
              " 'Corrupt',\n",
              " 'Berlin',\n",
              " 'Excellent',\n",
              " 'Yorkshire',\n",
              " 'People',\n",
              " 'Philopater',\n",
              " 'Linnaeus',\n",
              " 'Crotch',\n",
              " 'Genesis',\n",
              " 'Peruvian',\n",
              " 'Orleans',\n",
              " 'Booble',\n",
              " 'Cervantes',\n",
              " 'Sleeping',\n",
              " 'Frenchmen',\n",
              " 'Lights',\n",
              " 'Hedgehog',\n",
              " 'Lapland',\n",
              " 'Garnery',\n",
              " 'Bildad',\n",
              " 'Assaulted',\n",
              " 'France',\n",
              " 'Frighted',\n",
              " 'Soloma',\n",
              " 'Witness',\n",
              " 'Amittai',\n",
              " 'Painter',\n",
              " 'Levelling',\n",
              " 'Ground',\n",
              " 'Answer',\n",
              " 'Railroads',\n",
              " 'Greenlandmen',\n",
              " 'Hoisting',\n",
              " 'Christ',\n",
              " 'Impenetrable',\n",
              " 'Spanishly',\n",
              " 'Outside',\n",
              " 'Killer',\n",
              " 'Clinging',\n",
              " 'Saturn',\n",
              " 'Moving',\n",
              " 'Vermont',\n",
              " 'America',\n",
              " 'Letter',\n",
              " 'Schools',\n",
              " 'Sagittarius',\n",
              " 'Reckoning',\n",
              " 'Passage',\n",
              " 'Bourbons',\n",
              " 'Tertiary',\n",
              " 'Basilosaurus',\n",
              " 'Struck',\n",
              " 'Swallow',\n",
              " 'Pizarro',\n",
              " 'Radney',\n",
              " 'Impiety',\n",
              " 'Asiatic',\n",
              " 'Stealing',\n",
              " 'Affected',\n",
              " 'Squeeze',\n",
              " 'Hunter',\n",
              " 'Smells',\n",
              " 'Kremlin',\n",
              " 'Inasmuch',\n",
              " 'Remote',\n",
              " 'Unfitness',\n",
              " 'Hither',\n",
              " 'Epitome',\n",
              " 'Platonists',\n",
              " 'Wondrous',\n",
              " 'Carthage',\n",
              " 'Grammar',\n",
              " 'Philologically',\n",
              " 'Purchas',\n",
              " 'Hurriedly',\n",
              " 'Remark',\n",
              " 'Rhenish',\n",
              " 'Shetland',\n",
              " 'Britons',\n",
              " 'Inward',\n",
              " 'Tusked',\n",
              " 'Bellies',\n",
              " 'Arkansas',\n",
              " 'Killed',\n",
              " 'Temple',\n",
              " 'Desolation',\n",
              " 'Nescio',\n",
              " 'Levanter',\n",
              " 'Hercules',\n",
              " 'Vengeance',\n",
              " 'Duodecimo',\n",
              " 'Therein',\n",
              " 'Isthmus',\n",
              " 'Wheelbarrow',\n",
              " 'Looking',\n",
              " 'Preserving',\n",
              " 'Scotland',\n",
              " 'Turning',\n",
              " 'Bulkington',\n",
              " 'Surgeon',\n",
              " 'Sheffield',\n",
              " 'Savesoul',\n",
              " 'Mansoul',\n",
              " 'Historically',\n",
              " 'Against',\n",
              " 'Spirit',\n",
              " 'Lashed',\n",
              " 'Vision',\n",
              " 'Hogarthian',\n",
              " 'Thundering',\n",
              " 'Lieutenant',\n",
              " 'Holland',\n",
              " 'Washington',\n",
              " 'Madman',\n",
              " 'Jupiter',\n",
              " 'Adventures',\n",
              " 'Tranque',\n",
              " 'Pitchpoling',\n",
              " 'Pequod',\n",
              " 'Beloved',\n",
              " 'Boston',\n",
              " 'Strictly',\n",
              " 'Darien',\n",
              " 'Sabbath',\n",
              " 'Antilles',\n",
              " 'Bonneterre',\n",
              " 'Ginger',\n",
              " ...}"
            ]
          },
          "metadata": {},
          "execution_count": 64
        }
      ]
    },
    {
      "cell_type": "markdown",
      "source": [],
      "metadata": {
        "id": "Z33VDGUhcPOi"
      }
    },
    {
      "cell_type": "markdown",
      "source": [
        "Minireto: listar todos los nombres propios que aparecen een l libro (Los que inician con mayúsclas)"
      ],
      "metadata": {
        "id": "1oVCx0kNbOlk"
      }
    },
    {
      "cell_type": "code",
      "source": [],
      "metadata": {
        "id": "L6wMG2LSadhe"
      },
      "execution_count": null,
      "outputs": []
    },
    {
      "cell_type": "markdown",
      "source": [],
      "metadata": {
        "id": "RQRF7A2cYbB4"
      }
    },
    {
      "cell_type": "markdown",
      "source": [
        "# 3. N- Gram\n"
      ],
      "metadata": {
        "id": "WOD8tAfCH8_q"
      }
    },
    {
      "cell_type": "code",
      "source": [
        "# Palabras que ocurren de manera consecutiva\n",
        "book_bigrams = list(nltk.bigrams(book))\n",
        "book_bigrams[0:10]"
      ],
      "metadata": {
        "colab": {
          "base_uri": "https://localhost:8080/"
        },
        "collapsed": true,
        "id": "0v3oZ9jejCgA",
        "outputId": "322156a9-da52-4e2e-86ae-ec6121ad2ef9"
      },
      "execution_count": 73,
      "outputs": [
        {
          "output_type": "execute_result",
          "data": {
            "text/plain": [
              "[('[', 'Moby'),\n",
              " ('Moby', 'Dick'),\n",
              " ('Dick', 'by'),\n",
              " ('by', 'Herman'),\n",
              " ('Herman', 'Melville'),\n",
              " ('Melville', '1851'),\n",
              " ('1851', ']'),\n",
              " (']', 'ETYMOLOGY'),\n",
              " ('ETYMOLOGY', '.'),\n",
              " ('.', '(')]"
            ]
          },
          "metadata": {},
          "execution_count": 73
        }
      ]
    },
    {
      "cell_type": "code",
      "source": [
        "fdist = FreqDist(book_bigrams)\n",
        "fdist.most_common(10)"
      ],
      "metadata": {
        "colab": {
          "base_uri": "https://localhost:8080/"
        },
        "collapsed": true,
        "id": "FRkZmLeojW7t",
        "outputId": "b1bd6a1c-1b15-4d04-edf9-bf074cdfffe8"
      },
      "execution_count": 71,
      "outputs": [
        {
          "output_type": "execute_result",
          "data": {
            "text/plain": [
              "[((',', 'and'), 2607),\n",
              " (('of', 'the'), 1847),\n",
              " ((\"'\", 's'), 1737),\n",
              " (('in', 'the'), 1120),\n",
              " ((',', 'the'), 908),\n",
              " ((';', 'and'), 853),\n",
              " (('to', 'the'), 712),\n",
              " (('.', 'But'), 596),\n",
              " ((',', 'that'), 584),\n",
              " (('.', '\"'), 557)]"
            ]
          },
          "metadata": {},
          "execution_count": 71
        }
      ]
    },
    {
      "cell_type": "code",
      "source": [
        "fdist.plot(30, cumulative=False)"
      ],
      "metadata": {
        "colab": {
          "base_uri": "https://localhost:8080/",
          "height": 0
        },
        "collapsed": true,
        "id": "TQ9CqDHUkwoq",
        "outputId": "e6fccb47-0e4e-4ce4-8e9b-02fb8d2736f7"
      },
      "execution_count": 74,
      "outputs": [
        {
          "output_type": "execute_result",
          "data": {
            "text/plain": [
              "<Axes: xlabel='Samples', ylabel='Counts'>"
            ]
          },
          "metadata": {},
          "execution_count": 74
        },
        {
          "output_type": "display_data",
          "data": {
            "text/plain": [
              "<Figure size 640x480 with 1 Axes>"
            ],
            "image/png": "[encoded data removed]"
          },
          "metadata": {}
        }
      ]
    },
    {
      "cell_type": "code",
      "source": [
        "th = 4\n",
        "bigram_words = [ bigram for bigram in book_bigrams if len(bigram[0])>th and len(bigram[1])>th]\n",
        "fdist = FreqDist(bigram_words)\n",
        "fdist.most_common(10)"
      ],
      "metadata": {
        "colab": {
          "base_uri": "https://localhost:8080/"
        },
        "collapsed": true,
        "id": "8wLocnt4lVkJ",
        "outputId": "c616a6d4-0e96-4ccc-9bac-bb9474c2cef2"
      },
      "execution_count": 76,
      "outputs": [
        {
          "output_type": "execute_result",
          "data": {
            "text/plain": [
              "[(('Sperm', 'Whale'), 118),\n",
              " (('White', 'Whale'), 74),\n",
              " (('sperm', 'whale'), 55),\n",
              " (('Right', 'Whale'), 38),\n",
              " (('Captain', 'Peleg'), 32),\n",
              " (('white', 'whale'), 31),\n",
              " (('cried', 'Stubb'), 23),\n",
              " (('these', 'things'), 22),\n",
              " (('cried', 'Starbuck'), 17),\n",
              " (('still', 'further'), 16)]"
            ]
          },
          "metadata": {},
          "execution_count": 76
        }
      ]
    },
    {
      "cell_type": "code",
      "source": [
        "fdist"
      ],
      "metadata": {
        "colab": {
          "base_uri": "https://localhost:8080/"
        },
        "id": "eV5r7YN4rrgy",
        "outputId": "88c3d4df-d269-4f28-b2b2-8cf84e083558"
      },
      "execution_count": 86,
      "outputs": [
        {
          "output_type": "execute_result",
          "data": {
            "text/plain": [
              "FreqDist({('Sperm', 'Whale'): 118, ('White', 'Whale'): 74, ('sperm', 'whale'): 55, ('Right', 'Whale'): 38, ('Captain', 'Peleg'): 32, ('white', 'whale'): 31, ('cried', 'Stubb'): 23, ('these', 'things'): 22, ('cried', 'Starbuck'): 17, ('still', 'further'): 16, ...})"
            ]
          },
          "metadata": {},
          "execution_count": 86
        }
      ]
    },
    {
      "cell_type": "code",
      "source": [
        "def apariciones(fdist):\n",
        "  fdist.most_common(10)\n",
        "  plt.figure(figsize=(8,2))\n",
        "  fdist.plot(30, cumulative=False)\n",
        "  return plt.show()"
      ],
      "metadata": {
        "id": "HnxOvtfsmjWY"
      },
      "execution_count": 84,
      "outputs": []
    },
    {
      "cell_type": "code",
      "source": [
        "apariciones(fdist)"
      ],
      "metadata": {
        "colab": {
          "base_uri": "https://localhost:8080/",
          "height": 368
        },
        "id": "ZzbIUJGqmjPc",
        "outputId": "40976995-5ede-4431-e2d8-695ed6eccddc"
      },
      "execution_count": 85,
      "outputs": [
        {
          "output_type": "display_data",
          "data": {
            "text/plain": [
              "<Figure size 800x200 with 1 Axes>"
            ],
            "image/png": "[encoded data removed]"
          },
          "metadata": {}
        }
      ]
    },
    {
      "cell_type": "markdown",
      "source": [
        "Pistas parte 1.\n",
        "* Queenqueg, Starbuck, Pequod: 3 personas\n",
        "* whales:  ballenas\n",
        "* voyage: viaje\n",
        "\n",
        "Pistas parte 2.\n",
        "* white whales\n",
        "* Sperm Whale\n",
        "* hay dos capitanes: Starbuck y Peleg\n",
        "* whaling voyage\n",
        "* dos persomnas lloran: Starbuck y Stubb"
      ],
      "metadata": {
        "id": "JYqP9mOxmdok"
      }
    },
    {
      "cell_type": "markdown",
      "source": [
        "N-gram"
      ],
      "metadata": {
        "id": "5n0rmveJvx86"
      }
    },
    {
      "cell_type": "code",
      "source": [
        "from nltk.util import ngrams"
      ],
      "metadata": {
        "id": "qXMgSXjFv8F5"
      },
      "execution_count": 87,
      "outputs": []
    },
    {
      "cell_type": "code",
      "source": [
        "Ngram_book = list(ngrams(book,3))\n",
        "Ngram_words = [ ngram for ngram in Ngram_book if len(ngram[0])>th and len(ngram[1])>th and len(ngram[2])>th]\n",
        "fdist = FreqDist(Ngram_words)\n",
        "apariciones(fdist)"
      ],
      "metadata": {
        "colab": {
          "base_uri": "https://localhost:8080/",
          "height": 461
        },
        "id": "ImYS3VPvv9eI",
        "outputId": "d61ebffc-8513-4fa1-d62f-090915dd5da8"
      },
      "execution_count": 95,
      "outputs": [
        {
          "output_type": "display_data",
          "data": {
            "text/plain": [
              "<Figure size 800x200 with 1 Axes>"
            ],
            "image/png": "[encoded data removed]"
          },
          "metadata": {}
        }
      ]
    },
    {
      "cell_type": "markdown",
      "source": [
        "los Ngrams 1 y 2 son colocaciones en el texto de Moby Dyck  'Great Sperm Whale'\n",
        "\n",
        "Colocación: grupos de palabras que están juntas de manera frecuente"
      ],
      "metadata": {
        "id": "0eAxzKGEytIz"
      }
    },
    {
      "cell_type": "markdown",
      "source": [
        "# Colocaciones"
      ],
      "metadata": {
        "id": "wRYBONGIzIU7"
      }
    },
    {
      "cell_type": "code",
      "source": [
        "from nltk.collocations import *"
      ],
      "metadata": {
        "id": "Dt0PoCNlzGfC"
      },
      "execution_count": 90,
      "outputs": []
    },
    {
      "cell_type": "code",
      "source": [
        "bigram = nltk.collocations.BigramAssocMeasures()\n",
        "trigram = nltk.collocations.TrigramAssocMeasures()"
      ],
      "metadata": {
        "id": "doFJuoqJzPNu"
      },
      "execution_count": 104,
      "outputs": []
    },
    {
      "cell_type": "code",
      "source": [
        "from nltk.collocations import *\n",
        "bigram = nltk.collocations.BigramAssocMeasures()\n",
        "finder = BigramCollocationFinder.from_words(text1)\n",
        "finder.apply_freq_filter(25)\n",
        "finder.nbest(bigram.pmi,100)"
      ],
      "metadata": {
        "colab": {
          "base_uri": "https://localhost:8080/"
        },
        "id": "9MsAyjqOzcwm",
        "outputId": "78ddc113-8f64-48c4-dd55-d4045e5f9b80"
      },
      "execution_count": 108,
      "outputs": [
        {
          "output_type": "execute_result",
          "data": {
            "text/plain": [
              "[('Moby', 'Dick'),\n",
              " ('Sperm', 'Whale'),\n",
              " ('White', 'Whale'),\n",
              " ('Right', 'Whale'),\n",
              " ('Captain', 'Peleg'),\n",
              " (',\"', 'said'),\n",
              " ('!\"', 'cried'),\n",
              " ('no', 'means'),\n",
              " ('each', 'other'),\n",
              " (',\"', 'cried'),\n",
              " ('on', 'board'),\n",
              " ('at', 'least'),\n",
              " ('sperm', 'whale'),\n",
              " ('an', 'instant'),\n",
              " ('be', 'sure'),\n",
              " ('Captain', 'Ahab'),\n",
              " ('once', 'more'),\n",
              " ('has', 'been'),\n",
              " ('cried', 'Ahab'),\n",
              " ('I', 'am'),\n",
              " ('let', 'me'),\n",
              " ('?\"', '\"'),\n",
              " ('have', 'been'),\n",
              " (\"'\", 'll'),\n",
              " (\"'\", 'st'),\n",
              " ('don', \"'\"),\n",
              " ('won', \"'\"),\n",
              " (\"'\", 'em'),\n",
              " (\"'\", 've'),\n",
              " (\"'\", 's'),\n",
              " ('at', 'last'),\n",
              " ('-', 'Fish'),\n",
              " (\"'\", 't'),\n",
              " ('had', 'been'),\n",
              " ('old', 'man'),\n",
              " (\"'\", 'm'),\n",
              " ('more', 'than'),\n",
              " (\"'\", 'S'),\n",
              " ('.\"', '\"'),\n",
              " ('\"', 'Aye'),\n",
              " ('?', 'What'),\n",
              " ('ye', 'see'),\n",
              " ('at', 'times'),\n",
              " ('so', 'much'),\n",
              " ('main', '-'),\n",
              " ('must', 'have'),\n",
              " ('might', 'have'),\n",
              " ('may', 'be'),\n",
              " ('quarter', '-'),\n",
              " ('any', 'other'),\n",
              " ('Oh', '!'),\n",
              " ('mast', '-'),\n",
              " ('my', 'own'),\n",
              " ('might', 'be'),\n",
              " ('should', 'be'),\n",
              " ('could', 'not'),\n",
              " ('did', 'not'),\n",
              " ('must', 'be'),\n",
              " ('his', 'own'),\n",
              " ('-', 'heads'),\n",
              " ('be', 'seen'),\n",
              " ('It', 'was'),\n",
              " (\"'\", 'd'),\n",
              " ('as', 'if'),\n",
              " ('d', \"'\"),\n",
              " ('white', 'whale'),\n",
              " ('would', 'have'),\n",
              " ('at', 'once'),\n",
              " ('no', 'more'),\n",
              " ('all', 'hands'),\n",
              " ('I', 'don'),\n",
              " ('away', 'from'),\n",
              " ('\"', 'What'),\n",
              " ('It', 'is'),\n",
              " ('they', 'are'),\n",
              " ('!\"', '\"'),\n",
              " ('top', '-'),\n",
              " ('one', 'hand'),\n",
              " ('such', 'an'),\n",
              " ('they', 'were'),\n",
              " ('on', 'deck'),\n",
              " ('some', 'time'),\n",
              " ('for', 'ever'),\n",
              " ('Mr', '.'),\n",
              " ('.\"', '--'),\n",
              " ('I', 'think'),\n",
              " ('down', 'into'),\n",
              " ('look', 'at'),\n",
              " ('\"', 'Oh'),\n",
              " ('SAILOR', '.'),\n",
              " ('I', 'say'),\n",
              " ('a', 'single'),\n",
              " ('I', 'thought'),\n",
              " ('his', 'face'),\n",
              " ('do', 'you'),\n",
              " ('an', 'old'),\n",
              " ('you', 'can'),\n",
              " ('you', 'may'),\n",
              " ('I', 'know'),\n",
              " ('do', 'not')]"
            ]
          },
          "metadata": {},
          "execution_count": 108
        }
      ]
    },
    {
      "cell_type": "code",
      "source": [],
      "metadata": {
        "id": "DuONUz3H1QWi"
      },
      "execution_count": null,
      "outputs": []
    },
    {
      "cell_type": "code",
      "source": [],
      "metadata": {
        "id": "a87gObwTzrMJ"
      },
      "execution_count": null,
      "outputs": []
    },
    {
      "cell_type": "markdown",
      "source": [],
      "metadata": {
        "id": "7sF8eJm6zOk5"
      }
    },
    {
      "cell_type": "markdown",
      "source": [],
      "metadata": {
        "id": "9iI6kgxRv88-"
      }
    },
    {
      "cell_type": "markdown",
      "source": [],
      "metadata": {
        "id": "8Hce4hSLv7dx"
      }
    },
    {
      "cell_type": "code",
      "source": [
        "\n",
        "\n",
        "th = 4\n",
        "bigram_words = [ bigram for bigram in book_bigrams if len(bigram[0])>th and len(bigram[1])>th]\n",
        "fdist = FreqDist(bigram_words)\n",
        "fdist.most_common(10)\n",
        "apariciones(fdist)"
      ],
      "metadata": {
        "id": "8H1GmIBKvpu5"
      },
      "execution_count": null,
      "outputs": []
    }
  ]
}