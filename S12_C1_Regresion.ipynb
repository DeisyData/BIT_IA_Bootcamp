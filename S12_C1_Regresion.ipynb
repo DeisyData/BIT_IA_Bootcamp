{
  "nbformat": 4,
  "nbformat_minor": 0,
  "metadata": {
    "colab": {
      "provenance": [],
      "authorship_tag": "ABX9TyPjYzeqI7ox5AmA62wb98X9",
      "include_colab_link": true
    },
    "kernelspec": {
      "name": "python3",
      "display_name": "Python 3"
    },
    "language_info": {
      "name": "python"
    }
  },
  "cells": [
    {
      "cell_type": "markdown",
      "metadata": {
        "id": "view-in-github",
        "colab_type": "text"
      },
      "source": [
        "<a href=\"https://colab.research.google.com/github/DeisyData/BIT_IA_Bootcamp/blob/main/S12_C1_Regresion.ipynb\" target=\"_parent\"><img src=\"https://colab.research.google.com/assets/colab-badge.svg\" alt=\"Open In Colab\"/></a>"
      ]
    },
    {
      "cell_type": "code",
      "source": [
        "import pandas as pd\n",
        "import numpy as np\n",
        "from sklearn.model_selection import train_test_split\n",
        "from sklearn.linear_model import LinearRegression, Ridge, Lasso, ElasticNet\n",
        "from sklearn.tree import DecisionTreeRegressor\n",
        "from sklearn.preprocessing import PolynomialFeatures\n",
        "from sklearn.svm import SVR\n",
        "from sklearn.ensemble import RandomForestRegressor\n",
        "from xgboost import XGBRegressor\n",
        "from sklearn.neural_network import MLPRegressor\n",
        "from sklearn.metrics import mean_squared_error, mean_absolute_error, r2_score\n",
        "\n",
        "from sklearn.pipeline import Pipeline, make_pipeline"
      ],
      "metadata": {
        "id": "oxjwYsj5dQ8y"
      },
      "execution_count": 1,
      "outputs": []
    },
    {
      "cell_type": "code",
      "source": [
        "# Load data\n",
        "data = pd.read_excel('/content/marketing_extract_2X_Income.xlsx', sheet_name='Sheet1')\n",
        "\n",
        "# Define features and target\n",
        "X = data.drop(columns=['Income'])\n",
        "y = data['Income']\n",
        "\n",
        "# Split data into training and testing sets\n",
        "X_train, X_test, y_train, y_test = train_test_split(X, y, test_size=0.2, random_state=42)"
      ],
      "metadata": {
        "id": "zarQYQfzdaL6"
      },
      "execution_count": null,
      "outputs": []
    },
    {
      "cell_type": "code",
      "source": [
        "# Initialize models\n",
        "models = {\n",
        "    'Linear Regression': LinearRegression(),\n",
        "    'Decision Tree': DecisionTreeRegressor(random_state=42),\n",
        "    'Random Forest': RandomForestRegressor(n_estimators=100, random_state=42),\n",
        "    'XGBoost': XGBRegressor(n_estimators=100, learning_rate=0.1, random_state=42),\n",
        "    'Neural Network': MLPRegressor(hidden_layer_sizes=(100,), max_iter=500, random_state=42),\n",
        "    'Ridge': Ridge(alpha=1.0),\n",
        "    'Lasso': Lasso(alpha=0.1),\n",
        "    'ElasticNet': ElasticNet(alpha=0.1, l1_ratio=0.5),\n",
        "    'SVR': SVR(kernel='linear', C=1.0)\n",
        "}\n",
        "\n",
        "# Initialize a DataFrame to store results\n",
        "results = pd.DataFrame(columns=['Model', 'MSE', 'MAE', 'R2'])\n",
        "\n",
        "# Train and evaluate each model\n",
        "for name, model in models.items():\n",
        "    # Train the model\n",
        "    model.fit(X_train, y_train)\n",
        "\n",
        "    # Make predictions\n",
        "    y_pred = model.predict(X_test)\n",
        "\n",
        "    # Calculate metrics\n",
        "    mse = mean_squared_error(y_test, y_pred)\n",
        "    mae = mean_absolute_error(y_test, y_pred)\n",
        "    r2 = r2_score(y_test, y_pred)\n",
        "\n",
        "    # Append results\n",
        "    results = pd.concat([results, pd.DataFrame({'Model': [name], 'MSE': [mse], 'MAE': [mae], 'R2': [r2]})], ignore_index=True)\n",
        "\n",
        "# Sort results by R2\n",
        "results = results.sort_values(by='R2', ascending=False)\n",
        "\n",
        "# Display results\n",
        "print(\"Model Performance:\\n\")\n",
        "print(results)\n"
      ],
      "metadata": {
        "colab": {
          "base_uri": "https://localhost:8080/"
        },
        "id": "oTYI1sOFenMT",
        "outputId": "8d7a3fef-6a19-42ac-c90f-21c5eb32ed8b"
      },
      "execution_count": null,
      "outputs": [
        {
          "output_type": "stream",
          "name": "stderr",
          "text": [
            "<ipython-input-10-bfdc4e72f7e2>:31: FutureWarning: The behavior of DataFrame concatenation with empty or all-NA entries is deprecated. In a future version, this will no longer exclude empty or all-NA columns when determining the result dtypes. To retain the old behavior, exclude the relevant entries before the concat operation.\n",
            "  results = pd.concat([results, pd.DataFrame({'Model': [name], 'MSE': [mse], 'MAE': [mae], 'R2': [r2]})], ignore_index=True)\n"
          ]
        },
        {
          "output_type": "stream",
          "name": "stdout",
          "text": [
            "Model Performance:\n",
            "\n",
            "               Model           MSE           MAE        R2\n",
            "6      Random Forest  1.901343e+08   8300.212494  0.614618\n",
            "4         ElasticNet  2.015914e+08  10443.451905  0.591395\n",
            "3              Lasso  2.015914e+08  10443.452469  0.591395\n",
            "2              Ridge  2.015914e+08  10443.452430  0.591395\n",
            "0  Linear Regression  2.015914e+08  10443.452436  0.591395\n",
            "5                SVR  2.017091e+08  10433.786816  0.591157\n",
            "1      Decision Tree  2.297573e+08   9712.207845  0.534306\n",
            "7            XGBoost  3.232247e+08   8633.760672  0.344857\n",
            "8     Neural Network  9.064015e+08  26460.824767 -0.837182\n"
          ]
        },
        {
          "output_type": "stream",
          "name": "stderr",
          "text": [
            "/usr/local/lib/python3.10/dist-packages/sklearn/neural_network/_multilayer_perceptron.py:690: ConvergenceWarning: Stochastic Optimizer: Maximum iterations (500) reached and the optimization hasn't converged yet.\n",
            "  warnings.warn(\n"
          ]
        }
      ]
    },
    {
      "cell_type": "code",
      "source": [],
      "metadata": {
        "id": "70PkwUTzdMa3"
      },
      "execution_count": null,
      "outputs": []
    }
  ]
}