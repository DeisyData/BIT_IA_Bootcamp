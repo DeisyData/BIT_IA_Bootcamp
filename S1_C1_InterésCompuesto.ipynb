{
  "nbformat": 4,
  "nbformat_minor": 0,
  "metadata": {
    "colab": {
      "provenance": [],
      "authorship_tag": "ABX9TyMOKNa01RqAyMfEYJ7dP/1h",
      "include_colab_link": true
    },
    "kernelspec": {
      "name": "python3",
      "display_name": "Python 3"
    },
    "language_info": {
      "name": "python"
    }
  },
  "cells": [
    {
      "cell_type": "markdown",
      "metadata": {
        "id": "view-in-github",
        "colab_type": "text"
      },
      "source": [
        "<a href=\"https://colab.research.google.com/github/DeisyData/BIT_IA_Bootcamp/blob/main/S1_C1_Inter%C3%A9sCompuesto.ipynb\" target=\"_parent\"><img src=\"https://colab.research.google.com/assets/colab-badge.svg\" alt=\"Open In Colab\"/></a>"
      ]
    },
    {
      "cell_type": "markdown",
      "source": [
        "# **Semana 1. Clase 1**\n",
        "Caso: Indicadores financieros\n",
        "\n",
        "\n",
        "Reto : Tengo (P) $1.000.000  quiero duplicarlos (2P)\n",
        "¿Cuánto tiempo tardaré en duplicar mi dinero si la tasa de interés anual es del 8.5% (0.085), con una capitalización anual?\n",
        "\n",
        "\n"
      ],
      "metadata": {
        "id": "7wCdkYO-akQX"
      }
    },
    {
      "cell_type": "code",
      "source": [],
      "metadata": {
        "id": "XwmEwTgMFOI5"
      },
      "execution_count": null,
      "outputs": []
    },
    {
      "cell_type": "code",
      "execution_count": null,
      "metadata": {
        "id": "WOYAwJLgZ5UW"
      },
      "outputs": [],
      "source": [
        "import math"
      ]
    },
    {
      "cell_type": "markdown",
      "source": [
        "Actividad 1. Programar la ecuación del cálculo del número de periodos"
      ],
      "metadata": {
        "id": "33KSqXfq3dxV"
      }
    },
    {
      "cell_type": "code",
      "source": [
        "P = 1000000 # Valor Presente\n",
        "A = 2*P # Valor futuro\n",
        "i = 0.085\n",
        "n = math.log(A/P)/(math.log(1+i))\n",
        "n = round(n,3)\n",
        "print(\"El tiempo para duplicar el capital es: \" + str(n) + \" años\")"
      ],
      "metadata": {
        "id": "9NXKetEjalUS",
        "colab": {
          "base_uri": "https://localhost:8080/"
        },
        "outputId": "f3b37bf9-245d-454c-f7f4-b185a5bdcfea"
      },
      "execution_count": null,
      "outputs": [
        {
          "output_type": "stream",
          "name": "stdout",
          "text": [
            "El tiempo para duplicar el capital es: 8.497 años\n"
          ]
        }
      ]
    },
    {
      "cell_type": "markdown",
      "source": [
        "Actividad 2. Construir una función cálculo del número de periodos\n"
      ],
      "metadata": {
        "id": "RCp8TtbTtTnz"
      }
    },
    {
      "cell_type": "code",
      "source": [
        "def tiempo_incrementarCapital(P,A,i):\n",
        "  n = math.log(A/P)/(math.log(1+i))\n",
        "  n = round(n,3)\n",
        "  return  print(\"El tiempo para duplicar el capital es: \" + str(n) + \" años\")"
      ],
      "metadata": {
        "id": "gRQ2GIW5tRSe"
      },
      "execution_count": null,
      "outputs": []
    },
    {
      "cell_type": "code",
      "source": [
        "tiempo_incrementarCapital(1000000,3,0.085)"
      ],
      "metadata": {
        "id": "aSqzaw0iax9b",
        "colab": {
          "base_uri": "https://localhost:8080/"
        },
        "outputId": "dc94bc4d-6569-4024-e53d-93effd6cb55c"
      },
      "execution_count": null,
      "outputs": [
        {
          "output_type": "stream",
          "name": "stdout",
          "text": [
            "El tiempo para duplicar el capital es: -155.883 años\n"
          ]
        }
      ]
    },
    {
      "cell_type": "markdown",
      "source": [
        "Actividad 3. Programar la función para calcular el valor futuro"
      ],
      "metadata": {
        "id": "uRbpRMd135kN"
      }
    },
    {
      "cell_type": "code",
      "source": [
        "def valor_futuro(P,i,n):\n",
        "  A = P*(1+i)**n\n",
        "  A = round(A,2)\n",
        "  print(\"El valor futuro para el interes \" + str(i)+ \"es de \" + str(A))\n",
        "  return A"
      ],
      "metadata": {
        "id": "1YEDpS2S4KwJ"
      },
      "execution_count": null,
      "outputs": []
    },
    {
      "cell_type": "code",
      "source": [
        "valorFuturo = valor_futuro(1000000,0.085,10)"
      ],
      "metadata": {
        "colab": {
          "base_uri": "https://localhost:8080/"
        },
        "id": "RCPQBslmBa70",
        "outputId": "7b08021f-803c-4208-e505-b09edb0333e2"
      },
      "execution_count": null,
      "outputs": [
        {
          "output_type": "stream",
          "name": "stdout",
          "text": [
            "El valor futuro para el interes 0.085es de 2260983.44\n"
          ]
        }
      ]
    },
    {
      "cell_type": "code",
      "source": [
        "valorFuturo*3"
      ],
      "metadata": {
        "colab": {
          "base_uri": "https://localhost:8080/"
        },
        "id": "IfwxwFZGBl9h",
        "outputId": "7dd14133-ae36-4ac0-8c2c-a3a9a7630677"
      },
      "execution_count": null,
      "outputs": [
        {
          "output_type": "execute_result",
          "data": {
            "text/plain": [
              "6782950.32"
            ]
          },
          "metadata": {},
          "execution_count": 8
        }
      ]
    },
    {
      "cell_type": "markdown",
      "source": [
        "Actividad 4. Programar la función para calcular el capital inicial"
      ],
      "metadata": {
        "id": "iS4YbA_A4DzF"
      }
    },
    {
      "cell_type": "code",
      "source": [
        "def capital_Inicial(A,i,n):\n",
        "  P = A/((1+i)**n)\n",
        "  P = round(P,2)\n",
        "  print(\"El capital_Inicial para el interes \" + str(i) + \" es de \" + str(A))\n",
        "  return P"
      ],
      "metadata": {
        "id": "L6Aw-53m4MWj"
      },
      "execution_count": null,
      "outputs": []
    },
    {
      "cell_type": "code",
      "source": [
        "capital_Inicial(200,0.1,12)"
      ],
      "metadata": {
        "colab": {
          "base_uri": "https://localhost:8080/"
        },
        "id": "b0oiDIBFi50M",
        "outputId": "cbcfcd38-e95b-4693-ba37-08dd32b0b36d"
      },
      "execution_count": null,
      "outputs": [
        {
          "output_type": "stream",
          "name": "stdout",
          "text": [
            "El capital_Inicial para el interes 0.1 es de 200\n"
          ]
        },
        {
          "output_type": "execute_result",
          "data": {
            "text/plain": [
              "63.73"
            ]
          },
          "metadata": {},
          "execution_count": 17
        }
      ]
    }
  ]
}