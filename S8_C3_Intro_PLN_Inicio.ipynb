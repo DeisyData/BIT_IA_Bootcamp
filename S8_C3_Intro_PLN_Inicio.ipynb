{
  "nbformat": 4,
  "nbformat_minor": 0,
  "metadata": {
    "colab": {
      "provenance": [],
      "authorship_tag": "ABX9TyN6hBIcqd0QzVuuZYDDUp8P",
      "include_colab_link": true
    },
    "kernelspec": {
      "name": "python3",
      "display_name": "Python 3"
    },
    "language_info": {
      "name": "python"
    }
  },
  "cells": [
    {
      "cell_type": "markdown",
      "metadata": {
        "id": "view-in-github",
        "colab_type": "text"
      },
      "source": [
        "<a href=\"https://colab.research.google.com/github/DeisyData/BIT_IA_Bootcamp/blob/main/S8_C3_Intro_PLN_Inicio.ipynb\" target=\"_parent\"><img src=\"https://colab.research.google.com/assets/colab-badge.svg\" alt=\"Open In Colab\"/></a>"
      ]
    },
    {
      "cell_type": "code",
      "execution_count": null,
      "metadata": {
        "id": "N_vz2zgQRIN9"
      },
      "outputs": [],
      "source": [
        "import pandas as pd\n",
        "import numpy as np\n",
        "import matplotlib.pyplot as plt\n",
        "import seaborn as sns\n",
        "\n",
        "from sklearn.cluster import KMeans\n",
        "from sklearn.metrics import silhouette_score"
      ]
    },
    {
      "cell_type": "markdown",
      "source": [
        "## LIbrerías para PNL"
      ],
      "metadata": {
        "id": "Ak8HBeTNRjgb"
      }
    },
    {
      "cell_type": "code",
      "source": [
        "from sklearn.feature_extraction.text import TfidfVectorizer\n",
        "from nltk.corpus import stopwords\n",
        "import nltk\n",
        "\n"
      ],
      "metadata": {
        "id": "pYybbw16Ri7V"
      },
      "execution_count": null,
      "outputs": []
    },
    {
      "cell_type": "markdown",
      "source": [
        "#Parte 1. Cargar datos"
      ],
      "metadata": {
        "id": "PdtmHBxVRNXp"
      }
    },
    {
      "cell_type": "code",
      "source": [
        "from google.colab import drive # Conectanonos con google drive\n",
        "drive.mount('/content/drive')"
      ],
      "metadata": {
        "id": "E9-6vDkNRQpt"
      },
      "execution_count": null,
      "outputs": []
    },
    {
      "cell_type": "code",
      "source": [
        "folder_path = '/content/drive/MyDrive/Colab Notebooks/BIT_BootCamp_IA/DataSET/Agrupamiento'\n",
        "import os    # la librería necesaria para la ruta de la carpeta\n",
        "os.chdir(folder_path) # ruta de la carpeta\n",
        "\n",
        "#mostar lista de archivos\n",
        "os.listdir()"
      ],
      "metadata": {
        "id": "qDEk0j-MRYDx"
      },
      "execution_count": null,
      "outputs": []
    },
    {
      "cell_type": "code",
      "source": [
        "# Reloading the file provided by the user to explore the structure for designing the notebook\n",
        "file_path = 'Policial-Crime.csv'\n",
        "data = pd.read_csv(file_path, delimiter=';')\n",
        "\n",
        "# Checking the structure of the data for notebook design\n",
        "data.head()"
      ],
      "metadata": {
        "id": "joZhjTVuRbvu"
      },
      "execution_count": null,
      "outputs": []
    },
    {
      "cell_type": "markdown",
      "source": [
        "# Parte 2. Preprocesamiento del texto"
      ],
      "metadata": {
        "id": "xPwttxmjRv9l"
      }
    },
    {
      "cell_type": "code",
      "source": [
        "# Descargar stopwords de NLTK\n",
        "nltk.download('stopwords')"
      ],
      "metadata": {
        "id": "nYY0MytiRv0L"
      },
      "execution_count": null,
      "outputs": []
    },
    {
      "cell_type": "markdown",
      "source": [],
      "metadata": {
        "id": "V1E_ioLBRQKa"
      }
    }
  ]
}