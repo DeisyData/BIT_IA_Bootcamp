{
  "nbformat": 4,
  "nbformat_minor": 0,
  "metadata": {
    "colab": {
      "provenance": [],
      "authorship_tag": "ABX9TyPBswWxJQASCC5HA2g5X6lP",
      "include_colab_link": true
    },
    "kernelspec": {
      "name": "python3",
      "display_name": "Python 3"
    },
    "language_info": {
      "name": "python"
    }
  },
  "cells": [
    {
      "cell_type": "markdown",
      "metadata": {
        "id": "view-in-github",
        "colab_type": "text"
      },
      "source": [
        "<a href=\"https://colab.research.google.com/github/DeisyData/BIT_IA_Bootcamp/blob/main/S3_C1_Odd_Funci%C3%B3nSigmoid_Plantilla.ipynb\" target=\"_parent\"><img src=\"https://colab.research.google.com/assets/colab-badge.svg\" alt=\"Open In Colab\"/></a>"
      ]
    },
    {
      "cell_type": "markdown",
      "source": [
        "# Actividad 1: Cálculo manual de los Odds\n",
        "\n",
        "1. Define una serie de probabilidades p (por ejemplo, 0.1, 0.5, 0.7).\n",
        "\n",
        "2. Calcula los odds asociados a cada probabilidad usando la fórmula: $ Odds = \\frac{p}{1-p}$"
      ],
      "metadata": {
        "id": "i2_XBwyf9IN7"
      }
    },
    {
      "cell_type": "code",
      "source": [],
      "metadata": {
        "id": "VEU0LsY06Nfw"
      },
      "execution_count": null,
      "outputs": []
    },
    {
      "cell_type": "markdown",
      "source": [
        "# Actividad 2: Visualización de la Relación entre Probabilidad y Odds\n",
        "\n",
        "\n",
        "1. Crea un conjunto de probabilidades desde 0 hasta 1.\n",
        "2. Calcula los odds para cada probabilidad.\n",
        "3. Grafica la relación entre las probabilidades y los odds."
      ],
      "metadata": {
        "id": "eYMheO7N6WjP"
      }
    },
    {
      "cell_type": "markdown",
      "source": [
        "**Q1.1.** ¿Cómo se comportan los odds cuando la probabilidad es cercana a 0? ¿Y cuando es cercana a 1?\n"
      ],
      "metadata": {
        "id": "xD4TjgWF6OLP"
      }
    },
    {
      "cell_type": "markdown",
      "source": [
        "**Q1.2**¿Qué significa un odds mayor que 1 o menor que 1?"
      ],
      "metadata": {
        "id": "_1YrmfST6TU_"
      }
    },
    {
      "cell_type": "code",
      "source": [],
      "metadata": {
        "id": "G2WvSzLp6j_Y"
      },
      "execution_count": null,
      "outputs": []
    },
    {
      "cell_type": "markdown",
      "source": [],
      "metadata": {
        "id": "UjKq_DTJ6u5g"
      }
    },
    {
      "cell_type": "code",
      "source": [],
      "metadata": {
        "id": "ZU_FkPn57Lip"
      },
      "execution_count": null,
      "outputs": []
    },
    {
      "cell_type": "markdown",
      "source": [
        "# Actividad 3: Implementación de la Función Sigmoide\n",
        "\n",
        "1. Implementa la función sigmoide en Python. La función sigmoide está definida por la fórmula:\n",
        "\n",
        "$ 𝜎 (𝑥) = \\frac{1}{1+e^(-x)}$\n",
        "\n",
        "2. Prueba con los siguiente [-10, -5, 0, 5, 10]\n",
        "\n",
        "\n"
      ],
      "metadata": {
        "id": "yDMs4_987Nr4"
      }
    },
    {
      "cell_type": "code",
      "source": [],
      "metadata": {
        "id": "1vzS4_0s8Feq"
      },
      "execution_count": null,
      "outputs": []
    },
    {
      "cell_type": "markdown",
      "source": [
        "# Actividad 4: Visualización de la Función Sigmoide\n",
        "\n",
        "1. Crea un conjunto de valores de entrada que varíen entre -10 y 10.\n",
        "2. Aplica la función sigmoide a cada valor de entrada.\n",
        "3. Visualiza la relación entre los valores de entrada y los valores de salida utilizando una gráfica."
      ],
      "metadata": {
        "id": "_zU82uQS8Qkx"
      }
    },
    {
      "cell_type": "markdown",
      "source": [
        "**Q 3**\n",
        "* ¿Qué ocurre con la función sigmoide cuando la entrada es un número negativo grande?\n",
        "*¿Qué forma tiene la curva de la función sigmoide?\n",
        "* ¿Qué valores de entrada producen salidas cercanas a 0 o 1?\n",
        "* ¿Cómo cambia la pendiente de la curva en torno a x=0?"
      ],
      "metadata": {
        "id": "Ia8z3OBo8J25"
      }
    },
    {
      "cell_type": "code",
      "source": [],
      "metadata": {
        "id": "dimpnkYZ8oC6"
      },
      "execution_count": null,
      "outputs": []
    },
    {
      "cell_type": "markdown",
      "source": [
        "# Actividad 5: Aplicación de la Función Sigmoide en Clasificación Binaria\n",
        "\n",
        "1. Supongamos que tienes un modelo de clasificación binaria en el que la salida del modelo es una combinación lineal de algunas características. La salida lineal puede ser cualquier número real.\n",
        "2. Aplica la función sigmoide a la salida lineal para convertirla en una probabilidad entre 0 y 1.\n",
        "3. Usa la probabilidad para tomar una decisión binaria: si la probabilidad es mayor que 0.5, predice la clase 1, de lo contrario, predice la clase 0."
      ],
      "metadata": {
        "id": "r7QElL3E8og6"
      }
    },
    {
      "cell_type": "markdown",
      "source": [
        "**Q 4**\n",
        "* ¿Cómo cambian las predicciones cuando varían los valores de 𝑋?\n",
        "* ¿Por qué la función sigmoide es útil para convertir una salida lineal en una probabilidad?"
      ],
      "metadata": {
        "id": "0txp5q-P81PC"
      }
    }
  ]
}